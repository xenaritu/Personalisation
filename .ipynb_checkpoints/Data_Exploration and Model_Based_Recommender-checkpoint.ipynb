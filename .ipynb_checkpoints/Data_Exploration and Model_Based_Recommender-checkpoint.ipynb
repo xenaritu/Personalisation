{
 "cells": [
  {
   "cell_type": "markdown",
   "metadata": {},
   "source": [
    "# Movie recommendation using MovieLens data"
   ]
  },
  {
   "cell_type": "markdown",
   "metadata": {},
   "source": [
    "Importing required packages"
   ]
  },
  {
   "cell_type": "code",
   "execution_count": 1,
   "metadata": {},
   "outputs": [
    {
     "name": "stdout",
     "output_type": "stream",
     "text": [
      "This non-commercial license of GraphLab Create for academic use is assigned to ritu.tak@columbia.edu and will expire on November 01, 2018.\n"
     ]
    },
    {
     "name": "stderr",
     "output_type": "stream",
     "text": [
      "[INFO] graphlab.cython.cy_server: GraphLab Create v2.1 started. Logging: /tmp/graphlab_server_1510172966.log\n"
     ]
    }
   ],
   "source": [
    "import pandas as pd\n",
    "import graphlab\n",
    "from sklearn.model_selection import train_test_split,KFold\n",
    "from matplotlib import pyplot as plt\n",
    "import numpy as np\n",
    "import nltk"
   ]
  },
  {
   "cell_type": "markdown",
   "metadata": {},
   "source": [
    "## Data exploration"
   ]
  },
  {
   "cell_type": "markdown",
   "metadata": {},
   "source": [
    "Importing datasets from csv file"
   ]
  },
  {
   "cell_type": "code",
   "execution_count": 2,
   "metadata": {
    "collapsed": true
   },
   "outputs": [],
   "source": [
    "links = pd.read_csv(\"links.csv\")\n",
    "movies = pd.read_csv(\"movies.csv\")\n",
    "ratings = pd.read_csv(\"ratings.csv\")\n",
    "tags = pd.read_csv(\"tags.csv\")"
   ]
  },
  {
   "cell_type": "markdown",
   "metadata": {},
   "source": [
    "## Exploring Links dataset"
   ]
  },
  {
   "cell_type": "code",
   "execution_count": 3,
   "metadata": {},
   "outputs": [
    {
     "data": {
      "text/html": [
       "<div>\n",
       "<style>\n",
       "    .dataframe thead tr:only-child th {\n",
       "        text-align: right;\n",
       "    }\n",
       "\n",
       "    .dataframe thead th {\n",
       "        text-align: left;\n",
       "    }\n",
       "\n",
       "    .dataframe tbody tr th {\n",
       "        vertical-align: top;\n",
       "    }\n",
       "</style>\n",
       "<table border=\"1\" class=\"dataframe\">\n",
       "  <thead>\n",
       "    <tr style=\"text-align: right;\">\n",
       "      <th></th>\n",
       "      <th>movieId</th>\n",
       "      <th>imdbId</th>\n",
       "      <th>tmdbId</th>\n",
       "    </tr>\n",
       "  </thead>\n",
       "  <tbody>\n",
       "    <tr>\n",
       "      <th>0</th>\n",
       "      <td>1</td>\n",
       "      <td>114709</td>\n",
       "      <td>862.0</td>\n",
       "    </tr>\n",
       "    <tr>\n",
       "      <th>1</th>\n",
       "      <td>2</td>\n",
       "      <td>113497</td>\n",
       "      <td>8844.0</td>\n",
       "    </tr>\n",
       "    <tr>\n",
       "      <th>2</th>\n",
       "      <td>3</td>\n",
       "      <td>113228</td>\n",
       "      <td>15602.0</td>\n",
       "    </tr>\n",
       "    <tr>\n",
       "      <th>3</th>\n",
       "      <td>4</td>\n",
       "      <td>114885</td>\n",
       "      <td>31357.0</td>\n",
       "    </tr>\n",
       "    <tr>\n",
       "      <th>4</th>\n",
       "      <td>5</td>\n",
       "      <td>113041</td>\n",
       "      <td>11862.0</td>\n",
       "    </tr>\n",
       "  </tbody>\n",
       "</table>\n",
       "</div>"
      ],
      "text/plain": [
       "   movieId  imdbId   tmdbId\n",
       "0        1  114709    862.0\n",
       "1        2  113497   8844.0\n",
       "2        3  113228  15602.0\n",
       "3        4  114885  31357.0\n",
       "4        5  113041  11862.0"
      ]
     },
     "execution_count": 3,
     "metadata": {},
     "output_type": "execute_result"
    }
   ],
   "source": [
    "#checking the head of the links dataset (at movie ID level)\n",
    "links.head()"
   ]
  },
  {
   "cell_type": "code",
   "execution_count": 4,
   "metadata": {},
   "outputs": [
    {
     "name": "stdout",
     "output_type": "stream",
     "text": [
      "Shape of links dataset = (9125, 3)\n"
     ]
    }
   ],
   "source": [
    "#checking the shape of the links dataset\n",
    "links_shape = links.shape\n",
    "print(\"Shape of links dataset = {}\".format(links_shape))"
   ]
  },
  {
   "cell_type": "code",
   "execution_count": 5,
   "metadata": {},
   "outputs": [
    {
     "name": "stdout",
     "output_type": "stream",
     "text": [
      "No of unique movieIds in links dataset = 9125\n"
     ]
    }
   ],
   "source": [
    "#number of unique movie Ids in the links dataset\n",
    "uni_movieIds_links = links[\"movieId\"].nunique()\n",
    "print(\"No of unique movieIds in links dataset = {}\".format(uni_movieIds_links))"
   ]
  },
  {
   "cell_type": "code",
   "execution_count": 6,
   "metadata": {},
   "outputs": [
    {
     "data": {
      "text/plain": [
       "movieId    False\n",
       "imdbId     False\n",
       "tmdbId      True\n",
       "dtype: bool"
      ]
     },
     "execution_count": 6,
     "metadata": {},
     "output_type": "execute_result"
    }
   ],
   "source": [
    "#checking if a column has null values \n",
    "links.isnull().any()"
   ]
  },
  {
   "cell_type": "code",
   "execution_count": 7,
   "metadata": {},
   "outputs": [
    {
     "data": {
      "text/html": [
       "<div>\n",
       "<style>\n",
       "    .dataframe thead tr:only-child th {\n",
       "        text-align: right;\n",
       "    }\n",
       "\n",
       "    .dataframe thead th {\n",
       "        text-align: left;\n",
       "    }\n",
       "\n",
       "    .dataframe tbody tr th {\n",
       "        vertical-align: top;\n",
       "    }\n",
       "</style>\n",
       "<table border=\"1\" class=\"dataframe\">\n",
       "  <thead>\n",
       "    <tr style=\"text-align: right;\">\n",
       "      <th></th>\n",
       "      <th>movieId</th>\n",
       "      <th>imdbId</th>\n",
       "      <th>tmdbId</th>\n",
       "    </tr>\n",
       "  </thead>\n",
       "  <tbody>\n",
       "    <tr>\n",
       "      <th>607</th>\n",
       "      <td>720</td>\n",
       "      <td>118114</td>\n",
       "      <td>NaN</td>\n",
       "    </tr>\n",
       "    <tr>\n",
       "      <th>608</th>\n",
       "      <td>721</td>\n",
       "      <td>114103</td>\n",
       "      <td>NaN</td>\n",
       "    </tr>\n",
       "    <tr>\n",
       "      <th>640</th>\n",
       "      <td>769</td>\n",
       "      <td>116992</td>\n",
       "      <td>NaN</td>\n",
       "    </tr>\n",
       "    <tr>\n",
       "      <th>910</th>\n",
       "      <td>1133</td>\n",
       "      <td>111357</td>\n",
       "      <td>NaN</td>\n",
       "    </tr>\n",
       "    <tr>\n",
       "      <th>2282</th>\n",
       "      <td>2851</td>\n",
       "      <td>81454</td>\n",
       "      <td>NaN</td>\n",
       "    </tr>\n",
       "  </tbody>\n",
       "</table>\n",
       "</div>"
      ],
      "text/plain": [
       "      movieId  imdbId  tmdbId\n",
       "607       720  118114     NaN\n",
       "608       721  114103     NaN\n",
       "640       769  116992     NaN\n",
       "910      1133  111357     NaN\n",
       "2282     2851   81454     NaN"
      ]
     },
     "execution_count": 7,
     "metadata": {},
     "output_type": "execute_result"
    }
   ],
   "source": [
    "#looking at rows with missing tmdbid\n",
    "links[links[\"tmdbId\"].isnull()].head()"
   ]
  },
  {
   "cell_type": "code",
   "execution_count": 8,
   "metadata": {},
   "outputs": [
    {
     "name": "stdout",
     "output_type": "stream",
     "text": [
      "13 movies have missing tmdbId\n"
     ]
    }
   ],
   "source": [
    "#number of movies from which tmdbid is missing (13)\n",
    "missing_tmdbId = links.loc[links[\"tmdbId\"].isnull(), \"movieId\"].nunique()\n",
    "print(\"{} movies have missing tmdbId\".format(missing_tmdbId))"
   ]
  },
  {
   "cell_type": "code",
   "execution_count": 9,
   "metadata": {
    "collapsed": true
   },
   "outputs": [],
   "source": [
    "#Replacing the missing TmdbId with Zero\n",
    "links.loc[(links.tmdbId.isnull()) , \"tmdbId\"] = 0"
   ]
  },
  {
   "cell_type": "markdown",
   "metadata": {},
   "source": [
    "From the analysis above we can see that the links dataset contains three columns: movieId, tmdbId and imdbId for 9125 movies. Of the three columns tmdbId has missing values. The 13 movies for which tmdbId is missing, we replaced with it with zero for our analysis.  "
   ]
  },
  {
   "cell_type": "markdown",
   "metadata": {},
   "source": [
    "## Exploring Movies Dataset"
   ]
  },
  {
   "cell_type": "code",
   "execution_count": 10,
   "metadata": {},
   "outputs": [
    {
     "data": {
      "text/html": [
       "<div>\n",
       "<style>\n",
       "    .dataframe thead tr:only-child th {\n",
       "        text-align: right;\n",
       "    }\n",
       "\n",
       "    .dataframe thead th {\n",
       "        text-align: left;\n",
       "    }\n",
       "\n",
       "    .dataframe tbody tr th {\n",
       "        vertical-align: top;\n",
       "    }\n",
       "</style>\n",
       "<table border=\"1\" class=\"dataframe\">\n",
       "  <thead>\n",
       "    <tr style=\"text-align: right;\">\n",
       "      <th></th>\n",
       "      <th>movieId</th>\n",
       "      <th>title</th>\n",
       "      <th>genres</th>\n",
       "    </tr>\n",
       "  </thead>\n",
       "  <tbody>\n",
       "    <tr>\n",
       "      <th>0</th>\n",
       "      <td>1</td>\n",
       "      <td>Toy Story (1995)</td>\n",
       "      <td>Adventure|Animation|Children|Comedy|Fantasy</td>\n",
       "    </tr>\n",
       "    <tr>\n",
       "      <th>1</th>\n",
       "      <td>2</td>\n",
       "      <td>Jumanji (1995)</td>\n",
       "      <td>Adventure|Children|Fantasy</td>\n",
       "    </tr>\n",
       "    <tr>\n",
       "      <th>2</th>\n",
       "      <td>3</td>\n",
       "      <td>Grumpier Old Men (1995)</td>\n",
       "      <td>Comedy|Romance</td>\n",
       "    </tr>\n",
       "    <tr>\n",
       "      <th>3</th>\n",
       "      <td>4</td>\n",
       "      <td>Waiting to Exhale (1995)</td>\n",
       "      <td>Comedy|Drama|Romance</td>\n",
       "    </tr>\n",
       "    <tr>\n",
       "      <th>4</th>\n",
       "      <td>5</td>\n",
       "      <td>Father of the Bride Part II (1995)</td>\n",
       "      <td>Comedy</td>\n",
       "    </tr>\n",
       "  </tbody>\n",
       "</table>\n",
       "</div>"
      ],
      "text/plain": [
       "   movieId                               title  \\\n",
       "0        1                    Toy Story (1995)   \n",
       "1        2                      Jumanji (1995)   \n",
       "2        3             Grumpier Old Men (1995)   \n",
       "3        4            Waiting to Exhale (1995)   \n",
       "4        5  Father of the Bride Part II (1995)   \n",
       "\n",
       "                                        genres  \n",
       "0  Adventure|Animation|Children|Comedy|Fantasy  \n",
       "1                   Adventure|Children|Fantasy  \n",
       "2                               Comedy|Romance  \n",
       "3                         Comedy|Drama|Romance  \n",
       "4                                       Comedy  "
      ]
     },
     "execution_count": 10,
     "metadata": {},
     "output_type": "execute_result"
    }
   ],
   "source": [
    "#checking the head of the movies dataset (at movie ID level)\n",
    "movies.head()"
   ]
  },
  {
   "cell_type": "code",
   "execution_count": 11,
   "metadata": {},
   "outputs": [
    {
     "name": "stdout",
     "output_type": "stream",
     "text": [
      "Shape of movies dataset = (9125, 3)\n"
     ]
    }
   ],
   "source": [
    "#checking the shape of the movies dataset\n",
    "movies_shape = movies.shape\n",
    "print(\"Shape of movies dataset = {}\".format(movies_shape))"
   ]
  },
  {
   "cell_type": "code",
   "execution_count": 12,
   "metadata": {},
   "outputs": [
    {
     "name": "stdout",
     "output_type": "stream",
     "text": [
      "No of unique movies in movies dataset = 9125\n"
     ]
    }
   ],
   "source": [
    "#Data is unique at movie Id level\n",
    "no_movies = movies[\"movieId\"].nunique()\n",
    "print(\"No of unique movies in movies dataset = {}\".format(no_movies))"
   ]
  },
  {
   "cell_type": "code",
   "execution_count": 13,
   "metadata": {},
   "outputs": [
    {
     "data": {
      "text/plain": [
       "movieId    False\n",
       "title      False\n",
       "genres     False\n",
       "dtype: bool"
      ]
     },
     "execution_count": 13,
     "metadata": {},
     "output_type": "execute_result"
    }
   ],
   "source": [
    "#checking for mising values \n",
    "movies.isnull().any()"
   ]
  },
  {
   "cell_type": "code",
   "execution_count": 14,
   "metadata": {},
   "outputs": [
    {
     "name": "stdout",
     "output_type": "stream",
     "text": [
      "18 movies dont have genres listed\n"
     ]
    }
   ],
   "source": [
    "#checking if the genres have not been listed\n",
    "no_genre = movies.loc[movies.genres == \"(no genres listed)\"].movieId.count()\n",
    "print(\"{} movies dont have genres listed\".format(no_genre) )"
   ]
  },
  {
   "cell_type": "code",
   "execution_count": 15,
   "metadata": {
    "collapsed": true
   },
   "outputs": [],
   "source": [
    "#creating a new dataset with genres split into different columns\n",
    "movies2 = pd.DataFrame(movies.genres.str.split('|').tolist(), columns = [\"genres1\",\"genres2\",\"genres3\",\"genres4\",\"genres5\",\"genres6\",\"genres7\",\"genres8\",\"genres9\",\"genres10\"])"
   ]
  },
  {
   "cell_type": "code",
   "execution_count": 16,
   "metadata": {},
   "outputs": [
    {
     "data": {
      "text/html": [
       "<div>\n",
       "<style>\n",
       "    .dataframe thead tr:only-child th {\n",
       "        text-align: right;\n",
       "    }\n",
       "\n",
       "    .dataframe thead th {\n",
       "        text-align: left;\n",
       "    }\n",
       "\n",
       "    .dataframe tbody tr th {\n",
       "        vertical-align: top;\n",
       "    }\n",
       "</style>\n",
       "<table border=\"1\" class=\"dataframe\">\n",
       "  <thead>\n",
       "    <tr style=\"text-align: right;\">\n",
       "      <th></th>\n",
       "      <th>movieId</th>\n",
       "      <th>title</th>\n",
       "      <th>genres</th>\n",
       "      <th>genres1</th>\n",
       "      <th>genres2</th>\n",
       "      <th>genres3</th>\n",
       "      <th>genres4</th>\n",
       "      <th>genres5</th>\n",
       "      <th>genres6</th>\n",
       "      <th>genres7</th>\n",
       "      <th>genres8</th>\n",
       "      <th>genres9</th>\n",
       "      <th>genres10</th>\n",
       "    </tr>\n",
       "  </thead>\n",
       "  <tbody>\n",
       "    <tr>\n",
       "      <th>0</th>\n",
       "      <td>1</td>\n",
       "      <td>Toy Story (1995)</td>\n",
       "      <td>Adventure|Animation|Children|Comedy|Fantasy</td>\n",
       "      <td>Adventure</td>\n",
       "      <td>Animation</td>\n",
       "      <td>Children</td>\n",
       "      <td>Comedy</td>\n",
       "      <td>Fantasy</td>\n",
       "      <td>None</td>\n",
       "      <td>None</td>\n",
       "      <td>None</td>\n",
       "      <td>None</td>\n",
       "      <td>None</td>\n",
       "    </tr>\n",
       "    <tr>\n",
       "      <th>1</th>\n",
       "      <td>2</td>\n",
       "      <td>Jumanji (1995)</td>\n",
       "      <td>Adventure|Children|Fantasy</td>\n",
       "      <td>Adventure</td>\n",
       "      <td>Children</td>\n",
       "      <td>Fantasy</td>\n",
       "      <td>None</td>\n",
       "      <td>None</td>\n",
       "      <td>None</td>\n",
       "      <td>None</td>\n",
       "      <td>None</td>\n",
       "      <td>None</td>\n",
       "      <td>None</td>\n",
       "    </tr>\n",
       "    <tr>\n",
       "      <th>2</th>\n",
       "      <td>3</td>\n",
       "      <td>Grumpier Old Men (1995)</td>\n",
       "      <td>Comedy|Romance</td>\n",
       "      <td>Comedy</td>\n",
       "      <td>Romance</td>\n",
       "      <td>None</td>\n",
       "      <td>None</td>\n",
       "      <td>None</td>\n",
       "      <td>None</td>\n",
       "      <td>None</td>\n",
       "      <td>None</td>\n",
       "      <td>None</td>\n",
       "      <td>None</td>\n",
       "    </tr>\n",
       "    <tr>\n",
       "      <th>3</th>\n",
       "      <td>4</td>\n",
       "      <td>Waiting to Exhale (1995)</td>\n",
       "      <td>Comedy|Drama|Romance</td>\n",
       "      <td>Comedy</td>\n",
       "      <td>Drama</td>\n",
       "      <td>Romance</td>\n",
       "      <td>None</td>\n",
       "      <td>None</td>\n",
       "      <td>None</td>\n",
       "      <td>None</td>\n",
       "      <td>None</td>\n",
       "      <td>None</td>\n",
       "      <td>None</td>\n",
       "    </tr>\n",
       "    <tr>\n",
       "      <th>4</th>\n",
       "      <td>5</td>\n",
       "      <td>Father of the Bride Part II (1995)</td>\n",
       "      <td>Comedy</td>\n",
       "      <td>Comedy</td>\n",
       "      <td>None</td>\n",
       "      <td>None</td>\n",
       "      <td>None</td>\n",
       "      <td>None</td>\n",
       "      <td>None</td>\n",
       "      <td>None</td>\n",
       "      <td>None</td>\n",
       "      <td>None</td>\n",
       "      <td>None</td>\n",
       "    </tr>\n",
       "  </tbody>\n",
       "</table>\n",
       "</div>"
      ],
      "text/plain": [
       "   movieId                               title  \\\n",
       "0        1                    Toy Story (1995)   \n",
       "1        2                      Jumanji (1995)   \n",
       "2        3             Grumpier Old Men (1995)   \n",
       "3        4            Waiting to Exhale (1995)   \n",
       "4        5  Father of the Bride Part II (1995)   \n",
       "\n",
       "                                        genres    genres1    genres2  \\\n",
       "0  Adventure|Animation|Children|Comedy|Fantasy  Adventure  Animation   \n",
       "1                   Adventure|Children|Fantasy  Adventure   Children   \n",
       "2                               Comedy|Romance     Comedy    Romance   \n",
       "3                         Comedy|Drama|Romance     Comedy      Drama   \n",
       "4                                       Comedy     Comedy       None   \n",
       "\n",
       "    genres3 genres4  genres5 genres6 genres7 genres8 genres9 genres10  \n",
       "0  Children  Comedy  Fantasy    None    None    None    None     None  \n",
       "1   Fantasy    None     None    None    None    None    None     None  \n",
       "2      None    None     None    None    None    None    None     None  \n",
       "3   Romance    None     None    None    None    None    None     None  \n",
       "4      None    None     None    None    None    None    None     None  "
      ]
     },
     "execution_count": 16,
     "metadata": {},
     "output_type": "execute_result"
    }
   ],
   "source": [
    "#concatenating the two datasets to create the final movies dataset\n",
    "movies_new = pd.concat([movies,movies2],axis = 1)\n",
    "movies_new.head()"
   ]
  },
  {
   "cell_type": "code",
   "execution_count": 17,
   "metadata": {},
   "outputs": [
    {
     "data": {
      "text/html": [
       "<div>\n",
       "<style>\n",
       "    .dataframe thead tr:only-child th {\n",
       "        text-align: right;\n",
       "    }\n",
       "\n",
       "    .dataframe thead th {\n",
       "        text-align: left;\n",
       "    }\n",
       "\n",
       "    .dataframe tbody tr th {\n",
       "        vertical-align: top;\n",
       "    }\n",
       "</style>\n",
       "<table border=\"1\" class=\"dataframe\">\n",
       "  <thead>\n",
       "    <tr style=\"text-align: right;\">\n",
       "      <th></th>\n",
       "      <th>movieId</th>\n",
       "      <th>title</th>\n",
       "      <th>genres</th>\n",
       "      <th>genres1</th>\n",
       "      <th>genres2</th>\n",
       "      <th>genres3</th>\n",
       "      <th>genres4</th>\n",
       "      <th>genres5</th>\n",
       "      <th>genres6</th>\n",
       "      <th>genres7</th>\n",
       "      <th>genres8</th>\n",
       "      <th>genres9</th>\n",
       "      <th>genres10</th>\n",
       "      <th>Year_release</th>\n",
       "    </tr>\n",
       "  </thead>\n",
       "  <tbody>\n",
       "    <tr>\n",
       "      <th>0</th>\n",
       "      <td>1</td>\n",
       "      <td>Toy Story (1995)</td>\n",
       "      <td>Adventure|Animation|Children|Comedy|Fantasy</td>\n",
       "      <td>Adventure</td>\n",
       "      <td>Animation</td>\n",
       "      <td>Children</td>\n",
       "      <td>Comedy</td>\n",
       "      <td>Fantasy</td>\n",
       "      <td>None</td>\n",
       "      <td>None</td>\n",
       "      <td>None</td>\n",
       "      <td>None</td>\n",
       "      <td>None</td>\n",
       "      <td>1995</td>\n",
       "    </tr>\n",
       "    <tr>\n",
       "      <th>1</th>\n",
       "      <td>2</td>\n",
       "      <td>Jumanji (1995)</td>\n",
       "      <td>Adventure|Children|Fantasy</td>\n",
       "      <td>Adventure</td>\n",
       "      <td>Children</td>\n",
       "      <td>Fantasy</td>\n",
       "      <td>None</td>\n",
       "      <td>None</td>\n",
       "      <td>None</td>\n",
       "      <td>None</td>\n",
       "      <td>None</td>\n",
       "      <td>None</td>\n",
       "      <td>None</td>\n",
       "      <td>1995</td>\n",
       "    </tr>\n",
       "    <tr>\n",
       "      <th>2</th>\n",
       "      <td>3</td>\n",
       "      <td>Grumpier Old Men (1995)</td>\n",
       "      <td>Comedy|Romance</td>\n",
       "      <td>Comedy</td>\n",
       "      <td>Romance</td>\n",
       "      <td>None</td>\n",
       "      <td>None</td>\n",
       "      <td>None</td>\n",
       "      <td>None</td>\n",
       "      <td>None</td>\n",
       "      <td>None</td>\n",
       "      <td>None</td>\n",
       "      <td>None</td>\n",
       "      <td>1995</td>\n",
       "    </tr>\n",
       "    <tr>\n",
       "      <th>3</th>\n",
       "      <td>4</td>\n",
       "      <td>Waiting to Exhale (1995)</td>\n",
       "      <td>Comedy|Drama|Romance</td>\n",
       "      <td>Comedy</td>\n",
       "      <td>Drama</td>\n",
       "      <td>Romance</td>\n",
       "      <td>None</td>\n",
       "      <td>None</td>\n",
       "      <td>None</td>\n",
       "      <td>None</td>\n",
       "      <td>None</td>\n",
       "      <td>None</td>\n",
       "      <td>None</td>\n",
       "      <td>1995</td>\n",
       "    </tr>\n",
       "    <tr>\n",
       "      <th>4</th>\n",
       "      <td>5</td>\n",
       "      <td>Father of the Bride Part II (1995)</td>\n",
       "      <td>Comedy</td>\n",
       "      <td>Comedy</td>\n",
       "      <td>None</td>\n",
       "      <td>None</td>\n",
       "      <td>None</td>\n",
       "      <td>None</td>\n",
       "      <td>None</td>\n",
       "      <td>None</td>\n",
       "      <td>None</td>\n",
       "      <td>None</td>\n",
       "      <td>None</td>\n",
       "      <td>1995</td>\n",
       "    </tr>\n",
       "  </tbody>\n",
       "</table>\n",
       "</div>"
      ],
      "text/plain": [
       "   movieId                               title  \\\n",
       "0        1                    Toy Story (1995)   \n",
       "1        2                      Jumanji (1995)   \n",
       "2        3             Grumpier Old Men (1995)   \n",
       "3        4            Waiting to Exhale (1995)   \n",
       "4        5  Father of the Bride Part II (1995)   \n",
       "\n",
       "                                        genres    genres1    genres2  \\\n",
       "0  Adventure|Animation|Children|Comedy|Fantasy  Adventure  Animation   \n",
       "1                   Adventure|Children|Fantasy  Adventure   Children   \n",
       "2                               Comedy|Romance     Comedy    Romance   \n",
       "3                         Comedy|Drama|Romance     Comedy      Drama   \n",
       "4                                       Comedy     Comedy       None   \n",
       "\n",
       "    genres3 genres4  genres5 genres6 genres7 genres8 genres9 genres10  \\\n",
       "0  Children  Comedy  Fantasy    None    None    None    None     None   \n",
       "1   Fantasy    None     None    None    None    None    None     None   \n",
       "2      None    None     None    None    None    None    None     None   \n",
       "3   Romance    None     None    None    None    None    None     None   \n",
       "4      None    None     None    None    None    None    None     None   \n",
       "\n",
       "  Year_release  \n",
       "0         1995  \n",
       "1         1995  \n",
       "2         1995  \n",
       "3         1995  \n",
       "4         1995  "
      ]
     },
     "execution_count": 17,
     "metadata": {},
     "output_type": "execute_result"
    }
   ],
   "source": [
    "#creating the year of release dataset from the title column\n",
    "movies_new[\"Year_release\"] = movies_new['title'].str.extract('(\\d\\d\\d\\d)', expand=True)\n",
    "movies_new.head()"
   ]
  },
  {
   "cell_type": "code",
   "execution_count": 18,
   "metadata": {},
   "outputs": [
    {
     "data": {
      "text/plain": [
       "movieId         False\n",
       "title           False\n",
       "genres          False\n",
       "genres1         False\n",
       "genres2          True\n",
       "genres3          True\n",
       "genres4          True\n",
       "genres5          True\n",
       "genres6          True\n",
       "genres7          True\n",
       "genres8          True\n",
       "genres9          True\n",
       "genres10         True\n",
       "Year_release     True\n",
       "dtype: bool"
      ]
     },
     "execution_count": 18,
     "metadata": {},
     "output_type": "execute_result"
    }
   ],
   "source": [
    "movies_new.isnull().any()"
   ]
  },
  {
   "cell_type": "code",
   "execution_count": 19,
   "metadata": {},
   "outputs": [
    {
     "name": "stdout",
     "output_type": "stream",
     "text": [
      "4 movies have missing year of release\n"
     ]
    }
   ],
   "source": [
    "#No of movies with missing year of release \n",
    "missing_year = movies_new.loc[movies_new['Year_release'].isnull(),'movieId'].nunique()\n",
    "print(\"{} movies have missing year of release\".format(missing_year))"
   ]
  },
  {
   "cell_type": "code",
   "execution_count": 20,
   "metadata": {
    "collapsed": true
   },
   "outputs": [],
   "source": [
    "#Adding the missing Year_release for 4 movies manually\n",
    "movies_new.loc[9017,\"Year_release\"] = \"2015\"\n",
    "movies_new.loc[9063,\"Year_release\"] = \"2016\"\n",
    "movies_new.loc[9118,\"Year_release\"] = \"2016\"\n",
    "movies_new.loc[9124,\"Year_release\"] = \"2014\""
   ]
  },
  {
   "cell_type": "markdown",
   "metadata": {},
   "source": [
    "We can see that movies dataset contains three columns: movieId, title and genre for 9125 unique movies. The genre is missing for 18 movies which is listed as \"(no genre listed)\". The genre is split into different columns and saved for analyses.\n",
    "The year of release is missing for 4 movies which we inserted in the dataset. "
   ]
  },
  {
   "cell_type": "markdown",
   "metadata": {},
   "source": [
    "## Merging movies and links data - Movie Level Information"
   ]
  },
  {
   "cell_type": "code",
   "execution_count": 21,
   "metadata": {},
   "outputs": [
    {
     "name": "stdout",
     "output_type": "stream",
     "text": [
      "Shape of movies_links dataset = (9125, 16)\n"
     ]
    }
   ],
   "source": [
    "#merging the the links and movies datasets as both are on movie ID level\n",
    "movies_links = pd.merge(movies_new,links, on = \"movieId\")\n",
    "movies_links.head()\n",
    "movies_links.shape\n",
    "movies_links_shape = movies_links.shape\n",
    "print(\"Shape of movies_links dataset = {}\".format(movies_links_shape))"
   ]
  },
  {
   "cell_type": "code",
   "execution_count": 22,
   "metadata": {},
   "outputs": [
    {
     "data": {
      "text/plain": [
       "movieId         False\n",
       "title           False\n",
       "genres          False\n",
       "genres1         False\n",
       "genres2          True\n",
       "genres3          True\n",
       "genres4          True\n",
       "genres5          True\n",
       "genres6          True\n",
       "genres7          True\n",
       "genres8          True\n",
       "genres9          True\n",
       "genres10         True\n",
       "Year_release    False\n",
       "imdbId          False\n",
       "tmdbId          False\n",
       "dtype: bool"
      ]
     },
     "execution_count": 22,
     "metadata": {},
     "output_type": "execute_result"
    }
   ],
   "source": [
    "movies_links.isnull().any()"
   ]
  },
  {
   "cell_type": "code",
   "execution_count": 22,
   "metadata": {},
   "outputs": [
    {
     "name": "stdout",
     "output_type": "stream",
     "text": [
      "This non-commercial license of GraphLab Create for academic use is assigned to dh2863@columbia.edu and will expire on November 02, 2018.\n"
     ]
    },
    {
     "name": "stderr",
     "output_type": "stream",
     "text": [
      "[INFO] graphlab.cython.cy_server: GraphLab Create v2.1 started. Logging: C:\\Users\\hp\\AppData\\Local\\Temp\\graphlab_server_1509991816.log.0\n"
     ]
    },
    {
     "data": {
      "text/html": [
       "<pre>Finished parsing file C:\\Users\\hp\\Desktop\\Jupyter Notebooks\\Personalisation-master\\Personalisation-master\\movies_links.csv</pre>"
      ],
      "text/plain": [
       "Finished parsing file C:\\Users\\hp\\Desktop\\Jupyter Notebooks\\Personalisation-master\\Personalisation-master\\movies_links.csv"
      ]
     },
     "metadata": {},
     "output_type": "display_data"
    },
    {
     "data": {
      "text/html": [
       "<pre>Parsing completed. Parsed 100 lines in 0.086417 secs.</pre>"
      ],
      "text/plain": [
       "Parsing completed. Parsed 100 lines in 0.086417 secs."
      ]
     },
     "metadata": {},
     "output_type": "display_data"
    },
    {
     "name": "stdout",
     "output_type": "stream",
     "text": [
      "------------------------------------------------------\n",
      "Inferred types from first 100 line(s) of file as \n",
      "column_type_hints=[long,long,str,str,str,str,str,str,str,str,str,str,str,str,long,long,float]\n",
      "If parsing fails due to incorrect types, you can correct\n",
      "the inferred type list above and pass it to read_csv in\n",
      "the column_type_hints argument\n",
      "------------------------------------------------------\n"
     ]
    },
    {
     "data": {
      "text/html": [
       "<pre>Finished parsing file C:\\Users\\hp\\Desktop\\Jupyter Notebooks\\Personalisation-master\\Personalisation-master\\movies_links.csv</pre>"
      ],
      "text/plain": [
       "Finished parsing file C:\\Users\\hp\\Desktop\\Jupyter Notebooks\\Personalisation-master\\Personalisation-master\\movies_links.csv"
      ]
     },
     "metadata": {},
     "output_type": "display_data"
    },
    {
     "data": {
      "text/html": [
       "<pre>Parsing completed. Parsed 9125 lines in 0.053039 secs.</pre>"
      ],
      "text/plain": [
       "Parsing completed. Parsed 9125 lines in 0.053039 secs."
      ]
     },
     "metadata": {},
     "output_type": "display_data"
    }
   ],
   "source": [
    "#storing movie and links data as Sframe\n",
    "movies_links.to_csv(\"movies_links.csv\")\n",
    "movie_metadata = graphlab.SFrame.read_csv('movies_links.csv' )"
   ]
  },
  {
   "cell_type": "markdown",
   "metadata": {},
   "source": [
    "## Exploring Ratings Data"
   ]
  },
  {
   "cell_type": "code",
   "execution_count": 23,
   "metadata": {},
   "outputs": [
    {
     "data": {
      "text/html": [
       "<div>\n",
       "<style>\n",
       "    .dataframe thead tr:only-child th {\n",
       "        text-align: right;\n",
       "    }\n",
       "\n",
       "    .dataframe thead th {\n",
       "        text-align: left;\n",
       "    }\n",
       "\n",
       "    .dataframe tbody tr th {\n",
       "        vertical-align: top;\n",
       "    }\n",
       "</style>\n",
       "<table border=\"1\" class=\"dataframe\">\n",
       "  <thead>\n",
       "    <tr style=\"text-align: right;\">\n",
       "      <th></th>\n",
       "      <th>userId</th>\n",
       "      <th>movieId</th>\n",
       "      <th>rating</th>\n",
       "      <th>timestamp</th>\n",
       "    </tr>\n",
       "  </thead>\n",
       "  <tbody>\n",
       "    <tr>\n",
       "      <th>0</th>\n",
       "      <td>1</td>\n",
       "      <td>31</td>\n",
       "      <td>2.5</td>\n",
       "      <td>1260759144</td>\n",
       "    </tr>\n",
       "    <tr>\n",
       "      <th>1</th>\n",
       "      <td>1</td>\n",
       "      <td>1029</td>\n",
       "      <td>3.0</td>\n",
       "      <td>1260759179</td>\n",
       "    </tr>\n",
       "    <tr>\n",
       "      <th>2</th>\n",
       "      <td>1</td>\n",
       "      <td>1061</td>\n",
       "      <td>3.0</td>\n",
       "      <td>1260759182</td>\n",
       "    </tr>\n",
       "    <tr>\n",
       "      <th>3</th>\n",
       "      <td>1</td>\n",
       "      <td>1129</td>\n",
       "      <td>2.0</td>\n",
       "      <td>1260759185</td>\n",
       "    </tr>\n",
       "    <tr>\n",
       "      <th>4</th>\n",
       "      <td>1</td>\n",
       "      <td>1172</td>\n",
       "      <td>4.0</td>\n",
       "      <td>1260759205</td>\n",
       "    </tr>\n",
       "  </tbody>\n",
       "</table>\n",
       "</div>"
      ],
      "text/plain": [
       "   userId  movieId  rating   timestamp\n",
       "0       1       31     2.5  1260759144\n",
       "1       1     1029     3.0  1260759179\n",
       "2       1     1061     3.0  1260759182\n",
       "3       1     1129     2.0  1260759185\n",
       "4       1     1172     4.0  1260759205"
      ]
     },
     "execution_count": 23,
     "metadata": {},
     "output_type": "execute_result"
    }
   ],
   "source": [
    "#checking the head of the ratings data (unique at userID, movieID, timestamp level)\n",
    "ratings.head()"
   ]
  },
  {
   "cell_type": "code",
   "execution_count": 24,
   "metadata": {},
   "outputs": [
    {
     "name": "stdout",
     "output_type": "stream",
     "text": [
      "(100004, 4) is the shape of ratings data\n"
     ]
    }
   ],
   "source": [
    "#checking the shape of the ratings data\n",
    "ratings_shape = ratings.shape\n",
    "print(\"{} is the shape of ratings data\".format(ratings_shape))"
   ]
  },
  {
   "cell_type": "code",
   "execution_count": 28,
   "metadata": {},
   "outputs": [
    {
     "data": {
      "text/plain": [
       "userId       False\n",
       "movieId      False\n",
       "rating       False\n",
       "timestamp    False\n",
       "dtype: bool"
      ]
     },
     "execution_count": 28,
     "metadata": {},
     "output_type": "execute_result"
    }
   ],
   "source": [
    "#No missing entries in ratings data\n",
    "ratings.isnull().any()"
   ]
  },
  {
   "cell_type": "code",
   "execution_count": 29,
   "metadata": {},
   "outputs": [
    {
     "name": "stdout",
     "output_type": "stream",
     "text": [
      "userId         671\n",
      "movieId       9066\n",
      "rating          10\n",
      "timestamp    78141\n",
      "dtype: int64\n",
      "No of unique users who have rated a movie = 671 \n",
      "No of unique movies that have been rated = 9066 \n",
      "No of unique values of ratings = 10 \n"
     ]
    }
   ],
   "source": [
    "#No of unique users 671\n",
    "m = ratings.nunique()\n",
    "uni_user = m[0]\n",
    "uni_movies = m[1]\n",
    "uni_ratings = m[2]\n",
    "print(\"No of unique users who have rated a movie = {} \".format(uni_user))\n",
    "print(\"No of unique movies that have been rated = {} \".format(uni_movies))\n",
    "print(\"No of unique values of ratings = {} \".format(uni_ratings))"
   ]
  },
  {
   "cell_type": "code",
   "execution_count": 30,
   "metadata": {},
   "outputs": [
    {
     "name": "stdout",
     "output_type": "stream",
     "text": [
      "Values of ratings =  [ 0.5  1.   1.5  2.   2.5  3.   3.5  4.   4.5  5. ]\n"
     ]
    }
   ],
   "source": [
    "#unique values of ratings \n",
    "k = ratings['rating'].unique()\n",
    "k = np.sort(k, kind= \"quicksort\")\n",
    "print(\"Values of ratings =  {}\".format(k))"
   ]
  },
  {
   "cell_type": "code",
   "execution_count": 8,
   "metadata": {},
   "outputs": [
    {
     "data": {
      "image/png": "[encoded data removed]",
      "text/plain": [
       "<matplotlib.figure.Figure at 0x1a19f15050>"
      ]
     },
     "metadata": {},
     "output_type": "display_data"
    }
   ],
   "source": [
    "#overall distribution of ratings \n",
    "import matplotlib.pyplot as plt\n",
    "%matplotlib inline\n",
    "count_ratings = pd.value_counts(ratings['rating'], sort = False).sort_index()\n",
    "count_ratings.plot(kind = 'bar')\n",
    "plt.rc(\"font\",size=15)\n",
    "plt.title(\"Ratings Distribution\")\n",
    "plt.xlabel(\"Rating\")\n",
    "plt.ylabel(\"Count\")\n",
    "plt.show()"
   ]
  },
  {
   "cell_type": "code",
   "execution_count": 32,
   "metadata": {},
   "outputs": [
    {
     "data": {
      "text/plain": [
       "1    100004\n",
       "Name: userId, dtype: int64"
      ]
     },
     "execution_count": 32,
     "metadata": {},
     "output_type": "execute_result"
    }
   ],
   "source": [
    "#Every customer has rated a movie only once\n",
    "ratings.groupby(['userId','movieId']).userId.count().value_counts()"
   ]
  },
  {
   "cell_type": "code",
   "execution_count": 33,
   "metadata": {},
   "outputs": [
    {
     "data": {
      "text/html": [
       "<div>\n",
       "<style>\n",
       "    .dataframe thead tr:only-child th {\n",
       "        text-align: right;\n",
       "    }\n",
       "\n",
       "    .dataframe thead th {\n",
       "        text-align: left;\n",
       "    }\n",
       "\n",
       "    .dataframe tbody tr th {\n",
       "        vertical-align: top;\n",
       "    }\n",
       "</style>\n",
       "<table border=\"1\" class=\"dataframe\">\n",
       "  <thead>\n",
       "    <tr style=\"text-align: right;\">\n",
       "      <th></th>\n",
       "      <th>userId</th>\n",
       "      <th>movieId</th>\n",
       "      <th>rating</th>\n",
       "      <th>timestamp</th>\n",
       "    </tr>\n",
       "  </thead>\n",
       "  <tbody>\n",
       "    <tr>\n",
       "      <th>0</th>\n",
       "      <td>1</td>\n",
       "      <td>31</td>\n",
       "      <td>2.5</td>\n",
       "      <td>1970-01-15 14:12:39.144</td>\n",
       "    </tr>\n",
       "    <tr>\n",
       "      <th>1</th>\n",
       "      <td>1</td>\n",
       "      <td>1029</td>\n",
       "      <td>3.0</td>\n",
       "      <td>1970-01-15 14:12:39.179</td>\n",
       "    </tr>\n",
       "    <tr>\n",
       "      <th>2</th>\n",
       "      <td>1</td>\n",
       "      <td>1061</td>\n",
       "      <td>3.0</td>\n",
       "      <td>1970-01-15 14:12:39.182</td>\n",
       "    </tr>\n",
       "    <tr>\n",
       "      <th>3</th>\n",
       "      <td>1</td>\n",
       "      <td>1129</td>\n",
       "      <td>2.0</td>\n",
       "      <td>1970-01-15 14:12:39.185</td>\n",
       "    </tr>\n",
       "    <tr>\n",
       "      <th>4</th>\n",
       "      <td>1</td>\n",
       "      <td>1172</td>\n",
       "      <td>4.0</td>\n",
       "      <td>1970-01-15 14:12:39.205</td>\n",
       "    </tr>\n",
       "  </tbody>\n",
       "</table>\n",
       "</div>"
      ],
      "text/plain": [
       "   userId  movieId  rating               timestamp\n",
       "0       1       31     2.5 1970-01-15 14:12:39.144\n",
       "1       1     1029     3.0 1970-01-15 14:12:39.179\n",
       "2       1     1061     3.0 1970-01-15 14:12:39.182\n",
       "3       1     1129     2.0 1970-01-15 14:12:39.185\n",
       "4       1     1172     4.0 1970-01-15 14:12:39.205"
      ]
     },
     "execution_count": 33,
     "metadata": {},
     "output_type": "execute_result"
    }
   ],
   "source": [
    "#converting time since epoch to datetime \n",
    "ratings[\"timestamp\"] = pd.to_datetime(ratings['timestamp'], unit='ms')\n",
    "ratings.head()"
   ]
  },
  {
   "cell_type": "markdown",
   "metadata": {},
   "source": [
    "The ratings data consists of 671 users who have rated a total of 9066 movies. The rating is in a range of 0.5 to 5 with an increment of 0.5. Each user has rated a particular movie only once. "
   ]
  },
  {
   "cell_type": "markdown",
   "metadata": {},
   "source": [
    "## Explaoring Tags data"
   ]
  },
  {
   "cell_type": "code",
   "execution_count": 34,
   "metadata": {},
   "outputs": [
    {
     "data": {
      "text/html": [
       "<div>\n",
       "<style>\n",
       "    .dataframe thead tr:only-child th {\n",
       "        text-align: right;\n",
       "    }\n",
       "\n",
       "    .dataframe thead th {\n",
       "        text-align: left;\n",
       "    }\n",
       "\n",
       "    .dataframe tbody tr th {\n",
       "        vertical-align: top;\n",
       "    }\n",
       "</style>\n",
       "<table border=\"1\" class=\"dataframe\">\n",
       "  <thead>\n",
       "    <tr style=\"text-align: right;\">\n",
       "      <th></th>\n",
       "      <th>userId</th>\n",
       "      <th>movieId</th>\n",
       "      <th>tag</th>\n",
       "      <th>timestamp</th>\n",
       "    </tr>\n",
       "  </thead>\n",
       "  <tbody>\n",
       "    <tr>\n",
       "      <th>0</th>\n",
       "      <td>15</td>\n",
       "      <td>339</td>\n",
       "      <td>sandra 'boring' bullock</td>\n",
       "      <td>1138537770</td>\n",
       "    </tr>\n",
       "    <tr>\n",
       "      <th>1</th>\n",
       "      <td>15</td>\n",
       "      <td>1955</td>\n",
       "      <td>dentist</td>\n",
       "      <td>1193435061</td>\n",
       "    </tr>\n",
       "    <tr>\n",
       "      <th>2</th>\n",
       "      <td>15</td>\n",
       "      <td>7478</td>\n",
       "      <td>Cambodia</td>\n",
       "      <td>1170560997</td>\n",
       "    </tr>\n",
       "    <tr>\n",
       "      <th>3</th>\n",
       "      <td>15</td>\n",
       "      <td>32892</td>\n",
       "      <td>Russian</td>\n",
       "      <td>1170626366</td>\n",
       "    </tr>\n",
       "    <tr>\n",
       "      <th>4</th>\n",
       "      <td>15</td>\n",
       "      <td>34162</td>\n",
       "      <td>forgettable</td>\n",
       "      <td>1141391765</td>\n",
       "    </tr>\n",
       "  </tbody>\n",
       "</table>\n",
       "</div>"
      ],
      "text/plain": [
       "   userId  movieId                      tag   timestamp\n",
       "0      15      339  sandra 'boring' bullock  1138537770\n",
       "1      15     1955                  dentist  1193435061\n",
       "2      15     7478                 Cambodia  1170560997\n",
       "3      15    32892                  Russian  1170626366\n",
       "4      15    34162              forgettable  1141391765"
      ]
     },
     "execution_count": 34,
     "metadata": {},
     "output_type": "execute_result"
    }
   ],
   "source": [
    "#checking tags data \n",
    "tags.head()"
   ]
  },
  {
   "cell_type": "code",
   "execution_count": 35,
   "metadata": {},
   "outputs": [
    {
     "data": {
      "text/html": [
       "<div>\n",
       "<style>\n",
       "    .dataframe thead tr:only-child th {\n",
       "        text-align: right;\n",
       "    }\n",
       "\n",
       "    .dataframe thead th {\n",
       "        text-align: left;\n",
       "    }\n",
       "\n",
       "    .dataframe tbody tr th {\n",
       "        vertical-align: top;\n",
       "    }\n",
       "</style>\n",
       "<table border=\"1\" class=\"dataframe\">\n",
       "  <thead>\n",
       "    <tr style=\"text-align: right;\">\n",
       "      <th></th>\n",
       "      <th>userId</th>\n",
       "      <th>movieId</th>\n",
       "      <th>tag</th>\n",
       "      <th>timestamp</th>\n",
       "    </tr>\n",
       "  </thead>\n",
       "  <tbody>\n",
       "    <tr>\n",
       "      <th>0</th>\n",
       "      <td>15</td>\n",
       "      <td>339</td>\n",
       "      <td>sandra 'boring' bullock</td>\n",
       "      <td>1970-01-14 04:15:37.770</td>\n",
       "    </tr>\n",
       "    <tr>\n",
       "      <th>1</th>\n",
       "      <td>15</td>\n",
       "      <td>1955</td>\n",
       "      <td>dentist</td>\n",
       "      <td>1970-01-14 19:30:35.061</td>\n",
       "    </tr>\n",
       "    <tr>\n",
       "      <th>2</th>\n",
       "      <td>15</td>\n",
       "      <td>7478</td>\n",
       "      <td>Cambodia</td>\n",
       "      <td>1970-01-14 13:09:20.997</td>\n",
       "    </tr>\n",
       "    <tr>\n",
       "      <th>3</th>\n",
       "      <td>15</td>\n",
       "      <td>32892</td>\n",
       "      <td>Russian</td>\n",
       "      <td>1970-01-14 13:10:26.366</td>\n",
       "    </tr>\n",
       "    <tr>\n",
       "      <th>4</th>\n",
       "      <td>15</td>\n",
       "      <td>34162</td>\n",
       "      <td>forgettable</td>\n",
       "      <td>1970-01-14 05:03:11.765</td>\n",
       "    </tr>\n",
       "  </tbody>\n",
       "</table>\n",
       "</div>"
      ],
      "text/plain": [
       "   userId  movieId                      tag               timestamp\n",
       "0      15      339  sandra 'boring' bullock 1970-01-14 04:15:37.770\n",
       "1      15     1955                  dentist 1970-01-14 19:30:35.061\n",
       "2      15     7478                 Cambodia 1970-01-14 13:09:20.997\n",
       "3      15    32892                  Russian 1970-01-14 13:10:26.366\n",
       "4      15    34162              forgettable 1970-01-14 05:03:11.765"
      ]
     },
     "execution_count": 35,
     "metadata": {},
     "output_type": "execute_result"
    }
   ],
   "source": [
    "#converting time since epoch to datetime \n",
    "tags[\"timestamp\"] = pd.to_datetime(tags['timestamp'], unit='ms')\n",
    "tags.head()"
   ]
  },
  {
   "cell_type": "code",
   "execution_count": 36,
   "metadata": {},
   "outputs": [
    {
     "name": "stdout",
     "output_type": "stream",
     "text": [
      "Shape of tags dataset = (1296, 4)\n"
     ]
    }
   ],
   "source": [
    "#shape of tags data\n",
    "tags_shape = tags.shape\n",
    "print(\"Shape of tags dataset = {}\".format(tags_shape))"
   ]
  },
  {
   "cell_type": "code",
   "execution_count": 37,
   "metadata": {},
   "outputs": [
    {
     "name": "stdout",
     "output_type": "stream",
     "text": [
      "No of unique users who have tagged a movie = 61 \n",
      "No of unique movies that have been tagged = 689 \n",
      "No of unique values of tags = 582 \n"
     ]
    }
   ],
   "source": [
    "#No of unique values in tags dataset\n",
    "m = tags.nunique()\n",
    "uni_user = m[0]\n",
    "uni_movies = m[1]\n",
    "uni_tags = m[2]\n",
    "print(\"No of unique users who have tagged a movie = {} \".format(uni_user))\n",
    "print(\"No of unique movies that have been tagged = {} \".format(uni_movies))\n",
    "print(\"No of unique values of tags = {} \".format(uni_tags))"
   ]
  },
  {
   "cell_type": "code",
   "execution_count": 38,
   "metadata": {},
   "outputs": [
    {
     "data": {
      "text/plain": [
       "userId       False\n",
       "movieId      False\n",
       "tag          False\n",
       "timestamp    False\n",
       "dtype: bool"
      ]
     },
     "execution_count": 38,
     "metadata": {},
     "output_type": "execute_result"
    }
   ],
   "source": [
    "#checking Null values in the tags dataset\n",
    "tags.isnull().any()"
   ]
  },
  {
   "cell_type": "code",
   "execution_count": 39,
   "metadata": {},
   "outputs": [
    {
     "data": {
      "text/html": [
       "<div>\n",
       "<style>\n",
       "    .dataframe thead tr:only-child th {\n",
       "        text-align: right;\n",
       "    }\n",
       "\n",
       "    .dataframe thead th {\n",
       "        text-align: left;\n",
       "    }\n",
       "\n",
       "    .dataframe tbody tr th {\n",
       "        vertical-align: top;\n",
       "    }\n",
       "</style>\n",
       "<table border=\"1\" class=\"dataframe\">\n",
       "  <thead>\n",
       "    <tr style=\"text-align: right;\">\n",
       "      <th></th>\n",
       "      <th></th>\n",
       "      <th>tag</th>\n",
       "      <th>timestamp</th>\n",
       "    </tr>\n",
       "    <tr>\n",
       "      <th>userId</th>\n",
       "      <th>movieId</th>\n",
       "      <th></th>\n",
       "      <th></th>\n",
       "    </tr>\n",
       "  </thead>\n",
       "  <tbody>\n",
       "    <tr>\n",
       "      <th rowspan=\"3\" valign=\"top\">138</th>\n",
       "      <th>48780</th>\n",
       "      <td>6</td>\n",
       "      <td>6</td>\n",
       "    </tr>\n",
       "    <tr>\n",
       "      <th>79132</th>\n",
       "      <td>7</td>\n",
       "      <td>7</td>\n",
       "    </tr>\n",
       "    <tr>\n",
       "      <th>109487</th>\n",
       "      <td>12</td>\n",
       "      <td>12</td>\n",
       "    </tr>\n",
       "    <tr>\n",
       "      <th rowspan=\"2\" valign=\"top\">212</th>\n",
       "      <th>64957</th>\n",
       "      <td>8</td>\n",
       "      <td>8</td>\n",
       "    </tr>\n",
       "    <tr>\n",
       "      <th>66097</th>\n",
       "      <td>7</td>\n",
       "      <td>7</td>\n",
       "    </tr>\n",
       "  </tbody>\n",
       "</table>\n",
       "</div>"
      ],
      "text/plain": [
       "                tag  timestamp\n",
       "userId movieId                \n",
       "138    48780      6          6\n",
       "       79132      7          7\n",
       "       109487    12         12\n",
       "212    64957      8          8\n",
       "       66097      7          7"
      ]
     },
     "execution_count": 39,
     "metadata": {},
     "output_type": "execute_result"
    }
   ],
   "source": [
    "#looking at data with more than 5 tags for a movie\n",
    "df = tags.groupby(['userId','movieId']).count()\n",
    "df.loc[df['tag'] > 5].head()"
   ]
  },
  {
   "cell_type": "code",
   "execution_count": 40,
   "metadata": {
    "collapsed": true
   },
   "outputs": [],
   "source": [
    "#creating combined tag for a particular user movie combination\n",
    "tags_new =tags.groupby(['userId','movieId'], as_index=False).sum()"
   ]
  },
  {
   "cell_type": "code",
   "execution_count": 41,
   "metadata": {},
   "outputs": [
    {
     "data": {
      "text/html": [
       "<div>\n",
       "<style>\n",
       "    .dataframe thead tr:only-child th {\n",
       "        text-align: right;\n",
       "    }\n",
       "\n",
       "    .dataframe thead th {\n",
       "        text-align: left;\n",
       "    }\n",
       "\n",
       "    .dataframe tbody tr th {\n",
       "        vertical-align: top;\n",
       "    }\n",
       "</style>\n",
       "<table border=\"1\" class=\"dataframe\">\n",
       "  <thead>\n",
       "    <tr style=\"text-align: right;\">\n",
       "      <th></th>\n",
       "      <th>userId</th>\n",
       "      <th>movieId</th>\n",
       "      <th>tag</th>\n",
       "    </tr>\n",
       "  </thead>\n",
       "  <tbody>\n",
       "    <tr>\n",
       "      <th>0</th>\n",
       "      <td>15</td>\n",
       "      <td>339</td>\n",
       "      <td>sandra 'boring' bullock</td>\n",
       "    </tr>\n",
       "    <tr>\n",
       "      <th>1</th>\n",
       "      <td>15</td>\n",
       "      <td>1955</td>\n",
       "      <td>dentist</td>\n",
       "    </tr>\n",
       "    <tr>\n",
       "      <th>2</th>\n",
       "      <td>15</td>\n",
       "      <td>7478</td>\n",
       "      <td>Cambodia</td>\n",
       "    </tr>\n",
       "    <tr>\n",
       "      <th>3</th>\n",
       "      <td>15</td>\n",
       "      <td>32892</td>\n",
       "      <td>Russian</td>\n",
       "    </tr>\n",
       "    <tr>\n",
       "      <th>4</th>\n",
       "      <td>15</td>\n",
       "      <td>34162</td>\n",
       "      <td>forgettable</td>\n",
       "    </tr>\n",
       "  </tbody>\n",
       "</table>\n",
       "</div>"
      ],
      "text/plain": [
       "   userId  movieId                      tag\n",
       "0      15      339  sandra 'boring' bullock\n",
       "1      15     1955                  dentist\n",
       "2      15     7478                 Cambodia\n",
       "3      15    32892                  Russian\n",
       "4      15    34162              forgettable"
      ]
     },
     "execution_count": 41,
     "metadata": {},
     "output_type": "execute_result"
    }
   ],
   "source": [
    "tags_new.head()"
   ]
  },
  {
   "cell_type": "code",
   "execution_count": 42,
   "metadata": {},
   "outputs": [
    {
     "name": "stdout",
     "output_type": "stream",
     "text": [
      "shape of tags dataset = (772, 3)\n"
     ]
    }
   ],
   "source": [
    "#New shape of tags dataset\n",
    "tags_shape = tags_new.shape\n",
    "print(\"shape of tags dataset = {}\".format(tags_shape))"
   ]
  },
  {
   "cell_type": "markdown",
   "metadata": {},
   "source": [
    "## Merging ratings and tags data - User level Information"
   ]
  },
  {
   "cell_type": "code",
   "execution_count": 43,
   "metadata": {
    "collapsed": true
   },
   "outputs": [],
   "source": [
    "#merging the ratings and tags data : information at user level\n",
    "ratings_tags = pd.merge(ratings,tags_new[['userId','movieId','tag']],how = 'left', left_on = ['userId','movieId'], right_on = ['userId','movieId'])"
   ]
  },
  {
   "cell_type": "code",
   "execution_count": 44,
   "metadata": {},
   "outputs": [
    {
     "name": "stdout",
     "output_type": "stream",
     "text": [
      "shape of ratings_tags dataset = (100004, 5)\n"
     ]
    }
   ],
   "source": [
    "#shape of the new ratings _tags dataset\n",
    "ratings_tags_shape = ratings_tags.shape\n",
    "print(\"shape of ratings_tags dataset = {}\".format(ratings_tags_shape))"
   ]
  },
  {
   "cell_type": "code",
   "execution_count": 45,
   "metadata": {},
   "outputs": [
    {
     "data": {
      "text/html": [
       "<div>\n",
       "<style>\n",
       "    .dataframe thead tr:only-child th {\n",
       "        text-align: right;\n",
       "    }\n",
       "\n",
       "    .dataframe thead th {\n",
       "        text-align: left;\n",
       "    }\n",
       "\n",
       "    .dataframe tbody tr th {\n",
       "        vertical-align: top;\n",
       "    }\n",
       "</style>\n",
       "<table border=\"1\" class=\"dataframe\">\n",
       "  <thead>\n",
       "    <tr style=\"text-align: right;\">\n",
       "      <th></th>\n",
       "      <th>userId</th>\n",
       "      <th>movieId</th>\n",
       "      <th>rating</th>\n",
       "      <th>timestamp</th>\n",
       "      <th>tag</th>\n",
       "    </tr>\n",
       "  </thead>\n",
       "  <tbody>\n",
       "    <tr>\n",
       "      <th>1048</th>\n",
       "      <td>15</td>\n",
       "      <td>339</td>\n",
       "      <td>2.5</td>\n",
       "      <td>1970-01-13 23:49:36.622</td>\n",
       "      <td>sandra 'boring' bullock</td>\n",
       "    </tr>\n",
       "  </tbody>\n",
       "</table>\n",
       "</div>"
      ],
      "text/plain": [
       "      userId  movieId  rating               timestamp                      tag\n",
       "1048      15      339     2.5 1970-01-13 23:49:36.622  sandra 'boring' bullock"
      ]
     },
     "execution_count": 45,
     "metadata": {},
     "output_type": "execute_result"
    }
   ],
   "source": [
    "#checking data for a particular entry\n",
    "ratings_tags.loc[(ratings_tags.userId == 15) & (ratings_tags.movieId == 339)]"
   ]
  },
  {
   "cell_type": "code",
   "execution_count": 46,
   "metadata": {},
   "outputs": [
    {
     "data": {
      "text/html": [
       "<pre>Finished parsing file C:\\Users\\hp\\Desktop\\Jupyter Notebooks\\Personalisation-master\\Personalisation-master\\ratings_tags.csv</pre>"
      ],
      "text/plain": [
       "Finished parsing file C:\\Users\\hp\\Desktop\\Jupyter Notebooks\\Personalisation-master\\Personalisation-master\\ratings_tags.csv"
      ]
     },
     "metadata": {},
     "output_type": "display_data"
    },
    {
     "data": {
      "text/html": [
       "<pre>Parsing completed. Parsed 100 lines in 0.1351 secs.</pre>"
      ],
      "text/plain": [
       "Parsing completed. Parsed 100 lines in 0.1351 secs."
      ]
     },
     "metadata": {},
     "output_type": "display_data"
    },
    {
     "name": "stdout",
     "output_type": "stream",
     "text": [
      "------------------------------------------------------\n",
      "Inferred types from first 100 line(s) of file as \n",
      "column_type_hints=[long,long,long,float,str,str]\n",
      "If parsing fails due to incorrect types, you can correct\n",
      "the inferred type list above and pass it to read_csv in\n",
      "the column_type_hints argument\n",
      "------------------------------------------------------\n"
     ]
    },
    {
     "data": {
      "text/html": [
       "<pre>Finished parsing file C:\\Users\\hp\\Desktop\\Jupyter Notebooks\\Personalisation-master\\Personalisation-master\\ratings_tags.csv</pre>"
      ],
      "text/plain": [
       "Finished parsing file C:\\Users\\hp\\Desktop\\Jupyter Notebooks\\Personalisation-master\\Personalisation-master\\ratings_tags.csv"
      ]
     },
     "metadata": {},
     "output_type": "display_data"
    },
    {
     "data": {
      "text/html": [
       "<pre>Parsing completed. Parsed 100004 lines in 0.148604 secs.</pre>"
      ],
      "text/plain": [
       "Parsing completed. Parsed 100004 lines in 0.148604 secs."
      ]
     },
     "metadata": {},
     "output_type": "display_data"
    }
   ],
   "source": [
    "#storing ratings and tags data as Sframe\n",
    "ratings_tags.to_csv(\"ratings_tags.csv\")\n",
    "user_metadata = graphlab.SFrame.read_csv('ratings_tags.csv' )"
   ]
  },
  {
   "cell_type": "markdown",
   "metadata": {},
   "source": [
    "## Combining all datasets to create the final data"
   ]
  },
  {
   "cell_type": "code",
   "execution_count": 47,
   "metadata": {
    "collapsed": true
   },
   "outputs": [],
   "source": [
    "#Including the movie information to the ratings_tags data\n",
    "all_data = pd.merge(ratings_tags, movies_links,how = 'left', left_on = ['movieId'], right_on = ['movieId'])"
   ]
  },
  {
   "cell_type": "code",
   "execution_count": 48,
   "metadata": {},
   "outputs": [
    {
     "data": {
      "text/html": [
       "<div>\n",
       "<style>\n",
       "    .dataframe thead tr:only-child th {\n",
       "        text-align: right;\n",
       "    }\n",
       "\n",
       "    .dataframe thead th {\n",
       "        text-align: left;\n",
       "    }\n",
       "\n",
       "    .dataframe tbody tr th {\n",
       "        vertical-align: top;\n",
       "    }\n",
       "</style>\n",
       "<table border=\"1\" class=\"dataframe\">\n",
       "  <thead>\n",
       "    <tr style=\"text-align: right;\">\n",
       "      <th></th>\n",
       "      <th>userId</th>\n",
       "      <th>movieId</th>\n",
       "      <th>rating</th>\n",
       "      <th>timestamp</th>\n",
       "      <th>tag</th>\n",
       "      <th>title</th>\n",
       "      <th>genres</th>\n",
       "      <th>genres1</th>\n",
       "      <th>genres2</th>\n",
       "      <th>genres3</th>\n",
       "      <th>genres4</th>\n",
       "      <th>genres5</th>\n",
       "      <th>genres6</th>\n",
       "      <th>genres7</th>\n",
       "      <th>genres8</th>\n",
       "      <th>genres9</th>\n",
       "      <th>genres10</th>\n",
       "      <th>Year_release</th>\n",
       "      <th>imdbId</th>\n",
       "      <th>tmdbId</th>\n",
       "    </tr>\n",
       "  </thead>\n",
       "  <tbody>\n",
       "    <tr>\n",
       "      <th>0</th>\n",
       "      <td>1</td>\n",
       "      <td>31</td>\n",
       "      <td>2.5</td>\n",
       "      <td>1970-01-15 14:12:39.144</td>\n",
       "      <td>NaN</td>\n",
       "      <td>Dangerous Minds (1995)</td>\n",
       "      <td>Drama</td>\n",
       "      <td>Drama</td>\n",
       "      <td>None</td>\n",
       "      <td>None</td>\n",
       "      <td>None</td>\n",
       "      <td>None</td>\n",
       "      <td>None</td>\n",
       "      <td>None</td>\n",
       "      <td>None</td>\n",
       "      <td>None</td>\n",
       "      <td>None</td>\n",
       "      <td>1995</td>\n",
       "      <td>112792</td>\n",
       "      <td>9909.0</td>\n",
       "    </tr>\n",
       "    <tr>\n",
       "      <th>1</th>\n",
       "      <td>1</td>\n",
       "      <td>1029</td>\n",
       "      <td>3.0</td>\n",
       "      <td>1970-01-15 14:12:39.179</td>\n",
       "      <td>NaN</td>\n",
       "      <td>Dumbo (1941)</td>\n",
       "      <td>Animation|Children|Drama|Musical</td>\n",
       "      <td>Animation</td>\n",
       "      <td>Children</td>\n",
       "      <td>Drama</td>\n",
       "      <td>Musical</td>\n",
       "      <td>None</td>\n",
       "      <td>None</td>\n",
       "      <td>None</td>\n",
       "      <td>None</td>\n",
       "      <td>None</td>\n",
       "      <td>None</td>\n",
       "      <td>1941</td>\n",
       "      <td>33563</td>\n",
       "      <td>11360.0</td>\n",
       "    </tr>\n",
       "    <tr>\n",
       "      <th>2</th>\n",
       "      <td>1</td>\n",
       "      <td>1061</td>\n",
       "      <td>3.0</td>\n",
       "      <td>1970-01-15 14:12:39.182</td>\n",
       "      <td>NaN</td>\n",
       "      <td>Sleepers (1996)</td>\n",
       "      <td>Thriller</td>\n",
       "      <td>Thriller</td>\n",
       "      <td>None</td>\n",
       "      <td>None</td>\n",
       "      <td>None</td>\n",
       "      <td>None</td>\n",
       "      <td>None</td>\n",
       "      <td>None</td>\n",
       "      <td>None</td>\n",
       "      <td>None</td>\n",
       "      <td>None</td>\n",
       "      <td>1996</td>\n",
       "      <td>117665</td>\n",
       "      <td>819.0</td>\n",
       "    </tr>\n",
       "    <tr>\n",
       "      <th>3</th>\n",
       "      <td>1</td>\n",
       "      <td>1129</td>\n",
       "      <td>2.0</td>\n",
       "      <td>1970-01-15 14:12:39.185</td>\n",
       "      <td>NaN</td>\n",
       "      <td>Escape from New York (1981)</td>\n",
       "      <td>Action|Adventure|Sci-Fi|Thriller</td>\n",
       "      <td>Action</td>\n",
       "      <td>Adventure</td>\n",
       "      <td>Sci-Fi</td>\n",
       "      <td>Thriller</td>\n",
       "      <td>None</td>\n",
       "      <td>None</td>\n",
       "      <td>None</td>\n",
       "      <td>None</td>\n",
       "      <td>None</td>\n",
       "      <td>None</td>\n",
       "      <td>1981</td>\n",
       "      <td>82340</td>\n",
       "      <td>1103.0</td>\n",
       "    </tr>\n",
       "    <tr>\n",
       "      <th>4</th>\n",
       "      <td>1</td>\n",
       "      <td>1172</td>\n",
       "      <td>4.0</td>\n",
       "      <td>1970-01-15 14:12:39.205</td>\n",
       "      <td>NaN</td>\n",
       "      <td>Cinema Paradiso (Nuovo cinema Paradiso) (1989)</td>\n",
       "      <td>Drama</td>\n",
       "      <td>Drama</td>\n",
       "      <td>None</td>\n",
       "      <td>None</td>\n",
       "      <td>None</td>\n",
       "      <td>None</td>\n",
       "      <td>None</td>\n",
       "      <td>None</td>\n",
       "      <td>None</td>\n",
       "      <td>None</td>\n",
       "      <td>None</td>\n",
       "      <td>1989</td>\n",
       "      <td>95765</td>\n",
       "      <td>11216.0</td>\n",
       "    </tr>\n",
       "  </tbody>\n",
       "</table>\n",
       "</div>"
      ],
      "text/plain": [
       "   userId  movieId  rating               timestamp  tag  \\\n",
       "0       1       31     2.5 1970-01-15 14:12:39.144  NaN   \n",
       "1       1     1029     3.0 1970-01-15 14:12:39.179  NaN   \n",
       "2       1     1061     3.0 1970-01-15 14:12:39.182  NaN   \n",
       "3       1     1129     2.0 1970-01-15 14:12:39.185  NaN   \n",
       "4       1     1172     4.0 1970-01-15 14:12:39.205  NaN   \n",
       "\n",
       "                                            title  \\\n",
       "0                          Dangerous Minds (1995)   \n",
       "1                                    Dumbo (1941)   \n",
       "2                                 Sleepers (1996)   \n",
       "3                     Escape from New York (1981)   \n",
       "4  Cinema Paradiso (Nuovo cinema Paradiso) (1989)   \n",
       "\n",
       "                             genres    genres1    genres2 genres3   genres4  \\\n",
       "0                             Drama      Drama       None    None      None   \n",
       "1  Animation|Children|Drama|Musical  Animation   Children   Drama   Musical   \n",
       "2                          Thriller   Thriller       None    None      None   \n",
       "3  Action|Adventure|Sci-Fi|Thriller     Action  Adventure  Sci-Fi  Thriller   \n",
       "4                             Drama      Drama       None    None      None   \n",
       "\n",
       "  genres5 genres6 genres7 genres8 genres9 genres10 Year_release  imdbId  \\\n",
       "0    None    None    None    None    None     None         1995  112792   \n",
       "1    None    None    None    None    None     None         1941   33563   \n",
       "2    None    None    None    None    None     None         1996  117665   \n",
       "3    None    None    None    None    None     None         1981   82340   \n",
       "4    None    None    None    None    None     None         1989   95765   \n",
       "\n",
       "    tmdbId  \n",
       "0   9909.0  \n",
       "1  11360.0  \n",
       "2    819.0  \n",
       "3   1103.0  \n",
       "4  11216.0  "
      ]
     },
     "execution_count": 48,
     "metadata": {},
     "output_type": "execute_result"
    }
   ],
   "source": [
    "#checking the head of the combined data\n",
    "all_data.head()"
   ]
  },
  {
   "cell_type": "code",
   "execution_count": 49,
   "metadata": {},
   "outputs": [
    {
     "name": "stdout",
     "output_type": "stream",
     "text": [
      "shape of combined dataset = (100004, 20)\n"
     ]
    }
   ],
   "source": [
    "#shape of the combined data\n",
    "all_data_shape = all_data.shape\n",
    "print(\"shape of combined dataset = {}\".format(all_data_shape))"
   ]
  },
  {
   "cell_type": "code",
   "execution_count": 50,
   "metadata": {
    "collapsed": true
   },
   "outputs": [],
   "source": [
    "#converting the tags column to string type\n",
    "all_data['tag'] = all_data['tag'].astype(str)"
   ]
  },
  {
   "cell_type": "code",
   "execution_count": 51,
   "metadata": {},
   "outputs": [
    {
     "data": {
      "text/plain": [
       "userId                   int64\n",
       "movieId                  int64\n",
       "rating                 float64\n",
       "timestamp       datetime64[ns]\n",
       "tag                     object\n",
       "title                   object\n",
       "genres                  object\n",
       "genres1                 object\n",
       "genres2                 object\n",
       "genres3                 object\n",
       "genres4                 object\n",
       "genres5                 object\n",
       "genres6                 object\n",
       "genres7                 object\n",
       "genres8                 object\n",
       "genres9                 object\n",
       "genres10                object\n",
       "Year_release            object\n",
       "imdbId                   int64\n",
       "tmdbId                 float64\n",
       "dtype: object"
      ]
     },
     "execution_count": 51,
     "metadata": {},
     "output_type": "execute_result"
    }
   ],
   "source": [
    "#checking data type of all columns \n",
    "all_data.dtypes"
   ]
  },
  {
   "cell_type": "markdown",
   "metadata": {},
   "source": [
    "# Model based recommendation with Graphlabs"
   ]
  },
  {
   "cell_type": "code",
   "execution_count": 59,
   "metadata": {
    "collapsed": true
   },
   "outputs": [],
   "source": [
    "#splitting the data into test and train 80/20\n",
    "train_data, test_data  = train_test_split(all_data , test_size=0.2, random_state=42)"
   ]
  },
  {
   "cell_type": "code",
   "execution_count": 60,
   "metadata": {},
   "outputs": [
    {
     "name": "stdout",
     "output_type": "stream",
     "text": [
      "shape of train dataset = (80003, 20)\n"
     ]
    }
   ],
   "source": [
    "#shape of train data\n",
    "train_shape = train_data.shape\n",
    "print(\"shape of train dataset = {}\".format(train_shape))"
   ]
  },
  {
   "cell_type": "code",
   "execution_count": 61,
   "metadata": {},
   "outputs": [
    {
     "name": "stdout",
     "output_type": "stream",
     "text": [
      "No of unique users who have rated a movie = 671 \n",
      "No of unique movies that have been rated = 8399 \n",
      "No of unique values of ratings = 10 \n"
     ]
    }
   ],
   "source": [
    "#No of unique values in train data\n",
    "m = train_data.nunique()\n",
    "uni_user = m[0]\n",
    "uni_movies = m[1]\n",
    "uni_ratings = m[2]\n",
    "print(\"No of unique users who have rated a movie = {} \".format(uni_user))\n",
    "print(\"No of unique movies that have been rated = {} \".format(uni_movies))\n",
    "print(\"No of unique values of ratings = {} \".format(uni_ratings))"
   ]
  },
  {
   "cell_type": "code",
   "execution_count": 62,
   "metadata": {},
   "outputs": [
    {
     "name": "stdout",
     "output_type": "stream",
     "text": [
      "shape of train dataset = (20001, 20)\n"
     ]
    }
   ],
   "source": [
    "#shape of test dataset\n",
    "test_shape = test_data.shape\n",
    "print(\"shape of train dataset = {}\".format(test_shape))"
   ]
  },
  {
   "cell_type": "code",
   "execution_count": 63,
   "metadata": {},
   "outputs": [
    {
     "name": "stdout",
     "output_type": "stream",
     "text": [
      "No of unique users who have rated a movie = 671 \n",
      "No of unique movies that have been rated = 4901 \n",
      "No of unique values of ratings = 10 \n"
     ]
    }
   ],
   "source": [
    "#No of unique values in test data\n",
    "m = test_data.nunique()\n",
    "uni_user = m[0]\n",
    "uni_movies = m[1]\n",
    "uni_ratings = m[2]\n",
    "print(\"No of unique users who have rated a movie = {} \".format(uni_user))\n",
    "print(\"No of unique movies that have been rated = {} \".format(uni_movies))\n",
    "print(\"No of unique values of ratings = {} \".format(uni_ratings))"
   ]
  },
  {
   "cell_type": "code",
   "execution_count": 68,
   "metadata": {},
   "outputs": [
    {
     "name": "stdout",
     "output_type": "stream",
     "text": [
      "(80003, 20)\n",
      "(20001, 20)\n"
     ]
    }
   ],
   "source": [
    "#Keeping a copy of the test and train dataframes to use for sampling later\n",
    "trainData = train_data\n",
    "testData = test_data\n",
    "#verifying\n",
    "print(trainData.shape)\n",
    "print(testData.shape)"
   ]
  },
  {
   "cell_type": "code",
   "execution_count": 69,
   "metadata": {
    "collapsed": true
   },
   "outputs": [],
   "source": [
    "#exporting the test and train dataset to csv \n",
    "train_data.to_csv('train_data.csv')\n",
    "test_data.to_csv('test_data.csv')"
   ]
  },
  {
   "cell_type": "code",
   "execution_count": 71,
   "metadata": {},
   "outputs": [
    {
     "data": {
      "text/html": [
       "<pre>Finished parsing file C:\\Users\\hp\\Desktop\\Jupyter Notebooks\\Personalisation-master\\Personalisation-master\\train_data.csv</pre>"
      ],
      "text/plain": [
       "Finished parsing file C:\\Users\\hp\\Desktop\\Jupyter Notebooks\\Personalisation-master\\Personalisation-master\\train_data.csv"
      ]
     },
     "metadata": {},
     "output_type": "display_data"
    },
    {
     "data": {
      "text/html": [
       "<pre>Parsing completed. Parsed 80003 lines in 0.425811 secs.</pre>"
      ],
      "text/plain": [
       "Parsing completed. Parsed 80003 lines in 0.425811 secs."
      ]
     },
     "metadata": {},
     "output_type": "display_data"
    },
    {
     "data": {
      "text/html": [
       "<pre>Finished parsing file C:\\Users\\hp\\Desktop\\Jupyter Notebooks\\Personalisation-master\\Personalisation-master\\test_data.csv</pre>"
      ],
      "text/plain": [
       "Finished parsing file C:\\Users\\hp\\Desktop\\Jupyter Notebooks\\Personalisation-master\\Personalisation-master\\test_data.csv"
      ]
     },
     "metadata": {},
     "output_type": "display_data"
    },
    {
     "data": {
      "text/html": [
       "<pre>Parsing completed. Parsed 20001 lines in 0.111292 secs.</pre>"
      ],
      "text/plain": [
       "Parsing completed. Parsed 20001 lines in 0.111292 secs."
      ]
     },
     "metadata": {},
     "output_type": "display_data"
    }
   ],
   "source": [
    "#converting the test and train dataset to Sframe\n",
    "hints = [int,int ,int ,float,str, str, str, str, str, str,str,str,str,str,str,str, str,str,float, int, float]\n",
    "train = graphlab.SFrame.read_csv('train_data.csv',column_type_hints = hints )\n",
    "test = graphlab.SFrame.read_csv('test_data.csv',column_type_hints = hints )"
   ]
  },
  {
   "cell_type": "markdown",
   "metadata": {},
   "source": [
    "Using the follwoing three approaches to solve the regression.\n",
    "* Adaptive Gradient Stochastic Gradient Descent\n",
    "* Stochastic Gradient Descent\n",
    "* Alternating Least Squares"
   ]
  },
  {
   "cell_type": "code",
   "execution_count": 257,
   "metadata": {
    "scrolled": false
   },
   "outputs": [
    {
     "data": {
      "text/html": [
       "<pre>Recsys training: model = factorization_recommender</pre>"
      ],
      "text/plain": [
       "Recsys training: model = factorization_recommender"
      ]
     },
     "metadata": {},
     "output_type": "display_data"
    },
    {
     "data": {
      "text/html": [
       "<pre>Preparing data set.</pre>"
      ],
      "text/plain": [
       "Preparing data set."
      ]
     },
     "metadata": {},
     "output_type": "display_data"
    },
    {
     "data": {
      "text/html": [
       "<pre>    Data has 80004 observations with 671 users and 9125 items.</pre>"
      ],
      "text/plain": [
       "    Data has 80004 observations with 671 users and 9125 items."
      ]
     },
     "metadata": {},
     "output_type": "display_data"
    },
    {
     "data": {
      "text/html": [
       "<pre>    Data prepared in: 0.817622s</pre>"
      ],
      "text/plain": [
       "    Data prepared in: 0.817622s"
      ]
     },
     "metadata": {},
     "output_type": "display_data"
    },
    {
     "data": {
      "text/html": [
       "<pre>Training factorization_recommender for recommendations.</pre>"
      ],
      "text/plain": [
       "Training factorization_recommender for recommendations."
      ]
     },
     "metadata": {},
     "output_type": "display_data"
    },
    {
     "data": {
      "text/html": [
       "<pre>+--------------------------------+--------------------------------------------------+----------+</pre>"
      ],
      "text/plain": [
       "+--------------------------------+--------------------------------------------------+----------+"
      ]
     },
     "metadata": {},
     "output_type": "display_data"
    },
    {
     "data": {
      "text/html": [
       "<pre>| Parameter                      | Description                                      | Value    |</pre>"
      ],
      "text/plain": [
       "| Parameter                      | Description                                      | Value    |"
      ]
     },
     "metadata": {},
     "output_type": "display_data"
    },
    {
     "data": {
      "text/html": [
       "<pre>+--------------------------------+--------------------------------------------------+----------+</pre>"
      ],
      "text/plain": [
       "+--------------------------------+--------------------------------------------------+----------+"
      ]
     },
     "metadata": {},
     "output_type": "display_data"
    },
    {
     "data": {
      "text/html": [
       "<pre>| num_factors                    | Factor Dimension                                 | 4        |</pre>"
      ],
      "text/plain": [
       "| num_factors                    | Factor Dimension                                 | 4        |"
      ]
     },
     "metadata": {},
     "output_type": "display_data"
    },
    {
     "data": {
      "text/html": [
       "<pre>| regularization                 | L2 Regularization on Factors                     | 1e-008   |</pre>"
      ],
      "text/plain": [
       "| regularization                 | L2 Regularization on Factors                     | 1e-008   |"
      ]
     },
     "metadata": {},
     "output_type": "display_data"
    },
    {
     "data": {
      "text/html": [
       "<pre>| solver                         | Solver used for training                         | adagrad  |</pre>"
      ],
      "text/plain": [
       "| solver                         | Solver used for training                         | adagrad  |"
      ]
     },
     "metadata": {},
     "output_type": "display_data"
    },
    {
     "data": {
      "text/html": [
       "<pre>| linear_regularization          | L2 Regularization on Linear Coefficients         | 1e-010   |</pre>"
      ],
      "text/plain": [
       "| linear_regularization          | L2 Regularization on Linear Coefficients         | 1e-010   |"
      ]
     },
     "metadata": {},
     "output_type": "display_data"
    },
    {
     "data": {
      "text/html": [
       "<pre>| side_data_factorization        | Assign Factors for Side Data                     | True     |</pre>"
      ],
      "text/plain": [
       "| side_data_factorization        | Assign Factors for Side Data                     | True     |"
      ]
     },
     "metadata": {},
     "output_type": "display_data"
    },
    {
     "data": {
      "text/html": [
       "<pre>| max_iterations                 | Maximum Number of Iterations                     | 50       |</pre>"
      ],
      "text/plain": [
       "| max_iterations                 | Maximum Number of Iterations                     | 50       |"
      ]
     },
     "metadata": {},
     "output_type": "display_data"
    },
    {
     "data": {
      "text/html": [
       "<pre>+--------------------------------+--------------------------------------------------+----------+</pre>"
      ],
      "text/plain": [
       "+--------------------------------+--------------------------------------------------+----------+"
      ]
     },
     "metadata": {},
     "output_type": "display_data"
    },
    {
     "data": {
      "text/html": [
       "<pre>  Optimizing model using SGD; tuning step size.</pre>"
      ],
      "text/plain": [
       "  Optimizing model using SGD; tuning step size."
      ]
     },
     "metadata": {},
     "output_type": "display_data"
    },
    {
     "data": {
      "text/html": [
       "<pre>  Using 10000 / 80004 points for tuning the step size.</pre>"
      ],
      "text/plain": [
       "  Using 10000 / 80004 points for tuning the step size."
      ]
     },
     "metadata": {},
     "output_type": "display_data"
    },
    {
     "data": {
      "text/html": [
       "<pre>+---------+-------------------+------------------------------------------+</pre>"
      ],
      "text/plain": [
       "+---------+-------------------+------------------------------------------+"
      ]
     },
     "metadata": {},
     "output_type": "display_data"
    },
    {
     "data": {
      "text/html": [
       "<pre>| Attempt | Initial Step Size | Estimated Objective Value                |</pre>"
      ],
      "text/plain": [
       "| Attempt | Initial Step Size | Estimated Objective Value                |"
      ]
     },
     "metadata": {},
     "output_type": "display_data"
    },
    {
     "data": {
      "text/html": [
       "<pre>+---------+-------------------+------------------------------------------+</pre>"
      ],
      "text/plain": [
       "+---------+-------------------+------------------------------------------+"
      ]
     },
     "metadata": {},
     "output_type": "display_data"
    },
    {
     "data": {
      "text/html": [
       "<pre>| 0       | 1.21951           | Not Viable                               |</pre>"
      ],
      "text/plain": [
       "| 0       | 1.21951           | Not Viable                               |"
      ]
     },
     "metadata": {},
     "output_type": "display_data"
    },
    {
     "data": {
      "text/html": [
       "<pre>| 1       | 0.304878          | Not Viable                               |</pre>"
      ],
      "text/plain": [
       "| 1       | 0.304878          | Not Viable                               |"
      ]
     },
     "metadata": {},
     "output_type": "display_data"
    },
    {
     "data": {
      "text/html": [
       "<pre>| 2       | 0.0762195         | 0.142317                                 |</pre>"
      ],
      "text/plain": [
       "| 2       | 0.0762195         | 0.142317                                 |"
      ]
     },
     "metadata": {},
     "output_type": "display_data"
    },
    {
     "data": {
      "text/html": [
       "<pre>| 3       | 0.0381098         | 0.209166                                 |</pre>"
      ],
      "text/plain": [
       "| 3       | 0.0381098         | 0.209166                                 |"
      ]
     },
     "metadata": {},
     "output_type": "display_data"
    },
    {
     "data": {
      "text/html": [
       "<pre>| 4       | 0.0190549         | 0.345443                                 |</pre>"
      ],
      "text/plain": [
       "| 4       | 0.0190549         | 0.345443                                 |"
      ]
     },
     "metadata": {},
     "output_type": "display_data"
    },
    {
     "data": {
      "text/html": [
       "<pre>+---------+-------------------+------------------------------------------+</pre>"
      ],
      "text/plain": [
       "+---------+-------------------+------------------------------------------+"
      ]
     },
     "metadata": {},
     "output_type": "display_data"
    },
    {
     "data": {
      "text/html": [
       "<pre>| Final   | 0.0762195         | 0.142317                                 |</pre>"
      ],
      "text/plain": [
       "| Final   | 0.0762195         | 0.142317                                 |"
      ]
     },
     "metadata": {},
     "output_type": "display_data"
    },
    {
     "data": {
      "text/html": [
       "<pre>+---------+-------------------+------------------------------------------+</pre>"
      ],
      "text/plain": [
       "+---------+-------------------+------------------------------------------+"
      ]
     },
     "metadata": {},
     "output_type": "display_data"
    },
    {
     "data": {
      "text/html": [
       "<pre>Starting Optimization.</pre>"
      ],
      "text/plain": [
       "Starting Optimization."
      ]
     },
     "metadata": {},
     "output_type": "display_data"
    },
    {
     "data": {
      "text/html": [
       "<pre>+---------+--------------+-------------------+-----------------------+-------------+</pre>"
      ],
      "text/plain": [
       "+---------+--------------+-------------------+-----------------------+-------------+"
      ]
     },
     "metadata": {},
     "output_type": "display_data"
    },
    {
     "data": {
      "text/html": [
       "<pre>| Iter.   | Elapsed Time | Approx. Objective | Approx. Training RMSE | Step Size   |</pre>"
      ],
      "text/plain": [
       "| Iter.   | Elapsed Time | Approx. Objective | Approx. Training RMSE | Step Size   |"
      ]
     },
     "metadata": {},
     "output_type": "display_data"
    },
    {
     "data": {
      "text/html": [
       "<pre>+---------+--------------+-------------------+-----------------------+-------------+</pre>"
      ],
      "text/plain": [
       "+---------+--------------+-------------------+-----------------------+-------------+"
      ]
     },
     "metadata": {},
     "output_type": "display_data"
    },
    {
     "data": {
      "text/html": [
       "<pre>| Initial | 501us        | 1.13362           | 1.06471               |             |</pre>"
      ],
      "text/plain": [
       "| Initial | 501us        | 1.13362           | 1.06471               |             |"
      ]
     },
     "metadata": {},
     "output_type": "display_data"
    },
    {
     "data": {
      "text/html": [
       "<pre>+---------+--------------+-------------------+-----------------------+-------------+</pre>"
      ],
      "text/plain": [
       "+---------+--------------+-------------------+-----------------------+-------------+"
      ]
     },
     "metadata": {},
     "output_type": "display_data"
    },
    {
     "data": {
      "text/html": [
       "<pre>| 1       | 289.214ms    | 0.90004           | 0.948688              | 0.0762195   |</pre>"
      ],
      "text/plain": [
       "| 1       | 289.214ms    | 0.90004           | 0.948688              | 0.0762195   |"
      ]
     },
     "metadata": {},
     "output_type": "display_data"
    },
    {
     "data": {
      "text/html": [
       "<pre>| 2       | 621.951ms    | 0.579026          | 0.760916              | 0.0762195   |</pre>"
      ],
      "text/plain": [
       "| 2       | 621.951ms    | 0.579026          | 0.760916              | 0.0762195   |"
      ]
     },
     "metadata": {},
     "output_type": "display_data"
    },
    {
     "data": {
      "text/html": [
       "<pre>| 3       | 888.638ms    | 0.440058          | 0.66334               | 0.0762195   |</pre>"
      ],
      "text/plain": [
       "| 3       | 888.638ms    | 0.440058          | 0.66334               | 0.0762195   |"
      ]
     },
     "metadata": {},
     "output_type": "display_data"
    },
    {
     "data": {
      "text/html": [
       "<pre>| 4       | 1.13s        | 0.356746          | 0.597246              | 0.0762195   |</pre>"
      ],
      "text/plain": [
       "| 4       | 1.13s        | 0.356746          | 0.597246              | 0.0762195   |"
      ]
     },
     "metadata": {},
     "output_type": "display_data"
    },
    {
     "data": {
      "text/html": [
       "<pre>| 5       | 1.45s        | 0.29896           | 0.546728              | 0.0762195   |</pre>"
      ],
      "text/plain": [
       "| 5       | 1.45s        | 0.29896           | 0.546728              | 0.0762195   |"
      ]
     },
     "metadata": {},
     "output_type": "display_data"
    },
    {
     "data": {
      "text/html": [
       "<pre>| 6       | 1.71s        | 0.253861          | 0.503794              | 0.0762195   |</pre>"
      ],
      "text/plain": [
       "| 6       | 1.71s        | 0.253861          | 0.503794              | 0.0762195   |"
      ]
     },
     "metadata": {},
     "output_type": "display_data"
    },
    {
     "data": {
      "text/html": [
       "<pre>| 10      | 2.83s        | 0.149613          | 0.386709              | 0.0762195   |</pre>"
      ],
      "text/plain": [
       "| 10      | 2.83s        | 0.149613          | 0.386709              | 0.0762195   |"
      ]
     },
     "metadata": {},
     "output_type": "display_data"
    },
    {
     "data": {
      "text/html": [
       "<pre>| 11      | 3.14s        | 0.133534          | 0.365324              | 0.0762195   |</pre>"
      ],
      "text/plain": [
       "| 11      | 3.14s        | 0.133534          | 0.365324              | 0.0762195   |"
      ]
     },
     "metadata": {},
     "output_type": "display_data"
    },
    {
     "data": {
      "text/html": [
       "<pre>| 15      | 4.30s        | 0.0880508         | 0.296594              | 0.0762195   |</pre>"
      ],
      "text/plain": [
       "| 15      | 4.30s        | 0.0880508         | 0.296594              | 0.0762195   |"
      ]
     },
     "metadata": {},
     "output_type": "display_data"
    },
    {
     "data": {
      "text/html": [
       "<pre>| 20      | 5.71s        | 0.0578569         | 0.240344              | 0.0762195   |</pre>"
      ],
      "text/plain": [
       "| 20      | 5.71s        | 0.0578569         | 0.240344              | 0.0762195   |"
      ]
     },
     "metadata": {},
     "output_type": "display_data"
    },
    {
     "data": {
      "text/html": [
       "<pre>| 25      | 7.15s        | 0.0416145         | 0.203756              | 0.0762195   |</pre>"
      ],
      "text/plain": [
       "| 25      | 7.15s        | 0.0416145         | 0.203756              | 0.0762195   |"
      ]
     },
     "metadata": {},
     "output_type": "display_data"
    },
    {
     "data": {
      "text/html": [
       "<pre>| 30      | 8.26s        | 0.0326064         | 0.180289              | 0.0762195   |</pre>"
      ],
      "text/plain": [
       "| 30      | 8.26s        | 0.0326064         | 0.180289              | 0.0762195   |"
      ]
     },
     "metadata": {},
     "output_type": "display_data"
    },
    {
     "data": {
      "text/html": [
       "<pre>| 35      | 9.31s        | 0.0262197         | 0.161599              | 0.0762195   |</pre>"
      ],
      "text/plain": [
       "| 35      | 9.31s        | 0.0262197         | 0.161599              | 0.0762195   |"
      ]
     },
     "metadata": {},
     "output_type": "display_data"
    },
    {
     "data": {
      "text/html": [
       "<pre>| 40      | 10.29s       | 0.0221742         | 0.148548              | 0.0762195   |</pre>"
      ],
      "text/plain": [
       "| 40      | 10.29s       | 0.0221742         | 0.148548              | 0.0762195   |"
      ]
     },
     "metadata": {},
     "output_type": "display_data"
    },
    {
     "data": {
      "text/html": [
       "<pre>| 45      | 11.30s       | 0.0192449         | 0.13833               | 0.0762195   |</pre>"
      ],
      "text/plain": [
       "| 45      | 11.30s       | 0.0192449         | 0.13833               | 0.0762195   |"
      ]
     },
     "metadata": {},
     "output_type": "display_data"
    },
    {
     "data": {
      "text/html": [
       "<pre>| 50      | 12.28s       | 0.0170617         | 0.130195              | 0.0762195   |</pre>"
      ],
      "text/plain": [
       "| 50      | 12.28s       | 0.0170617         | 0.130195              | 0.0762195   |"
      ]
     },
     "metadata": {},
     "output_type": "display_data"
    },
    {
     "data": {
      "text/html": [
       "<pre>+---------+--------------+-------------------+-----------------------+-------------+</pre>"
      ],
      "text/plain": [
       "+---------+--------------+-------------------+-----------------------+-------------+"
      ]
     },
     "metadata": {},
     "output_type": "display_data"
    },
    {
     "data": {
      "text/html": [
       "<pre>Optimization Complete: Maximum number of passes through the data reached.</pre>"
      ],
      "text/plain": [
       "Optimization Complete: Maximum number of passes through the data reached."
      ]
     },
     "metadata": {},
     "output_type": "display_data"
    },
    {
     "data": {
      "text/html": [
       "<pre>Computing final objective value and training RMSE.</pre>"
      ],
      "text/plain": [
       "Computing final objective value and training RMSE."
      ]
     },
     "metadata": {},
     "output_type": "display_data"
    },
    {
     "data": {
      "text/html": [
       "<pre>       Final objective value: 0.0196614</pre>"
      ],
      "text/plain": [
       "       Final objective value: 0.0196614"
      ]
     },
     "metadata": {},
     "output_type": "display_data"
    },
    {
     "data": {
      "text/html": [
       "<pre>       Final training RMSE: 0.139823</pre>"
      ],
      "text/plain": [
       "       Final training RMSE: 0.139823"
      ]
     },
     "metadata": {},
     "output_type": "display_data"
    }
   ],
   "source": [
    "#Using adaptive gradient stochastic descent \n",
    "m1 = graphlab.factorization_recommender.create(train, target='rating', user_id='userId', \n",
    "                                               item_id='movieId',solver= \"adagrad\" , user_data = user_metadata, \n",
    "                                               item_data = movie_metadata, num_factors=4)"
   ]
  },
  {
   "cell_type": "code",
   "execution_count": 258,
   "metadata": {},
   "outputs": [
    {
     "data": {
      "text/html": [
       "<pre>Recsys training: model = factorization_recommender</pre>"
      ],
      "text/plain": [
       "Recsys training: model = factorization_recommender"
      ]
     },
     "metadata": {},
     "output_type": "display_data"
    },
    {
     "data": {
      "text/html": [
       "<pre>Preparing data set.</pre>"
      ],
      "text/plain": [
       "Preparing data set."
      ]
     },
     "metadata": {},
     "output_type": "display_data"
    },
    {
     "data": {
      "text/html": [
       "<pre>    Data has 80004 observations with 671 users and 9125 items.</pre>"
      ],
      "text/plain": [
       "    Data has 80004 observations with 671 users and 9125 items."
      ]
     },
     "metadata": {},
     "output_type": "display_data"
    },
    {
     "data": {
      "text/html": [
       "<pre>    Data prepared in: 0.828639s</pre>"
      ],
      "text/plain": [
       "    Data prepared in: 0.828639s"
      ]
     },
     "metadata": {},
     "output_type": "display_data"
    },
    {
     "data": {
      "text/html": [
       "<pre>Training factorization_recommender for recommendations.</pre>"
      ],
      "text/plain": [
       "Training factorization_recommender for recommendations."
      ]
     },
     "metadata": {},
     "output_type": "display_data"
    },
    {
     "data": {
      "text/html": [
       "<pre>+--------------------------------+--------------------------------------------------+----------+</pre>"
      ],
      "text/plain": [
       "+--------------------------------+--------------------------------------------------+----------+"
      ]
     },
     "metadata": {},
     "output_type": "display_data"
    },
    {
     "data": {
      "text/html": [
       "<pre>| Parameter                      | Description                                      | Value    |</pre>"
      ],
      "text/plain": [
       "| Parameter                      | Description                                      | Value    |"
      ]
     },
     "metadata": {},
     "output_type": "display_data"
    },
    {
     "data": {
      "text/html": [
       "<pre>+--------------------------------+--------------------------------------------------+----------+</pre>"
      ],
      "text/plain": [
       "+--------------------------------+--------------------------------------------------+----------+"
      ]
     },
     "metadata": {},
     "output_type": "display_data"
    },
    {
     "data": {
      "text/html": [
       "<pre>| num_factors                    | Factor Dimension                                 | 4        |</pre>"
      ],
      "text/plain": [
       "| num_factors                    | Factor Dimension                                 | 4        |"
      ]
     },
     "metadata": {},
     "output_type": "display_data"
    },
    {
     "data": {
      "text/html": [
       "<pre>| regularization                 | L2 Regularization on Factors                     | 1e-008   |</pre>"
      ],
      "text/plain": [
       "| regularization                 | L2 Regularization on Factors                     | 1e-008   |"
      ]
     },
     "metadata": {},
     "output_type": "display_data"
    },
    {
     "data": {
      "text/html": [
       "<pre>| solver                         | Solver used for training                         | sgd      |</pre>"
      ],
      "text/plain": [
       "| solver                         | Solver used for training                         | sgd      |"
      ]
     },
     "metadata": {},
     "output_type": "display_data"
    },
    {
     "data": {
      "text/html": [
       "<pre>| linear_regularization          | L2 Regularization on Linear Coefficients         | 1e-010   |</pre>"
      ],
      "text/plain": [
       "| linear_regularization          | L2 Regularization on Linear Coefficients         | 1e-010   |"
      ]
     },
     "metadata": {},
     "output_type": "display_data"
    },
    {
     "data": {
      "text/html": [
       "<pre>| side_data_factorization        | Assign Factors for Side Data                     | True     |</pre>"
      ],
      "text/plain": [
       "| side_data_factorization        | Assign Factors for Side Data                     | True     |"
      ]
     },
     "metadata": {},
     "output_type": "display_data"
    },
    {
     "data": {
      "text/html": [
       "<pre>| max_iterations                 | Maximum Number of Iterations                     | 50       |</pre>"
      ],
      "text/plain": [
       "| max_iterations                 | Maximum Number of Iterations                     | 50       |"
      ]
     },
     "metadata": {},
     "output_type": "display_data"
    },
    {
     "data": {
      "text/html": [
       "<pre>+--------------------------------+--------------------------------------------------+----------+</pre>"
      ],
      "text/plain": [
       "+--------------------------------+--------------------------------------------------+----------+"
      ]
     },
     "metadata": {},
     "output_type": "display_data"
    },
    {
     "data": {
      "text/html": [
       "<pre>  Optimizing model using SGD; tuning step size.</pre>"
      ],
      "text/plain": [
       "  Optimizing model using SGD; tuning step size."
      ]
     },
     "metadata": {},
     "output_type": "display_data"
    },
    {
     "data": {
      "text/html": [
       "<pre>  Using 10000 / 80004 points for tuning the step size.</pre>"
      ],
      "text/plain": [
       "  Using 10000 / 80004 points for tuning the step size."
      ]
     },
     "metadata": {},
     "output_type": "display_data"
    },
    {
     "data": {
      "text/html": [
       "<pre>+---------+-------------------+------------------------------------------+</pre>"
      ],
      "text/plain": [
       "+---------+-------------------+------------------------------------------+"
      ]
     },
     "metadata": {},
     "output_type": "display_data"
    },
    {
     "data": {
      "text/html": [
       "<pre>| Attempt | Initial Step Size | Estimated Objective Value                |</pre>"
      ],
      "text/plain": [
       "| Attempt | Initial Step Size | Estimated Objective Value                |"
      ]
     },
     "metadata": {},
     "output_type": "display_data"
    },
    {
     "data": {
      "text/html": [
       "<pre>+---------+-------------------+------------------------------------------+</pre>"
      ],
      "text/plain": [
       "+---------+-------------------+------------------------------------------+"
      ]
     },
     "metadata": {},
     "output_type": "display_data"
    },
    {
     "data": {
      "text/html": [
       "<pre>| 0       | 1.21951           | Not Viable                               |</pre>"
      ],
      "text/plain": [
       "| 0       | 1.21951           | Not Viable                               |"
      ]
     },
     "metadata": {},
     "output_type": "display_data"
    },
    {
     "data": {
      "text/html": [
       "<pre>| 1       | 0.304878          | Not Viable                               |</pre>"
      ],
      "text/plain": [
       "| 1       | 0.304878          | Not Viable                               |"
      ]
     },
     "metadata": {},
     "output_type": "display_data"
    },
    {
     "data": {
      "text/html": [
       "<pre>| 2       | 0.0762195         | Not Viable                               |</pre>"
      ],
      "text/plain": [
       "| 2       | 0.0762195         | Not Viable                               |"
      ]
     },
     "metadata": {},
     "output_type": "display_data"
    },
    {
     "data": {
      "text/html": [
       "<pre>| 3       | 0.0190549         | Not Viable                               |</pre>"
      ],
      "text/plain": [
       "| 3       | 0.0190549         | Not Viable                               |"
      ]
     },
     "metadata": {},
     "output_type": "display_data"
    },
    {
     "data": {
      "text/html": [
       "<pre>| 4       | 0.00476372        | 0.748272                                 |</pre>"
      ],
      "text/plain": [
       "| 4       | 0.00476372        | 0.748272                                 |"
      ]
     },
     "metadata": {},
     "output_type": "display_data"
    },
    {
     "data": {
      "text/html": [
       "<pre>| 5       | 0.00238186        | 0.801807                                 |</pre>"
      ],
      "text/plain": [
       "| 5       | 0.00238186        | 0.801807                                 |"
      ]
     },
     "metadata": {},
     "output_type": "display_data"
    },
    {
     "data": {
      "text/html": [
       "<pre>| 6       | 0.00119093        | 0.862337                                 |</pre>"
      ],
      "text/plain": [
       "| 6       | 0.00119093        | 0.862337                                 |"
      ]
     },
     "metadata": {},
     "output_type": "display_data"
    },
    {
     "data": {
      "text/html": [
       "<pre>| 7       | 0.000595465       | 0.922701                                 |</pre>"
      ],
      "text/plain": [
       "| 7       | 0.000595465       | 0.922701                                 |"
      ]
     },
     "metadata": {},
     "output_type": "display_data"
    },
    {
     "data": {
      "text/html": [
       "<pre>+---------+-------------------+------------------------------------------+</pre>"
      ],
      "text/plain": [
       "+---------+-------------------+------------------------------------------+"
      ]
     },
     "metadata": {},
     "output_type": "display_data"
    },
    {
     "data": {
      "text/html": [
       "<pre>| Final   | 0.00476372        | 0.748272                                 |</pre>"
      ],
      "text/plain": [
       "| Final   | 0.00476372        | 0.748272                                 |"
      ]
     },
     "metadata": {},
     "output_type": "display_data"
    },
    {
     "data": {
      "text/html": [
       "<pre>+---------+-------------------+------------------------------------------+</pre>"
      ],
      "text/plain": [
       "+---------+-------------------+------------------------------------------+"
      ]
     },
     "metadata": {},
     "output_type": "display_data"
    },
    {
     "data": {
      "text/html": [
       "<pre>Starting Optimization.</pre>"
      ],
      "text/plain": [
       "Starting Optimization."
      ]
     },
     "metadata": {},
     "output_type": "display_data"
    },
    {
     "data": {
      "text/html": [
       "<pre>+---------+--------------+-------------------+-----------------------+-------------+</pre>"
      ],
      "text/plain": [
       "+---------+--------------+-------------------+-----------------------+-------------+"
      ]
     },
     "metadata": {},
     "output_type": "display_data"
    },
    {
     "data": {
      "text/html": [
       "<pre>| Iter.   | Elapsed Time | Approx. Objective | Approx. Training RMSE | Step Size   |</pre>"
      ],
      "text/plain": [
       "| Iter.   | Elapsed Time | Approx. Objective | Approx. Training RMSE | Step Size   |"
      ]
     },
     "metadata": {},
     "output_type": "display_data"
    },
    {
     "data": {
      "text/html": [
       "<pre>+---------+--------------+-------------------+-----------------------+-------------+</pre>"
      ],
      "text/plain": [
       "+---------+--------------+-------------------+-----------------------+-------------+"
      ]
     },
     "metadata": {},
     "output_type": "display_data"
    },
    {
     "data": {
      "text/html": [
       "<pre>| Initial | 0us          | 1.13364           | 1.06472               |             |</pre>"
      ],
      "text/plain": [
       "| Initial | 0us          | 1.13364           | 1.06472               |             |"
      ]
     },
     "metadata": {},
     "output_type": "display_data"
    },
    {
     "data": {
      "text/html": [
       "<pre>+---------+--------------+-------------------+-----------------------+-------------+</pre>"
      ],
      "text/plain": [
       "+---------+--------------+-------------------+-----------------------+-------------+"
      ]
     },
     "metadata": {},
     "output_type": "display_data"
    },
    {
     "data": {
      "text/html": [
       "<pre>| 1       | 296.716ms    | DIVERGED          | DIVERGED              | 0.00476372  |</pre>"
      ],
      "text/plain": [
       "| 1       | 296.716ms    | DIVERGED          | DIVERGED              | 0.00476372  |"
      ]
     },
     "metadata": {},
     "output_type": "display_data"
    },
    {
     "data": {
      "text/html": [
       "<pre>| RESET   | 376.272ms    | 1.13351           | 1.06466               |             |</pre>"
      ],
      "text/plain": [
       "| RESET   | 376.272ms    | 1.13351           | 1.06466               |             |"
      ]
     },
     "metadata": {},
     "output_type": "display_data"
    },
    {
     "data": {
      "text/html": [
       "<pre>| 1       | 653.469ms    | DIVERGED          | DIVERGED              | 0.00238186  |</pre>"
      ],
      "text/plain": [
       "| 1       | 653.469ms    | DIVERGED          | DIVERGED              | 0.00238186  |"
      ]
     },
     "metadata": {},
     "output_type": "display_data"
    },
    {
     "data": {
      "text/html": [
       "<pre>| RESET   | 744.033ms    | 1.13357           | 1.06469               |             |</pre>"
      ],
      "text/plain": [
       "| RESET   | 744.033ms    | 1.13357           | 1.06469               |             |"
      ]
     },
     "metadata": {},
     "output_type": "display_data"
    },
    {
     "data": {
      "text/html": [
       "<pre>| 1       | 940.171ms    | 1.03667           | 1.01817               | 0.00119093  |</pre>"
      ],
      "text/plain": [
       "| 1       | 940.171ms    | 1.03667           | 1.01817               | 0.00119093  |"
      ]
     },
     "metadata": {},
     "output_type": "display_data"
    },
    {
     "data": {
      "text/html": [
       "<pre>| 2       | 1.09s        | 0.869429          | 0.932432              | 0.000708131 |</pre>"
      ],
      "text/plain": [
       "| 2       | 1.09s        | 0.869429          | 0.932432              | 0.000708131 |"
      ]
     },
     "metadata": {},
     "output_type": "display_data"
    },
    {
     "data": {
      "text/html": [
       "<pre>| 3       | 1.27s        | 0.83924           | 0.9161                | 0.000522451 |</pre>"
      ],
      "text/plain": [
       "| 3       | 1.27s        | 0.83924           | 0.9161                | 0.000522451 |"
      ]
     },
     "metadata": {},
     "output_type": "display_data"
    },
    {
     "data": {
      "text/html": [
       "<pre>| 4       | 1.53s        | 0.805275          | 0.897371              | 0.000421057 |</pre>"
      ],
      "text/plain": [
       "| 4       | 1.53s        | 0.805275          | 0.897371              | 0.000421057 |"
      ]
     },
     "metadata": {},
     "output_type": "display_data"
    },
    {
     "data": {
      "text/html": [
       "<pre>| 5       | 1.77s        | 0.805123          | 0.897287              | 0.000356171 |</pre>"
      ],
      "text/plain": [
       "| 5       | 1.77s        | 0.805123          | 0.897287              | 0.000356171 |"
      ]
     },
     "metadata": {},
     "output_type": "display_data"
    },
    {
     "data": {
      "text/html": [
       "<pre>| 6       | 1.95s        | 0.834335          | 0.913419              | 0.000310651 |</pre>"
      ],
      "text/plain": [
       "| 6       | 1.95s        | 0.834335          | 0.913419              | 0.000310651 |"
      ]
     },
     "metadata": {},
     "output_type": "display_data"
    },
    {
     "data": {
      "text/html": [
       "<pre>| 8       | 2.35s        | 0.772065          | 0.878672              | 0.000177033 |</pre>"
      ],
      "text/plain": [
       "| 8       | 2.35s        | 0.772065          | 0.878672              | 0.000177033 |"
      ]
     },
     "metadata": {},
     "output_type": "display_data"
    },
    {
     "data": {
      "text/html": [
       "<pre>| 11      | 2.97s        | 0.751733          | 0.867025              |             |</pre>"
      ],
      "text/plain": [
       "| 11      | 2.97s        | 0.751733          | 0.867025              |             |"
      ]
     },
     "metadata": {},
     "output_type": "display_data"
    },
    {
     "data": {
      "text/html": [
       "<pre>| 13      | 3.35s        | 0.787718          | 0.887535              |             |</pre>"
      ],
      "text/plain": [
       "| 13      | 3.35s        | 0.787718          | 0.887535              |             |"
      ]
     },
     "metadata": {},
     "output_type": "display_data"
    },
    {
     "data": {
      "text/html": [
       "<pre>| 18      | 4.34s        | 0.86531           | 0.93022               |             |</pre>"
      ],
      "text/plain": [
       "| 18      | 4.34s        | 0.86531           | 0.93022               |             |"
      ]
     },
     "metadata": {},
     "output_type": "display_data"
    },
    {
     "data": {
      "text/html": [
       "<pre>| 23      | 5.25s        | 0.881704          | 0.938991              |             |</pre>"
      ],
      "text/plain": [
       "| 23      | 5.25s        | 0.881704          | 0.938991              |             |"
      ]
     },
     "metadata": {},
     "output_type": "display_data"
    },
    {
     "data": {
      "text/html": [
       "<pre>| 28      | 5.95s        | 0.883365          | 0.939875              |             |</pre>"
      ],
      "text/plain": [
       "| 28      | 5.95s        | 0.883365          | 0.939875              |             |"
      ]
     },
     "metadata": {},
     "output_type": "display_data"
    },
    {
     "data": {
      "text/html": [
       "<pre>| 33      | 6.77s        | 0.883773          | 0.940092              |             |</pre>"
      ],
      "text/plain": [
       "| 33      | 6.77s        | 0.883773          | 0.940092              |             |"
      ]
     },
     "metadata": {},
     "output_type": "display_data"
    },
    {
     "data": {
      "text/html": [
       "<pre>| 38      | 7.46s        | 0.883501          | 0.939947              |             |</pre>"
      ],
      "text/plain": [
       "| 38      | 7.46s        | 0.883501          | 0.939947              |             |"
      ]
     },
     "metadata": {},
     "output_type": "display_data"
    },
    {
     "data": {
      "text/html": [
       "<pre>| 43      | 8.25s        | 0.883492          | 0.939942              |             |</pre>"
      ],
      "text/plain": [
       "| 43      | 8.25s        | 0.883492          | 0.939942              |             |"
      ]
     },
     "metadata": {},
     "output_type": "display_data"
    },
    {
     "data": {
      "text/html": [
       "<pre>| 48      | 9.00s        | 0.883113          | 0.939741              | 2.8691e-009 |</pre>"
      ],
      "text/plain": [
       "| 48      | 9.00s        | 0.883113          | 0.939741              | 2.8691e-009 |"
      ]
     },
     "metadata": {},
     "output_type": "display_data"
    },
    {
     "data": {
      "text/html": [
       "<pre>+---------+--------------+-------------------+-----------------------+-------------+</pre>"
      ],
      "text/plain": [
       "+---------+--------------+-------------------+-----------------------+-------------+"
      ]
     },
     "metadata": {},
     "output_type": "display_data"
    },
    {
     "data": {
      "text/html": [
       "<pre>Optimization Complete: Maximum number of passes through the data reached.</pre>"
      ],
      "text/plain": [
       "Optimization Complete: Maximum number of passes through the data reached."
      ]
     },
     "metadata": {},
     "output_type": "display_data"
    },
    {
     "data": {
      "text/html": [
       "<pre>Computing final objective value and training RMSE.</pre>"
      ],
      "text/plain": [
       "Computing final objective value and training RMSE."
      ]
     },
     "metadata": {},
     "output_type": "display_data"
    },
    {
     "data": {
      "text/html": [
       "<pre>       Final objective value: 0.882943</pre>"
      ],
      "text/plain": [
       "       Final objective value: 0.882943"
      ]
     },
     "metadata": {},
     "output_type": "display_data"
    },
    {
     "data": {
      "text/html": [
       "<pre>       Final training RMSE: 0.93965</pre>"
      ],
      "text/plain": [
       "       Final training RMSE: 0.93965"
      ]
     },
     "metadata": {},
     "output_type": "display_data"
    }
   ],
   "source": [
    "#Using stochastic gradient descent \n",
    "m2 = graphlab.factorization_recommender.create(train, target='rating', user_id='userId', item_id='movieId', \n",
    "                                               user_data = user_metadata, item_data = movie_metadata ,\n",
    "                                               solver= \"sgd\" , num_factors=4)\n"
   ]
  },
  {
   "cell_type": "code",
   "execution_count": 259,
   "metadata": {},
   "outputs": [
    {
     "data": {
      "text/html": [
       "<pre>Recsys training: model = factorization_recommender</pre>"
      ],
      "text/plain": [
       "Recsys training: model = factorization_recommender"
      ]
     },
     "metadata": {},
     "output_type": "display_data"
    },
    {
     "data": {
      "text/html": [
       "<pre>Warning: This solver currently does not support side features. Proceeding with training without side features.</pre>"
      ],
      "text/plain": [
       "Warning: This solver currently does not support side features. Proceeding with training without side features."
      ]
     },
     "metadata": {},
     "output_type": "display_data"
    },
    {
     "data": {
      "text/html": [
       "<pre>Preparing data set.</pre>"
      ],
      "text/plain": [
       "Preparing data set."
      ]
     },
     "metadata": {},
     "output_type": "display_data"
    },
    {
     "data": {
      "text/html": [
       "<pre>    Data has 80004 observations with 547 users and 7950 items.</pre>"
      ],
      "text/plain": [
       "    Data has 80004 observations with 547 users and 7950 items."
      ]
     },
     "metadata": {},
     "output_type": "display_data"
    },
    {
     "data": {
      "text/html": [
       "<pre>    Data prepared in: 0.540398s</pre>"
      ],
      "text/plain": [
       "    Data prepared in: 0.540398s"
      ]
     },
     "metadata": {},
     "output_type": "display_data"
    },
    {
     "data": {
      "text/html": [
       "<pre>Training factorization_recommender for recommendations.</pre>"
      ],
      "text/plain": [
       "Training factorization_recommender for recommendations."
      ]
     },
     "metadata": {},
     "output_type": "display_data"
    },
    {
     "data": {
      "text/html": [
       "<pre>+------------------------------+--------------------------------------------------+----------+</pre>"
      ],
      "text/plain": [
       "+------------------------------+--------------------------------------------------+----------+"
      ]
     },
     "metadata": {},
     "output_type": "display_data"
    },
    {
     "data": {
      "text/html": [
       "<pre>| Parameter                    | Description                                      | Value    |</pre>"
      ],
      "text/plain": [
       "| Parameter                    | Description                                      | Value    |"
      ]
     },
     "metadata": {},
     "output_type": "display_data"
    },
    {
     "data": {
      "text/html": [
       "<pre>+------------------------------+--------------------------------------------------+----------+</pre>"
      ],
      "text/plain": [
       "+------------------------------+--------------------------------------------------+----------+"
      ]
     },
     "metadata": {},
     "output_type": "display_data"
    },
    {
     "data": {
      "text/html": [
       "<pre>| num_factors                  | Factor Dimension                                 | 4        |</pre>"
      ],
      "text/plain": [
       "| num_factors                  | Factor Dimension                                 | 4        |"
      ]
     },
     "metadata": {},
     "output_type": "display_data"
    },
    {
     "data": {
      "text/html": [
       "<pre>| regularization               | L2 Regularization on Factors                     | 1e-008   |</pre>"
      ],
      "text/plain": [
       "| regularization               | L2 Regularization on Factors                     | 1e-008   |"
      ]
     },
     "metadata": {},
     "output_type": "display_data"
    },
    {
     "data": {
      "text/html": [
       "<pre>| max_iterations               | Maximum Number of Iterations                     | 50       |</pre>"
      ],
      "text/plain": [
       "| max_iterations               | Maximum Number of Iterations                     | 50       |"
      ]
     },
     "metadata": {},
     "output_type": "display_data"
    },
    {
     "data": {
      "text/html": [
       "<pre>| solver                       | Solver used for training                         | als      |</pre>"
      ],
      "text/plain": [
       "| solver                       | Solver used for training                         | als      |"
      ]
     },
     "metadata": {},
     "output_type": "display_data"
    },
    {
     "data": {
      "text/html": [
       "<pre>+------------------------------+--------------------------------------------------+----------+</pre>"
      ],
      "text/plain": [
       "+------------------------------+--------------------------------------------------+----------+"
      ]
     },
     "metadata": {},
     "output_type": "display_data"
    },
    {
     "data": {
      "text/html": [
       "<pre>+---------+--------------+------------------------+</pre>"
      ],
      "text/plain": [
       "+---------+--------------+------------------------+"
      ]
     },
     "metadata": {},
     "output_type": "display_data"
    },
    {
     "data": {
      "text/html": [
       "<pre>| Iter.   | Elapsed time | RMSE                   |</pre>"
      ],
      "text/plain": [
       "| Iter.   | Elapsed time | RMSE                   |"
      ]
     },
     "metadata": {},
     "output_type": "display_data"
    },
    {
     "data": {
      "text/html": [
       "<pre>+---------+--------------+------------------------+</pre>"
      ],
      "text/plain": [
       "+---------+--------------+------------------------+"
      ]
     },
     "metadata": {},
     "output_type": "display_data"
    },
    {
     "data": {
      "text/html": [
       "<pre>| Initial | 0us          | NA                     |</pre>"
      ],
      "text/plain": [
       "| Initial | 0us          | NA                     |"
      ]
     },
     "metadata": {},
     "output_type": "display_data"
    },
    {
     "data": {
      "text/html": [
       "<pre>+---------+--------------+------------------------+</pre>"
      ],
      "text/plain": [
       "+---------+--------------+------------------------+"
      ]
     },
     "metadata": {},
     "output_type": "display_data"
    },
    {
     "data": {
      "text/html": [
       "<pre>| 0       | 160.124ms    | 0.868927               |</pre>"
      ],
      "text/plain": [
       "| 0       | 160.124ms    | 0.868927               |"
      ]
     },
     "metadata": {},
     "output_type": "display_data"
    },
    {
     "data": {
      "text/html": [
       "<pre>| 1       | 234.176ms    | 0.828776               |</pre>"
      ],
      "text/plain": [
       "| 1       | 234.176ms    | 0.828776               |"
      ]
     },
     "metadata": {},
     "output_type": "display_data"
    },
    {
     "data": {
      "text/html": [
       "<pre>| 2       | 318.736ms    | 0.809089               |</pre>"
      ],
      "text/plain": [
       "| 2       | 318.736ms    | 0.809089               |"
      ]
     },
     "metadata": {},
     "output_type": "display_data"
    },
    {
     "data": {
      "text/html": [
       "<pre>| 3       | 397.292ms    | 0.796711               |</pre>"
      ],
      "text/plain": [
       "| 3       | 397.292ms    | 0.796711               |"
      ]
     },
     "metadata": {},
     "output_type": "display_data"
    },
    {
     "data": {
      "text/html": [
       "<pre>| 4       | 479.351ms    | 0.786859               |</pre>"
      ],
      "text/plain": [
       "| 4       | 479.351ms    | 0.786859               |"
      ]
     },
     "metadata": {},
     "output_type": "display_data"
    },
    {
     "data": {
      "text/html": [
       "<pre>| 5       | 561.407ms    | 0.777935               |</pre>"
      ],
      "text/plain": [
       "| 5       | 561.407ms    | 0.777935               |"
      ]
     },
     "metadata": {},
     "output_type": "display_data"
    },
    {
     "data": {
      "text/html": [
       "<pre>| 6       | 634.46ms     | 0.770774               |</pre>"
      ],
      "text/plain": [
       "| 6       | 634.46ms     | 0.770774               |"
      ]
     },
     "metadata": {},
     "output_type": "display_data"
    },
    {
     "data": {
      "text/html": [
       "<pre>| 7       | 718.019ms    | 0.764788               |</pre>"
      ],
      "text/plain": [
       "| 7       | 718.019ms    | 0.764788               |"
      ]
     },
     "metadata": {},
     "output_type": "display_data"
    },
    {
     "data": {
      "text/html": [
       "<pre>| 8       | 803.08ms     | 0.759848               |</pre>"
      ],
      "text/plain": [
       "| 8       | 803.08ms     | 0.759848               |"
      ]
     },
     "metadata": {},
     "output_type": "display_data"
    },
    {
     "data": {
      "text/html": [
       "<pre>| 9       | 908.153ms    | 0.756008               |</pre>"
      ],
      "text/plain": [
       "| 9       | 908.153ms    | 0.756008               |"
      ]
     },
     "metadata": {},
     "output_type": "display_data"
    },
    {
     "data": {
      "text/html": [
       "<pre>| 10      | 1.01s        | 0.752738               |</pre>"
      ],
      "text/plain": [
       "| 10      | 1.01s        | 0.752738               |"
      ]
     },
     "metadata": {},
     "output_type": "display_data"
    },
    {
     "data": {
      "text/html": [
       "<pre>| 11      | 1.09s        | 0.749811               |</pre>"
      ],
      "text/plain": [
       "| 11      | 1.09s        | 0.749811               |"
      ]
     },
     "metadata": {},
     "output_type": "display_data"
    },
    {
     "data": {
      "text/html": [
       "<pre>| 12      | 1.18s        | 0.747065               |</pre>"
      ],
      "text/plain": [
       "| 12      | 1.18s        | 0.747065               |"
      ]
     },
     "metadata": {},
     "output_type": "display_data"
    },
    {
     "data": {
      "text/html": [
       "<pre>| 13      | 1.26s        | 0.744589               |</pre>"
      ],
      "text/plain": [
       "| 13      | 1.26s        | 0.744589               |"
      ]
     },
     "metadata": {},
     "output_type": "display_data"
    },
    {
     "data": {
      "text/html": [
       "<pre>| 14      | 1.34s        | 0.742308               |</pre>"
      ],
      "text/plain": [
       "| 14      | 1.34s        | 0.742308               |"
      ]
     },
     "metadata": {},
     "output_type": "display_data"
    },
    {
     "data": {
      "text/html": [
       "<pre>| 15      | 1.42s        | 0.740174               |</pre>"
      ],
      "text/plain": [
       "| 15      | 1.42s        | 0.740174               |"
      ]
     },
     "metadata": {},
     "output_type": "display_data"
    },
    {
     "data": {
      "text/html": [
       "<pre>| 16      | 1.51s        | 0.738229               |</pre>"
      ],
      "text/plain": [
       "| 16      | 1.51s        | 0.738229               |"
      ]
     },
     "metadata": {},
     "output_type": "display_data"
    },
    {
     "data": {
      "text/html": [
       "<pre>| 17      | 1.61s        | 0.736685               |</pre>"
      ],
      "text/plain": [
       "| 17      | 1.61s        | 0.736685               |"
      ]
     },
     "metadata": {},
     "output_type": "display_data"
    },
    {
     "data": {
      "text/html": [
       "<pre>| 18      | 1.71s        | 0.735423               |</pre>"
      ],
      "text/plain": [
       "| 18      | 1.71s        | 0.735423               |"
      ]
     },
     "metadata": {},
     "output_type": "display_data"
    },
    {
     "data": {
      "text/html": [
       "<pre>| 19      | 1.80s        | 0.734196               |</pre>"
      ],
      "text/plain": [
       "| 19      | 1.80s        | 0.734196               |"
      ]
     },
     "metadata": {},
     "output_type": "display_data"
    },
    {
     "data": {
      "text/html": [
       "<pre>| 20      | 1.88s        | 0.733147               |</pre>"
      ],
      "text/plain": [
       "| 20      | 1.88s        | 0.733147               |"
      ]
     },
     "metadata": {},
     "output_type": "display_data"
    },
    {
     "data": {
      "text/html": [
       "<pre>| 21      | 1.95s        | 0.732162               |</pre>"
      ],
      "text/plain": [
       "| 21      | 1.95s        | 0.732162               |"
      ]
     },
     "metadata": {},
     "output_type": "display_data"
    },
    {
     "data": {
      "text/html": [
       "<pre>| 22      | 2.04s        | 0.731219               |</pre>"
      ],
      "text/plain": [
       "| 22      | 2.04s        | 0.731219               |"
      ]
     },
     "metadata": {},
     "output_type": "display_data"
    },
    {
     "data": {
      "text/html": [
       "<pre>| 23      | 2.12s        | 0.730364               |</pre>"
      ],
      "text/plain": [
       "| 23      | 2.12s        | 0.730364               |"
      ]
     },
     "metadata": {},
     "output_type": "display_data"
    },
    {
     "data": {
      "text/html": [
       "<pre>| 24      | 2.22s        | 0.729586               |</pre>"
      ],
      "text/plain": [
       "| 24      | 2.22s        | 0.729586               |"
      ]
     },
     "metadata": {},
     "output_type": "display_data"
    },
    {
     "data": {
      "text/html": [
       "<pre>| 25      | 2.33s        | 0.728882               |</pre>"
      ],
      "text/plain": [
       "| 25      | 2.33s        | 0.728882               |"
      ]
     },
     "metadata": {},
     "output_type": "display_data"
    },
    {
     "data": {
      "text/html": [
       "<pre>| 26      | 2.43s        | 0.728234               |</pre>"
      ],
      "text/plain": [
       "| 26      | 2.43s        | 0.728234               |"
      ]
     },
     "metadata": {},
     "output_type": "display_data"
    },
    {
     "data": {
      "text/html": [
       "<pre>| 27      | 2.51s        | 0.727602               |</pre>"
      ],
      "text/plain": [
       "| 27      | 2.51s        | 0.727602               |"
      ]
     },
     "metadata": {},
     "output_type": "display_data"
    },
    {
     "data": {
      "text/html": [
       "<pre>| 28      | 2.59s        | 0.727009               |</pre>"
      ],
      "text/plain": [
       "| 28      | 2.59s        | 0.727009               |"
      ]
     },
     "metadata": {},
     "output_type": "display_data"
    },
    {
     "data": {
      "text/html": [
       "<pre>| 29      | 2.67s        | 0.726458               |</pre>"
      ],
      "text/plain": [
       "| 29      | 2.67s        | 0.726458               |"
      ]
     },
     "metadata": {},
     "output_type": "display_data"
    },
    {
     "data": {
      "text/html": [
       "<pre>| 30      | 2.76s        | 0.725954               |</pre>"
      ],
      "text/plain": [
       "| 30      | 2.76s        | 0.725954               |"
      ]
     },
     "metadata": {},
     "output_type": "display_data"
    },
    {
     "data": {
      "text/html": [
       "<pre>| 31      | 2.86s        | 0.725493               |</pre>"
      ],
      "text/plain": [
       "| 31      | 2.86s        | 0.725493               |"
      ]
     },
     "metadata": {},
     "output_type": "display_data"
    },
    {
     "data": {
      "text/html": [
       "<pre>| 32      | 2.96s        | 0.725027               |</pre>"
      ],
      "text/plain": [
       "| 32      | 2.96s        | 0.725027               |"
      ]
     },
     "metadata": {},
     "output_type": "display_data"
    },
    {
     "data": {
      "text/html": [
       "<pre>| 33      | 3.06s        | 0.724625               |</pre>"
      ],
      "text/plain": [
       "| 33      | 3.06s        | 0.724625               |"
      ]
     },
     "metadata": {},
     "output_type": "display_data"
    },
    {
     "data": {
      "text/html": [
       "<pre>| 34      | 3.13s        | 0.724242               |</pre>"
      ],
      "text/plain": [
       "| 34      | 3.13s        | 0.724242               |"
      ]
     },
     "metadata": {},
     "output_type": "display_data"
    },
    {
     "data": {
      "text/html": [
       "<pre>| 35      | 3.21s        | 0.723861               |</pre>"
      ],
      "text/plain": [
       "| 35      | 3.21s        | 0.723861               |"
      ]
     },
     "metadata": {},
     "output_type": "display_data"
    },
    {
     "data": {
      "text/html": [
       "<pre>| 36      | 3.30s        | 0.723487               |</pre>"
      ],
      "text/plain": [
       "| 36      | 3.30s        | 0.723487               |"
      ]
     },
     "metadata": {},
     "output_type": "display_data"
    },
    {
     "data": {
      "text/html": [
       "<pre>| 37      | 3.39s        | 0.723113               |</pre>"
      ],
      "text/plain": [
       "| 37      | 3.39s        | 0.723113               |"
      ]
     },
     "metadata": {},
     "output_type": "display_data"
    },
    {
     "data": {
      "text/html": [
       "<pre>| 38      | 3.47s        | 0.72276                |</pre>"
      ],
      "text/plain": [
       "| 38      | 3.47s        | 0.72276                |"
      ]
     },
     "metadata": {},
     "output_type": "display_data"
    },
    {
     "data": {
      "text/html": [
       "<pre>| 39      | 3.56s        | 0.722421               |</pre>"
      ],
      "text/plain": [
       "| 39      | 3.56s        | 0.722421               |"
      ]
     },
     "metadata": {},
     "output_type": "display_data"
    },
    {
     "data": {
      "text/html": [
       "<pre>| 40      | 3.64s        | 0.722084               |</pre>"
      ],
      "text/plain": [
       "| 40      | 3.64s        | 0.722084               |"
      ]
     },
     "metadata": {},
     "output_type": "display_data"
    },
    {
     "data": {
      "text/html": [
       "<pre>| 41      | 3.72s        | 0.721749               |</pre>"
      ],
      "text/plain": [
       "| 41      | 3.72s        | 0.721749               |"
      ]
     },
     "metadata": {},
     "output_type": "display_data"
    },
    {
     "data": {
      "text/html": [
       "<pre>| 42      | 3.80s        | 0.721404               |</pre>"
      ],
      "text/plain": [
       "| 42      | 3.80s        | 0.721404               |"
      ]
     },
     "metadata": {},
     "output_type": "display_data"
    },
    {
     "data": {
      "text/html": [
       "<pre>| 43      | 3.89s        | 0.721039               |</pre>"
      ],
      "text/plain": [
       "| 43      | 3.89s        | 0.721039               |"
      ]
     },
     "metadata": {},
     "output_type": "display_data"
    },
    {
     "data": {
      "text/html": [
       "<pre>| 44      | 3.99s        | 0.720682               |</pre>"
      ],
      "text/plain": [
       "| 44      | 3.99s        | 0.720682               |"
      ]
     },
     "metadata": {},
     "output_type": "display_data"
    },
    {
     "data": {
      "text/html": [
       "<pre>| 45      | 4.08s        | 0.720287               |</pre>"
      ],
      "text/plain": [
       "| 45      | 4.08s        | 0.720287               |"
      ]
     },
     "metadata": {},
     "output_type": "display_data"
    },
    {
     "data": {
      "text/html": [
       "<pre>| 46      | 4.15s        | 0.719848               |</pre>"
      ],
      "text/plain": [
       "| 46      | 4.15s        | 0.719848               |"
      ]
     },
     "metadata": {},
     "output_type": "display_data"
    },
    {
     "data": {
      "text/html": [
       "<pre>| 47      | 4.23s        | 0.719476               |</pre>"
      ],
      "text/plain": [
       "| 47      | 4.23s        | 0.719476               |"
      ]
     },
     "metadata": {},
     "output_type": "display_data"
    },
    {
     "data": {
      "text/html": [
       "<pre>| 48      | 4.31s        | 0.719109               |</pre>"
      ],
      "text/plain": [
       "| 48      | 4.31s        | 0.719109               |"
      ]
     },
     "metadata": {},
     "output_type": "display_data"
    },
    {
     "data": {
      "text/html": [
       "<pre>| 49      | 4.39s        | 0.718778               |</pre>"
      ],
      "text/plain": [
       "| 49      | 4.39s        | 0.718778               |"
      ]
     },
     "metadata": {},
     "output_type": "display_data"
    },
    {
     "data": {
      "text/html": [
       "<pre>| FINAL   | 4.39s        | 0.718778               |</pre>"
      ],
      "text/plain": [
       "| FINAL   | 4.39s        | 0.718778               |"
      ]
     },
     "metadata": {},
     "output_type": "display_data"
    },
    {
     "data": {
      "text/html": [
       "<pre>+---------+--------------+------------------------+</pre>"
      ],
      "text/plain": [
       "+---------+--------------+------------------------+"
      ]
     },
     "metadata": {},
     "output_type": "display_data"
    },
    {
     "data": {
      "text/html": [
       "<pre>Optimization Complete: Iteration limit reached.</pre>"
      ],
      "text/plain": [
       "Optimization Complete: Iteration limit reached."
      ]
     },
     "metadata": {},
     "output_type": "display_data"
    }
   ],
   "source": [
    "#Using Implicit Alternating Least Squares \n",
    "m3 = graphlab.factorization_recommender.create(train, target='rating', user_id='userId',\n",
    "                                               item_id='movieId',solver= \"als\" ,user_data = user_metadata,\n",
    "                                               item_data = movie_metadata , num_factors=4)\n"
   ]
  },
  {
   "cell_type": "markdown",
   "metadata": {},
   "source": [
    "Comparing the performance of the three models on the test data, to finalize the approach"
   ]
  },
  {
   "cell_type": "code",
   "execution_count": 304,
   "metadata": {},
   "outputs": [
    {
     "name": "stdout",
     "output_type": "stream",
     "text": [
      "PROGRESS: Evaluate model M0\n",
      "\n",
      "Precision and recall summary statistics by cutoff\n",
      "+--------+------------------+-------------------+\n",
      "| cutoff |  mean_precision  |    mean_recall    |\n",
      "+--------+------------------+-------------------+\n",
      "|   1    |       0.0        |        0.0        |\n",
      "|   2    |      0.004       | 9.75609756098e-06 |\n",
      "|   3    | 0.00266666666667 | 9.75609756098e-06 |\n",
      "|   4    |      0.006       | 0.000248083623693 |\n",
      "|   5    |      0.0048      | 0.000248083623693 |\n",
      "|   6    |      0.004       | 0.000248083623693 |\n",
      "|   7    | 0.00342857142857 | 0.000248083623693 |\n",
      "|   8    |      0.004       | 0.000257839721254 |\n",
      "|   9    | 0.00355555555556 | 0.000257839721254 |\n",
      "|   10   |      0.0032      | 0.000257839721254 |\n",
      "+--------+------------------+-------------------+\n",
      "[10 rows x 3 columns]\n",
      "\n",
      "PROGRESS: Evaluate model M1\n",
      "\n",
      "Precision and recall summary statistics by cutoff\n",
      "+--------+-----------------+-------------------+\n",
      "| cutoff |  mean_precision |    mean_recall    |\n",
      "+--------+-----------------+-------------------+\n",
      "|   1    |       0.0       |        0.0        |\n",
      "|   2    |      0.008      | 0.000425651867512 |\n",
      "|   3    | 0.0186666666667 | 0.000654588427343 |\n",
      "|   4    |      0.018      | 0.000794792598691 |\n",
      "|   5    |      0.016      | 0.000799403549699 |\n",
      "|   6    | 0.0133333333333 | 0.000799403549699 |\n",
      "|   7    | 0.0137142857143 |  0.00103773107583 |\n",
      "|   8    |      0.012      |  0.00103773107583 |\n",
      "|   9    | 0.0115555555556 |  0.00104748717339 |\n",
      "|   10   |      0.0104     |  0.00104748717339 |\n",
      "+--------+-----------------+-------------------+\n",
      "[10 rows x 3 columns]\n",
      "\n",
      "PROGRESS: Evaluate model M2\n",
      "\n",
      "Precision and recall summary statistics by cutoff\n",
      "+--------+------------------+-------------------+\n",
      "| cutoff |  mean_precision  |    mean_recall    |\n",
      "+--------+------------------+-------------------+\n",
      "|   1    |       0.0        |        0.0        |\n",
      "|   2    |      0.004       | 4.61095100865e-06 |\n",
      "|   3    | 0.00533333333333 | 9.22190201729e-06 |\n",
      "|   4    |      0.008       | 2.92471112148e-05 |\n",
      "|   5    |      0.0064      | 2.92471112148e-05 |\n",
      "|   6    |      0.008       | 8.03696901304e-05 |\n",
      "|   7    |      0.008       |  8.4980641139e-05 |\n",
      "|   8    |      0.007       |  8.4980641139e-05 |\n",
      "|   9    | 0.00622222222222 |  8.4980641139e-05 |\n",
      "|   10   |      0.0064      | 8.95915921477e-05 |\n",
      "+--------+------------------+-------------------+\n",
      "[10 rows x 3 columns]\n",
      "\n",
      "Model compare metric: precision_recall\n"
     ]
    }
   ],
   "source": [
    "model_comp1 = graphlab.compare(test, [m1,m2,m3],target='rating')\n",
    "model_comp1_df = model_comp1.to_dataframe()"
   ]
  },
  {
   "cell_type": "markdown",
   "metadata": {},
   "source": [
    "Comparing the models with varying solver paramaters:"
   ]
  },
  {
   "cell_type": "code",
   "execution_count": 305,
   "metadata": {
    "scrolled": true
   },
   "outputs": [
    {
     "name": "stdout",
     "output_type": "stream",
     "text": [
      "PROGRESS: Evaluate model M0\n",
      "\n",
      "Precision and recall summary statistics by cutoff\n",
      "+--------+------------------+-------------------+\n",
      "| cutoff |  mean_precision  |    mean_recall    |\n",
      "+--------+------------------+-------------------+\n",
      "|   1    |       0.0        |        0.0        |\n",
      "|   2    |      0.004       | 9.75609756098e-06 |\n",
      "|   3    | 0.00266666666667 | 9.75609756098e-06 |\n",
      "|   4    |      0.006       | 0.000248083623693 |\n",
      "|   5    |      0.0048      | 0.000248083623693 |\n",
      "|   6    |      0.004       | 0.000248083623693 |\n",
      "|   7    | 0.00342857142857 | 0.000248083623693 |\n",
      "|   8    |      0.004       | 0.000257839721254 |\n",
      "|   9    | 0.00355555555556 | 0.000257839721254 |\n",
      "|   10   |      0.0032      | 0.000257839721254 |\n",
      "+--------+------------------+-------------------+\n",
      "[10 rows x 3 columns]\n",
      "\n",
      "PROGRESS: Evaluate model M1\n",
      "\n",
      "Precision and recall summary statistics by cutoff\n",
      "+--------+-----------------+-------------------+\n",
      "| cutoff |  mean_precision |    mean_recall    |\n",
      "+--------+-----------------+-------------------+\n",
      "|   1    |       0.0       |        0.0        |\n",
      "|   2    |      0.008      | 0.000425651867512 |\n",
      "|   3    | 0.0186666666667 | 0.000654588427343 |\n",
      "|   4    |      0.018      | 0.000794792598691 |\n",
      "|   5    |      0.016      | 0.000799403549699 |\n",
      "|   6    | 0.0133333333333 | 0.000799403549699 |\n",
      "|   7    | 0.0137142857143 |  0.00103773107583 |\n",
      "|   8    |      0.012      |  0.00103773107583 |\n",
      "|   9    | 0.0115555555556 |  0.00104748717339 |\n",
      "|   10   |      0.0104     |  0.00104748717339 |\n",
      "+--------+-----------------+-------------------+\n",
      "[10 rows x 3 columns]\n",
      "\n",
      "PROGRESS: Evaluate model M2\n",
      "\n",
      "Precision and recall summary statistics by cutoff\n",
      "+--------+------------------+-------------------+\n",
      "| cutoff |  mean_precision  |    mean_recall    |\n",
      "+--------+------------------+-------------------+\n",
      "|   1    |       0.0        |        0.0        |\n",
      "|   2    |      0.004       | 4.61095100865e-06 |\n",
      "|   3    | 0.00533333333333 | 9.22190201729e-06 |\n",
      "|   4    |      0.008       | 2.92471112148e-05 |\n",
      "|   5    |      0.0064      | 2.92471112148e-05 |\n",
      "|   6    |      0.008       | 8.03696901304e-05 |\n",
      "|   7    |      0.008       |  8.4980641139e-05 |\n",
      "|   8    |      0.007       |  8.4980641139e-05 |\n",
      "|   9    | 0.00622222222222 |  8.4980641139e-05 |\n",
      "|   10   |      0.0064      | 8.95915921477e-05 |\n",
      "+--------+------------------+-------------------+\n",
      "[10 rows x 3 columns]\n",
      "\n",
      "Model compare metric: precision_recall\n"
     ]
    },
    {
     "data": {
      "image/png": "[encoded data removed]",
      "text/plain": [
       "<matplotlib.figure.Figure at 0xa9381748>"
      ]
     },
     "metadata": {},
     "output_type": "display_data"
    }
   ],
   "source": [
    "model_comp1 = graphlab.compare(test, [m1,m2,m3],target='rating')\n",
    "model_comp1_df = model_comp1.to_dataframe()\n",
    "\n",
    "fig, ax = plt.subplots(1, 1)\n",
    "for i in range(0,len(model_comp1_df.index)):\n",
    "    xy_dict= model_comp1_df.loc[i,\"results\"]['precision_recall']\n",
    "    xy = pd.DataFrame(xy_dict)        \n",
    "    if i ==0 :\n",
    "        label1= \"adaptive gradient decent\"\n",
    "    if i ==1 :\n",
    "        label1= \"stochastic gradient descent\"\n",
    "    if i==2 :\n",
    "        label1= \"alternating least squares\"\n",
    "        \n",
    "    xy.plot(x='recall',y= 'precision',ax=ax,label=label1)  \n",
    "    \n",
    "plt.show()\n"
   ]
  },
  {
   "cell_type": "code",
   "execution_count": 306,
   "metadata": {},
   "outputs": [
    {
     "name": "stdout",
     "output_type": "stream",
     "text": [
      "                         model      rmse\n",
      "0    adaptive gradient descent  0.997656\n",
      "1  stochastic gradient descent  1.379256\n",
      "2    alternating least squares  5.258273\n"
     ]
    },
    {
     "data": {
      "image/png": "[encoded data removed]",
      "text/plain": [
       "<matplotlib.figure.Figure at 0x26fa9ef0>"
      ]
     },
     "metadata": {},
     "output_type": "display_data"
    }
   ],
   "source": [
    "model_comp1 =graphlab.recommender.util.compare_models(test, [m1,m2,m3], model_names=None,\n",
    "                                         user_sample=1.0, metric='rmse',\n",
    "                                         target='rating', exclude_known_for_precision_recall=True, \n",
    "                                         make_plot=False, verbose=False)\n",
    "rmse_data = {'model':['adaptive gradient descent','stochastic gradient descent','alternating least squares'], 'rmse':[]}\n",
    "for i in range(0,len(model_comp1)):\n",
    "    rmse_data['rmse'].append(model_comp1[i]['rmse_overall'])\n",
    "    \n",
    "\n",
    "rmse_df=pd.DataFrame(rmse_data)\n",
    "rmse_df.plot(x='model',y='rmse')\n",
    "print(rmse_df)\n",
    "plt.show()"
   ]
  },
  {
   "cell_type": "markdown",
   "metadata": {},
   "source": [
    "As per the results above, the Model with solver as Stochastic Gradient Descent(SGD) has the best performance with highest area under the curve in the \"precision-recall\" curve and an rmse of 1.37 . Therefore we set the solver to be SGD"
   ]
  },
  {
   "cell_type": "markdown",
   "metadata": {},
   "source": [
    "Tuning model performance for different values of the Regularization parameter:"
   ]
  },
  {
   "cell_type": "code",
   "execution_count": 310,
   "metadata": {},
   "outputs": [
    {
     "data": {
      "text/html": [
       "<pre>Recsys training: model = factorization_recommender</pre>"
      ],
      "text/plain": [
       "Recsys training: model = factorization_recommender"
      ]
     },
     "metadata": {},
     "output_type": "display_data"
    },
    {
     "data": {
      "text/html": [
       "<pre>Preparing data set.</pre>"
      ],
      "text/plain": [
       "Preparing data set."
      ]
     },
     "metadata": {},
     "output_type": "display_data"
    },
    {
     "data": {
      "text/html": [
       "<pre>    Data has 80004 observations with 671 users and 9125 items.</pre>"
      ],
      "text/plain": [
       "    Data has 80004 observations with 671 users and 9125 items."
      ]
     },
     "metadata": {},
     "output_type": "display_data"
    },
    {
     "data": {
      "text/html": [
       "<pre>    Data prepared in: 0.912698s</pre>"
      ],
      "text/plain": [
       "    Data prepared in: 0.912698s"
      ]
     },
     "metadata": {},
     "output_type": "display_data"
    },
    {
     "data": {
      "text/html": [
       "<pre>Training factorization_recommender for recommendations.</pre>"
      ],
      "text/plain": [
       "Training factorization_recommender for recommendations."
      ]
     },
     "metadata": {},
     "output_type": "display_data"
    },
    {
     "data": {
      "text/html": [
       "<pre>+--------------------------------+--------------------------------------------------+----------+</pre>"
      ],
      "text/plain": [
       "+--------------------------------+--------------------------------------------------+----------+"
      ]
     },
     "metadata": {},
     "output_type": "display_data"
    },
    {
     "data": {
      "text/html": [
       "<pre>| Parameter                      | Description                                      | Value    |</pre>"
      ],
      "text/plain": [
       "| Parameter                      | Description                                      | Value    |"
      ]
     },
     "metadata": {},
     "output_type": "display_data"
    },
    {
     "data": {
      "text/html": [
       "<pre>+--------------------------------+--------------------------------------------------+----------+</pre>"
      ],
      "text/plain": [
       "+--------------------------------+--------------------------------------------------+----------+"
      ]
     },
     "metadata": {},
     "output_type": "display_data"
    },
    {
     "data": {
      "text/html": [
       "<pre>| num_factors                    | Factor Dimension                                 | 4        |</pre>"
      ],
      "text/plain": [
       "| num_factors                    | Factor Dimension                                 | 4        |"
      ]
     },
     "metadata": {},
     "output_type": "display_data"
    },
    {
     "data": {
      "text/html": [
       "<pre>| regularization                 | L2 Regularization on Factors                     | 1e-008   |</pre>"
      ],
      "text/plain": [
       "| regularization                 | L2 Regularization on Factors                     | 1e-008   |"
      ]
     },
     "metadata": {},
     "output_type": "display_data"
    },
    {
     "data": {
      "text/html": [
       "<pre>| solver                         | Solver used for training                         | sgd      |</pre>"
      ],
      "text/plain": [
       "| solver                         | Solver used for training                         | sgd      |"
      ]
     },
     "metadata": {},
     "output_type": "display_data"
    },
    {
     "data": {
      "text/html": [
       "<pre>| linear_regularization          | L2 Regularization on Linear Coefficients         | 1e-010   |</pre>"
      ],
      "text/plain": [
       "| linear_regularization          | L2 Regularization on Linear Coefficients         | 1e-010   |"
      ]
     },
     "metadata": {},
     "output_type": "display_data"
    },
    {
     "data": {
      "text/html": [
       "<pre>| side_data_factorization        | Assign Factors for Side Data                     | True     |</pre>"
      ],
      "text/plain": [
       "| side_data_factorization        | Assign Factors for Side Data                     | True     |"
      ]
     },
     "metadata": {},
     "output_type": "display_data"
    },
    {
     "data": {
      "text/html": [
       "<pre>| max_iterations                 | Maximum Number of Iterations                     | 50       |</pre>"
      ],
      "text/plain": [
       "| max_iterations                 | Maximum Number of Iterations                     | 50       |"
      ]
     },
     "metadata": {},
     "output_type": "display_data"
    },
    {
     "data": {
      "text/html": [
       "<pre>+--------------------------------+--------------------------------------------------+----------+</pre>"
      ],
      "text/plain": [
       "+--------------------------------+--------------------------------------------------+----------+"
      ]
     },
     "metadata": {},
     "output_type": "display_data"
    },
    {
     "data": {
      "text/html": [
       "<pre>  Optimizing model using SGD; tuning step size.</pre>"
      ],
      "text/plain": [
       "  Optimizing model using SGD; tuning step size."
      ]
     },
     "metadata": {},
     "output_type": "display_data"
    },
    {
     "data": {
      "text/html": [
       "<pre>  Using 10000 / 80004 points for tuning the step size.</pre>"
      ],
      "text/plain": [
       "  Using 10000 / 80004 points for tuning the step size."
      ]
     },
     "metadata": {},
     "output_type": "display_data"
    },
    {
     "data": {
      "text/html": [
       "<pre>+---------+-------------------+------------------------------------------+</pre>"
      ],
      "text/plain": [
       "+---------+-------------------+------------------------------------------+"
      ]
     },
     "metadata": {},
     "output_type": "display_data"
    },
    {
     "data": {
      "text/html": [
       "<pre>| Attempt | Initial Step Size | Estimated Objective Value                |</pre>"
      ],
      "text/plain": [
       "| Attempt | Initial Step Size | Estimated Objective Value                |"
      ]
     },
     "metadata": {},
     "output_type": "display_data"
    },
    {
     "data": {
      "text/html": [
       "<pre>+---------+-------------------+------------------------------------------+</pre>"
      ],
      "text/plain": [
       "+---------+-------------------+------------------------------------------+"
      ]
     },
     "metadata": {},
     "output_type": "display_data"
    },
    {
     "data": {
      "text/html": [
       "<pre>| 0       | 1.21951           | Not Viable                               |</pre>"
      ],
      "text/plain": [
       "| 0       | 1.21951           | Not Viable                               |"
      ]
     },
     "metadata": {},
     "output_type": "display_data"
    },
    {
     "data": {
      "text/html": [
       "<pre>| 1       | 0.304878          | Not Viable                               |</pre>"
      ],
      "text/plain": [
       "| 1       | 0.304878          | Not Viable                               |"
      ]
     },
     "metadata": {},
     "output_type": "display_data"
    },
    {
     "data": {
      "text/html": [
       "<pre>| 2       | 0.0762195         | Not Viable                               |</pre>"
      ],
      "text/plain": [
       "| 2       | 0.0762195         | Not Viable                               |"
      ]
     },
     "metadata": {},
     "output_type": "display_data"
    },
    {
     "data": {
      "text/html": [
       "<pre>| 3       | 0.0190549         | Not Viable                               |</pre>"
      ],
      "text/plain": [
       "| 3       | 0.0190549         | Not Viable                               |"
      ]
     },
     "metadata": {},
     "output_type": "display_data"
    },
    {
     "data": {
      "text/html": [
       "<pre>| 4       | 0.00476372        | 0.746401                                 |</pre>"
      ],
      "text/plain": [
       "| 4       | 0.00476372        | 0.746401                                 |"
      ]
     },
     "metadata": {},
     "output_type": "display_data"
    },
    {
     "data": {
      "text/html": [
       "<pre>| 5       | 0.00238186        | 0.815797                                 |</pre>"
      ],
      "text/plain": [
       "| 5       | 0.00238186        | 0.815797                                 |"
      ]
     },
     "metadata": {},
     "output_type": "display_data"
    },
    {
     "data": {
      "text/html": [
       "<pre>| 6       | 0.00119093        | 0.866439                                 |</pre>"
      ],
      "text/plain": [
       "| 6       | 0.00119093        | 0.866439                                 |"
      ]
     },
     "metadata": {},
     "output_type": "display_data"
    },
    {
     "data": {
      "text/html": [
       "<pre>| 7       | 0.000595465       | 0.941608                                 |</pre>"
      ],
      "text/plain": [
       "| 7       | 0.000595465       | 0.941608                                 |"
      ]
     },
     "metadata": {},
     "output_type": "display_data"
    },
    {
     "data": {
      "text/html": [
       "<pre>+---------+-------------------+------------------------------------------+</pre>"
      ],
      "text/plain": [
       "+---------+-------------------+------------------------------------------+"
      ]
     },
     "metadata": {},
     "output_type": "display_data"
    },
    {
     "data": {
      "text/html": [
       "<pre>| Final   | 0.00476372        | 0.746401                                 |</pre>"
      ],
      "text/plain": [
       "| Final   | 0.00476372        | 0.746401                                 |"
      ]
     },
     "metadata": {},
     "output_type": "display_data"
    },
    {
     "data": {
      "text/html": [
       "<pre>+---------+-------------------+------------------------------------------+</pre>"
      ],
      "text/plain": [
       "+---------+-------------------+------------------------------------------+"
      ]
     },
     "metadata": {},
     "output_type": "display_data"
    },
    {
     "data": {
      "text/html": [
       "<pre>Starting Optimization.</pre>"
      ],
      "text/plain": [
       "Starting Optimization."
      ]
     },
     "metadata": {},
     "output_type": "display_data"
    },
    {
     "data": {
      "text/html": [
       "<pre>+---------+--------------+-------------------+-----------------------+-------------+</pre>"
      ],
      "text/plain": [
       "+---------+--------------+-------------------+-----------------------+-------------+"
      ]
     },
     "metadata": {},
     "output_type": "display_data"
    },
    {
     "data": {
      "text/html": [
       "<pre>| Iter.   | Elapsed Time | Approx. Objective | Approx. Training RMSE | Step Size   |</pre>"
      ],
      "text/plain": [
       "| Iter.   | Elapsed Time | Approx. Objective | Approx. Training RMSE | Step Size   |"
      ]
     },
     "metadata": {},
     "output_type": "display_data"
    },
    {
     "data": {
      "text/html": [
       "<pre>+---------+--------------+-------------------+-----------------------+-------------+</pre>"
      ],
      "text/plain": [
       "+---------+--------------+-------------------+-----------------------+-------------+"
      ]
     },
     "metadata": {},
     "output_type": "display_data"
    },
    {
     "data": {
      "text/html": [
       "<pre>| Initial | 0us          | 1.13368           | 1.06474               |             |</pre>"
      ],
      "text/plain": [
       "| Initial | 0us          | 1.13368           | 1.06474               |             |"
      ]
     },
     "metadata": {},
     "output_type": "display_data"
    },
    {
     "data": {
      "text/html": [
       "<pre>+---------+--------------+-------------------+-----------------------+-------------+</pre>"
      ],
      "text/plain": [
       "+---------+--------------+-------------------+-----------------------+-------------+"
      ]
     },
     "metadata": {},
     "output_type": "display_data"
    },
    {
     "data": {
      "text/html": [
       "<pre>| 1       | 326.733ms    | DIVERGED          | DIVERGED              | 0.00476372  |</pre>"
      ],
      "text/plain": [
       "| 1       | 326.733ms    | DIVERGED          | DIVERGED              | 0.00476372  |"
      ]
     },
     "metadata": {},
     "output_type": "display_data"
    },
    {
     "data": {
      "text/html": [
       "<pre>| RESET   | 429.304ms    | 1.13342           | 1.06462               |             |</pre>"
      ],
      "text/plain": [
       "| RESET   | 429.304ms    | 1.13342           | 1.06462               |             |"
      ]
     },
     "metadata": {},
     "output_type": "display_data"
    },
    {
     "data": {
      "text/html": [
       "<pre>| 1       | 744.027ms    | DIVERGED          | DIVERGED              | 0.00238186  |</pre>"
      ],
      "text/plain": [
       "| 1       | 744.027ms    | DIVERGED          | DIVERGED              | 0.00238186  |"
      ]
     },
     "metadata": {},
     "output_type": "display_data"
    },
    {
     "data": {
      "text/html": [
       "<pre>| RESET   | 832.089ms    | 1.13353           | 1.06468               |             |</pre>"
      ],
      "text/plain": [
       "| RESET   | 832.089ms    | 1.13353           | 1.06468               |             |"
      ]
     },
     "metadata": {},
     "output_type": "display_data"
    },
    {
     "data": {
      "text/html": [
       "<pre>| 1       | 1.02s        | 1.05628           | 1.02776               | 0.00119093  |</pre>"
      ],
      "text/plain": [
       "| 1       | 1.02s        | 1.05628           | 1.02776               | 0.00119093  |"
      ]
     },
     "metadata": {},
     "output_type": "display_data"
    },
    {
     "data": {
      "text/html": [
       "<pre>| 2       | 1.35s        | DIVERGED          | DIVERGED              | 0.000708131 |</pre>"
      ],
      "text/plain": [
       "| 2       | 1.35s        | DIVERGED          | DIVERGED              | 0.000708131 |"
      ]
     },
     "metadata": {},
     "output_type": "display_data"
    },
    {
     "data": {
      "text/html": [
       "<pre>| RESET   | 1.46s        | 1.13349           | 1.06465               |             |</pre>"
      ],
      "text/plain": [
       "| RESET   | 1.46s        | 1.13349           | 1.06465               |             |"
      ]
     },
     "metadata": {},
     "output_type": "display_data"
    },
    {
     "data": {
      "text/html": [
       "<pre>| 1       | 1.67s        | 1.00281           | 1.00141               | 0.000354066 |</pre>"
      ],
      "text/plain": [
       "| 1       | 1.67s        | 1.00281           | 1.00141               | 0.000354066 |"
      ]
     },
     "metadata": {},
     "output_type": "display_data"
    },
    {
     "data": {
      "text/html": [
       "<pre>| 2       | 1.86s        | 0.914768          | 0.956435              | 0.000210529 |</pre>"
      ],
      "text/plain": [
       "| 2       | 1.86s        | 0.914768          | 0.956435              | 0.000210529 |"
      ]
     },
     "metadata": {},
     "output_type": "display_data"
    },
    {
     "data": {
      "text/html": [
       "<pre>| 3       | 2.13s        | 0.907424          | 0.952588              | 0.000155325 |</pre>"
      ],
      "text/plain": [
       "| 3       | 2.13s        | 0.907424          | 0.952588              | 0.000155325 |"
      ]
     },
     "metadata": {},
     "output_type": "display_data"
    },
    {
     "data": {
      "text/html": [
       "<pre>| 4       | 2.36s        | 0.946059          | 0.972655              | 0.000125181 |</pre>"
      ],
      "text/plain": [
       "| 4       | 2.36s        | 0.946059          | 0.972655              | 0.000125181 |"
      ]
     },
     "metadata": {},
     "output_type": "display_data"
    },
    {
     "data": {
      "text/html": [
       "<pre>| 5       | 2.54s        | 0.905882          | 0.951778              |             |</pre>"
      ],
      "text/plain": [
       "| 5       | 2.54s        | 0.905882          | 0.951778              |             |"
      ]
     },
     "metadata": {},
     "output_type": "display_data"
    },
    {
     "data": {
      "text/html": [
       "<pre>| 6       | 2.82s        | 0.876764          | 0.936357              |             |</pre>"
      ],
      "text/plain": [
       "| 6       | 2.82s        | 0.876764          | 0.936357              |             |"
      ]
     },
     "metadata": {},
     "output_type": "display_data"
    },
    {
     "data": {
      "text/html": [
       "<pre>| 10      | 3.69s        | 0.849482          | 0.921674              |             |</pre>"
      ],
      "text/plain": [
       "| 10      | 3.69s        | 0.849482          | 0.921674              |             |"
      ]
     },
     "metadata": {},
     "output_type": "display_data"
    },
    {
     "data": {
      "text/html": [
       "<pre>| 11      | 3.89s        | 0.850997          | 0.922495              | 2.0725e-005 |</pre>"
      ],
      "text/plain": [
       "| 11      | 3.89s        | 0.850997          | 0.922495              | 2.0725e-005 |"
      ]
     },
     "metadata": {},
     "output_type": "display_data"
    },
    {
     "data": {
      "text/html": [
       "<pre>| 16      | 4.92s        | 0.844733          | 0.919093              |             |</pre>"
      ],
      "text/plain": [
       "| 16      | 4.92s        | 0.844733          | 0.919093              |             |"
      ]
     },
     "metadata": {},
     "output_type": "display_data"
    },
    {
     "data": {
      "text/html": [
       "<pre>| 21      | 5.89s        | 0.84015           | 0.916597              |             |</pre>"
      ],
      "text/plain": [
       "| 21      | 5.89s        | 0.84015           | 0.916597              |             |"
      ]
     },
     "metadata": {},
     "output_type": "display_data"
    },
    {
     "data": {
      "text/html": [
       "<pre>| 26      | 6.64s        | 0.839155          | 0.916054              |             |</pre>"
      ],
      "text/plain": [
       "| 26      | 6.64s        | 0.839155          | 0.916054              |             |"
      ]
     },
     "metadata": {},
     "output_type": "display_data"
    },
    {
     "data": {
      "text/html": [
       "<pre>| 31      | 7.35s        | 0.838565          | 0.915732              |             |</pre>"
      ],
      "text/plain": [
       "| 31      | 7.35s        | 0.838565          | 0.915732              |             |"
      ]
     },
     "metadata": {},
     "output_type": "display_data"
    },
    {
     "data": {
      "text/html": [
       "<pre>| 36      | 8.11s        | 0.838536          | 0.915716              |             |</pre>"
      ],
      "text/plain": [
       "| 36      | 8.11s        | 0.838536          | 0.915716              |             |"
      ]
     },
     "metadata": {},
     "output_type": "display_data"
    },
    {
     "data": {
      "text/html": [
       "<pre>| 41      | 9.02s        | 0.838341          | 0.915609              |             |</pre>"
      ],
      "text/plain": [
       "| 41      | 9.02s        | 0.838341          | 0.915609              |             |"
      ]
     },
     "metadata": {},
     "output_type": "display_data"
    },
    {
     "data": {
      "text/html": [
       "<pre>| 46      | 9.96s        | 0.838391          | 0.915637              |             |</pre>"
      ],
      "text/plain": [
       "| 46      | 9.96s        | 0.838391          | 0.915637              |             |"
      ]
     },
     "metadata": {},
     "output_type": "display_data"
    },
    {
     "data": {
      "text/html": [
       "<pre>| 50      | 10.65s       | 0.838325          | 0.915601              |             |</pre>"
      ],
      "text/plain": [
       "| 50      | 10.65s       | 0.838325          | 0.915601              |             |"
      ]
     },
     "metadata": {},
     "output_type": "display_data"
    },
    {
     "data": {
      "text/html": [
       "<pre>+---------+--------------+-------------------+-----------------------+-------------+</pre>"
      ],
      "text/plain": [
       "+---------+--------------+-------------------+-----------------------+-------------+"
      ]
     },
     "metadata": {},
     "output_type": "display_data"
    },
    {
     "data": {
      "text/html": [
       "<pre>Optimization Complete: Maximum number of passes through the data reached.</pre>"
      ],
      "text/plain": [
       "Optimization Complete: Maximum number of passes through the data reached."
      ]
     },
     "metadata": {},
     "output_type": "display_data"
    },
    {
     "data": {
      "text/html": [
       "<pre>Computing final objective value and training RMSE.</pre>"
      ],
      "text/plain": [
       "Computing final objective value and training RMSE."
      ]
     },
     "metadata": {},
     "output_type": "display_data"
    },
    {
     "data": {
      "text/html": [
       "<pre>       Final objective value: 0.838294</pre>"
      ],
      "text/plain": [
       "       Final objective value: 0.838294"
      ]
     },
     "metadata": {},
     "output_type": "display_data"
    },
    {
     "data": {
      "text/html": [
       "<pre>       Final training RMSE: 0.915584</pre>"
      ],
      "text/plain": [
       "       Final training RMSE: 0.915584"
      ]
     },
     "metadata": {},
     "output_type": "display_data"
    },
    {
     "data": {
      "text/html": [
       "<pre>Recsys training: model = factorization_recommender</pre>"
      ],
      "text/plain": [
       "Recsys training: model = factorization_recommender"
      ]
     },
     "metadata": {},
     "output_type": "display_data"
    },
    {
     "data": {
      "text/html": [
       "<pre>Preparing data set.</pre>"
      ],
      "text/plain": [
       "Preparing data set."
      ]
     },
     "metadata": {},
     "output_type": "display_data"
    },
    {
     "data": {
      "text/html": [
       "<pre>    Data has 80004 observations with 671 users and 9125 items.</pre>"
      ],
      "text/plain": [
       "    Data has 80004 observations with 671 users and 9125 items."
      ]
     },
     "metadata": {},
     "output_type": "display_data"
    },
    {
     "data": {
      "text/html": [
       "<pre>    Data prepared in: 0.990762s</pre>"
      ],
      "text/plain": [
       "    Data prepared in: 0.990762s"
      ]
     },
     "metadata": {},
     "output_type": "display_data"
    },
    {
     "data": {
      "text/html": [
       "<pre>Training factorization_recommender for recommendations.</pre>"
      ],
      "text/plain": [
       "Training factorization_recommender for recommendations."
      ]
     },
     "metadata": {},
     "output_type": "display_data"
    },
    {
     "data": {
      "text/html": [
       "<pre>+--------------------------------+--------------------------------------------------+----------+</pre>"
      ],
      "text/plain": [
       "+--------------------------------+--------------------------------------------------+----------+"
      ]
     },
     "metadata": {},
     "output_type": "display_data"
    },
    {
     "data": {
      "text/html": [
       "<pre>| Parameter                      | Description                                      | Value    |</pre>"
      ],
      "text/plain": [
       "| Parameter                      | Description                                      | Value    |"
      ]
     },
     "metadata": {},
     "output_type": "display_data"
    },
    {
     "data": {
      "text/html": [
       "<pre>+--------------------------------+--------------------------------------------------+----------+</pre>"
      ],
      "text/plain": [
       "+--------------------------------+--------------------------------------------------+----------+"
      ]
     },
     "metadata": {},
     "output_type": "display_data"
    },
    {
     "data": {
      "text/html": [
       "<pre>| num_factors                    | Factor Dimension                                 | 4        |</pre>"
      ],
      "text/plain": [
       "| num_factors                    | Factor Dimension                                 | 4        |"
      ]
     },
     "metadata": {},
     "output_type": "display_data"
    },
    {
     "data": {
      "text/html": [
       "<pre>| regularization                 | L2 Regularization on Factors                     | 1e-006   |</pre>"
      ],
      "text/plain": [
       "| regularization                 | L2 Regularization on Factors                     | 1e-006   |"
      ]
     },
     "metadata": {},
     "output_type": "display_data"
    },
    {
     "data": {
      "text/html": [
       "<pre>| solver                         | Solver used for training                         | sgd      |</pre>"
      ],
      "text/plain": [
       "| solver                         | Solver used for training                         | sgd      |"
      ]
     },
     "metadata": {},
     "output_type": "display_data"
    },
    {
     "data": {
      "text/html": [
       "<pre>| linear_regularization          | L2 Regularization on Linear Coefficients         | 1e-010   |</pre>"
      ],
      "text/plain": [
       "| linear_regularization          | L2 Regularization on Linear Coefficients         | 1e-010   |"
      ]
     },
     "metadata": {},
     "output_type": "display_data"
    },
    {
     "data": {
      "text/html": [
       "<pre>| side_data_factorization        | Assign Factors for Side Data                     | True     |</pre>"
      ],
      "text/plain": [
       "| side_data_factorization        | Assign Factors for Side Data                     | True     |"
      ]
     },
     "metadata": {},
     "output_type": "display_data"
    },
    {
     "data": {
      "text/html": [
       "<pre>| max_iterations                 | Maximum Number of Iterations                     | 50       |</pre>"
      ],
      "text/plain": [
       "| max_iterations                 | Maximum Number of Iterations                     | 50       |"
      ]
     },
     "metadata": {},
     "output_type": "display_data"
    },
    {
     "data": {
      "text/html": [
       "<pre>+--------------------------------+--------------------------------------------------+----------+</pre>"
      ],
      "text/plain": [
       "+--------------------------------+--------------------------------------------------+----------+"
      ]
     },
     "metadata": {},
     "output_type": "display_data"
    },
    {
     "data": {
      "text/html": [
       "<pre>  Optimizing model using SGD; tuning step size.</pre>"
      ],
      "text/plain": [
       "  Optimizing model using SGD; tuning step size."
      ]
     },
     "metadata": {},
     "output_type": "display_data"
    },
    {
     "data": {
      "text/html": [
       "<pre>  Using 10000 / 80004 points for tuning the step size.</pre>"
      ],
      "text/plain": [
       "  Using 10000 / 80004 points for tuning the step size."
      ]
     },
     "metadata": {},
     "output_type": "display_data"
    },
    {
     "data": {
      "text/html": [
       "<pre>+---------+-------------------+------------------------------------------+</pre>"
      ],
      "text/plain": [
       "+---------+-------------------+------------------------------------------+"
      ]
     },
     "metadata": {},
     "output_type": "display_data"
    },
    {
     "data": {
      "text/html": [
       "<pre>| Attempt | Initial Step Size | Estimated Objective Value                |</pre>"
      ],
      "text/plain": [
       "| Attempt | Initial Step Size | Estimated Objective Value                |"
      ]
     },
     "metadata": {},
     "output_type": "display_data"
    },
    {
     "data": {
      "text/html": [
       "<pre>+---------+-------------------+------------------------------------------+</pre>"
      ],
      "text/plain": [
       "+---------+-------------------+------------------------------------------+"
      ]
     },
     "metadata": {},
     "output_type": "display_data"
    },
    {
     "data": {
      "text/html": [
       "<pre>| 0       | 1.21951           | Not Viable                               |</pre>"
      ],
      "text/plain": [
       "| 0       | 1.21951           | Not Viable                               |"
      ]
     },
     "metadata": {},
     "output_type": "display_data"
    },
    {
     "data": {
      "text/html": [
       "<pre>| 1       | 0.304878          | Not Viable                               |</pre>"
      ],
      "text/plain": [
       "| 1       | 0.304878          | Not Viable                               |"
      ]
     },
     "metadata": {},
     "output_type": "display_data"
    },
    {
     "data": {
      "text/html": [
       "<pre>| 2       | 0.0762195         | Not Viable                               |</pre>"
      ],
      "text/plain": [
       "| 2       | 0.0762195         | Not Viable                               |"
      ]
     },
     "metadata": {},
     "output_type": "display_data"
    },
    {
     "data": {
      "text/html": [
       "<pre>| 3       | 0.0190549         | Not Viable                               |</pre>"
      ],
      "text/plain": [
       "| 3       | 0.0190549         | Not Viable                               |"
      ]
     },
     "metadata": {},
     "output_type": "display_data"
    },
    {
     "data": {
      "text/html": [
       "<pre>| 4       | 0.00476372        | Not Viable                               |</pre>"
      ],
      "text/plain": [
       "| 4       | 0.00476372        | Not Viable                               |"
      ]
     },
     "metadata": {},
     "output_type": "display_data"
    },
    {
     "data": {
      "text/html": [
       "<pre>| 5       | 0.00119093        | 0.889919                                 |</pre>"
      ],
      "text/plain": [
       "| 5       | 0.00119093        | 0.889919                                 |"
      ]
     },
     "metadata": {},
     "output_type": "display_data"
    },
    {
     "data": {
      "text/html": [
       "<pre>| 6       | 0.000595465       | 0.967497                                 |</pre>"
      ],
      "text/plain": [
       "| 6       | 0.000595465       | 0.967497                                 |"
      ]
     },
     "metadata": {},
     "output_type": "display_data"
    },
    {
     "data": {
      "text/html": [
       "<pre>| 7       | 0.000297732       | 0.974762                                 |</pre>"
      ],
      "text/plain": [
       "| 7       | 0.000297732       | 0.974762                                 |"
      ]
     },
     "metadata": {},
     "output_type": "display_data"
    },
    {
     "data": {
      "text/html": [
       "<pre>| 8       | 0.000148866       | 1.00532                                  |</pre>"
      ],
      "text/plain": [
       "| 8       | 0.000148866       | 1.00532                                  |"
      ]
     },
     "metadata": {},
     "output_type": "display_data"
    },
    {
     "data": {
      "text/html": [
       "<pre>+---------+-------------------+------------------------------------------+</pre>"
      ],
      "text/plain": [
       "+---------+-------------------+------------------------------------------+"
      ]
     },
     "metadata": {},
     "output_type": "display_data"
    },
    {
     "data": {
      "text/html": [
       "<pre>| Final   | 0.00119093        | 0.889919                                 |</pre>"
      ],
      "text/plain": [
       "| Final   | 0.00119093        | 0.889919                                 |"
      ]
     },
     "metadata": {},
     "output_type": "display_data"
    },
    {
     "data": {
      "text/html": [
       "<pre>+---------+-------------------+------------------------------------------+</pre>"
      ],
      "text/plain": [
       "+---------+-------------------+------------------------------------------+"
      ]
     },
     "metadata": {},
     "output_type": "display_data"
    },
    {
     "data": {
      "text/html": [
       "<pre>Starting Optimization.</pre>"
      ],
      "text/plain": [
       "Starting Optimization."
      ]
     },
     "metadata": {},
     "output_type": "display_data"
    },
    {
     "data": {
      "text/html": [
       "<pre>+---------+--------------+-------------------+-----------------------+-------------+</pre>"
      ],
      "text/plain": [
       "+---------+--------------+-------------------+-----------------------+-------------+"
      ]
     },
     "metadata": {},
     "output_type": "display_data"
    },
    {
     "data": {
      "text/html": [
       "<pre>| Iter.   | Elapsed Time | Approx. Objective | Approx. Training RMSE | Step Size   |</pre>"
      ],
      "text/plain": [
       "| Iter.   | Elapsed Time | Approx. Objective | Approx. Training RMSE | Step Size   |"
      ]
     },
     "metadata": {},
     "output_type": "display_data"
    },
    {
     "data": {
      "text/html": [
       "<pre>+---------+--------------+-------------------+-----------------------+-------------+</pre>"
      ],
      "text/plain": [
       "+---------+--------------+-------------------+-----------------------+-------------+"
      ]
     },
     "metadata": {},
     "output_type": "display_data"
    },
    {
     "data": {
      "text/html": [
       "<pre>| Initial | 0us          | 1.13364           | 1.06473               |             |</pre>"
      ],
      "text/plain": [
       "| Initial | 0us          | 1.13364           | 1.06473               |             |"
      ]
     },
     "metadata": {},
     "output_type": "display_data"
    },
    {
     "data": {
      "text/html": [
       "<pre>+---------+--------------+-------------------+-----------------------+-------------+</pre>"
      ],
      "text/plain": [
       "+---------+--------------+-------------------+-----------------------+-------------+"
      ]
     },
     "metadata": {},
     "output_type": "display_data"
    },
    {
     "data": {
      "text/html": [
       "<pre>| 1       | 262.686ms    | 1.01936           | 1.00963               | 0.00119093  |</pre>"
      ],
      "text/plain": [
       "| 1       | 262.686ms    | 1.01936           | 1.00963               | 0.00119093  |"
      ]
     },
     "metadata": {},
     "output_type": "display_data"
    },
    {
     "data": {
      "text/html": [
       "<pre>| 2       | 468.332ms    | 0.884765          | 0.94062               | 0.000708131 |</pre>"
      ],
      "text/plain": [
       "| 2       | 468.332ms    | 0.884765          | 0.94062               | 0.000708131 |"
      ]
     },
     "metadata": {},
     "output_type": "display_data"
    },
    {
     "data": {
      "text/html": [
       "<pre>| 3       | 728.516ms    | 0.824937          | 0.90826               | 0.000522451 |</pre>"
      ],
      "text/plain": [
       "| 3       | 728.516ms    | 0.824937          | 0.90826               | 0.000522451 |"
      ]
     },
     "metadata": {},
     "output_type": "display_data"
    },
    {
     "data": {
      "text/html": [
       "<pre>| 4       | 1.03s        | 0.811359          | 0.900755              | 0.000421057 |</pre>"
      ],
      "text/plain": [
       "| 4       | 1.03s        | 0.811359          | 0.900755              | 0.000421057 |"
      ]
     },
     "metadata": {},
     "output_type": "display_data"
    },
    {
     "data": {
      "text/html": [
       "<pre>| 5       | 1.41s        | 0.804411          | 0.89689               | 0.000356171 |</pre>"
      ],
      "text/plain": [
       "| 5       | 1.41s        | 0.804411          | 0.89689               | 0.000356171 |"
      ]
     },
     "metadata": {},
     "output_type": "display_data"
    },
    {
     "data": {
      "text/html": [
       "<pre>| 6       | 1.70s        | 0.807989          | 0.898882              | 0.000310651 |</pre>"
      ],
      "text/plain": [
       "| 6       | 1.70s        | 0.807989          | 0.898882              | 0.000310651 |"
      ]
     },
     "metadata": {},
     "output_type": "display_data"
    },
    {
     "data": {
      "text/html": [
       "<pre>| 10      | 2.94s        | 0.766998          | 0.875784              | 0.000125926 |</pre>"
      ],
      "text/plain": [
       "| 10      | 2.94s        | 0.766998          | 0.875784              | 0.000125926 |"
      ]
     },
     "metadata": {},
     "output_type": "display_data"
    },
    {
     "data": {
      "text/html": [
       "<pre>| 11      | 3.17s        | 0.769105          | 0.876985              | 0.000117238 |</pre>"
      ],
      "text/plain": [
       "| 11      | 3.17s        | 0.769105          | 0.876985              | 0.000117238 |"
      ]
     },
     "metadata": {},
     "output_type": "display_data"
    },
    {
     "data": {
      "text/html": [
       "<pre>| 15      | 4.06s        | 0.752023          | 0.867191              |             |</pre>"
      ],
      "text/plain": [
       "| 15      | 4.06s        | 0.752023          | 0.867191              |             |"
      ]
     },
     "metadata": {},
     "output_type": "display_data"
    },
    {
     "data": {
      "text/html": [
       "<pre>| 20      | 5.80s        | 0.758751          | 0.871061              |             |</pre>"
      ],
      "text/plain": [
       "| 20      | 5.80s        | 0.758751          | 0.871061              |             |"
      ]
     },
     "metadata": {},
     "output_type": "display_data"
    },
    {
     "data": {
      "text/html": [
       "<pre>| 25      | 7.31s        | 0.760613          | 0.872128              | 6.6575e-006 |</pre>"
      ],
      "text/plain": [
       "| 25      | 7.31s        | 0.760613          | 0.872128              | 6.6575e-006 |"
      ]
     },
     "metadata": {},
     "output_type": "display_data"
    },
    {
     "data": {
      "text/html": [
       "<pre>| 30      | 8.37s        | 0.753504          | 0.868043              |             |</pre>"
      ],
      "text/plain": [
       "| 30      | 8.37s        | 0.753504          | 0.868043              |             |"
      ]
     },
     "metadata": {},
     "output_type": "display_data"
    },
    {
     "data": {
      "text/html": [
       "<pre>| 35      | 9.38s        | 0.754901          | 0.868847              |             |</pre>"
      ],
      "text/plain": [
       "| 35      | 9.38s        | 0.754901          | 0.868847              |             |"
      ]
     },
     "metadata": {},
     "output_type": "display_data"
    },
    {
     "data": {
      "text/html": [
       "<pre>| 40      | 10.40s       | 0.754828          | 0.868805              |             |</pre>"
      ],
      "text/plain": [
       "| 40      | 10.40s       | 0.754828          | 0.868805              |             |"
      ]
     },
     "metadata": {},
     "output_type": "display_data"
    },
    {
     "data": {
      "text/html": [
       "<pre>| 45      | 11.53s       | 0.754346          | 0.868528              |             |</pre>"
      ],
      "text/plain": [
       "| 45      | 11.53s       | 0.754346          | 0.868528              |             |"
      ]
     },
     "metadata": {},
     "output_type": "display_data"
    },
    {
     "data": {
      "text/html": [
       "<pre>| 50      | 12.53s       | 0.754445          | 0.868585              |             |</pre>"
      ],
      "text/plain": [
       "| 50      | 12.53s       | 0.754445          | 0.868585              |             |"
      ]
     },
     "metadata": {},
     "output_type": "display_data"
    },
    {
     "data": {
      "text/html": [
       "<pre>+---------+--------------+-------------------+-----------------------+-------------+</pre>"
      ],
      "text/plain": [
       "+---------+--------------+-------------------+-----------------------+-------------+"
      ]
     },
     "metadata": {},
     "output_type": "display_data"
    },
    {
     "data": {
      "text/html": [
       "<pre>Optimization Complete: Maximum number of passes through the data reached.</pre>"
      ],
      "text/plain": [
       "Optimization Complete: Maximum number of passes through the data reached."
      ]
     },
     "metadata": {},
     "output_type": "display_data"
    },
    {
     "data": {
      "text/html": [
       "<pre>Computing final objective value and training RMSE.</pre>"
      ],
      "text/plain": [
       "Computing final objective value and training RMSE."
      ]
     },
     "metadata": {},
     "output_type": "display_data"
    },
    {
     "data": {
      "text/html": [
       "<pre>       Final objective value: 0.754468</pre>"
      ],
      "text/plain": [
       "       Final objective value: 0.754468"
      ]
     },
     "metadata": {},
     "output_type": "display_data"
    },
    {
     "data": {
      "text/html": [
       "<pre>       Final training RMSE: 0.868598</pre>"
      ],
      "text/plain": [
       "       Final training RMSE: 0.868598"
      ]
     },
     "metadata": {},
     "output_type": "display_data"
    },
    {
     "data": {
      "text/html": [
       "<pre>Recsys training: model = factorization_recommender</pre>"
      ],
      "text/plain": [
       "Recsys training: model = factorization_recommender"
      ]
     },
     "metadata": {},
     "output_type": "display_data"
    },
    {
     "data": {
      "text/html": [
       "<pre>Preparing data set.</pre>"
      ],
      "text/plain": [
       "Preparing data set."
      ]
     },
     "metadata": {},
     "output_type": "display_data"
    },
    {
     "data": {
      "text/html": [
       "<pre>    Data has 80004 observations with 671 users and 9125 items.</pre>"
      ],
      "text/plain": [
       "    Data has 80004 observations with 671 users and 9125 items."
      ]
     },
     "metadata": {},
     "output_type": "display_data"
    },
    {
     "data": {
      "text/html": [
       "<pre>    Data prepared in: 1.02128s</pre>"
      ],
      "text/plain": [
       "    Data prepared in: 1.02128s"
      ]
     },
     "metadata": {},
     "output_type": "display_data"
    },
    {
     "data": {
      "text/html": [
       "<pre>Training factorization_recommender for recommendations.</pre>"
      ],
      "text/plain": [
       "Training factorization_recommender for recommendations."
      ]
     },
     "metadata": {},
     "output_type": "display_data"
    },
    {
     "data": {
      "text/html": [
       "<pre>+--------------------------------+--------------------------------------------------+----------+</pre>"
      ],
      "text/plain": [
       "+--------------------------------+--------------------------------------------------+----------+"
      ]
     },
     "metadata": {},
     "output_type": "display_data"
    },
    {
     "data": {
      "text/html": [
       "<pre>| Parameter                      | Description                                      | Value    |</pre>"
      ],
      "text/plain": [
       "| Parameter                      | Description                                      | Value    |"
      ]
     },
     "metadata": {},
     "output_type": "display_data"
    },
    {
     "data": {
      "text/html": [
       "<pre>+--------------------------------+--------------------------------------------------+----------+</pre>"
      ],
      "text/plain": [
       "+--------------------------------+--------------------------------------------------+----------+"
      ]
     },
     "metadata": {},
     "output_type": "display_data"
    },
    {
     "data": {
      "text/html": [
       "<pre>| num_factors                    | Factor Dimension                                 | 4        |</pre>"
      ],
      "text/plain": [
       "| num_factors                    | Factor Dimension                                 | 4        |"
      ]
     },
     "metadata": {},
     "output_type": "display_data"
    },
    {
     "data": {
      "text/html": [
       "<pre>| regularization                 | L2 Regularization on Factors                     | 0.0001   |</pre>"
      ],
      "text/plain": [
       "| regularization                 | L2 Regularization on Factors                     | 0.0001   |"
      ]
     },
     "metadata": {},
     "output_type": "display_data"
    },
    {
     "data": {
      "text/html": [
       "<pre>| solver                         | Solver used for training                         | sgd      |</pre>"
      ],
      "text/plain": [
       "| solver                         | Solver used for training                         | sgd      |"
      ]
     },
     "metadata": {},
     "output_type": "display_data"
    },
    {
     "data": {
      "text/html": [
       "<pre>| linear_regularization          | L2 Regularization on Linear Coefficients         | 1e-010   |</pre>"
      ],
      "text/plain": [
       "| linear_regularization          | L2 Regularization on Linear Coefficients         | 1e-010   |"
      ]
     },
     "metadata": {},
     "output_type": "display_data"
    },
    {
     "data": {
      "text/html": [
       "<pre>| side_data_factorization        | Assign Factors for Side Data                     | True     |</pre>"
      ],
      "text/plain": [
       "| side_data_factorization        | Assign Factors for Side Data                     | True     |"
      ]
     },
     "metadata": {},
     "output_type": "display_data"
    },
    {
     "data": {
      "text/html": [
       "<pre>| max_iterations                 | Maximum Number of Iterations                     | 50       |</pre>"
      ],
      "text/plain": [
       "| max_iterations                 | Maximum Number of Iterations                     | 50       |"
      ]
     },
     "metadata": {},
     "output_type": "display_data"
    },
    {
     "data": {
      "text/html": [
       "<pre>+--------------------------------+--------------------------------------------------+----------+</pre>"
      ],
      "text/plain": [
       "+--------------------------------+--------------------------------------------------+----------+"
      ]
     },
     "metadata": {},
     "output_type": "display_data"
    },
    {
     "data": {
      "text/html": [
       "<pre>  Optimizing model using SGD; tuning step size.</pre>"
      ],
      "text/plain": [
       "  Optimizing model using SGD; tuning step size."
      ]
     },
     "metadata": {},
     "output_type": "display_data"
    },
    {
     "data": {
      "text/html": [
       "<pre>  Using 10000 / 80004 points for tuning the step size.</pre>"
      ],
      "text/plain": [
       "  Using 10000 / 80004 points for tuning the step size."
      ]
     },
     "metadata": {},
     "output_type": "display_data"
    },
    {
     "data": {
      "text/html": [
       "<pre>+---------+-------------------+------------------------------------------+</pre>"
      ],
      "text/plain": [
       "+---------+-------------------+------------------------------------------+"
      ]
     },
     "metadata": {},
     "output_type": "display_data"
    },
    {
     "data": {
      "text/html": [
       "<pre>| Attempt | Initial Step Size | Estimated Objective Value                |</pre>"
      ],
      "text/plain": [
       "| Attempt | Initial Step Size | Estimated Objective Value                |"
      ]
     },
     "metadata": {},
     "output_type": "display_data"
    },
    {
     "data": {
      "text/html": [
       "<pre>+---------+-------------------+------------------------------------------+</pre>"
      ],
      "text/plain": [
       "+---------+-------------------+------------------------------------------+"
      ]
     },
     "metadata": {},
     "output_type": "display_data"
    },
    {
     "data": {
      "text/html": [
       "<pre>| 0       | 1.21951           | Not Viable                               |</pre>"
      ],
      "text/plain": [
       "| 0       | 1.21951           | Not Viable                               |"
      ]
     },
     "metadata": {},
     "output_type": "display_data"
    },
    {
     "data": {
      "text/html": [
       "<pre>| 1       | 0.304878          | Not Viable                               |</pre>"
      ],
      "text/plain": [
       "| 1       | 0.304878          | Not Viable                               |"
      ]
     },
     "metadata": {},
     "output_type": "display_data"
    },
    {
     "data": {
      "text/html": [
       "<pre>| 2       | 0.0762195         | Not Viable                               |</pre>"
      ],
      "text/plain": [
       "| 2       | 0.0762195         | Not Viable                               |"
      ]
     },
     "metadata": {},
     "output_type": "display_data"
    },
    {
     "data": {
      "text/html": [
       "<pre>| 3       | 0.0190549         | Not Viable                               |</pre>"
      ],
      "text/plain": [
       "| 3       | 0.0190549         | Not Viable                               |"
      ]
     },
     "metadata": {},
     "output_type": "display_data"
    },
    {
     "data": {
      "text/html": [
       "<pre>| 4       | 0.00476372        | Not Viable                               |</pre>"
      ],
      "text/plain": [
       "| 4       | 0.00476372        | Not Viable                               |"
      ]
     },
     "metadata": {},
     "output_type": "display_data"
    },
    {
     "data": {
      "text/html": [
       "<pre>| 5       | 0.00119093        | Not Viable                               |</pre>"
      ],
      "text/plain": [
       "| 5       | 0.00119093        | Not Viable                               |"
      ]
     },
     "metadata": {},
     "output_type": "display_data"
    },
    {
     "data": {
      "text/html": [
       "<pre>| 6       | 0.000297732       | 0.991227                                 |</pre>"
      ],
      "text/plain": [
       "| 6       | 0.000297732       | 0.991227                                 |"
      ]
     },
     "metadata": {},
     "output_type": "display_data"
    },
    {
     "data": {
      "text/html": [
       "<pre>| 7       | 0.000148866       | 1.00744                                  |</pre>"
      ],
      "text/plain": [
       "| 7       | 0.000148866       | 1.00744                                  |"
      ]
     },
     "metadata": {},
     "output_type": "display_data"
    },
    {
     "data": {
      "text/html": [
       "<pre>| 8       | 7.44331e-005      | 1.02369                                  |</pre>"
      ],
      "text/plain": [
       "| 8       | 7.44331e-005      | 1.02369                                  |"
      ]
     },
     "metadata": {},
     "output_type": "display_data"
    },
    {
     "data": {
      "text/html": [
       "<pre>| 9       | 3.72166e-005      | 1.0404                                   |</pre>"
      ],
      "text/plain": [
       "| 9       | 3.72166e-005      | 1.0404                                   |"
      ]
     },
     "metadata": {},
     "output_type": "display_data"
    },
    {
     "data": {
      "text/html": [
       "<pre>+---------+-------------------+------------------------------------------+</pre>"
      ],
      "text/plain": [
       "+---------+-------------------+------------------------------------------+"
      ]
     },
     "metadata": {},
     "output_type": "display_data"
    },
    {
     "data": {
      "text/html": [
       "<pre>| Final   | 0.000297732       | 0.991227                                 |</pre>"
      ],
      "text/plain": [
       "| Final   | 0.000297732       | 0.991227                                 |"
      ]
     },
     "metadata": {},
     "output_type": "display_data"
    },
    {
     "data": {
      "text/html": [
       "<pre>+---------+-------------------+------------------------------------------+</pre>"
      ],
      "text/plain": [
       "+---------+-------------------+------------------------------------------+"
      ]
     },
     "metadata": {},
     "output_type": "display_data"
    },
    {
     "data": {
      "text/html": [
       "<pre>Starting Optimization.</pre>"
      ],
      "text/plain": [
       "Starting Optimization."
      ]
     },
     "metadata": {},
     "output_type": "display_data"
    },
    {
     "data": {
      "text/html": [
       "<pre>+---------+--------------+-------------------+-----------------------+-------------+</pre>"
      ],
      "text/plain": [
       "+---------+--------------+-------------------+-----------------------+-------------+"
      ]
     },
     "metadata": {},
     "output_type": "display_data"
    },
    {
     "data": {
      "text/html": [
       "<pre>| Iter.   | Elapsed Time | Approx. Objective | Approx. Training RMSE | Step Size   |</pre>"
      ],
      "text/plain": [
       "| Iter.   | Elapsed Time | Approx. Objective | Approx. Training RMSE | Step Size   |"
      ]
     },
     "metadata": {},
     "output_type": "display_data"
    },
    {
     "data": {
      "text/html": [
       "<pre>+---------+--------------+-------------------+-----------------------+-------------+</pre>"
      ],
      "text/plain": [
       "+---------+--------------+-------------------+-----------------------+-------------+"
      ]
     },
     "metadata": {},
     "output_type": "display_data"
    },
    {
     "data": {
      "text/html": [
       "<pre>| Initial | 499us        | 1.13366           | 1.06474               |             |</pre>"
      ],
      "text/plain": [
       "| Initial | 499us        | 1.13366           | 1.06474               |             |"
      ]
     },
     "metadata": {},
     "output_type": "display_data"
    },
    {
     "data": {
      "text/html": [
       "<pre>+---------+--------------+-------------------+-----------------------+-------------+</pre>"
      ],
      "text/plain": [
       "+---------+--------------+-------------------+-----------------------+-------------+"
      ]
     },
     "metadata": {},
     "output_type": "display_data"
    },
    {
     "data": {
      "text/html": [
       "<pre>| 1       | 246.174ms    | 0.985709          | 0.992829              | 0.000297732 |</pre>"
      ],
      "text/plain": [
       "| 1       | 246.174ms    | 0.985709          | 0.992829              | 0.000297732 |"
      ]
     },
     "metadata": {},
     "output_type": "display_data"
    },
    {
     "data": {
      "text/html": [
       "<pre>| 2       | 476.337ms    | 0.925702          | 0.962134              | 0.000177033 |</pre>"
      ],
      "text/plain": [
       "| 2       | 476.337ms    | 0.925702          | 0.962134              | 0.000177033 |"
      ]
     },
     "metadata": {},
     "output_type": "display_data"
    },
    {
     "data": {
      "text/html": [
       "<pre>| 3       | 677.479ms    | 0.899789          | 0.94857               | 0.000130613 |</pre>"
      ],
      "text/plain": [
       "| 3       | 677.479ms    | 0.899789          | 0.94857               | 0.000130613 |"
      ]
     },
     "metadata": {},
     "output_type": "display_data"
    },
    {
     "data": {
      "text/html": [
       "<pre>| 4       | 901.638ms    | 0.883986          | 0.940197              | 0.000105264 |</pre>"
      ],
      "text/plain": [
       "| 4       | 901.638ms    | 0.883986          | 0.940197              | 0.000105264 |"
      ]
     },
     "metadata": {},
     "output_type": "display_data"
    },
    {
     "data": {
      "text/html": [
       "<pre>| 5       | 1.13s        | 0.882616          | 0.939454              |             |</pre>"
      ],
      "text/plain": [
       "| 5       | 1.13s        | 0.882616          | 0.939454              |             |"
      ]
     },
     "metadata": {},
     "output_type": "display_data"
    },
    {
     "data": {
      "text/html": [
       "<pre>| 6       | 1.34s        | 0.874314          | 0.935008              |             |</pre>"
      ],
      "text/plain": [
       "| 6       | 1.34s        | 0.874314          | 0.935008              |             |"
      ]
     },
     "metadata": {},
     "output_type": "display_data"
    },
    {
     "data": {
      "text/html": [
       "<pre>| 10      | 2.22s        | 0.862738          | 0.928741              |             |</pre>"
      ],
      "text/plain": [
       "| 10      | 2.22s        | 0.862738          | 0.928741              |             |"
      ]
     },
     "metadata": {},
     "output_type": "display_data"
    },
    {
     "data": {
      "text/html": [
       "<pre>| 11      | 2.41s        | 0.851735          | 0.922784              |             |</pre>"
      ],
      "text/plain": [
       "| 11      | 2.41s        | 0.851735          | 0.922784              |             |"
      ]
     },
     "metadata": {},
     "output_type": "display_data"
    },
    {
     "data": {
      "text/html": [
       "<pre>| 15      | 3.07s        | 0.843724          | 0.918407              |             |</pre>"
      ],
      "text/plain": [
       "| 15      | 3.07s        | 0.843724          | 0.918407              |             |"
      ]
     },
     "metadata": {},
     "output_type": "display_data"
    },
    {
     "data": {
      "text/html": [
       "<pre>| 20      | 4.18s        | 0.842266          | 0.917598              |             |</pre>"
      ],
      "text/plain": [
       "| 20      | 4.18s        | 0.842266          | 0.917598              |             |"
      ]
     },
     "metadata": {},
     "output_type": "display_data"
    },
    {
     "data": {
      "text/html": [
       "<pre>| 25      | 5.42s        | 0.843368          | 0.918193              |             |</pre>"
      ],
      "text/plain": [
       "| 25      | 5.42s        | 0.843368          | 0.918193              |             |"
      ]
     },
     "metadata": {},
     "output_type": "display_data"
    },
    {
     "data": {
      "text/html": [
       "<pre>| 30      | 6.96s        | 0.843283          | 0.918144              |             |</pre>"
      ],
      "text/plain": [
       "| 30      | 6.96s        | 0.843283          | 0.918144              |             |"
      ]
     },
     "metadata": {},
     "output_type": "display_data"
    },
    {
     "data": {
      "text/html": [
       "<pre>| 35      | 8.13s        | 0.843241          | 0.918121              |             |</pre>"
      ],
      "text/plain": [
       "| 35      | 8.13s        | 0.843241          | 0.918121              |             |"
      ]
     },
     "metadata": {},
     "output_type": "display_data"
    },
    {
     "data": {
      "text/html": [
       "<pre>| 40      | 9.34s        | 0.843296          | 0.918151              |             |</pre>"
      ],
      "text/plain": [
       "| 40      | 9.34s        | 0.843296          | 0.918151              |             |"
      ]
     },
     "metadata": {},
     "output_type": "display_data"
    },
    {
     "data": {
      "text/html": [
       "<pre>| 45      | 10.46s       | 0.843244          | 0.918123              |             |</pre>"
      ],
      "text/plain": [
       "| 45      | 10.46s       | 0.843244          | 0.918123              |             |"
      ]
     },
     "metadata": {},
     "output_type": "display_data"
    },
    {
     "data": {
      "text/html": [
       "<pre>+---------+--------------+-------------------+-----------------------+-------------+</pre>"
      ],
      "text/plain": [
       "+---------+--------------+-------------------+-----------------------+-------------+"
      ]
     },
     "metadata": {},
     "output_type": "display_data"
    },
    {
     "data": {
      "text/html": [
       "<pre>Optimization Complete: Convergence on objective within bounds.</pre>"
      ],
      "text/plain": [
       "Optimization Complete: Convergence on objective within bounds."
      ]
     },
     "metadata": {},
     "output_type": "display_data"
    },
    {
     "data": {
      "text/html": [
       "<pre>Computing final objective value and training RMSE.</pre>"
      ],
      "text/plain": [
       "Computing final objective value and training RMSE."
      ]
     },
     "metadata": {},
     "output_type": "display_data"
    },
    {
     "data": {
      "text/html": [
       "<pre>       Final objective value: 0.84322</pre>"
      ],
      "text/plain": [
       "       Final objective value: 0.84322"
      ]
     },
     "metadata": {},
     "output_type": "display_data"
    },
    {
     "data": {
      "text/html": [
       "<pre>       Final training RMSE: 0.918109</pre>"
      ],
      "text/plain": [
       "       Final training RMSE: 0.918109"
      ]
     },
     "metadata": {},
     "output_type": "display_data"
    },
    {
     "data": {
      "text/html": [
       "<pre>Recsys training: model = factorization_recommender</pre>"
      ],
      "text/plain": [
       "Recsys training: model = factorization_recommender"
      ]
     },
     "metadata": {},
     "output_type": "display_data"
    },
    {
     "data": {
      "text/html": [
       "<pre>Preparing data set.</pre>"
      ],
      "text/plain": [
       "Preparing data set."
      ]
     },
     "metadata": {},
     "output_type": "display_data"
    },
    {
     "data": {
      "text/html": [
       "<pre>    Data has 80004 observations with 671 users and 9125 items.</pre>"
      ],
      "text/plain": [
       "    Data has 80004 observations with 671 users and 9125 items."
      ]
     },
     "metadata": {},
     "output_type": "display_data"
    },
    {
     "data": {
      "text/html": [
       "<pre>    Data prepared in: 0.958483s</pre>"
      ],
      "text/plain": [
       "    Data prepared in: 0.958483s"
      ]
     },
     "metadata": {},
     "output_type": "display_data"
    },
    {
     "data": {
      "text/html": [
       "<pre>Training factorization_recommender for recommendations.</pre>"
      ],
      "text/plain": [
       "Training factorization_recommender for recommendations."
      ]
     },
     "metadata": {},
     "output_type": "display_data"
    },
    {
     "data": {
      "text/html": [
       "<pre>+--------------------------------+--------------------------------------------------+----------+</pre>"
      ],
      "text/plain": [
       "+--------------------------------+--------------------------------------------------+----------+"
      ]
     },
     "metadata": {},
     "output_type": "display_data"
    },
    {
     "data": {
      "text/html": [
       "<pre>| Parameter                      | Description                                      | Value    |</pre>"
      ],
      "text/plain": [
       "| Parameter                      | Description                                      | Value    |"
      ]
     },
     "metadata": {},
     "output_type": "display_data"
    },
    {
     "data": {
      "text/html": [
       "<pre>+--------------------------------+--------------------------------------------------+----------+</pre>"
      ],
      "text/plain": [
       "+--------------------------------+--------------------------------------------------+----------+"
      ]
     },
     "metadata": {},
     "output_type": "display_data"
    },
    {
     "data": {
      "text/html": [
       "<pre>| num_factors                    | Factor Dimension                                 | 4        |</pre>"
      ],
      "text/plain": [
       "| num_factors                    | Factor Dimension                                 | 4        |"
      ]
     },
     "metadata": {},
     "output_type": "display_data"
    },
    {
     "data": {
      "text/html": [
       "<pre>| regularization                 | L2 Regularization on Factors                     | 0.01     |</pre>"
      ],
      "text/plain": [
       "| regularization                 | L2 Regularization on Factors                     | 0.01     |"
      ]
     },
     "metadata": {},
     "output_type": "display_data"
    },
    {
     "data": {
      "text/html": [
       "<pre>| solver                         | Solver used for training                         | sgd      |</pre>"
      ],
      "text/plain": [
       "| solver                         | Solver used for training                         | sgd      |"
      ]
     },
     "metadata": {},
     "output_type": "display_data"
    },
    {
     "data": {
      "text/html": [
       "<pre>| linear_regularization          | L2 Regularization on Linear Coefficients         | 1e-010   |</pre>"
      ],
      "text/plain": [
       "| linear_regularization          | L2 Regularization on Linear Coefficients         | 1e-010   |"
      ]
     },
     "metadata": {},
     "output_type": "display_data"
    },
    {
     "data": {
      "text/html": [
       "<pre>| side_data_factorization        | Assign Factors for Side Data                     | True     |</pre>"
      ],
      "text/plain": [
       "| side_data_factorization        | Assign Factors for Side Data                     | True     |"
      ]
     },
     "metadata": {},
     "output_type": "display_data"
    },
    {
     "data": {
      "text/html": [
       "<pre>| max_iterations                 | Maximum Number of Iterations                     | 50       |</pre>"
      ],
      "text/plain": [
       "| max_iterations                 | Maximum Number of Iterations                     | 50       |"
      ]
     },
     "metadata": {},
     "output_type": "display_data"
    },
    {
     "data": {
      "text/html": [
       "<pre>+--------------------------------+--------------------------------------------------+----------+</pre>"
      ],
      "text/plain": [
       "+--------------------------------+--------------------------------------------------+----------+"
      ]
     },
     "metadata": {},
     "output_type": "display_data"
    },
    {
     "data": {
      "text/html": [
       "<pre>  Optimizing model using SGD; tuning step size.</pre>"
      ],
      "text/plain": [
       "  Optimizing model using SGD; tuning step size."
      ]
     },
     "metadata": {},
     "output_type": "display_data"
    },
    {
     "data": {
      "text/html": [
       "<pre>  Using 10000 / 80004 points for tuning the step size.</pre>"
      ],
      "text/plain": [
       "  Using 10000 / 80004 points for tuning the step size."
      ]
     },
     "metadata": {},
     "output_type": "display_data"
    },
    {
     "data": {
      "text/html": [
       "<pre>+---------+-------------------+------------------------------------------+</pre>"
      ],
      "text/plain": [
       "+---------+-------------------+------------------------------------------+"
      ]
     },
     "metadata": {},
     "output_type": "display_data"
    },
    {
     "data": {
      "text/html": [
       "<pre>| Attempt | Initial Step Size | Estimated Objective Value                |</pre>"
      ],
      "text/plain": [
       "| Attempt | Initial Step Size | Estimated Objective Value                |"
      ]
     },
     "metadata": {},
     "output_type": "display_data"
    },
    {
     "data": {
      "text/html": [
       "<pre>+---------+-------------------+------------------------------------------+</pre>"
      ],
      "text/plain": [
       "+---------+-------------------+------------------------------------------+"
      ]
     },
     "metadata": {},
     "output_type": "display_data"
    },
    {
     "data": {
      "text/html": [
       "<pre>| 0       | 0.0920564         | Not Viable                               |</pre>"
      ],
      "text/plain": [
       "| 0       | 0.0920564         | Not Viable                               |"
      ]
     },
     "metadata": {},
     "output_type": "display_data"
    },
    {
     "data": {
      "text/html": [
       "<pre>| 1       | 0.0230141         | Not Viable                               |</pre>"
      ],
      "text/plain": [
       "| 1       | 0.0230141         | Not Viable                               |"
      ]
     },
     "metadata": {},
     "output_type": "display_data"
    },
    {
     "data": {
      "text/html": [
       "<pre>| 2       | 0.00575353        | Not Viable                               |</pre>"
      ],
      "text/plain": [
       "| 2       | 0.00575353        | Not Viable                               |"
      ]
     },
     "metadata": {},
     "output_type": "display_data"
    },
    {
     "data": {
      "text/html": [
       "<pre>| 3       | 0.00143838        | 0.881227                                 |</pre>"
      ],
      "text/plain": [
       "| 3       | 0.00143838        | 0.881227                                 |"
      ]
     },
     "metadata": {},
     "output_type": "display_data"
    },
    {
     "data": {
      "text/html": [
       "<pre>| 4       | 0.000719191       | 0.930701                                 |</pre>"
      ],
      "text/plain": [
       "| 4       | 0.000719191       | 0.930701                                 |"
      ]
     },
     "metadata": {},
     "output_type": "display_data"
    },
    {
     "data": {
      "text/html": [
       "<pre>| 5       | 0.000359595       | 0.978334                                 |</pre>"
      ],
      "text/plain": [
       "| 5       | 0.000359595       | 0.978334                                 |"
      ]
     },
     "metadata": {},
     "output_type": "display_data"
    },
    {
     "data": {
      "text/html": [
       "<pre>| 6       | 0.000179798       | 1.01483                                  |</pre>"
      ],
      "text/plain": [
       "| 6       | 0.000179798       | 1.01483                                  |"
      ]
     },
     "metadata": {},
     "output_type": "display_data"
    },
    {
     "data": {
      "text/html": [
       "<pre>+---------+-------------------+------------------------------------------+</pre>"
      ],
      "text/plain": [
       "+---------+-------------------+------------------------------------------+"
      ]
     },
     "metadata": {},
     "output_type": "display_data"
    },
    {
     "data": {
      "text/html": [
       "<pre>| Final   | 0.00143838        | 0.881227                                 |</pre>"
      ],
      "text/plain": [
       "| Final   | 0.00143838        | 0.881227                                 |"
      ]
     },
     "metadata": {},
     "output_type": "display_data"
    },
    {
     "data": {
      "text/html": [
       "<pre>+---------+-------------------+------------------------------------------+</pre>"
      ],
      "text/plain": [
       "+---------+-------------------+------------------------------------------+"
      ]
     },
     "metadata": {},
     "output_type": "display_data"
    },
    {
     "data": {
      "text/html": [
       "<pre>Starting Optimization.</pre>"
      ],
      "text/plain": [
       "Starting Optimization."
      ]
     },
     "metadata": {},
     "output_type": "display_data"
    },
    {
     "data": {
      "text/html": [
       "<pre>+---------+--------------+-------------------+-----------------------+-------------+</pre>"
      ],
      "text/plain": [
       "+---------+--------------+-------------------+-----------------------+-------------+"
      ]
     },
     "metadata": {},
     "output_type": "display_data"
    },
    {
     "data": {
      "text/html": [
       "<pre>| Iter.   | Elapsed Time | Approx. Objective | Approx. Training RMSE | Step Size   |</pre>"
      ],
      "text/plain": [
       "| Iter.   | Elapsed Time | Approx. Objective | Approx. Training RMSE | Step Size   |"
      ]
     },
     "metadata": {},
     "output_type": "display_data"
    },
    {
     "data": {
      "text/html": [
       "<pre>+---------+--------------+-------------------+-----------------------+-------------+</pre>"
      ],
      "text/plain": [
       "+---------+--------------+-------------------+-----------------------+-------------+"
      ]
     },
     "metadata": {},
     "output_type": "display_data"
    },
    {
     "data": {
      "text/html": [
       "<pre>| Initial | 0us          | 1.13361           | 1.06471               |             |</pre>"
      ],
      "text/plain": [
       "| Initial | 0us          | 1.13361           | 1.06471               |             |"
      ]
     },
     "metadata": {},
     "output_type": "display_data"
    },
    {
     "data": {
      "text/html": [
       "<pre>+---------+--------------+-------------------+-----------------------+-------------+</pre>"
      ],
      "text/plain": [
       "+---------+--------------+-------------------+-----------------------+-------------+"
      ]
     },
     "metadata": {},
     "output_type": "display_data"
    },
    {
     "data": {
      "text/html": [
       "<pre>| 1       | 176.635ms    | 1.05747           | 1.02817               | 0.00143838  |</pre>"
      ],
      "text/plain": [
       "| 1       | 176.635ms    | 1.05747           | 1.02817               | 0.00143838  |"
      ]
     },
     "metadata": {},
     "output_type": "display_data"
    },
    {
     "data": {
      "text/html": [
       "<pre>| 2       | 325.25ms     | 0.860375          | 0.92745               | 0.000668777 |</pre>"
      ],
      "text/plain": [
       "| 2       | 325.25ms     | 0.860375          | 0.92745               | 0.000668777 |"
      ]
     },
     "metadata": {},
     "output_type": "display_data"
    },
    {
     "data": {
      "text/html": [
       "<pre>| 3       | 486.022ms    | 0.833728          | 0.91297               | 0.000435672 |</pre>"
      ],
      "text/plain": [
       "| 3       | 486.022ms    | 0.833728          | 0.91297               | 0.000435672 |"
      ]
     },
     "metadata": {},
     "output_type": "display_data"
    },
    {
     "data": {
      "text/html": [
       "<pre>| 4       | 659.145ms    | 0.816584          | 0.903504              | 0.000323066 |</pre>"
      ],
      "text/plain": [
       "| 4       | 659.145ms    | 0.816584          | 0.903504              | 0.000323066 |"
      ]
     },
     "metadata": {},
     "output_type": "display_data"
    },
    {
     "data": {
      "text/html": [
       "<pre>| 5       | 876.299ms    | 0.797898          | 0.89302               | 0.000256714 |</pre>"
      ],
      "text/plain": [
       "| 5       | 876.299ms    | 0.797898          | 0.89302               | 0.000256714 |"
      ]
     },
     "metadata": {},
     "output_type": "display_data"
    },
    {
     "data": {
      "text/html": [
       "<pre>| 6       | 1.10s        | 0.78621           | 0.886331              | 0.000212973 |</pre>"
      ],
      "text/plain": [
       "| 6       | 1.10s        | 0.78621           | 0.886331              | 0.000212973 |"
      ]
     },
     "metadata": {},
     "output_type": "display_data"
    },
    {
     "data": {
      "text/html": [
       "<pre>| 10      | 1.94s        | 0.767967          | 0.875179              | 0.000126653 |</pre>"
      ],
      "text/plain": [
       "| 10      | 1.94s        | 0.767967          | 0.875179              | 0.000126653 |"
      ]
     },
     "metadata": {},
     "output_type": "display_data"
    },
    {
     "data": {
      "text/html": [
       "<pre>| 11      | 2.20s        | 0.767346          | 0.874457              | 0.000115    |</pre>"
      ],
      "text/plain": [
       "| 11      | 2.20s        | 0.767346          | 0.874457              | 0.000115    |"
      ]
     },
     "metadata": {},
     "output_type": "display_data"
    },
    {
     "data": {
      "text/html": [
       "<pre>| 20      | 4.35s        | 0.760732          | 0.866042              |             |</pre>"
      ],
      "text/plain": [
       "| 20      | 4.35s        | 0.760732          | 0.866042              |             |"
      ]
     },
     "metadata": {},
     "output_type": "display_data"
    },
    {
     "data": {
      "text/html": [
       "<pre>| 30      | 6.42s        | 0.768681          | 0.86758               |             |</pre>"
      ],
      "text/plain": [
       "| 30      | 6.42s        | 0.768681          | 0.86758               |             |"
      ]
     },
     "metadata": {},
     "output_type": "display_data"
    },
    {
     "data": {
      "text/html": [
       "<pre>| 40      | 8.51s        | 0.769115          | 0.867711              |             |</pre>"
      ],
      "text/plain": [
       "| 40      | 8.51s        | 0.769115          | 0.867711              |             |"
      ]
     },
     "metadata": {},
     "output_type": "display_data"
    },
    {
     "data": {
      "text/html": [
       "<pre>| 50      | 10.83s       | 0.769224          | 0.867762              |             |</pre>"
      ],
      "text/plain": [
       "| 50      | 10.83s       | 0.769224          | 0.867762              |             |"
      ]
     },
     "metadata": {},
     "output_type": "display_data"
    },
    {
     "data": {
      "text/html": [
       "<pre>+---------+--------------+-------------------+-----------------------+-------------+</pre>"
      ],
      "text/plain": [
       "+---------+--------------+-------------------+-----------------------+-------------+"
      ]
     },
     "metadata": {},
     "output_type": "display_data"
    },
    {
     "data": {
      "text/html": [
       "<pre>Optimization Complete: Maximum number of passes through the data reached.</pre>"
      ],
      "text/plain": [
       "Optimization Complete: Maximum number of passes through the data reached."
      ]
     },
     "metadata": {},
     "output_type": "display_data"
    },
    {
     "data": {
      "text/html": [
       "<pre>Computing final objective value and training RMSE.</pre>"
      ],
      "text/plain": [
       "Computing final objective value and training RMSE."
      ]
     },
     "metadata": {},
     "output_type": "display_data"
    },
    {
     "data": {
      "text/html": [
       "<pre>       Final objective value: 0.769229</pre>"
      ],
      "text/plain": [
       "       Final objective value: 0.769229"
      ]
     },
     "metadata": {},
     "output_type": "display_data"
    },
    {
     "data": {
      "text/html": [
       "<pre>       Final training RMSE: 0.867765</pre>"
      ],
      "text/plain": [
       "       Final training RMSE: 0.867765"
      ]
     },
     "metadata": {},
     "output_type": "display_data"
    }
   ],
   "source": [
    "sgd_R2 = graphlab.factorization_recommender.create(train, target='rating', user_id='userId', item_id='movieId',user_data = user_metadata, item_data = movie_metadata,solver= \"sgd\" ,regularization=1e-08,num_factors=4)\n",
    "sgd_R3 = graphlab.factorization_recommender.create(train, target='rating', user_id='userId', item_id='movieId',user_data = user_metadata, item_data = movie_metadata,solver= \"sgd\" ,regularization=1e-06,num_factors=4)\n",
    "sgd_R4 = graphlab.factorization_recommender.create(train, target='rating', user_id='userId', item_id='movieId',user_data = user_metadata, item_data = movie_metadata,solver= \"sgd\" ,regularization=1e-04,num_factors=4)\n",
    "sgd_R5 = graphlab.factorization_recommender.create(train, target='rating', user_id='userId', item_id='movieId',user_data = user_metadata, item_data = movie_metadata,solver= \"sgd\" ,regularization=1e-02,num_factors=4)"
   ]
  },
  {
   "cell_type": "code",
   "execution_count": 311,
   "metadata": {},
   "outputs": [
    {
     "name": "stdout",
     "output_type": "stream",
     "text": [
      "PROGRESS: Evaluate model M0\n",
      "\n",
      "Precision and recall summary statistics by cutoff\n",
      "+--------+----------------+------------------+\n",
      "| cutoff | mean_precision |   mean_recall    |\n",
      "+--------+----------------+------------------+\n",
      "|   1    |      0.0       |       0.0        |\n",
      "|   2    |     0.036      | 0.00120597321378 |\n",
      "|   3    |     0.064      | 0.00349376891356 |\n",
      "|   4    |     0.078      | 0.00495793403057 |\n",
      "|   5    |     0.096      | 0.00713748353419 |\n",
      "|   6    | 0.106666666667 | 0.00888194099003 |\n",
      "|   7    | 0.105142857143 | 0.0104237451419  |\n",
      "|   8    |     0.104      | 0.0110617684109  |\n",
      "|   9    |     0.104      | 0.0123912123833  |\n",
      "|   10   |     0.1008     | 0.0130689864238  |\n",
      "+--------+----------------+------------------+\n",
      "[10 rows x 3 columns]\n",
      "\n",
      "PROGRESS: Evaluate model M1\n",
      "\n",
      "Precision and recall summary statistics by cutoff\n",
      "+--------+-----------------+-------------------+\n",
      "| cutoff |  mean_precision |    mean_recall    |\n",
      "+--------+-----------------+-------------------+\n",
      "|   1    |       0.0       |        0.0        |\n",
      "|   2    |       0.0       |        0.0        |\n",
      "|   3    |      0.024      | 0.000812831357025 |\n",
      "|   4    |       0.02      | 0.000817442308034 |\n",
      "|   5    |      0.0192     |  0.00122719840559 |\n",
      "|   6    | 0.0333333333333 |  0.00251744977798 |\n",
      "|   7    | 0.0331428571429 |  0.00265518516514 |\n",
      "|   8    |      0.038      |  0.00329720975621 |\n",
      "|   9    | 0.0355555555556 |  0.00340494549873 |\n",
      "|   10   |      0.0376     |  0.00379103661127 |\n",
      "+--------+-----------------+-------------------+\n",
      "[10 rows x 3 columns]\n",
      "\n",
      "PROGRESS: Evaluate model M2\n",
      "\n",
      "Precision and recall summary statistics by cutoff\n",
      "+--------+------------------+-------------------+\n",
      "| cutoff |  mean_precision  |    mean_recall    |\n",
      "+--------+------------------+-------------------+\n",
      "|   1    |       0.0        |        0.0        |\n",
      "|   2    |      0.004       | 4.61095100865e-06 |\n",
      "|   3    | 0.0106666666667  | 0.000437872647873 |\n",
      "|   4    |       0.01       | 0.000497131907132 |\n",
      "|   5    |      0.008       | 0.000497131907132 |\n",
      "|   6    |      0.008       | 0.000513004923005 |\n",
      "|   7    | 0.00685714285714 | 0.000513004923005 |\n",
      "|   8    |      0.007       | 0.000522761020566 |\n",
      "|   9    | 0.00622222222222 | 0.000522761020566 |\n",
      "|   10   |      0.0064      | 0.000532517118127 |\n",
      "+--------+------------------+-------------------+\n",
      "[10 rows x 3 columns]\n",
      "\n",
      "PROGRESS: Evaluate model M3\n",
      "\n",
      "Precision and recall summary statistics by cutoff\n",
      "+--------+-----------------+-------------------+\n",
      "| cutoff |  mean_precision |    mean_recall    |\n",
      "+--------+-----------------+-------------------+\n",
      "|   1    |       0.0       |        0.0        |\n",
      "|   2    |      0.032      | 0.000677238136686 |\n",
      "|   3    | 0.0213333333333 | 0.000677238136686 |\n",
      "|   4    |      0.022      | 0.000827198405595 |\n",
      "|   5    |      0.0368     |  0.00162832843664 |\n",
      "|   6    |       0.04      |  0.00183834926961 |\n",
      "|   7    |      0.048      |  0.00284930533674 |\n",
      "|   8    |      0.048      |  0.00331496005106 |\n",
      "|   9    | 0.0515555555556 |  0.00365008015618 |\n",
      "|   10   |      0.0512     |  0.00407489002862 |\n",
      "+--------+-----------------+-------------------+\n",
      "[10 rows x 3 columns]\n",
      "\n",
      "Model compare metric: precision_recall\n"
     ]
    },
    {
     "data": {
      "image/png": "[encoded data removed]",
      "text/plain": [
       "<matplotlib.figure.Figure at 0xae94cc50>"
      ]
     },
     "metadata": {},
     "output_type": "display_data"
    },
    {
     "name": "stdout",
     "output_type": "stream",
     "text": [
      "       area                            model\n",
      "0  1.366007  Regularization Parameter: 1e-02\n",
      "1  0.522146  Regularization Parameter: 1e-04\n",
      "2  0.104511  Regularization Parameter: 1e-06\n",
      "3  0.878415  Regularization Parameter: 1e-08\n"
     ]
    }
   ],
   "source": [
    "model_comp1 = graphlab.compare(test, [sgd_R2,sgd_R3,sgd_R4,sgd_R5],target='rating')\n",
    "model_comp1_df = model_comp1.to_dataframe()\n",
    "\n",
    "fig, ax = plt.subplots(1, 1)\n",
    "auc={'model':[], 'area':[]}\n",
    "for i in range(0,len(model_comp1_df.index)):\n",
    "    xy_dict= model_comp1_df.loc[i,\"results\"]['precision_recall']\n",
    "    xy = pd.DataFrame(xy_dict)    \n",
    "    #xy.plot(x='recall',y= 'precision',ax=ax)\n",
    "    label1= \"Regularization Parameter: 1e-0{0}\".format(2*(i+1))\n",
    "    xy.plot(x='recall',y= 'precision',ax=ax,label=label1)\n",
    "    auc['model'].append(label1)\n",
    "    auc['area'].append(np.trapz(xy['precision']))\n",
    "    \n",
    "plt.show()\n",
    "auc_df= pd.DataFrame(auc)\n",
    "print(auc_df)"
   ]
  },
  {
   "cell_type": "code",
   "execution_count": 312,
   "metadata": {},
   "outputs": [
    {
     "data": {
      "image/png": "[encoded data removed]",
      "text/plain": [
       "<matplotlib.figure.Figure at 0xa99462b0>"
      ]
     },
     "metadata": {},
     "output_type": "display_data"
    }
   ],
   "source": [
    "model_comp1 =graphlab.recommender.util.compare_models(test, [sgd_R2,sgd_R3,sgd_R4,sgd_R5], model_names=None,\n",
    "                                         user_sample=1.0, metric='rmse',\n",
    "                                         target='rating', exclude_known_for_precision_recall=True, \n",
    "                                         make_plot=False, verbose=False)\n",
    "\n",
    "rmse_data = {'Regularization Parameter':['1e-02','1e-04','1e-06','1e-08'], 'rmse':[]}\n",
    "for i in range(0,len(model_comp1)):\n",
    "    rmse_data['rmse'].append(model_comp1[i]['rmse_overall'])\n",
    "    \n",
    "\n",
    "rmse_df=pd.DataFrame(rmse_data)\n",
    "rmse_df.plot(x='Regularization Parameter',y='rmse')\n",
    "plt.show()"
   ]
  },
  {
   "cell_type": "markdown",
   "metadata": {},
   "source": [
    "Based on the RMSE and Precision-Recall Curves plotted above, we see that a regularization parameter of 1e-08 has the best performance therefore we set our model to that value"
   ]
  },
  {
   "cell_type": "markdown",
   "metadata": {},
   "source": [
    "Tuning the model by changing number of latent factors in the model:"
   ]
  },
  {
   "cell_type": "code",
   "execution_count": 313,
   "metadata": {},
   "outputs": [
    {
     "data": {
      "text/html": [
       "<pre>Recsys training: model = factorization_recommender</pre>"
      ],
      "text/plain": [
       "Recsys training: model = factorization_recommender"
      ]
     },
     "metadata": {},
     "output_type": "display_data"
    },
    {
     "data": {
      "text/html": [
       "<pre>Preparing data set.</pre>"
      ],
      "text/plain": [
       "Preparing data set."
      ]
     },
     "metadata": {},
     "output_type": "display_data"
    },
    {
     "data": {
      "text/html": [
       "<pre>    Data has 80004 observations with 671 users and 9125 items.</pre>"
      ],
      "text/plain": [
       "    Data has 80004 observations with 671 users and 9125 items."
      ]
     },
     "metadata": {},
     "output_type": "display_data"
    },
    {
     "data": {
      "text/html": [
       "<pre>    Data prepared in: 0.740286s</pre>"
      ],
      "text/plain": [
       "    Data prepared in: 0.740286s"
      ]
     },
     "metadata": {},
     "output_type": "display_data"
    },
    {
     "data": {
      "text/html": [
       "<pre>Training factorization_recommender for recommendations.</pre>"
      ],
      "text/plain": [
       "Training factorization_recommender for recommendations."
      ]
     },
     "metadata": {},
     "output_type": "display_data"
    },
    {
     "data": {
      "text/html": [
       "<pre>+--------------------------------+--------------------------------------------------+----------+</pre>"
      ],
      "text/plain": [
       "+--------------------------------+--------------------------------------------------+----------+"
      ]
     },
     "metadata": {},
     "output_type": "display_data"
    },
    {
     "data": {
      "text/html": [
       "<pre>| Parameter                      | Description                                      | Value    |</pre>"
      ],
      "text/plain": [
       "| Parameter                      | Description                                      | Value    |"
      ]
     },
     "metadata": {},
     "output_type": "display_data"
    },
    {
     "data": {
      "text/html": [
       "<pre>+--------------------------------+--------------------------------------------------+----------+</pre>"
      ],
      "text/plain": [
       "+--------------------------------+--------------------------------------------------+----------+"
      ]
     },
     "metadata": {},
     "output_type": "display_data"
    },
    {
     "data": {
      "text/html": [
       "<pre>| num_factors                    | Factor Dimension                                 | 2        |</pre>"
      ],
      "text/plain": [
       "| num_factors                    | Factor Dimension                                 | 2        |"
      ]
     },
     "metadata": {},
     "output_type": "display_data"
    },
    {
     "data": {
      "text/html": [
       "<pre>| regularization                 | L2 Regularization on Factors                     | 1e-008   |</pre>"
      ],
      "text/plain": [
       "| regularization                 | L2 Regularization on Factors                     | 1e-008   |"
      ]
     },
     "metadata": {},
     "output_type": "display_data"
    },
    {
     "data": {
      "text/html": [
       "<pre>| solver                         | Solver used for training                         | sgd      |</pre>"
      ],
      "text/plain": [
       "| solver                         | Solver used for training                         | sgd      |"
      ]
     },
     "metadata": {},
     "output_type": "display_data"
    },
    {
     "data": {
      "text/html": [
       "<pre>| linear_regularization          | L2 Regularization on Linear Coefficients         | 1e-010   |</pre>"
      ],
      "text/plain": [
       "| linear_regularization          | L2 Regularization on Linear Coefficients         | 1e-010   |"
      ]
     },
     "metadata": {},
     "output_type": "display_data"
    },
    {
     "data": {
      "text/html": [
       "<pre>| side_data_factorization        | Assign Factors for Side Data                     | True     |</pre>"
      ],
      "text/plain": [
       "| side_data_factorization        | Assign Factors for Side Data                     | True     |"
      ]
     },
     "metadata": {},
     "output_type": "display_data"
    },
    {
     "data": {
      "text/html": [
       "<pre>| max_iterations                 | Maximum Number of Iterations                     | 50       |</pre>"
      ],
      "text/plain": [
       "| max_iterations                 | Maximum Number of Iterations                     | 50       |"
      ]
     },
     "metadata": {},
     "output_type": "display_data"
    },
    {
     "data": {
      "text/html": [
       "<pre>+--------------------------------+--------------------------------------------------+----------+</pre>"
      ],
      "text/plain": [
       "+--------------------------------+--------------------------------------------------+----------+"
      ]
     },
     "metadata": {},
     "output_type": "display_data"
    },
    {
     "data": {
      "text/html": [
       "<pre>  Optimizing model using SGD; tuning step size.</pre>"
      ],
      "text/plain": [
       "  Optimizing model using SGD; tuning step size."
      ]
     },
     "metadata": {},
     "output_type": "display_data"
    },
    {
     "data": {
      "text/html": [
       "<pre>  Using 10000 / 80004 points for tuning the step size.</pre>"
      ],
      "text/plain": [
       "  Using 10000 / 80004 points for tuning the step size."
      ]
     },
     "metadata": {},
     "output_type": "display_data"
    },
    {
     "data": {
      "text/html": [
       "<pre>+---------+-------------------+------------------------------------------+</pre>"
      ],
      "text/plain": [
       "+---------+-------------------+------------------------------------------+"
      ]
     },
     "metadata": {},
     "output_type": "display_data"
    },
    {
     "data": {
      "text/html": [
       "<pre>| Attempt | Initial Step Size | Estimated Objective Value                |</pre>"
      ],
      "text/plain": [
       "| Attempt | Initial Step Size | Estimated Objective Value                |"
      ]
     },
     "metadata": {},
     "output_type": "display_data"
    },
    {
     "data": {
      "text/html": [
       "<pre>+---------+-------------------+------------------------------------------+</pre>"
      ],
      "text/plain": [
       "+---------+-------------------+------------------------------------------+"
      ]
     },
     "metadata": {},
     "output_type": "display_data"
    },
    {
     "data": {
      "text/html": [
       "<pre>| 0       | 1.21951           | Not Viable                               |</pre>"
      ],
      "text/plain": [
       "| 0       | 1.21951           | Not Viable                               |"
      ]
     },
     "metadata": {},
     "output_type": "display_data"
    },
    {
     "data": {
      "text/html": [
       "<pre>| 1       | 0.304878          | Not Viable                               |</pre>"
      ],
      "text/plain": [
       "| 1       | 0.304878          | Not Viable                               |"
      ]
     },
     "metadata": {},
     "output_type": "display_data"
    },
    {
     "data": {
      "text/html": [
       "<pre>| 2       | 0.0762195         | Not Viable                               |</pre>"
      ],
      "text/plain": [
       "| 2       | 0.0762195         | Not Viable                               |"
      ]
     },
     "metadata": {},
     "output_type": "display_data"
    },
    {
     "data": {
      "text/html": [
       "<pre>| 3       | 0.0190549         | Not Viable                               |</pre>"
      ],
      "text/plain": [
       "| 3       | 0.0190549         | Not Viable                               |"
      ]
     },
     "metadata": {},
     "output_type": "display_data"
    },
    {
     "data": {
      "text/html": [
       "<pre>| 4       | 0.00476372        | Not Viable                               |</pre>"
      ],
      "text/plain": [
       "| 4       | 0.00476372        | Not Viable                               |"
      ]
     },
     "metadata": {},
     "output_type": "display_data"
    },
    {
     "data": {
      "text/html": [
       "<pre>| 5       | 0.00119093        | Not Viable                               |</pre>"
      ],
      "text/plain": [
       "| 5       | 0.00119093        | Not Viable                               |"
      ]
     },
     "metadata": {},
     "output_type": "display_data"
    },
    {
     "data": {
      "text/html": [
       "<pre>| 6       | 0.000297732       | No Decrease (2.95529 >= 1.12287)         |</pre>"
      ],
      "text/plain": [
       "| 6       | 0.000297732       | No Decrease (2.95529 >= 1.12287)         |"
      ]
     },
     "metadata": {},
     "output_type": "display_data"
    },
    {
     "data": {
      "text/html": [
       "<pre>| 7       | 7.44331e-005      | 1.02761                                  |</pre>"
      ],
      "text/plain": [
       "| 7       | 7.44331e-005      | 1.02761                                  |"
      ]
     },
     "metadata": {},
     "output_type": "display_data"
    },
    {
     "data": {
      "text/html": [
       "<pre>| 8       | 3.72166e-005      | 1.04402                                  |</pre>"
      ],
      "text/plain": [
       "| 8       | 3.72166e-005      | 1.04402                                  |"
      ]
     },
     "metadata": {},
     "output_type": "display_data"
    },
    {
     "data": {
      "text/html": [
       "<pre>| 9       | 1.86083e-005      | 1.06099                                  |</pre>"
      ],
      "text/plain": [
       "| 9       | 1.86083e-005      | 1.06099                                  |"
      ]
     },
     "metadata": {},
     "output_type": "display_data"
    },
    {
     "data": {
      "text/html": [
       "<pre>| 10      | 9.30414e-006      | 1.07689                                  |</pre>"
      ],
      "text/plain": [
       "| 10      | 9.30414e-006      | 1.07689                                  |"
      ]
     },
     "metadata": {},
     "output_type": "display_data"
    },
    {
     "data": {
      "text/html": [
       "<pre>+---------+-------------------+------------------------------------------+</pre>"
      ],
      "text/plain": [
       "+---------+-------------------+------------------------------------------+"
      ]
     },
     "metadata": {},
     "output_type": "display_data"
    },
    {
     "data": {
      "text/html": [
       "<pre>| Final   | 7.44331e-005      | 1.02761                                  |</pre>"
      ],
      "text/plain": [
       "| Final   | 7.44331e-005      | 1.02761                                  |"
      ]
     },
     "metadata": {},
     "output_type": "display_data"
    },
    {
     "data": {
      "text/html": [
       "<pre>+---------+-------------------+------------------------------------------+</pre>"
      ],
      "text/plain": [
       "+---------+-------------------+------------------------------------------+"
      ]
     },
     "metadata": {},
     "output_type": "display_data"
    },
    {
     "data": {
      "text/html": [
       "<pre>Starting Optimization.</pre>"
      ],
      "text/plain": [
       "Starting Optimization."
      ]
     },
     "metadata": {},
     "output_type": "display_data"
    },
    {
     "data": {
      "text/html": [
       "<pre>+---------+--------------+-------------------+-----------------------+-------------+</pre>"
      ],
      "text/plain": [
       "+---------+--------------+-------------------+-----------------------+-------------+"
      ]
     },
     "metadata": {},
     "output_type": "display_data"
    },
    {
     "data": {
      "text/html": [
       "<pre>| Iter.   | Elapsed Time | Approx. Objective | Approx. Training RMSE | Step Size   |</pre>"
      ],
      "text/plain": [
       "| Iter.   | Elapsed Time | Approx. Objective | Approx. Training RMSE | Step Size   |"
      ]
     },
     "metadata": {},
     "output_type": "display_data"
    },
    {
     "data": {
      "text/html": [
       "<pre>+---------+--------------+-------------------+-----------------------+-------------+</pre>"
      ],
      "text/plain": [
       "+---------+--------------+-------------------+-----------------------+-------------+"
      ]
     },
     "metadata": {},
     "output_type": "display_data"
    },
    {
     "data": {
      "text/html": [
       "<pre>| Initial | 0us          | 1.1336            | 1.06471               |             |</pre>"
      ],
      "text/plain": [
       "| Initial | 0us          | 1.1336            | 1.06471               |             |"
      ]
     },
     "metadata": {},
     "output_type": "display_data"
    },
    {
     "data": {
      "text/html": [
       "<pre>+---------+--------------+-------------------+-----------------------+-------------+</pre>"
      ],
      "text/plain": [
       "+---------+--------------+-------------------+-----------------------+-------------+"
      ]
     },
     "metadata": {},
     "output_type": "display_data"
    },
    {
     "data": {
      "text/html": [
       "<pre>| 1       | 202.642ms    | 1.00903           | 1.0045                |             |</pre>"
      ],
      "text/plain": [
       "| 1       | 202.642ms    | 1.00903           | 1.0045                |             |"
      ]
     },
     "metadata": {},
     "output_type": "display_data"
    },
    {
     "data": {
      "text/html": [
       "<pre>| 2       | 374.765ms    | 0.990163          | 0.995069              |             |</pre>"
      ],
      "text/plain": [
       "| 2       | 374.765ms    | 0.990163          | 0.995069              |             |"
      ]
     },
     "metadata": {},
     "output_type": "display_data"
    },
    {
     "data": {
      "text/html": [
       "<pre>| 3       | 601.925ms    | 0.977344          | 0.988607              |             |</pre>"
      ],
      "text/plain": [
       "| 3       | 601.925ms    | 0.977344          | 0.988607              |             |"
      ]
     },
     "metadata": {},
     "output_type": "display_data"
    },
    {
     "data": {
      "text/html": [
       "<pre>| 4       | 792.561ms    | 0.967644          | 0.983689              |             |</pre>"
      ],
      "text/plain": [
       "| 4       | 792.561ms    | 0.967644          | 0.983689              |             |"
      ]
     },
     "metadata": {},
     "output_type": "display_data"
    },
    {
     "data": {
      "text/html": [
       "<pre>| 5       | 1.00s        | 0.965004          | 0.982346              |             |</pre>"
      ],
      "text/plain": [
       "| 5       | 1.00s        | 0.965004          | 0.982346              |             |"
      ]
     },
     "metadata": {},
     "output_type": "display_data"
    },
    {
     "data": {
      "text/html": [
       "<pre>| 6       | 1.26s        | 0.954358          | 0.976912              |             |</pre>"
      ],
      "text/plain": [
       "| 6       | 1.26s        | 0.954358          | 0.976912              |             |"
      ]
     },
     "metadata": {},
     "output_type": "display_data"
    },
    {
     "data": {
      "text/html": [
       "<pre>| 10      | 2.12s        | 0.941927          | 0.970529              |             |</pre>"
      ],
      "text/plain": [
       "| 10      | 2.12s        | 0.941927          | 0.970529              |             |"
      ]
     },
     "metadata": {},
     "output_type": "display_data"
    },
    {
     "data": {
      "text/html": [
       "<pre>| 11      | 2.36s        | 0.937948          | 0.968477              |             |</pre>"
      ],
      "text/plain": [
       "| 11      | 2.36s        | 0.937948          | 0.968477              |             |"
      ]
     },
     "metadata": {},
     "output_type": "display_data"
    },
    {
     "data": {
      "text/html": [
       "<pre>| 15      | 3.01s        | 0.928072          | 0.963365              |             |</pre>"
      ],
      "text/plain": [
       "| 15      | 3.01s        | 0.928072          | 0.963365              |             |"
      ]
     },
     "metadata": {},
     "output_type": "display_data"
    },
    {
     "data": {
      "text/html": [
       "<pre>| 20      | 3.76s        | 0.919447          | 0.958878              |             |</pre>"
      ],
      "text/plain": [
       "| 20      | 3.76s        | 0.919447          | 0.958878              |             |"
      ]
     },
     "metadata": {},
     "output_type": "display_data"
    },
    {
     "data": {
      "text/html": [
       "<pre>| 25      | 4.46s        | 0.910965          | 0.954445              | 6.6575e-006 |</pre>"
      ],
      "text/plain": [
       "| 25      | 4.46s        | 0.910965          | 0.954445              | 6.6575e-006 |"
      ]
     },
     "metadata": {},
     "output_type": "display_data"
    },
    {
     "data": {
      "text/html": [
       "<pre>| 30      | 5.34s        | 0.902938          | 0.950231              |             |</pre>"
      ],
      "text/plain": [
       "| 30      | 5.34s        | 0.902938          | 0.950231              |             |"
      ]
     },
     "metadata": {},
     "output_type": "display_data"
    },
    {
     "data": {
      "text/html": [
       "<pre>| 35      | 6.40s        | 0.897049          | 0.947127              |             |</pre>"
      ],
      "text/plain": [
       "| 35      | 6.40s        | 0.897049          | 0.947127              |             |"
      ]
     },
     "metadata": {},
     "output_type": "display_data"
    },
    {
     "data": {
      "text/html": [
       "<pre>| 40      | 7.44s        | 0.892367          | 0.944652              |             |</pre>"
      ],
      "text/plain": [
       "| 40      | 7.44s        | 0.892367          | 0.944652              |             |"
      ]
     },
     "metadata": {},
     "output_type": "display_data"
    },
    {
     "data": {
      "text/html": [
       "<pre>| 45      | 8.47s        | 0.890336          | 0.943576              |             |</pre>"
      ],
      "text/plain": [
       "| 45      | 8.47s        | 0.890336          | 0.943576              |             |"
      ]
     },
     "metadata": {},
     "output_type": "display_data"
    },
    {
     "data": {
      "text/html": [
       "<pre>| 50      | 9.58s        | 0.889962          | 0.943378              |             |</pre>"
      ],
      "text/plain": [
       "| 50      | 9.58s        | 0.889962          | 0.943378              |             |"
      ]
     },
     "metadata": {},
     "output_type": "display_data"
    },
    {
     "data": {
      "text/html": [
       "<pre>+---------+--------------+-------------------+-----------------------+-------------+</pre>"
      ],
      "text/plain": [
       "+---------+--------------+-------------------+-----------------------+-------------+"
      ]
     },
     "metadata": {},
     "output_type": "display_data"
    },
    {
     "data": {
      "text/html": [
       "<pre>Optimization Complete: Maximum number of passes through the data reached.</pre>"
      ],
      "text/plain": [
       "Optimization Complete: Maximum number of passes through the data reached."
      ]
     },
     "metadata": {},
     "output_type": "display_data"
    },
    {
     "data": {
      "text/html": [
       "<pre>Computing final objective value and training RMSE.</pre>"
      ],
      "text/plain": [
       "Computing final objective value and training RMSE."
      ]
     },
     "metadata": {},
     "output_type": "display_data"
    },
    {
     "data": {
      "text/html": [
       "<pre>       Final objective value: 0.889877</pre>"
      ],
      "text/plain": [
       "       Final objective value: 0.889877"
      ]
     },
     "metadata": {},
     "output_type": "display_data"
    },
    {
     "data": {
      "text/html": [
       "<pre>       Final training RMSE: 0.943333</pre>"
      ],
      "text/plain": [
       "       Final training RMSE: 0.943333"
      ]
     },
     "metadata": {},
     "output_type": "display_data"
    },
    {
     "data": {
      "text/html": [
       "<pre>Recsys training: model = factorization_recommender</pre>"
      ],
      "text/plain": [
       "Recsys training: model = factorization_recommender"
      ]
     },
     "metadata": {},
     "output_type": "display_data"
    },
    {
     "data": {
      "text/html": [
       "<pre>Preparing data set.</pre>"
      ],
      "text/plain": [
       "Preparing data set."
      ]
     },
     "metadata": {},
     "output_type": "display_data"
    },
    {
     "data": {
      "text/html": [
       "<pre>    Data has 80004 observations with 671 users and 9125 items.</pre>"
      ],
      "text/plain": [
       "    Data has 80004 observations with 671 users and 9125 items."
      ]
     },
     "metadata": {},
     "output_type": "display_data"
    },
    {
     "data": {
      "text/html": [
       "<pre>    Data prepared in: 1.0764s</pre>"
      ],
      "text/plain": [
       "    Data prepared in: 1.0764s"
      ]
     },
     "metadata": {},
     "output_type": "display_data"
    },
    {
     "data": {
      "text/html": [
       "<pre>Training factorization_recommender for recommendations.</pre>"
      ],
      "text/plain": [
       "Training factorization_recommender for recommendations."
      ]
     },
     "metadata": {},
     "output_type": "display_data"
    },
    {
     "data": {
      "text/html": [
       "<pre>+--------------------------------+--------------------------------------------------+----------+</pre>"
      ],
      "text/plain": [
       "+--------------------------------+--------------------------------------------------+----------+"
      ]
     },
     "metadata": {},
     "output_type": "display_data"
    },
    {
     "data": {
      "text/html": [
       "<pre>| Parameter                      | Description                                      | Value    |</pre>"
      ],
      "text/plain": [
       "| Parameter                      | Description                                      | Value    |"
      ]
     },
     "metadata": {},
     "output_type": "display_data"
    },
    {
     "data": {
      "text/html": [
       "<pre>+--------------------------------+--------------------------------------------------+----------+</pre>"
      ],
      "text/plain": [
       "+--------------------------------+--------------------------------------------------+----------+"
      ]
     },
     "metadata": {},
     "output_type": "display_data"
    },
    {
     "data": {
      "text/html": [
       "<pre>| num_factors                    | Factor Dimension                                 | 4        |</pre>"
      ],
      "text/plain": [
       "| num_factors                    | Factor Dimension                                 | 4        |"
      ]
     },
     "metadata": {},
     "output_type": "display_data"
    },
    {
     "data": {
      "text/html": [
       "<pre>| regularization                 | L2 Regularization on Factors                     | 1e-008   |</pre>"
      ],
      "text/plain": [
       "| regularization                 | L2 Regularization on Factors                     | 1e-008   |"
      ]
     },
     "metadata": {},
     "output_type": "display_data"
    },
    {
     "data": {
      "text/html": [
       "<pre>| solver                         | Solver used for training                         | sgd      |</pre>"
      ],
      "text/plain": [
       "| solver                         | Solver used for training                         | sgd      |"
      ]
     },
     "metadata": {},
     "output_type": "display_data"
    },
    {
     "data": {
      "text/html": [
       "<pre>| linear_regularization          | L2 Regularization on Linear Coefficients         | 1e-010   |</pre>"
      ],
      "text/plain": [
       "| linear_regularization          | L2 Regularization on Linear Coefficients         | 1e-010   |"
      ]
     },
     "metadata": {},
     "output_type": "display_data"
    },
    {
     "data": {
      "text/html": [
       "<pre>| side_data_factorization        | Assign Factors for Side Data                     | True     |</pre>"
      ],
      "text/plain": [
       "| side_data_factorization        | Assign Factors for Side Data                     | True     |"
      ]
     },
     "metadata": {},
     "output_type": "display_data"
    },
    {
     "data": {
      "text/html": [
       "<pre>| max_iterations                 | Maximum Number of Iterations                     | 50       |</pre>"
      ],
      "text/plain": [
       "| max_iterations                 | Maximum Number of Iterations                     | 50       |"
      ]
     },
     "metadata": {},
     "output_type": "display_data"
    },
    {
     "data": {
      "text/html": [
       "<pre>+--------------------------------+--------------------------------------------------+----------+</pre>"
      ],
      "text/plain": [
       "+--------------------------------+--------------------------------------------------+----------+"
      ]
     },
     "metadata": {},
     "output_type": "display_data"
    },
    {
     "data": {
      "text/html": [
       "<pre>  Optimizing model using SGD; tuning step size.</pre>"
      ],
      "text/plain": [
       "  Optimizing model using SGD; tuning step size."
      ]
     },
     "metadata": {},
     "output_type": "display_data"
    },
    {
     "data": {
      "text/html": [
       "<pre>  Using 10000 / 80004 points for tuning the step size.</pre>"
      ],
      "text/plain": [
       "  Using 10000 / 80004 points for tuning the step size."
      ]
     },
     "metadata": {},
     "output_type": "display_data"
    },
    {
     "data": {
      "text/html": [
       "<pre>+---------+-------------------+------------------------------------------+</pre>"
      ],
      "text/plain": [
       "+---------+-------------------+------------------------------------------+"
      ]
     },
     "metadata": {},
     "output_type": "display_data"
    },
    {
     "data": {
      "text/html": [
       "<pre>| Attempt | Initial Step Size | Estimated Objective Value                |</pre>"
      ],
      "text/plain": [
       "| Attempt | Initial Step Size | Estimated Objective Value                |"
      ]
     },
     "metadata": {},
     "output_type": "display_data"
    },
    {
     "data": {
      "text/html": [
       "<pre>+---------+-------------------+------------------------------------------+</pre>"
      ],
      "text/plain": [
       "+---------+-------------------+------------------------------------------+"
      ]
     },
     "metadata": {},
     "output_type": "display_data"
    },
    {
     "data": {
      "text/html": [
       "<pre>| 0       | 1.21951           | Not Viable                               |</pre>"
      ],
      "text/plain": [
       "| 0       | 1.21951           | Not Viable                               |"
      ]
     },
     "metadata": {},
     "output_type": "display_data"
    },
    {
     "data": {
      "text/html": [
       "<pre>| 1       | 0.304878          | Not Viable                               |</pre>"
      ],
      "text/plain": [
       "| 1       | 0.304878          | Not Viable                               |"
      ]
     },
     "metadata": {},
     "output_type": "display_data"
    },
    {
     "data": {
      "text/html": [
       "<pre>| 2       | 0.0762195         | Not Viable                               |</pre>"
      ],
      "text/plain": [
       "| 2       | 0.0762195         | Not Viable                               |"
      ]
     },
     "metadata": {},
     "output_type": "display_data"
    },
    {
     "data": {
      "text/html": [
       "<pre>| 3       | 0.0190549         | Not Viable                               |</pre>"
      ],
      "text/plain": [
       "| 3       | 0.0190549         | Not Viable                               |"
      ]
     },
     "metadata": {},
     "output_type": "display_data"
    },
    {
     "data": {
      "text/html": [
       "<pre>| 4       | 0.00476372        | Not Viable                               |</pre>"
      ],
      "text/plain": [
       "| 4       | 0.00476372        | Not Viable                               |"
      ]
     },
     "metadata": {},
     "output_type": "display_data"
    },
    {
     "data": {
      "text/html": [
       "<pre>| 5       | 0.00119093        | 0.89242                                  |</pre>"
      ],
      "text/plain": [
       "| 5       | 0.00119093        | 0.89242                                  |"
      ]
     },
     "metadata": {},
     "output_type": "display_data"
    },
    {
     "data": {
      "text/html": [
       "<pre>| 6       | 0.000595465       | 0.953485                                 |</pre>"
      ],
      "text/plain": [
       "| 6       | 0.000595465       | 0.953485                                 |"
      ]
     },
     "metadata": {},
     "output_type": "display_data"
    },
    {
     "data": {
      "text/html": [
       "<pre>| 7       | 0.000297732       | 1.03091                                  |</pre>"
      ],
      "text/plain": [
       "| 7       | 0.000297732       | 1.03091                                  |"
      ]
     },
     "metadata": {},
     "output_type": "display_data"
    },
    {
     "data": {
      "text/html": [
       "<pre>| 8       | 0.000148866       | 1.03028                                  |</pre>"
      ],
      "text/plain": [
       "| 8       | 0.000148866       | 1.03028                                  |"
      ]
     },
     "metadata": {},
     "output_type": "display_data"
    },
    {
     "data": {
      "text/html": [
       "<pre>+---------+-------------------+------------------------------------------+</pre>"
      ],
      "text/plain": [
       "+---------+-------------------+------------------------------------------+"
      ]
     },
     "metadata": {},
     "output_type": "display_data"
    },
    {
     "data": {
      "text/html": [
       "<pre>| Final   | 0.00119093        | 0.89242                                  |</pre>"
      ],
      "text/plain": [
       "| Final   | 0.00119093        | 0.89242                                  |"
      ]
     },
     "metadata": {},
     "output_type": "display_data"
    },
    {
     "data": {
      "text/html": [
       "<pre>+---------+-------------------+------------------------------------------+</pre>"
      ],
      "text/plain": [
       "+---------+-------------------+------------------------------------------+"
      ]
     },
     "metadata": {},
     "output_type": "display_data"
    },
    {
     "data": {
      "text/html": [
       "<pre>Starting Optimization.</pre>"
      ],
      "text/plain": [
       "Starting Optimization."
      ]
     },
     "metadata": {},
     "output_type": "display_data"
    },
    {
     "data": {
      "text/html": [
       "<pre>+---------+--------------+-------------------+-----------------------+-------------+</pre>"
      ],
      "text/plain": [
       "+---------+--------------+-------------------+-----------------------+-------------+"
      ]
     },
     "metadata": {},
     "output_type": "display_data"
    },
    {
     "data": {
      "text/html": [
       "<pre>| Iter.   | Elapsed Time | Approx. Objective | Approx. Training RMSE | Step Size   |</pre>"
      ],
      "text/plain": [
       "| Iter.   | Elapsed Time | Approx. Objective | Approx. Training RMSE | Step Size   |"
      ]
     },
     "metadata": {},
     "output_type": "display_data"
    },
    {
     "data": {
      "text/html": [
       "<pre>+---------+--------------+-------------------+-----------------------+-------------+</pre>"
      ],
      "text/plain": [
       "+---------+--------------+-------------------+-----------------------+-------------+"
      ]
     },
     "metadata": {},
     "output_type": "display_data"
    },
    {
     "data": {
      "text/html": [
       "<pre>| Initial | 0us          | 1.13357           | 1.06469               |             |</pre>"
      ],
      "text/plain": [
       "| Initial | 0us          | 1.13357           | 1.06469               |             |"
      ]
     },
     "metadata": {},
     "output_type": "display_data"
    },
    {
     "data": {
      "text/html": [
       "<pre>+---------+--------------+-------------------+-----------------------+-------------+</pre>"
      ],
      "text/plain": [
       "+---------+--------------+-------------------+-----------------------+-------------+"
      ]
     },
     "metadata": {},
     "output_type": "display_data"
    },
    {
     "data": {
      "text/html": [
       "<pre>| 1       | 251.679ms    | 1.02812           | 1.01396               | 0.00119093  |</pre>"
      ],
      "text/plain": [
       "| 1       | 251.679ms    | 1.02812           | 1.01396               | 0.00119093  |"
      ]
     },
     "metadata": {},
     "output_type": "display_data"
    },
    {
     "data": {
      "text/html": [
       "<pre>| 2       | 518.37ms     | 0.878893          | 0.937493              | 0.000708131 |</pre>"
      ],
      "text/plain": [
       "| 2       | 518.37ms     | 0.878893          | 0.937493              | 0.000708131 |"
      ]
     },
     "metadata": {},
     "output_type": "display_data"
    },
    {
     "data": {
      "text/html": [
       "<pre>| 3       | 691.993ms    | 0.835567          | 0.914094              | 0.000522451 |</pre>"
      ],
      "text/plain": [
       "| 3       | 691.993ms    | 0.835567          | 0.914094              | 0.000522451 |"
      ]
     },
     "metadata": {},
     "output_type": "display_data"
    },
    {
     "data": {
      "text/html": [
       "<pre>| 4       | 958.68ms     | 0.824429          | 0.907981              | 0.000421057 |</pre>"
      ],
      "text/plain": [
       "| 4       | 958.68ms     | 0.824429          | 0.907981              | 0.000421057 |"
      ]
     },
     "metadata": {},
     "output_type": "display_data"
    },
    {
     "data": {
      "text/html": [
       "<pre>| 5       | 1.17s        | 0.849946          | 0.921925              | 0.000356171 |</pre>"
      ],
      "text/plain": [
       "| 5       | 1.17s        | 0.849946          | 0.921925              | 0.000356171 |"
      ]
     },
     "metadata": {},
     "output_type": "display_data"
    },
    {
     "data": {
      "text/html": [
       "<pre>| 6       | 1.35s        | 0.778696          | 0.882438              | 0.000261225 |</pre>"
      ],
      "text/plain": [
       "| 6       | 1.35s        | 0.778696          | 0.882438              | 0.000261225 |"
      ]
     },
     "metadata": {},
     "output_type": "display_data"
    },
    {
     "data": {
      "text/html": [
       "<pre>| 10      | 2.19s        | 0.762176          | 0.873027              |             |</pre>"
      ],
      "text/plain": [
       "| 10      | 2.19s        | 0.762176          | 0.873027              |             |"
      ]
     },
     "metadata": {},
     "output_type": "display_data"
    },
    {
     "data": {
      "text/html": [
       "<pre>| 11      | 2.36s        | 0.777859          | 0.881963              |             |</pre>"
      ],
      "text/plain": [
       "| 11      | 2.36s        | 0.777859          | 0.881963              |             |"
      ]
     },
     "metadata": {},
     "output_type": "display_data"
    },
    {
     "data": {
      "text/html": [
       "<pre>| 15      | 2.96s        | 0.812065          | 0.901146              |             |</pre>"
      ],
      "text/plain": [
       "| 15      | 2.96s        | 0.812065          | 0.901146              |             |"
      ]
     },
     "metadata": {},
     "output_type": "display_data"
    },
    {
     "data": {
      "text/html": [
       "<pre>| 20      | 3.94s        | 0.813333          | 0.90185               |             |</pre>"
      ],
      "text/plain": [
       "| 20      | 3.94s        | 0.813333          | 0.90185               |             |"
      ]
     },
     "metadata": {},
     "output_type": "display_data"
    },
    {
     "data": {
      "text/html": [
       "<pre>| 25      | 4.96s        | 0.81768           | 0.904257              |             |</pre>"
      ],
      "text/plain": [
       "| 25      | 4.96s        | 0.81768           | 0.904257              |             |"
      ]
     },
     "metadata": {},
     "output_type": "display_data"
    },
    {
     "data": {
      "text/html": [
       "<pre>| 30      | 5.76s        | 0.818419          | 0.904665              |             |</pre>"
      ],
      "text/plain": [
       "| 30      | 5.76s        | 0.818419          | 0.904665              |             |"
      ]
     },
     "metadata": {},
     "output_type": "display_data"
    },
    {
     "data": {
      "text/html": [
       "<pre>| 35      | 6.83s        | 0.818924          | 0.904944              |             |</pre>"
      ],
      "text/plain": [
       "| 35      | 6.83s        | 0.818924          | 0.904944              |             |"
      ]
     },
     "metadata": {},
     "output_type": "display_data"
    },
    {
     "data": {
      "text/html": [
       "<pre>| 40      | 7.71s        | 0.818933          | 0.904949              |             |</pre>"
      ],
      "text/plain": [
       "| 40      | 7.71s        | 0.818933          | 0.904949              |             |"
      ]
     },
     "metadata": {},
     "output_type": "display_data"
    },
    {
     "data": {
      "text/html": [
       "<pre>| 45      | 8.36s        | 0.818741          | 0.904843              |             |</pre>"
      ],
      "text/plain": [
       "| 45      | 8.36s        | 0.818741          | 0.904843              |             |"
      ]
     },
     "metadata": {},
     "output_type": "display_data"
    },
    {
     "data": {
      "text/html": [
       "<pre>| 50      | 9.03s        | 0.818569          | 0.904748              |             |</pre>"
      ],
      "text/plain": [
       "| 50      | 9.03s        | 0.818569          | 0.904748              |             |"
      ]
     },
     "metadata": {},
     "output_type": "display_data"
    },
    {
     "data": {
      "text/html": [
       "<pre>+---------+--------------+-------------------+-----------------------+-------------+</pre>"
      ],
      "text/plain": [
       "+---------+--------------+-------------------+-----------------------+-------------+"
      ]
     },
     "metadata": {},
     "output_type": "display_data"
    },
    {
     "data": {
      "text/html": [
       "<pre>Optimization Complete: Maximum number of passes through the data reached.</pre>"
      ],
      "text/plain": [
       "Optimization Complete: Maximum number of passes through the data reached."
      ]
     },
     "metadata": {},
     "output_type": "display_data"
    },
    {
     "data": {
      "text/html": [
       "<pre>Computing final objective value and training RMSE.</pre>"
      ],
      "text/plain": [
       "Computing final objective value and training RMSE."
      ]
     },
     "metadata": {},
     "output_type": "display_data"
    },
    {
     "data": {
      "text/html": [
       "<pre>       Final objective value: 0.818542</pre>"
      ],
      "text/plain": [
       "       Final objective value: 0.818542"
      ]
     },
     "metadata": {},
     "output_type": "display_data"
    },
    {
     "data": {
      "text/html": [
       "<pre>       Final training RMSE: 0.904733</pre>"
      ],
      "text/plain": [
       "       Final training RMSE: 0.904733"
      ]
     },
     "metadata": {},
     "output_type": "display_data"
    },
    {
     "data": {
      "text/html": [
       "<pre>Recsys training: model = factorization_recommender</pre>"
      ],
      "text/plain": [
       "Recsys training: model = factorization_recommender"
      ]
     },
     "metadata": {},
     "output_type": "display_data"
    },
    {
     "data": {
      "text/html": [
       "<pre>Preparing data set.</pre>"
      ],
      "text/plain": [
       "Preparing data set."
      ]
     },
     "metadata": {},
     "output_type": "display_data"
    },
    {
     "data": {
      "text/html": [
       "<pre>    Data has 80004 observations with 671 users and 9125 items.</pre>"
      ],
      "text/plain": [
       "    Data has 80004 observations with 671 users and 9125 items."
      ]
     },
     "metadata": {},
     "output_type": "display_data"
    },
    {
     "data": {
      "text/html": [
       "<pre>    Data prepared in: 0.857628s</pre>"
      ],
      "text/plain": [
       "    Data prepared in: 0.857628s"
      ]
     },
     "metadata": {},
     "output_type": "display_data"
    },
    {
     "data": {
      "text/html": [
       "<pre>Training factorization_recommender for recommendations.</pre>"
      ],
      "text/plain": [
       "Training factorization_recommender for recommendations."
      ]
     },
     "metadata": {},
     "output_type": "display_data"
    },
    {
     "data": {
      "text/html": [
       "<pre>+--------------------------------+--------------------------------------------------+----------+</pre>"
      ],
      "text/plain": [
       "+--------------------------------+--------------------------------------------------+----------+"
      ]
     },
     "metadata": {},
     "output_type": "display_data"
    },
    {
     "data": {
      "text/html": [
       "<pre>| Parameter                      | Description                                      | Value    |</pre>"
      ],
      "text/plain": [
       "| Parameter                      | Description                                      | Value    |"
      ]
     },
     "metadata": {},
     "output_type": "display_data"
    },
    {
     "data": {
      "text/html": [
       "<pre>+--------------------------------+--------------------------------------------------+----------+</pre>"
      ],
      "text/plain": [
       "+--------------------------------+--------------------------------------------------+----------+"
      ]
     },
     "metadata": {},
     "output_type": "display_data"
    },
    {
     "data": {
      "text/html": [
       "<pre>| num_factors                    | Factor Dimension                                 | 6        |</pre>"
      ],
      "text/plain": [
       "| num_factors                    | Factor Dimension                                 | 6        |"
      ]
     },
     "metadata": {},
     "output_type": "display_data"
    },
    {
     "data": {
      "text/html": [
       "<pre>| regularization                 | L2 Regularization on Factors                     | 1e-008   |</pre>"
      ],
      "text/plain": [
       "| regularization                 | L2 Regularization on Factors                     | 1e-008   |"
      ]
     },
     "metadata": {},
     "output_type": "display_data"
    },
    {
     "data": {
      "text/html": [
       "<pre>| solver                         | Solver used for training                         | sgd      |</pre>"
      ],
      "text/plain": [
       "| solver                         | Solver used for training                         | sgd      |"
      ]
     },
     "metadata": {},
     "output_type": "display_data"
    },
    {
     "data": {
      "text/html": [
       "<pre>| linear_regularization          | L2 Regularization on Linear Coefficients         | 1e-010   |</pre>"
      ],
      "text/plain": [
       "| linear_regularization          | L2 Regularization on Linear Coefficients         | 1e-010   |"
      ]
     },
     "metadata": {},
     "output_type": "display_data"
    },
    {
     "data": {
      "text/html": [
       "<pre>| side_data_factorization        | Assign Factors for Side Data                     | True     |</pre>"
      ],
      "text/plain": [
       "| side_data_factorization        | Assign Factors for Side Data                     | True     |"
      ]
     },
     "metadata": {},
     "output_type": "display_data"
    },
    {
     "data": {
      "text/html": [
       "<pre>| max_iterations                 | Maximum Number of Iterations                     | 50       |</pre>"
      ],
      "text/plain": [
       "| max_iterations                 | Maximum Number of Iterations                     | 50       |"
      ]
     },
     "metadata": {},
     "output_type": "display_data"
    },
    {
     "data": {
      "text/html": [
       "<pre>+--------------------------------+--------------------------------------------------+----------+</pre>"
      ],
      "text/plain": [
       "+--------------------------------+--------------------------------------------------+----------+"
      ]
     },
     "metadata": {},
     "output_type": "display_data"
    },
    {
     "data": {
      "text/html": [
       "<pre>  Optimizing model using SGD; tuning step size.</pre>"
      ],
      "text/plain": [
       "  Optimizing model using SGD; tuning step size."
      ]
     },
     "metadata": {},
     "output_type": "display_data"
    },
    {
     "data": {
      "text/html": [
       "<pre>  Using 10000 / 80004 points for tuning the step size.</pre>"
      ],
      "text/plain": [
       "  Using 10000 / 80004 points for tuning the step size."
      ]
     },
     "metadata": {},
     "output_type": "display_data"
    },
    {
     "data": {
      "text/html": [
       "<pre>+---------+-------------------+------------------------------------------+</pre>"
      ],
      "text/plain": [
       "+---------+-------------------+------------------------------------------+"
      ]
     },
     "metadata": {},
     "output_type": "display_data"
    },
    {
     "data": {
      "text/html": [
       "<pre>| Attempt | Initial Step Size | Estimated Objective Value                |</pre>"
      ],
      "text/plain": [
       "| Attempt | Initial Step Size | Estimated Objective Value                |"
      ]
     },
     "metadata": {},
     "output_type": "display_data"
    },
    {
     "data": {
      "text/html": [
       "<pre>+---------+-------------------+------------------------------------------+</pre>"
      ],
      "text/plain": [
       "+---------+-------------------+------------------------------------------+"
      ]
     },
     "metadata": {},
     "output_type": "display_data"
    },
    {
     "data": {
      "text/html": [
       "<pre>| 0       | 1.21951           | Not Viable                               |</pre>"
      ],
      "text/plain": [
       "| 0       | 1.21951           | Not Viable                               |"
      ]
     },
     "metadata": {},
     "output_type": "display_data"
    },
    {
     "data": {
      "text/html": [
       "<pre>| 1       | 0.304878          | Not Viable                               |</pre>"
      ],
      "text/plain": [
       "| 1       | 0.304878          | Not Viable                               |"
      ]
     },
     "metadata": {},
     "output_type": "display_data"
    },
    {
     "data": {
      "text/html": [
       "<pre>| 2       | 0.0762195         | Not Viable                               |</pre>"
      ],
      "text/plain": [
       "| 2       | 0.0762195         | Not Viable                               |"
      ]
     },
     "metadata": {},
     "output_type": "display_data"
    },
    {
     "data": {
      "text/html": [
       "<pre>| 3       | 0.0190549         | Not Viable                               |</pre>"
      ],
      "text/plain": [
       "| 3       | 0.0190549         | Not Viable                               |"
      ]
     },
     "metadata": {},
     "output_type": "display_data"
    },
    {
     "data": {
      "text/html": [
       "<pre>| 4       | 0.00476372        | 0.787087                                 |</pre>"
      ],
      "text/plain": [
       "| 4       | 0.00476372        | 0.787087                                 |"
      ]
     },
     "metadata": {},
     "output_type": "display_data"
    },
    {
     "data": {
      "text/html": [
       "<pre>| 5       | 0.00238186        | 0.863499                                 |</pre>"
      ],
      "text/plain": [
       "| 5       | 0.00238186        | 0.863499                                 |"
      ]
     },
     "metadata": {},
     "output_type": "display_data"
    },
    {
     "data": {
      "text/html": [
       "<pre>| 6       | 0.00119093        | 0.878738                                 |</pre>"
      ],
      "text/plain": [
       "| 6       | 0.00119093        | 0.878738                                 |"
      ]
     },
     "metadata": {},
     "output_type": "display_data"
    },
    {
     "data": {
      "text/html": [
       "<pre>| 7       | 0.000595465       | 0.912818                                 |</pre>"
      ],
      "text/plain": [
       "| 7       | 0.000595465       | 0.912818                                 |"
      ]
     },
     "metadata": {},
     "output_type": "display_data"
    },
    {
     "data": {
      "text/html": [
       "<pre>+---------+-------------------+------------------------------------------+</pre>"
      ],
      "text/plain": [
       "+---------+-------------------+------------------------------------------+"
      ]
     },
     "metadata": {},
     "output_type": "display_data"
    },
    {
     "data": {
      "text/html": [
       "<pre>| Final   | 0.00476372        | 0.787087                                 |</pre>"
      ],
      "text/plain": [
       "| Final   | 0.00476372        | 0.787087                                 |"
      ]
     },
     "metadata": {},
     "output_type": "display_data"
    },
    {
     "data": {
      "text/html": [
       "<pre>+---------+-------------------+------------------------------------------+</pre>"
      ],
      "text/plain": [
       "+---------+-------------------+------------------------------------------+"
      ]
     },
     "metadata": {},
     "output_type": "display_data"
    },
    {
     "data": {
      "text/html": [
       "<pre>Starting Optimization.</pre>"
      ],
      "text/plain": [
       "Starting Optimization."
      ]
     },
     "metadata": {},
     "output_type": "display_data"
    },
    {
     "data": {
      "text/html": [
       "<pre>+---------+--------------+-------------------+-----------------------+-------------+</pre>"
      ],
      "text/plain": [
       "+---------+--------------+-------------------+-----------------------+-------------+"
      ]
     },
     "metadata": {},
     "output_type": "display_data"
    },
    {
     "data": {
      "text/html": [
       "<pre>| Iter.   | Elapsed Time | Approx. Objective | Approx. Training RMSE | Step Size   |</pre>"
      ],
      "text/plain": [
       "| Iter.   | Elapsed Time | Approx. Objective | Approx. Training RMSE | Step Size   |"
      ]
     },
     "metadata": {},
     "output_type": "display_data"
    },
    {
     "data": {
      "text/html": [
       "<pre>+---------+--------------+-------------------+-----------------------+-------------+</pre>"
      ],
      "text/plain": [
       "+---------+--------------+-------------------+-----------------------+-------------+"
      ]
     },
     "metadata": {},
     "output_type": "display_data"
    },
    {
     "data": {
      "text/html": [
       "<pre>| Initial | 500us        | 1.13369           | 1.06475               |             |</pre>"
      ],
      "text/plain": [
       "| Initial | 500us        | 1.13369           | 1.06475               |             |"
      ]
     },
     "metadata": {},
     "output_type": "display_data"
    },
    {
     "data": {
      "text/html": [
       "<pre>+---------+--------------+-------------------+-----------------------+-------------+</pre>"
      ],
      "text/plain": [
       "+---------+--------------+-------------------+-----------------------+-------------+"
      ]
     },
     "metadata": {},
     "output_type": "display_data"
    },
    {
     "data": {
      "text/html": [
       "<pre>| 1       | 398.283ms    | DIVERGED          | DIVERGED              | 0.00476372  |</pre>"
      ],
      "text/plain": [
       "| 1       | 398.283ms    | DIVERGED          | DIVERGED              | 0.00476372  |"
      ]
     },
     "metadata": {},
     "output_type": "display_data"
    },
    {
     "data": {
      "text/html": [
       "<pre>| RESET   | 508.861ms    | 1.13393           | 1.06486               |             |</pre>"
      ],
      "text/plain": [
       "| RESET   | 508.861ms    | 1.13393           | 1.06486               |             |"
      ]
     },
     "metadata": {},
     "output_type": "display_data"
    },
    {
     "data": {
      "text/html": [
       "<pre>| 1       | 910.146ms    | DIVERGED          | DIVERGED              | 0.00238186  |</pre>"
      ],
      "text/plain": [
       "| 1       | 910.146ms    | DIVERGED          | DIVERGED              | 0.00238186  |"
      ]
     },
     "metadata": {},
     "output_type": "display_data"
    },
    {
     "data": {
      "text/html": [
       "<pre>| RESET   | 1.05s        | 1.1337            | 1.06475               |             |</pre>"
      ],
      "text/plain": [
       "| RESET   | 1.05s        | 1.1337            | 1.06475               |             |"
      ]
     },
     "metadata": {},
     "output_type": "display_data"
    },
    {
     "data": {
      "text/html": [
       "<pre>| 1       | 1.41s        | DIVERGED          | DIVERGED              | 0.00119093  |</pre>"
      ],
      "text/plain": [
       "| 1       | 1.41s        | DIVERGED          | DIVERGED              | 0.00119093  |"
      ]
     },
     "metadata": {},
     "output_type": "display_data"
    },
    {
     "data": {
      "text/html": [
       "<pre>| RESET   | 1.54s        | 1.1339            | 1.06485               |             |</pre>"
      ],
      "text/plain": [
       "| RESET   | 1.54s        | 1.1339            | 1.06485               |             |"
      ]
     },
     "metadata": {},
     "output_type": "display_data"
    },
    {
     "data": {
      "text/html": [
       "<pre>| 1       | 1.82s        | 0.982754          | 0.99134               | 0.000595465 |</pre>"
      ],
      "text/plain": [
       "| 1       | 1.82s        | 0.982754          | 0.99134               | 0.000595465 |"
      ]
     },
     "metadata": {},
     "output_type": "display_data"
    },
    {
     "data": {
      "text/html": [
       "<pre>| 2       | 2.03s        | 0.890145          | 0.943475              | 0.000354066 |</pre>"
      ],
      "text/plain": [
       "| 2       | 2.03s        | 0.890145          | 0.943475              | 0.000354066 |"
      ]
     },
     "metadata": {},
     "output_type": "display_data"
    },
    {
     "data": {
      "text/html": [
       "<pre>| 3       | 2.26s        | 0.877174          | 0.936576              | 0.000261225 |</pre>"
      ],
      "text/plain": [
       "| 3       | 2.26s        | 0.877174          | 0.936576              | 0.000261225 |"
      ]
     },
     "metadata": {},
     "output_type": "display_data"
    },
    {
     "data": {
      "text/html": [
       "<pre>| 4       | 2.56s        | 0.842318          | 0.917779              | 0.000210529 |</pre>"
      ],
      "text/plain": [
       "| 4       | 2.56s        | 0.842318          | 0.917779              | 0.000210529 |"
      ]
     },
     "metadata": {},
     "output_type": "display_data"
    },
    {
     "data": {
      "text/html": [
       "<pre>| 5       | 2.78s        | 0.890865          | 0.943857              | 0.000178086 |</pre>"
      ],
      "text/plain": [
       "| 5       | 2.78s        | 0.890865          | 0.943857              | 0.000178086 |"
      ]
     },
     "metadata": {},
     "output_type": "display_data"
    },
    {
     "data": {
      "text/html": [
       "<pre>| 6       | 3.07s        | 0.823476          | 0.907456              | 0.000130613 |</pre>"
      ],
      "text/plain": [
       "| 6       | 3.07s        | 0.823476          | 0.907456              | 0.000130613 |"
      ]
     },
     "metadata": {},
     "output_type": "display_data"
    },
    {
     "data": {
      "text/html": [
       "<pre>| 7       | 3.32s        | 0.80958           | 0.899767              |             |</pre>"
      ],
      "text/plain": [
       "| 7       | 3.32s        | 0.80958           | 0.899767              |             |"
      ]
     },
     "metadata": {},
     "output_type": "display_data"
    },
    {
     "data": {
      "text/html": [
       "<pre>| 11      | 4.26s        | 0.803462          | 0.89636               |             |</pre>"
      ],
      "text/plain": [
       "| 11      | 4.26s        | 0.803462          | 0.89636               |             |"
      ]
     },
     "metadata": {},
     "output_type": "display_data"
    },
    {
     "data": {
      "text/html": [
       "<pre>| 12      | 4.53s        | 0.79924           | 0.894002              |             |</pre>"
      ],
      "text/plain": [
       "| 12      | 4.53s        | 0.79924           | 0.894002              |             |"
      ]
     },
     "metadata": {},
     "output_type": "display_data"
    },
    {
     "data": {
      "text/html": [
       "<pre>| 17      | 5.56s        | 0.799719          | 0.89427               |             |</pre>"
      ],
      "text/plain": [
       "| 17      | 5.56s        | 0.799719          | 0.89427               |             |"
      ]
     },
     "metadata": {},
     "output_type": "display_data"
    },
    {
     "data": {
      "text/html": [
       "<pre>| 22      | 6.67s        | 0.802116          | 0.895609              |             |</pre>"
      ],
      "text/plain": [
       "| 22      | 6.67s        | 0.802116          | 0.895609              |             |"
      ]
     },
     "metadata": {},
     "output_type": "display_data"
    },
    {
     "data": {
      "text/html": [
       "<pre>| 27      | 7.77s        | 0.802075          | 0.895587              |             |</pre>"
      ],
      "text/plain": [
       "| 27      | 7.77s        | 0.802075          | 0.895587              |             |"
      ]
     },
     "metadata": {},
     "output_type": "display_data"
    },
    {
     "data": {
      "text/html": [
       "<pre>| 32      | 9.18s        | 0.802334          | 0.895731              |             |</pre>"
      ],
      "text/plain": [
       "| 32      | 9.18s        | 0.802334          | 0.895731              |             |"
      ]
     },
     "metadata": {},
     "output_type": "display_data"
    },
    {
     "data": {
      "text/html": [
       "<pre>| 37      | 10.27s       | 0.802273          | 0.895697              |             |</pre>"
      ],
      "text/plain": [
       "| 37      | 10.27s       | 0.802273          | 0.895697              |             |"
      ]
     },
     "metadata": {},
     "output_type": "display_data"
    },
    {
     "data": {
      "text/html": [
       "<pre>| 42      | 11.31s       | 0.802287          | 0.895705              |             |</pre>"
      ],
      "text/plain": [
       "| 42      | 11.31s       | 0.802287          | 0.895705              |             |"
      ]
     },
     "metadata": {},
     "output_type": "display_data"
    },
    {
     "data": {
      "text/html": [
       "<pre>| 47      | 12.40s       | 0.802296          | 0.89571               |             |</pre>"
      ],
      "text/plain": [
       "| 47      | 12.40s       | 0.802296          | 0.89571               |             |"
      ]
     },
     "metadata": {},
     "output_type": "display_data"
    },
    {
     "data": {
      "text/html": [
       "<pre>+---------+--------------+-------------------+-----------------------+-------------+</pre>"
      ],
      "text/plain": [
       "+---------+--------------+-------------------+-----------------------+-------------+"
      ]
     },
     "metadata": {},
     "output_type": "display_data"
    },
    {
     "data": {
      "text/html": [
       "<pre>Optimization Complete: Maximum number of passes through the data reached.</pre>"
      ],
      "text/plain": [
       "Optimization Complete: Maximum number of passes through the data reached."
      ]
     },
     "metadata": {},
     "output_type": "display_data"
    },
    {
     "data": {
      "text/html": [
       "<pre>Computing final objective value and training RMSE.</pre>"
      ],
      "text/plain": [
       "Computing final objective value and training RMSE."
      ]
     },
     "metadata": {},
     "output_type": "display_data"
    },
    {
     "data": {
      "text/html": [
       "<pre>       Final objective value: 0.802297</pre>"
      ],
      "text/plain": [
       "       Final objective value: 0.802297"
      ]
     },
     "metadata": {},
     "output_type": "display_data"
    },
    {
     "data": {
      "text/html": [
       "<pre>       Final training RMSE: 0.89571</pre>"
      ],
      "text/plain": [
       "       Final training RMSE: 0.89571"
      ]
     },
     "metadata": {},
     "output_type": "display_data"
    }
   ],
   "source": [
    "sgd_NF1 = graphlab.factorization_recommender.create(train, target='rating', user_id='userId', item_id='movieId',user_data = user_metadata, item_data = movie_metadata,solver= \"sgd\" ,regularization=1e-08,num_factors=2)\n",
    "sgd_NF2 = graphlab.factorization_recommender.create(train, target='rating', user_id='userId', item_id='movieId',user_data = user_metadata, item_data = movie_metadata,solver= \"sgd\" ,regularization=1e-08,num_factors=4)\n",
    "sgd_NF3 = graphlab.factorization_recommender.create(train, target='rating', user_id='userId', item_id='movieId',user_data = user_metadata, item_data = movie_metadata,solver= \"sgd\" ,regularization=1e-08,num_factors=6)\n"
   ]
  },
  {
   "cell_type": "code",
   "execution_count": 314,
   "metadata": {},
   "outputs": [
    {
     "name": "stdout",
     "output_type": "stream",
     "text": [
      "PROGRESS: Evaluate model M0\n",
      "\n",
      "Precision and recall summary statistics by cutoff\n",
      "+--------+------------------+-------------------+\n",
      "| cutoff |  mean_precision  |    mean_recall    |\n",
      "+--------+------------------+-------------------+\n",
      "|   1    |      0.008       | 4.61095100865e-06 |\n",
      "|   2    |      0.004       | 4.61095100865e-06 |\n",
      "|   3    | 0.00533333333333 | 0.000140204171348 |\n",
      "|   4    |       0.01       | 0.000497131907132 |\n",
      "|   5    |      0.0336      |  0.00326223617515 |\n",
      "|   6    | 0.0293333333333  |  0.00327199227271 |\n",
      "|   7    | 0.0285714285714  |  0.00353709295423 |\n",
      "|   8    |       0.04       |  0.00512713615469 |\n",
      "|   9    |      0.048       |  0.00616957198244 |\n",
      "|   10   |      0.0528      |  0.0072840212073  |\n",
      "+--------+------------------+-------------------+\n",
      "[10 rows x 3 columns]\n",
      "\n",
      "PROGRESS: Evaluate model M1\n",
      "\n",
      "Precision and recall summary statistics by cutoff\n",
      "+--------+-----------------+-------------------+\n",
      "| cutoff |  mean_precision |    mean_recall    |\n",
      "+--------+-----------------+-------------------+\n",
      "|   1    |       0.0       |        0.0        |\n",
      "|   2    |      0.036      | 0.000716842097082 |\n",
      "|   3    |      0.024      | 0.000716842097082 |\n",
      "|   4    |      0.022      |  0.00085704626843 |\n",
      "|   5    |      0.0176     |  0.00085704626843 |\n",
      "|   6    | 0.0146666666667 |  0.00085704626843 |\n",
      "|   7    | 0.0125714285714 |  0.00085704626843 |\n",
      "|   8    |      0.012      | 0.000865723058017 |\n",
      "|   9    | 0.0115555555556 | 0.000875479155578 |\n",
      "|   10   |      0.0128     | 0.000941635181363 |\n",
      "+--------+-----------------+-------------------+\n",
      "[10 rows x 3 columns]\n",
      "\n",
      "PROGRESS: Evaluate model M2\n",
      "\n",
      "Precision and recall summary statistics by cutoff\n",
      "+--------+-----------------+-------------------+\n",
      "| cutoff |  mean_precision |    mean_recall    |\n",
      "+--------+-----------------+-------------------+\n",
      "|   1    |       0.0       |        0.0        |\n",
      "|   2    |      0.008      | 0.000140204171348 |\n",
      "|   3    |      0.032      | 0.000866802365991 |\n",
      "|   4    |       0.05      |  0.00174491987752 |\n",
      "|   5    |      0.0688     |  0.00466200195374 |\n",
      "|   6    | 0.0693333333333 |  0.00553811658646 |\n",
      "|   7    | 0.0674285714286 |  0.00602140748038 |\n",
      "|   8    |      0.066      |  0.00683503036852 |\n",
      "|   9    | 0.0648888888889 |  0.00725044498729 |\n",
      "|   10   |      0.0624     |  0.00733056975031 |\n",
      "+--------+-----------------+-------------------+\n",
      "[10 rows x 3 columns]\n",
      "\n",
      "Model compare metric: precision_recall\n"
     ]
    },
    {
     "data": {
      "image/png": "[encoded data removed]",
      "text/plain": [
       "<matplotlib.figure.Figure at 0xa9915ba8>"
      ]
     },
     "metadata": {},
     "output_type": "display_data"
    }
   ],
   "source": [
    "model_comp1 = graphlab.compare(test, [sgd_NF1,sgd_NF2,sgd_NF3],target='rating')\n",
    "model_comp1_df = model_comp1.to_dataframe()\n",
    "fig, ax = plt.subplots(1, 1)\n",
    "for i in range(0,len(model_comp1_df.index)):\n",
    "    xy_dict= model_comp1_df.loc[i,\"results\"]['precision_recall']\n",
    "    xy = pd.DataFrame(xy_dict)    \n",
    "    #xy.plot(x='recall',y= 'precision',ax=ax)\n",
    "    label1= 2*(i+1)\n",
    "    xy.plot(x='recall',y= 'precision',ax=ax,label=\"{0} latent factors\".format(label1))\n",
    "    \n",
    "plt.show()"
   ]
  },
  {
   "cell_type": "code",
   "execution_count": 315,
   "metadata": {
    "scrolled": true
   },
   "outputs": [
    {
     "data": {
      "image/png": "[encoded data removed]",
      "text/plain": [
       "<matplotlib.figure.Figure at 0xae9610f0>"
      ]
     },
     "metadata": {},
     "output_type": "display_data"
    },
    {
     "name": "stdout",
     "output_type": "stream",
     "text": [
      "  number_of_latent_factors      rmse\n",
      "0                        2  0.965563\n",
      "1                        4  1.194703\n",
      "2                        6  1.003914\n"
     ]
    }
   ],
   "source": [
    "model_comp1 =graphlab.recommender.util.compare_models(test, [sgd_NF1,sgd_NF2,sgd_NF3], model_names=None,\n",
    "                                         user_sample=1.0, metric='rmse',\n",
    "                                         target='rating', exclude_known_for_precision_recall=True, \n",
    "                                         make_plot=False, verbose=False)\n",
    "#fig, ax = plt.subplots(1, 1)\n",
    "rmse_data = {'number_of_latent_factors':['2','4','6'], 'rmse':[]}\n",
    "for i in range(0,len(model_comp1)):\n",
    "    rmse_data['rmse'].append(model_comp1[i]['rmse_overall'])\n",
    "    \n",
    "\n",
    "rmse_df=pd.DataFrame(rmse_data)\n",
    "rmse_df.plot(x='number_of_latent_factors',y='rmse')\n",
    "plt.show()\n",
    "print(rmse_df)"
   ]
  },
  {
   "cell_type": "markdown",
   "metadata": {},
   "source": [
    "In the RMSE and 'Precision-Recall' curves above, we see that a model with 6 latent factors has the best performance."
   ]
  },
  {
   "cell_type": "markdown",
   "metadata": {},
   "source": [
    "After tuning the model for best perormance by varying the 'solver','Regularization Parameter' and ' Number of Latent Factors' we finally set the following values for the parameters:\n",
    "1.Solver : Stochatic Gradient Descent\n",
    "2.Regularization : 1e-08\n",
    "3.Number of latent factors : 6"
   ]
  },
  {
   "cell_type": "markdown",
   "metadata": {},
   "source": [
    "# Evaluating Model Performance For Different Sample Sizes"
   ]
  },
  {
   "cell_type": "markdown",
   "metadata": {},
   "source": [
    "We split the training data into 3 samples of 0.25, 0.5 and 0.75 fractions of the initial traiing data"
   ]
  },
  {
   "cell_type": "code",
   "execution_count": 270,
   "metadata": {},
   "outputs": [
    {
     "name": "stdout",
     "output_type": "stream",
     "text": [
      "Training sample-1 shape - (20001, 20)\n",
      "Training sample-2 shape - (40002, 20)\n",
      "Training sample-3 shape - (60002, 20)\n"
     ]
    }
   ],
   "source": [
    "train_sample1 = trainData.sample(frac =0.25,replace =False)\n",
    "train_sample2 = trainData.sample(frac =0.5,replace =False)\n",
    "train_sample3 = trainData.sample(frac =0.75,replace =False)\n",
    "print(\"Training sample-1 shape - {}\".format(train_sample1.shape))\n",
    "print(\"Training sample-2 shape - {}\".format(train_sample2.shape))\n",
    "print(\"Training sample-3 shape - {}\".format(train_sample3.shape))"
   ]
  },
  {
   "cell_type": "code",
   "execution_count": 271,
   "metadata": {
    "collapsed": true
   },
   "outputs": [],
   "source": [
    "#converting data to csv for Sframe parsing\n",
    "train_sample1.to_csv(\"train_data1.csv\")\n",
    "train_sample2.to_csv(\"train_data2.csv\")\n",
    "train_sample3.to_csv(\"train_data3.csv\")"
   ]
  },
  {
   "cell_type": "code",
   "execution_count": 272,
   "metadata": {},
   "outputs": [
    {
     "data": {
      "text/html": [
       "<pre>Finished parsing file C:\\Users\\hp\\Desktop\\Jupyter Notebooks\\Personalisation-master\\Personalisation-master\\train_data1.csv</pre>"
      ],
      "text/plain": [
       "Finished parsing file C:\\Users\\hp\\Desktop\\Jupyter Notebooks\\Personalisation-master\\Personalisation-master\\train_data1.csv"
      ]
     },
     "metadata": {},
     "output_type": "display_data"
    },
    {
     "data": {
      "text/html": [
       "<pre>Parsing completed. Parsed 20001 lines in 0.14912 secs.</pre>"
      ],
      "text/plain": [
       "Parsing completed. Parsed 20001 lines in 0.14912 secs."
      ]
     },
     "metadata": {},
     "output_type": "display_data"
    },
    {
     "data": {
      "text/html": [
       "<pre>Finished parsing file C:\\Users\\hp\\Desktop\\Jupyter Notebooks\\Personalisation-master\\Personalisation-master\\train_data2.csv</pre>"
      ],
      "text/plain": [
       "Finished parsing file C:\\Users\\hp\\Desktop\\Jupyter Notebooks\\Personalisation-master\\Personalisation-master\\train_data2.csv"
      ]
     },
     "metadata": {},
     "output_type": "display_data"
    },
    {
     "data": {
      "text/html": [
       "<pre>Parsing completed. Parsed 40002 lines in 0.265736 secs.</pre>"
      ],
      "text/plain": [
       "Parsing completed. Parsed 40002 lines in 0.265736 secs."
      ]
     },
     "metadata": {},
     "output_type": "display_data"
    },
    {
     "data": {
      "text/html": [
       "<pre>Finished parsing file C:\\Users\\hp\\Desktop\\Jupyter Notebooks\\Personalisation-master\\Personalisation-master\\train_data3.csv</pre>"
      ],
      "text/plain": [
       "Finished parsing file C:\\Users\\hp\\Desktop\\Jupyter Notebooks\\Personalisation-master\\Personalisation-master\\train_data3.csv"
      ]
     },
     "metadata": {},
     "output_type": "display_data"
    },
    {
     "data": {
      "text/html": [
       "<pre>Parsing completed. Parsed 60002 lines in 0.369281 secs.</pre>"
      ],
      "text/plain": [
       "Parsing completed. Parsed 60002 lines in 0.369281 secs."
      ]
     },
     "metadata": {},
     "output_type": "display_data"
    }
   ],
   "source": [
    "#converting the train datasets to Sframe\n",
    "hints = [int,int ,int ,float,str, str, str, str, str, str,str,str,str,str,str,str, str,str,float, int, float]\n",
    "train1 = graphlab.SFrame.read_csv('train_data1.csv',column_type_hints = hints )\n",
    "train2 = graphlab.SFrame.read_csv('train_data2.csv',column_type_hints = hints )\n",
    "train3 = graphlab.SFrame.read_csv('train_data3.csv',column_type_hints = hints )"
   ]
  },
  {
   "cell_type": "markdown",
   "metadata": {},
   "source": [
    "Building a factorization_recommender model using the the 3 samples and the full training dataset:"
   ]
  },
  {
   "cell_type": "code",
   "execution_count": 316,
   "metadata": {},
   "outputs": [
    {
     "data": {
      "text/html": [
       "<pre>Recsys training: model = factorization_recommender</pre>"
      ],
      "text/plain": [
       "Recsys training: model = factorization_recommender"
      ]
     },
     "metadata": {},
     "output_type": "display_data"
    },
    {
     "data": {
      "text/html": [
       "<pre>Preparing data set.</pre>"
      ],
      "text/plain": [
       "Preparing data set."
      ]
     },
     "metadata": {},
     "output_type": "display_data"
    },
    {
     "data": {
      "text/html": [
       "<pre>    Data has 20001 observations with 671 users and 9125 items.</pre>"
      ],
      "text/plain": [
       "    Data has 20001 observations with 671 users and 9125 items."
      ]
     },
     "metadata": {},
     "output_type": "display_data"
    },
    {
     "data": {
      "text/html": [
       "<pre>    Data prepared in: 0.612458s</pre>"
      ],
      "text/plain": [
       "    Data prepared in: 0.612458s"
      ]
     },
     "metadata": {},
     "output_type": "display_data"
    },
    {
     "data": {
      "text/html": [
       "<pre>Training factorization_recommender for recommendations.</pre>"
      ],
      "text/plain": [
       "Training factorization_recommender for recommendations."
      ]
     },
     "metadata": {},
     "output_type": "display_data"
    },
    {
     "data": {
      "text/html": [
       "<pre>+--------------------------------+--------------------------------------------------+----------+</pre>"
      ],
      "text/plain": [
       "+--------------------------------+--------------------------------------------------+----------+"
      ]
     },
     "metadata": {},
     "output_type": "display_data"
    },
    {
     "data": {
      "text/html": [
       "<pre>| Parameter                      | Description                                      | Value    |</pre>"
      ],
      "text/plain": [
       "| Parameter                      | Description                                      | Value    |"
      ]
     },
     "metadata": {},
     "output_type": "display_data"
    },
    {
     "data": {
      "text/html": [
       "<pre>+--------------------------------+--------------------------------------------------+----------+</pre>"
      ],
      "text/plain": [
       "+--------------------------------+--------------------------------------------------+----------+"
      ]
     },
     "metadata": {},
     "output_type": "display_data"
    },
    {
     "data": {
      "text/html": [
       "<pre>| num_factors                    | Factor Dimension                                 | 6        |</pre>"
      ],
      "text/plain": [
       "| num_factors                    | Factor Dimension                                 | 6        |"
      ]
     },
     "metadata": {},
     "output_type": "display_data"
    },
    {
     "data": {
      "text/html": [
       "<pre>| regularization                 | L2 Regularization on Factors                     | 1e-008   |</pre>"
      ],
      "text/plain": [
       "| regularization                 | L2 Regularization on Factors                     | 1e-008   |"
      ]
     },
     "metadata": {},
     "output_type": "display_data"
    },
    {
     "data": {
      "text/html": [
       "<pre>| solver                         | Solver used for training                         | sgd      |</pre>"
      ],
      "text/plain": [
       "| solver                         | Solver used for training                         | sgd      |"
      ]
     },
     "metadata": {},
     "output_type": "display_data"
    },
    {
     "data": {
      "text/html": [
       "<pre>| linear_regularization          | L2 Regularization on Linear Coefficients         | 1e-010   |</pre>"
      ],
      "text/plain": [
       "| linear_regularization          | L2 Regularization on Linear Coefficients         | 1e-010   |"
      ]
     },
     "metadata": {},
     "output_type": "display_data"
    },
    {
     "data": {
      "text/html": [
       "<pre>| side_data_factorization        | Assign Factors for Side Data                     | True     |</pre>"
      ],
      "text/plain": [
       "| side_data_factorization        | Assign Factors for Side Data                     | True     |"
      ]
     },
     "metadata": {},
     "output_type": "display_data"
    },
    {
     "data": {
      "text/html": [
       "<pre>| max_iterations                 | Maximum Number of Iterations                     | 50       |</pre>"
      ],
      "text/plain": [
       "| max_iterations                 | Maximum Number of Iterations                     | 50       |"
      ]
     },
     "metadata": {},
     "output_type": "display_data"
    },
    {
     "data": {
      "text/html": [
       "<pre>+--------------------------------+--------------------------------------------------+----------+</pre>"
      ],
      "text/plain": [
       "+--------------------------------+--------------------------------------------------+----------+"
      ]
     },
     "metadata": {},
     "output_type": "display_data"
    },
    {
     "data": {
      "text/html": [
       "<pre>  Optimizing model using SGD; tuning step size.</pre>"
      ],
      "text/plain": [
       "  Optimizing model using SGD; tuning step size."
      ]
     },
     "metadata": {},
     "output_type": "display_data"
    },
    {
     "data": {
      "text/html": [
       "<pre>  Using 10000 / 20001 points for tuning the step size.</pre>"
      ],
      "text/plain": [
       "  Using 10000 / 20001 points for tuning the step size."
      ]
     },
     "metadata": {},
     "output_type": "display_data"
    },
    {
     "data": {
      "text/html": [
       "<pre>+---------+-------------------+------------------------------------------+</pre>"
      ],
      "text/plain": [
       "+---------+-------------------+------------------------------------------+"
      ]
     },
     "metadata": {},
     "output_type": "display_data"
    },
    {
     "data": {
      "text/html": [
       "<pre>| Attempt | Initial Step Size | Estimated Objective Value                |</pre>"
      ],
      "text/plain": [
       "| Attempt | Initial Step Size | Estimated Objective Value                |"
      ]
     },
     "metadata": {},
     "output_type": "display_data"
    },
    {
     "data": {
      "text/html": [
       "<pre>+---------+-------------------+------------------------------------------+</pre>"
      ],
      "text/plain": [
       "+---------+-------------------+------------------------------------------+"
      ]
     },
     "metadata": {},
     "output_type": "display_data"
    },
    {
     "data": {
      "text/html": [
       "<pre>| 0       | 1.21951           | Not Viable                               |</pre>"
      ],
      "text/plain": [
       "| 0       | 1.21951           | Not Viable                               |"
      ]
     },
     "metadata": {},
     "output_type": "display_data"
    },
    {
     "data": {
      "text/html": [
       "<pre>| 1       | 0.304878          | Not Viable                               |</pre>"
      ],
      "text/plain": [
       "| 1       | 0.304878          | Not Viable                               |"
      ]
     },
     "metadata": {},
     "output_type": "display_data"
    },
    {
     "data": {
      "text/html": [
       "<pre>| 2       | 0.0762195         | Not Viable                               |</pre>"
      ],
      "text/plain": [
       "| 2       | 0.0762195         | Not Viable                               |"
      ]
     },
     "metadata": {},
     "output_type": "display_data"
    },
    {
     "data": {
      "text/html": [
       "<pre>| 3       | 0.0190549         | Not Viable                               |</pre>"
      ],
      "text/plain": [
       "| 3       | 0.0190549         | Not Viable                               |"
      ]
     },
     "metadata": {},
     "output_type": "display_data"
    },
    {
     "data": {
      "text/html": [
       "<pre>| 4       | 0.00476372        | Not Viable                               |</pre>"
      ],
      "text/plain": [
       "| 4       | 0.00476372        | Not Viable                               |"
      ]
     },
     "metadata": {},
     "output_type": "display_data"
    },
    {
     "data": {
      "text/html": [
       "<pre>| 5       | 0.00119093        | 0.901003                                 |</pre>"
      ],
      "text/plain": [
       "| 5       | 0.00119093        | 0.901003                                 |"
      ]
     },
     "metadata": {},
     "output_type": "display_data"
    },
    {
     "data": {
      "text/html": [
       "<pre>| 6       | 0.000595465       | No Decrease (1.26557 >= 1.10382)         |</pre>"
      ],
      "text/plain": [
       "| 6       | 0.000595465       | No Decrease (1.26557 >= 1.10382)         |"
      ]
     },
     "metadata": {},
     "output_type": "display_data"
    },
    {
     "data": {
      "text/html": [
       "<pre>| 7       | 0.000148866       | 0.990808                                 |</pre>"
      ],
      "text/plain": [
       "| 7       | 0.000148866       | 0.990808                                 |"
      ]
     },
     "metadata": {},
     "output_type": "display_data"
    },
    {
     "data": {
      "text/html": [
       "<pre>| 8       | 7.44331e-005      | 1.01091                                  |</pre>"
      ],
      "text/plain": [
       "| 8       | 7.44331e-005      | 1.01091                                  |"
      ]
     },
     "metadata": {},
     "output_type": "display_data"
    },
    {
     "data": {
      "text/html": [
       "<pre>+---------+-------------------+------------------------------------------+</pre>"
      ],
      "text/plain": [
       "+---------+-------------------+------------------------------------------+"
      ]
     },
     "metadata": {},
     "output_type": "display_data"
    },
    {
     "data": {
      "text/html": [
       "<pre>| Final   | 0.00119093        | 0.901003                                 |</pre>"
      ],
      "text/plain": [
       "| Final   | 0.00119093        | 0.901003                                 |"
      ]
     },
     "metadata": {},
     "output_type": "display_data"
    },
    {
     "data": {
      "text/html": [
       "<pre>+---------+-------------------+------------------------------------------+</pre>"
      ],
      "text/plain": [
       "+---------+-------------------+------------------------------------------+"
      ]
     },
     "metadata": {},
     "output_type": "display_data"
    },
    {
     "data": {
      "text/html": [
       "<pre>Starting Optimization.</pre>"
      ],
      "text/plain": [
       "Starting Optimization."
      ]
     },
     "metadata": {},
     "output_type": "display_data"
    },
    {
     "data": {
      "text/html": [
       "<pre>+---------+--------------+-------------------+-----------------------+-------------+</pre>"
      ],
      "text/plain": [
       "+---------+--------------+-------------------+-----------------------+-------------+"
      ]
     },
     "metadata": {},
     "output_type": "display_data"
    },
    {
     "data": {
      "text/html": [
       "<pre>| Iter.   | Elapsed Time | Approx. Objective | Approx. Training RMSE | Step Size   |</pre>"
      ],
      "text/plain": [
       "| Iter.   | Elapsed Time | Approx. Objective | Approx. Training RMSE | Step Size   |"
      ]
     },
     "metadata": {},
     "output_type": "display_data"
    },
    {
     "data": {
      "text/html": [
       "<pre>+---------+--------------+-------------------+-----------------------+-------------+</pre>"
      ],
      "text/plain": [
       "+---------+--------------+-------------------+-----------------------+-------------+"
      ]
     },
     "metadata": {},
     "output_type": "display_data"
    },
    {
     "data": {
      "text/html": [
       "<pre>| Initial | 499us        | 1.10165           | 1.0496                |             |</pre>"
      ],
      "text/plain": [
       "| Initial | 499us        | 1.10165           | 1.0496                |             |"
      ]
     },
     "metadata": {},
     "output_type": "display_data"
    },
    {
     "data": {
      "text/html": [
       "<pre>+---------+--------------+-------------------+-----------------------+-------------+</pre>"
      ],
      "text/plain": [
       "+---------+--------------+-------------------+-----------------------+-------------+"
      ]
     },
     "metadata": {},
     "output_type": "display_data"
    },
    {
     "data": {
      "text/html": [
       "<pre>| 1       | 95.567ms     | 1.11265           | 1.05482               | 0.00119093  |</pre>"
      ],
      "text/plain": [
       "| 1       | 95.567ms     | 1.11265           | 1.05482               | 0.00119093  |"
      ]
     },
     "metadata": {},
     "output_type": "display_data"
    },
    {
     "data": {
      "text/html": [
       "<pre>| 2       | 186.631ms    | 0.947619          | 0.973457              | 0.000708131 |</pre>"
      ],
      "text/plain": [
       "| 2       | 186.631ms    | 0.947619          | 0.973457              | 0.000708131 |"
      ]
     },
     "metadata": {},
     "output_type": "display_data"
    },
    {
     "data": {
      "text/html": [
       "<pre>| 3       | 264.688ms    | 0.914488          | 0.956289              | 0.000522451 |</pre>"
      ],
      "text/plain": [
       "| 3       | 264.688ms    | 0.914488          | 0.956289              | 0.000522451 |"
      ]
     },
     "metadata": {},
     "output_type": "display_data"
    },
    {
     "data": {
      "text/html": [
       "<pre>| 4       | 366.26ms     | 0.882542          | 0.939437              | 0.000354066 |</pre>"
      ],
      "text/plain": [
       "| 4       | 366.26ms     | 0.882542          | 0.939437              | 0.000354066 |"
      ]
     },
     "metadata": {},
     "output_type": "display_data"
    },
    {
     "data": {
      "text/html": [
       "<pre>| 5       | 462.251ms    | 0.913824          | 0.955941              | 0.000299503 |</pre>"
      ],
      "text/plain": [
       "| 5       | 462.251ms    | 0.913824          | 0.955941              | 0.000299503 |"
      ]
     },
     "metadata": {},
     "output_type": "display_data"
    },
    {
     "data": {
      "text/html": [
       "<pre>| 6       | 569.327ms    | 0.829365          | 0.910695              | 0.000219663 |</pre>"
      ],
      "text/plain": [
       "| 6       | 569.327ms    | 0.829365          | 0.910695              | 0.000219663 |"
      ]
     },
     "metadata": {},
     "output_type": "display_data"
    },
    {
     "data": {
      "text/html": [
       "<pre>| 11      | 1.02s        | 0.806673          | 0.89815               |             |</pre>"
      ],
      "text/plain": [
       "| 11      | 1.02s        | 0.806673          | 0.89815               |             |"
      ]
     },
     "metadata": {},
     "output_type": "display_data"
    },
    {
     "data": {
      "text/html": [
       "<pre>| 25      | 2.24s        | 0.789065          | 0.888293              |             |</pre>"
      ],
      "text/plain": [
       "| 25      | 2.24s        | 0.789065          | 0.888293              |             |"
      ]
     },
     "metadata": {},
     "output_type": "display_data"
    },
    {
     "data": {
      "text/html": [
       "<pre>| 50      | 4.21s        | 0.785231          | 0.886132              |             |</pre>"
      ],
      "text/plain": [
       "| 50      | 4.21s        | 0.785231          | 0.886132              |             |"
      ]
     },
     "metadata": {},
     "output_type": "display_data"
    },
    {
     "data": {
      "text/html": [
       "<pre>+---------+--------------+-------------------+-----------------------+-------------+</pre>"
      ],
      "text/plain": [
       "+---------+--------------+-------------------+-----------------------+-------------+"
      ]
     },
     "metadata": {},
     "output_type": "display_data"
    },
    {
     "data": {
      "text/html": [
       "<pre>Optimization Complete: Maximum number of passes through the data reached.</pre>"
      ],
      "text/plain": [
       "Optimization Complete: Maximum number of passes through the data reached."
      ]
     },
     "metadata": {},
     "output_type": "display_data"
    },
    {
     "data": {
      "text/html": [
       "<pre>Computing final objective value and training RMSE.</pre>"
      ],
      "text/plain": [
       "Computing final objective value and training RMSE."
      ]
     },
     "metadata": {},
     "output_type": "display_data"
    },
    {
     "data": {
      "text/html": [
       "<pre>       Final objective value: 0.785112</pre>"
      ],
      "text/plain": [
       "       Final objective value: 0.785112"
      ]
     },
     "metadata": {},
     "output_type": "display_data"
    },
    {
     "data": {
      "text/html": [
       "<pre>       Final training RMSE: 0.886066</pre>"
      ],
      "text/plain": [
       "       Final training RMSE: 0.886066"
      ]
     },
     "metadata": {},
     "output_type": "display_data"
    },
    {
     "data": {
      "text/html": [
       "<pre>Recsys training: model = factorization_recommender</pre>"
      ],
      "text/plain": [
       "Recsys training: model = factorization_recommender"
      ]
     },
     "metadata": {},
     "output_type": "display_data"
    },
    {
     "data": {
      "text/html": [
       "<pre>Preparing data set.</pre>"
      ],
      "text/plain": [
       "Preparing data set."
      ]
     },
     "metadata": {},
     "output_type": "display_data"
    },
    {
     "data": {
      "text/html": [
       "<pre>    Data has 40002 observations with 671 users and 9125 items.</pre>"
      ],
      "text/plain": [
       "    Data has 40002 observations with 671 users and 9125 items."
      ]
     },
     "metadata": {},
     "output_type": "display_data"
    },
    {
     "data": {
      "text/html": [
       "<pre>    Data prepared in: 0.986247s</pre>"
      ],
      "text/plain": [
       "    Data prepared in: 0.986247s"
      ]
     },
     "metadata": {},
     "output_type": "display_data"
    },
    {
     "data": {
      "text/html": [
       "<pre>Training factorization_recommender for recommendations.</pre>"
      ],
      "text/plain": [
       "Training factorization_recommender for recommendations."
      ]
     },
     "metadata": {},
     "output_type": "display_data"
    },
    {
     "data": {
      "text/html": [
       "<pre>+--------------------------------+--------------------------------------------------+----------+</pre>"
      ],
      "text/plain": [
       "+--------------------------------+--------------------------------------------------+----------+"
      ]
     },
     "metadata": {},
     "output_type": "display_data"
    },
    {
     "data": {
      "text/html": [
       "<pre>| Parameter                      | Description                                      | Value    |</pre>"
      ],
      "text/plain": [
       "| Parameter                      | Description                                      | Value    |"
      ]
     },
     "metadata": {},
     "output_type": "display_data"
    },
    {
     "data": {
      "text/html": [
       "<pre>+--------------------------------+--------------------------------------------------+----------+</pre>"
      ],
      "text/plain": [
       "+--------------------------------+--------------------------------------------------+----------+"
      ]
     },
     "metadata": {},
     "output_type": "display_data"
    },
    {
     "data": {
      "text/html": [
       "<pre>| num_factors                    | Factor Dimension                                 | 6        |</pre>"
      ],
      "text/plain": [
       "| num_factors                    | Factor Dimension                                 | 6        |"
      ]
     },
     "metadata": {},
     "output_type": "display_data"
    },
    {
     "data": {
      "text/html": [
       "<pre>| regularization                 | L2 Regularization on Factors                     | 1e-008   |</pre>"
      ],
      "text/plain": [
       "| regularization                 | L2 Regularization on Factors                     | 1e-008   |"
      ]
     },
     "metadata": {},
     "output_type": "display_data"
    },
    {
     "data": {
      "text/html": [
       "<pre>| solver                         | Solver used for training                         | sgd      |</pre>"
      ],
      "text/plain": [
       "| solver                         | Solver used for training                         | sgd      |"
      ]
     },
     "metadata": {},
     "output_type": "display_data"
    },
    {
     "data": {
      "text/html": [
       "<pre>| linear_regularization          | L2 Regularization on Linear Coefficients         | 1e-010   |</pre>"
      ],
      "text/plain": [
       "| linear_regularization          | L2 Regularization on Linear Coefficients         | 1e-010   |"
      ]
     },
     "metadata": {},
     "output_type": "display_data"
    },
    {
     "data": {
      "text/html": [
       "<pre>| side_data_factorization        | Assign Factors for Side Data                     | True     |</pre>"
      ],
      "text/plain": [
       "| side_data_factorization        | Assign Factors for Side Data                     | True     |"
      ]
     },
     "metadata": {},
     "output_type": "display_data"
    },
    {
     "data": {
      "text/html": [
       "<pre>| max_iterations                 | Maximum Number of Iterations                     | 50       |</pre>"
      ],
      "text/plain": [
       "| max_iterations                 | Maximum Number of Iterations                     | 50       |"
      ]
     },
     "metadata": {},
     "output_type": "display_data"
    },
    {
     "data": {
      "text/html": [
       "<pre>+--------------------------------+--------------------------------------------------+----------+</pre>"
      ],
      "text/plain": [
       "+--------------------------------+--------------------------------------------------+----------+"
      ]
     },
     "metadata": {},
     "output_type": "display_data"
    },
    {
     "data": {
      "text/html": [
       "<pre>  Optimizing model using SGD; tuning step size.</pre>"
      ],
      "text/plain": [
       "  Optimizing model using SGD; tuning step size."
      ]
     },
     "metadata": {},
     "output_type": "display_data"
    },
    {
     "data": {
      "text/html": [
       "<pre>  Using 10000 / 40002 points for tuning the step size.</pre>"
      ],
      "text/plain": [
       "  Using 10000 / 40002 points for tuning the step size."
      ]
     },
     "metadata": {},
     "output_type": "display_data"
    },
    {
     "data": {
      "text/html": [
       "<pre>+---------+-------------------+------------------------------------------+</pre>"
      ],
      "text/plain": [
       "+---------+-------------------+------------------------------------------+"
      ]
     },
     "metadata": {},
     "output_type": "display_data"
    },
    {
     "data": {
      "text/html": [
       "<pre>| Attempt | Initial Step Size | Estimated Objective Value                |</pre>"
      ],
      "text/plain": [
       "| Attempt | Initial Step Size | Estimated Objective Value                |"
      ]
     },
     "metadata": {},
     "output_type": "display_data"
    },
    {
     "data": {
      "text/html": [
       "<pre>+---------+-------------------+------------------------------------------+</pre>"
      ],
      "text/plain": [
       "+---------+-------------------+------------------------------------------+"
      ]
     },
     "metadata": {},
     "output_type": "display_data"
    },
    {
     "data": {
      "text/html": [
       "<pre>| 0       | 1.21951           | Not Viable                               |</pre>"
      ],
      "text/plain": [
       "| 0       | 1.21951           | Not Viable                               |"
      ]
     },
     "metadata": {},
     "output_type": "display_data"
    },
    {
     "data": {
      "text/html": [
       "<pre>| 1       | 0.304878          | Not Viable                               |</pre>"
      ],
      "text/plain": [
       "| 1       | 0.304878          | Not Viable                               |"
      ]
     },
     "metadata": {},
     "output_type": "display_data"
    },
    {
     "data": {
      "text/html": [
       "<pre>| 2       | 0.0762195         | Not Viable                               |</pre>"
      ],
      "text/plain": [
       "| 2       | 0.0762195         | Not Viable                               |"
      ]
     },
     "metadata": {},
     "output_type": "display_data"
    },
    {
     "data": {
      "text/html": [
       "<pre>| 3       | 0.0190549         | Not Viable                               |</pre>"
      ],
      "text/plain": [
       "| 3       | 0.0190549         | Not Viable                               |"
      ]
     },
     "metadata": {},
     "output_type": "display_data"
    },
    {
     "data": {
      "text/html": [
       "<pre>| 4       | 0.00476372        | 0.77306                                  |</pre>"
      ],
      "text/plain": [
       "| 4       | 0.00476372        | 0.77306                                  |"
      ]
     },
     "metadata": {},
     "output_type": "display_data"
    },
    {
     "data": {
      "text/html": [
       "<pre>| 5       | 0.00238186        | 0.832885                                 |</pre>"
      ],
      "text/plain": [
       "| 5       | 0.00238186        | 0.832885                                 |"
      ]
     },
     "metadata": {},
     "output_type": "display_data"
    },
    {
     "data": {
      "text/html": [
       "<pre>| 6       | 0.00119093        | 0.890843                                 |</pre>"
      ],
      "text/plain": [
       "| 6       | 0.00119093        | 0.890843                                 |"
      ]
     },
     "metadata": {},
     "output_type": "display_data"
    },
    {
     "data": {
      "text/html": [
       "<pre>| 7       | 0.000595465       | 0.952967                                 |</pre>"
      ],
      "text/plain": [
       "| 7       | 0.000595465       | 0.952967                                 |"
      ]
     },
     "metadata": {},
     "output_type": "display_data"
    },
    {
     "data": {
      "text/html": [
       "<pre>+---------+-------------------+------------------------------------------+</pre>"
      ],
      "text/plain": [
       "+---------+-------------------+------------------------------------------+"
      ]
     },
     "metadata": {},
     "output_type": "display_data"
    },
    {
     "data": {
      "text/html": [
       "<pre>| Final   | 0.00476372        | 0.77306                                  |</pre>"
      ],
      "text/plain": [
       "| Final   | 0.00476372        | 0.77306                                  |"
      ]
     },
     "metadata": {},
     "output_type": "display_data"
    },
    {
     "data": {
      "text/html": [
       "<pre>+---------+-------------------+------------------------------------------+</pre>"
      ],
      "text/plain": [
       "+---------+-------------------+------------------------------------------+"
      ]
     },
     "metadata": {},
     "output_type": "display_data"
    },
    {
     "data": {
      "text/html": [
       "<pre>Starting Optimization.</pre>"
      ],
      "text/plain": [
       "Starting Optimization."
      ]
     },
     "metadata": {},
     "output_type": "display_data"
    },
    {
     "data": {
      "text/html": [
       "<pre>+---------+--------------+-------------------+-----------------------+-------------+</pre>"
      ],
      "text/plain": [
       "+---------+--------------+-------------------+-----------------------+-------------+"
      ]
     },
     "metadata": {},
     "output_type": "display_data"
    },
    {
     "data": {
      "text/html": [
       "<pre>| Iter.   | Elapsed Time | Approx. Objective | Approx. Training RMSE | Step Size   |</pre>"
      ],
      "text/plain": [
       "| Iter.   | Elapsed Time | Approx. Objective | Approx. Training RMSE | Step Size   |"
      ]
     },
     "metadata": {},
     "output_type": "display_data"
    },
    {
     "data": {
      "text/html": [
       "<pre>+---------+--------------+-------------------+-----------------------+-------------+</pre>"
      ],
      "text/plain": [
       "+---------+--------------+-------------------+-----------------------+-------------+"
      ]
     },
     "metadata": {},
     "output_type": "display_data"
    },
    {
     "data": {
      "text/html": [
       "<pre>| Initial | 0us          | 1.1184            | 1.05754               |             |</pre>"
      ],
      "text/plain": [
       "| Initial | 0us          | 1.1184            | 1.05754               |             |"
      ]
     },
     "metadata": {},
     "output_type": "display_data"
    },
    {
     "data": {
      "text/html": [
       "<pre>+---------+--------------+-------------------+-----------------------+-------------+</pre>"
      ],
      "text/plain": [
       "+---------+--------------+-------------------+-----------------------+-------------+"
      ]
     },
     "metadata": {},
     "output_type": "display_data"
    },
    {
     "data": {
      "text/html": [
       "<pre>| 1       | 218.184ms    | DIVERGED          | DIVERGED              | 0.00476372  |</pre>"
      ],
      "text/plain": [
       "| 1       | 218.184ms    | DIVERGED          | DIVERGED              | 0.00476372  |"
      ]
     },
     "metadata": {},
     "output_type": "display_data"
    },
    {
     "data": {
      "text/html": [
       "<pre>| RESET   | 296.741ms    | 1.1184            | 1.05755               |             |</pre>"
      ],
      "text/plain": [
       "| RESET   | 296.741ms    | 1.1184            | 1.05755               |             |"
      ]
     },
     "metadata": {},
     "output_type": "display_data"
    },
    {
     "data": {
      "text/html": [
       "<pre>| 1       | 450.35ms     | 1.0704            | 1.0346                | 0.00238186  |</pre>"
      ],
      "text/plain": [
       "| 1       | 450.35ms     | 1.0704            | 1.0346                | 0.00238186  |"
      ]
     },
     "metadata": {},
     "output_type": "display_data"
    },
    {
     "data": {
      "text/html": [
       "<pre>| 2       | 589.448ms    | 0.934825          | 0.966863              | 0.00141626  |</pre>"
      ],
      "text/plain": [
       "| 2       | 589.448ms    | 0.934825          | 0.966863              | 0.00141626  |"
      ]
     },
     "metadata": {},
     "output_type": "display_data"
    },
    {
     "data": {
      "text/html": [
       "<pre>| 3       | 707.533ms    | 0.898069          | 0.947665              | 0.0010449   |</pre>"
      ],
      "text/plain": [
       "| 3       | 707.533ms    | 0.898069          | 0.947665              | 0.0010449   |"
      ]
     },
     "metadata": {},
     "output_type": "display_data"
    },
    {
     "data": {
      "text/html": [
       "<pre>| 4       | 892.665ms    | DIVERGED          | DIVERGED              | 0.000842115 |</pre>"
      ],
      "text/plain": [
       "| 4       | 892.665ms    | DIVERGED          | DIVERGED              | 0.000842115 |"
      ]
     },
     "metadata": {},
     "output_type": "display_data"
    },
    {
     "data": {
      "text/html": [
       "<pre>| RESET   | 949.703ms    | 1.11863           | 1.05765               |             |</pre>"
      ],
      "text/plain": [
       "| RESET   | 949.703ms    | 1.11863           | 1.05765               |             |"
      ]
     },
     "metadata": {},
     "output_type": "display_data"
    },
    {
     "data": {
      "text/html": [
       "<pre>| 1       | 1.12s        | 0.992117          | 0.996051              | 0.000421057 |</pre>"
      ],
      "text/plain": [
       "| 1       | 1.12s        | 0.992117          | 0.996051              | 0.000421057 |"
      ]
     },
     "metadata": {},
     "output_type": "display_data"
    },
    {
     "data": {
      "text/html": [
       "<pre>| 2       | 1.26s        | 0.939082          | 0.969062              | 0.000250362 |</pre>"
      ],
      "text/plain": [
       "| 2       | 1.26s        | 0.939082          | 0.969062              | 0.000250362 |"
      ]
     },
     "metadata": {},
     "output_type": "display_data"
    },
    {
     "data": {
      "text/html": [
       "<pre>| 3       | 1.38s        | 0.918104          | 0.958177              | 0.000184714 |</pre>"
      ],
      "text/plain": [
       "| 3       | 1.38s        | 0.918104          | 0.958177              | 0.000184714 |"
      ]
     },
     "metadata": {},
     "output_type": "display_data"
    },
    {
     "data": {
      "text/html": [
       "<pre>| 5       | 1.66s        | 0.891198          | 0.944033              | 0.000125926 |</pre>"
      ],
      "text/plain": [
       "| 5       | 1.66s        | 0.891198          | 0.944033              | 0.000125926 |"
      ]
     },
     "metadata": {},
     "output_type": "display_data"
    },
    {
     "data": {
      "text/html": [
       "<pre>| 8       | 2.04s        | 0.866788          | 0.931014              |             |</pre>"
      ],
      "text/plain": [
       "| 8       | 2.04s        | 0.866788          | 0.931014              |             |"
      ]
     },
     "metadata": {},
     "output_type": "display_data"
    },
    {
     "data": {
      "text/html": [
       "<pre>| 15      | 2.94s        | 0.848416          | 0.921095              |             |</pre>"
      ],
      "text/plain": [
       "| 15      | 2.94s        | 0.848416          | 0.921095              |             |"
      ]
     },
     "metadata": {},
     "output_type": "display_data"
    },
    {
     "data": {
      "text/html": [
       "<pre>| 25      | 3.98s        | 0.842695          | 0.917984              |             |</pre>"
      ],
      "text/plain": [
       "| 25      | 3.98s        | 0.842695          | 0.917984              |             |"
      ]
     },
     "metadata": {},
     "output_type": "display_data"
    },
    {
     "data": {
      "text/html": [
       "<pre>| 35      | 4.90s        | 0.842285          | 0.917761              |             |</pre>"
      ],
      "text/plain": [
       "| 35      | 4.90s        | 0.842285          | 0.917761              |             |"
      ]
     },
     "metadata": {},
     "output_type": "display_data"
    },
    {
     "data": {
      "text/html": [
       "<pre>| 45      | 5.96s        | 0.842222          | 0.917727              |             |</pre>"
      ],
      "text/plain": [
       "| 45      | 5.96s        | 0.842222          | 0.917727              |             |"
      ]
     },
     "metadata": {},
     "output_type": "display_data"
    },
    {
     "data": {
      "text/html": [
       "<pre>| 48      | 6.36s        | 0.842177          | 0.917702              |             |</pre>"
      ],
      "text/plain": [
       "| 48      | 6.36s        | 0.842177          | 0.917702              |             |"
      ]
     },
     "metadata": {},
     "output_type": "display_data"
    },
    {
     "data": {
      "text/html": [
       "<pre>+---------+--------------+-------------------+-----------------------+-------------+</pre>"
      ],
      "text/plain": [
       "+---------+--------------+-------------------+-----------------------+-------------+"
      ]
     },
     "metadata": {},
     "output_type": "display_data"
    },
    {
     "data": {
      "text/html": [
       "<pre>Optimization Complete: Maximum number of passes through the data reached (hard limit).</pre>"
      ],
      "text/plain": [
       "Optimization Complete: Maximum number of passes through the data reached (hard limit)."
      ]
     },
     "metadata": {},
     "output_type": "display_data"
    },
    {
     "data": {
      "text/html": [
       "<pre>Computing final objective value and training RMSE.</pre>"
      ],
      "text/plain": [
       "Computing final objective value and training RMSE."
      ]
     },
     "metadata": {},
     "output_type": "display_data"
    },
    {
     "data": {
      "text/html": [
       "<pre>       Final objective value: 0.842195</pre>"
      ],
      "text/plain": [
       "       Final objective value: 0.842195"
      ]
     },
     "metadata": {},
     "output_type": "display_data"
    },
    {
     "data": {
      "text/html": [
       "<pre>       Final training RMSE: 0.917712</pre>"
      ],
      "text/plain": [
       "       Final training RMSE: 0.917712"
      ]
     },
     "metadata": {},
     "output_type": "display_data"
    },
    {
     "data": {
      "text/html": [
       "<pre>Recsys training: model = factorization_recommender</pre>"
      ],
      "text/plain": [
       "Recsys training: model = factorization_recommender"
      ]
     },
     "metadata": {},
     "output_type": "display_data"
    },
    {
     "data": {
      "text/html": [
       "<pre>Preparing data set.</pre>"
      ],
      "text/plain": [
       "Preparing data set."
      ]
     },
     "metadata": {},
     "output_type": "display_data"
    },
    {
     "data": {
      "text/html": [
       "<pre>    Data has 60002 observations with 671 users and 9125 items.</pre>"
      ],
      "text/plain": [
       "    Data has 60002 observations with 671 users and 9125 items."
      ]
     },
     "metadata": {},
     "output_type": "display_data"
    },
    {
     "data": {
      "text/html": [
       "<pre>    Data prepared in: 1.0728s</pre>"
      ],
      "text/plain": [
       "    Data prepared in: 1.0728s"
      ]
     },
     "metadata": {},
     "output_type": "display_data"
    },
    {
     "data": {
      "text/html": [
       "<pre>Training factorization_recommender for recommendations.</pre>"
      ],
      "text/plain": [
       "Training factorization_recommender for recommendations."
      ]
     },
     "metadata": {},
     "output_type": "display_data"
    },
    {
     "data": {
      "text/html": [
       "<pre>+--------------------------------+--------------------------------------------------+----------+</pre>"
      ],
      "text/plain": [
       "+--------------------------------+--------------------------------------------------+----------+"
      ]
     },
     "metadata": {},
     "output_type": "display_data"
    },
    {
     "data": {
      "text/html": [
       "<pre>| Parameter                      | Description                                      | Value    |</pre>"
      ],
      "text/plain": [
       "| Parameter                      | Description                                      | Value    |"
      ]
     },
     "metadata": {},
     "output_type": "display_data"
    },
    {
     "data": {
      "text/html": [
       "<pre>+--------------------------------+--------------------------------------------------+----------+</pre>"
      ],
      "text/plain": [
       "+--------------------------------+--------------------------------------------------+----------+"
      ]
     },
     "metadata": {},
     "output_type": "display_data"
    },
    {
     "data": {
      "text/html": [
       "<pre>| num_factors                    | Factor Dimension                                 | 6        |</pre>"
      ],
      "text/plain": [
       "| num_factors                    | Factor Dimension                                 | 6        |"
      ]
     },
     "metadata": {},
     "output_type": "display_data"
    },
    {
     "data": {
      "text/html": [
       "<pre>| regularization                 | L2 Regularization on Factors                     | 1e-008   |</pre>"
      ],
      "text/plain": [
       "| regularization                 | L2 Regularization on Factors                     | 1e-008   |"
      ]
     },
     "metadata": {},
     "output_type": "display_data"
    },
    {
     "data": {
      "text/html": [
       "<pre>| solver                         | Solver used for training                         | sgd      |</pre>"
      ],
      "text/plain": [
       "| solver                         | Solver used for training                         | sgd      |"
      ]
     },
     "metadata": {},
     "output_type": "display_data"
    },
    {
     "data": {
      "text/html": [
       "<pre>| linear_regularization          | L2 Regularization on Linear Coefficients         | 1e-010   |</pre>"
      ],
      "text/plain": [
       "| linear_regularization          | L2 Regularization on Linear Coefficients         | 1e-010   |"
      ]
     },
     "metadata": {},
     "output_type": "display_data"
    },
    {
     "data": {
      "text/html": [
       "<pre>| side_data_factorization        | Assign Factors for Side Data                     | True     |</pre>"
      ],
      "text/plain": [
       "| side_data_factorization        | Assign Factors for Side Data                     | True     |"
      ]
     },
     "metadata": {},
     "output_type": "display_data"
    },
    {
     "data": {
      "text/html": [
       "<pre>| max_iterations                 | Maximum Number of Iterations                     | 50       |</pre>"
      ],
      "text/plain": [
       "| max_iterations                 | Maximum Number of Iterations                     | 50       |"
      ]
     },
     "metadata": {},
     "output_type": "display_data"
    },
    {
     "data": {
      "text/html": [
       "<pre>+--------------------------------+--------------------------------------------------+----------+</pre>"
      ],
      "text/plain": [
       "+--------------------------------+--------------------------------------------------+----------+"
      ]
     },
     "metadata": {},
     "output_type": "display_data"
    },
    {
     "data": {
      "text/html": [
       "<pre>  Optimizing model using SGD; tuning step size.</pre>"
      ],
      "text/plain": [
       "  Optimizing model using SGD; tuning step size."
      ]
     },
     "metadata": {},
     "output_type": "display_data"
    },
    {
     "data": {
      "text/html": [
       "<pre>  Using 10000 / 60002 points for tuning the step size.</pre>"
      ],
      "text/plain": [
       "  Using 10000 / 60002 points for tuning the step size."
      ]
     },
     "metadata": {},
     "output_type": "display_data"
    },
    {
     "data": {
      "text/html": [
       "<pre>+---------+-------------------+------------------------------------------+</pre>"
      ],
      "text/plain": [
       "+---------+-------------------+------------------------------------------+"
      ]
     },
     "metadata": {},
     "output_type": "display_data"
    },
    {
     "data": {
      "text/html": [
       "<pre>| Attempt | Initial Step Size | Estimated Objective Value                |</pre>"
      ],
      "text/plain": [
       "| Attempt | Initial Step Size | Estimated Objective Value                |"
      ]
     },
     "metadata": {},
     "output_type": "display_data"
    },
    {
     "data": {
      "text/html": [
       "<pre>+---------+-------------------+------------------------------------------+</pre>"
      ],
      "text/plain": [
       "+---------+-------------------+------------------------------------------+"
      ]
     },
     "metadata": {},
     "output_type": "display_data"
    },
    {
     "data": {
      "text/html": [
       "<pre>| 0       | 1.21951           | Not Viable                               |</pre>"
      ],
      "text/plain": [
       "| 0       | 1.21951           | Not Viable                               |"
      ]
     },
     "metadata": {},
     "output_type": "display_data"
    },
    {
     "data": {
      "text/html": [
       "<pre>| 1       | 0.304878          | Not Viable                               |</pre>"
      ],
      "text/plain": [
       "| 1       | 0.304878          | Not Viable                               |"
      ]
     },
     "metadata": {},
     "output_type": "display_data"
    },
    {
     "data": {
      "text/html": [
       "<pre>| 2       | 0.0762195         | Not Viable                               |</pre>"
      ],
      "text/plain": [
       "| 2       | 0.0762195         | Not Viable                               |"
      ]
     },
     "metadata": {},
     "output_type": "display_data"
    },
    {
     "data": {
      "text/html": [
       "<pre>| 3       | 0.0190549         | Not Viable                               |</pre>"
      ],
      "text/plain": [
       "| 3       | 0.0190549         | Not Viable                               |"
      ]
     },
     "metadata": {},
     "output_type": "display_data"
    },
    {
     "data": {
      "text/html": [
       "<pre>| 4       | 0.00476372        | 0.731206                                 |</pre>"
      ],
      "text/plain": [
       "| 4       | 0.00476372        | 0.731206                                 |"
      ]
     },
     "metadata": {},
     "output_type": "display_data"
    },
    {
     "data": {
      "text/html": [
       "<pre>| 5       | 0.00238186        | 0.853568                                 |</pre>"
      ],
      "text/plain": [
       "| 5       | 0.00238186        | 0.853568                                 |"
      ]
     },
     "metadata": {},
     "output_type": "display_data"
    },
    {
     "data": {
      "text/html": [
       "<pre>| 6       | 0.00119093        | 0.89739                                  |</pre>"
      ],
      "text/plain": [
       "| 6       | 0.00119093        | 0.89739                                  |"
      ]
     },
     "metadata": {},
     "output_type": "display_data"
    },
    {
     "data": {
      "text/html": [
       "<pre>| 7       | 0.000595465       | 0.94374                                  |</pre>"
      ],
      "text/plain": [
       "| 7       | 0.000595465       | 0.94374                                  |"
      ]
     },
     "metadata": {},
     "output_type": "display_data"
    },
    {
     "data": {
      "text/html": [
       "<pre>+---------+-------------------+------------------------------------------+</pre>"
      ],
      "text/plain": [
       "+---------+-------------------+------------------------------------------+"
      ]
     },
     "metadata": {},
     "output_type": "display_data"
    },
    {
     "data": {
      "text/html": [
       "<pre>| Final   | 0.00476372        | 0.731206                                 |</pre>"
      ],
      "text/plain": [
       "| Final   | 0.00476372        | 0.731206                                 |"
      ]
     },
     "metadata": {},
     "output_type": "display_data"
    },
    {
     "data": {
      "text/html": [
       "<pre>+---------+-------------------+------------------------------------------+</pre>"
      ],
      "text/plain": [
       "+---------+-------------------+------------------------------------------+"
      ]
     },
     "metadata": {},
     "output_type": "display_data"
    },
    {
     "data": {
      "text/html": [
       "<pre>Starting Optimization.</pre>"
      ],
      "text/plain": [
       "Starting Optimization."
      ]
     },
     "metadata": {},
     "output_type": "display_data"
    },
    {
     "data": {
      "text/html": [
       "<pre>+---------+--------------+-------------------+-----------------------+-------------+</pre>"
      ],
      "text/plain": [
       "+---------+--------------+-------------------+-----------------------+-------------+"
      ]
     },
     "metadata": {},
     "output_type": "display_data"
    },
    {
     "data": {
      "text/html": [
       "<pre>| Iter.   | Elapsed Time | Approx. Objective | Approx. Training RMSE | Step Size   |</pre>"
      ],
      "text/plain": [
       "| Iter.   | Elapsed Time | Approx. Objective | Approx. Training RMSE | Step Size   |"
      ]
     },
     "metadata": {},
     "output_type": "display_data"
    },
    {
     "data": {
      "text/html": [
       "<pre>+---------+--------------+-------------------+-----------------------+-------------+</pre>"
      ],
      "text/plain": [
       "+---------+--------------+-------------------+-----------------------+-------------+"
      ]
     },
     "metadata": {},
     "output_type": "display_data"
    },
    {
     "data": {
      "text/html": [
       "<pre>| Initial | 499us        | 1.12291           | 1.05968               |             |</pre>"
      ],
      "text/plain": [
       "| Initial | 499us        | 1.12291           | 1.05968               |             |"
      ]
     },
     "metadata": {},
     "output_type": "display_data"
    },
    {
     "data": {
      "text/html": [
       "<pre>+---------+--------------+-------------------+-----------------------+-------------+</pre>"
      ],
      "text/plain": [
       "+---------+--------------+-------------------+-----------------------+-------------+"
      ]
     },
     "metadata": {},
     "output_type": "display_data"
    },
    {
     "data": {
      "text/html": [
       "<pre>| 1       | 330.808ms    | DIVERGED          | DIVERGED              | 0.00476372  |</pre>"
      ],
      "text/plain": [
       "| 1       | 330.808ms    | DIVERGED          | DIVERGED              | 0.00476372  |"
      ]
     },
     "metadata": {},
     "output_type": "display_data"
    },
    {
     "data": {
      "text/html": [
       "<pre>| RESET   | 424.374ms    | 1.12346           | 1.05994               |             |</pre>"
      ],
      "text/plain": [
       "| RESET   | 424.374ms    | 1.12346           | 1.05994               |             |"
      ]
     },
     "metadata": {},
     "output_type": "display_data"
    },
    {
     "data": {
      "text/html": [
       "<pre>| 1       | 604.502ms    | 1.11363           | 1.05529               | 0.00238186  |</pre>"
      ],
      "text/plain": [
       "| 1       | 604.502ms    | 1.11363           | 1.05529               | 0.00238186  |"
      ]
     },
     "metadata": {},
     "output_type": "display_data"
    },
    {
     "data": {
      "text/html": [
       "<pre>| 2       | 904.716ms    | DIVERGED          | DIVERGED              | 0.00141626  |</pre>"
      ],
      "text/plain": [
       "| 2       | 904.716ms    | DIVERGED          | DIVERGED              | 0.00141626  |"
      ]
     },
     "metadata": {},
     "output_type": "display_data"
    },
    {
     "data": {
      "text/html": [
       "<pre>| RESET   | 996.28ms     | 1.12306           | 1.05975               |             |</pre>"
      ],
      "text/plain": [
       "| RESET   | 996.28ms     | 1.12306           | 1.05975               |             |"
      ]
     },
     "metadata": {},
     "output_type": "display_data"
    },
    {
     "data": {
      "text/html": [
       "<pre>| 1       | 1.24s        | 0.995908          | 0.997952              | 0.000708131 |</pre>"
      ],
      "text/plain": [
       "| 1       | 1.24s        | 0.995908          | 0.997952              | 0.000708131 |"
      ]
     },
     "metadata": {},
     "output_type": "display_data"
    },
    {
     "data": {
      "text/html": [
       "<pre>| 2       | 1.43s        | 0.900206          | 0.948792              | 0.000421057 |</pre>"
      ],
      "text/plain": [
       "| 2       | 1.43s        | 0.900206          | 0.948792              | 0.000421057 |"
      ]
     },
     "metadata": {},
     "output_type": "display_data"
    },
    {
     "data": {
      "text/html": [
       "<pre>| 3       | 1.65s        | 0.866932          | 0.931092              | 0.000310651 |</pre>"
      ],
      "text/plain": [
       "| 3       | 1.65s        | 0.866932          | 0.931092              | 0.000310651 |"
      ]
     },
     "metadata": {},
     "output_type": "display_data"
    },
    {
     "data": {
      "text/html": [
       "<pre>| 4       | 1.84s        | 0.849653          | 0.921766              | 0.000250362 |</pre>"
      ],
      "text/plain": [
       "| 4       | 1.84s        | 0.849653          | 0.921766              | 0.000250362 |"
      ]
     },
     "metadata": {},
     "output_type": "display_data"
    },
    {
     "data": {
      "text/html": [
       "<pre>| 5       | 2.03s        | 0.837172          | 0.914971              | 0.000211781 |</pre>"
      ],
      "text/plain": [
       "| 5       | 2.03s        | 0.837172          | 0.914971              | 0.000211781 |"
      ]
     },
     "metadata": {},
     "output_type": "display_data"
    },
    {
     "data": {
      "text/html": [
       "<pre>| 7       | 2.42s        | 0.815627          | 0.903121              | 0.000164547 |</pre>"
      ],
      "text/plain": [
       "| 7       | 2.42s        | 0.815627          | 0.903121              | 0.000164547 |"
      ]
     },
     "metadata": {},
     "output_type": "display_data"
    },
    {
     "data": {
      "text/html": [
       "<pre>| 10      | 2.97s        | 0.802727          | 0.89595               | 0.000125926 |</pre>"
      ],
      "text/plain": [
       "| 10      | 2.97s        | 0.802727          | 0.89595               | 0.000125926 |"
      ]
     },
     "metadata": {},
     "output_type": "display_data"
    },
    {
     "data": {
      "text/html": [
       "<pre>| 12      | 3.39s        | 0.804929          | 0.897178              | 0.000109832 |</pre>"
      ],
      "text/plain": [
       "| 12      | 3.39s        | 0.804929          | 0.897178              | 0.000109832 |"
      ]
     },
     "metadata": {},
     "output_type": "display_data"
    },
    {
     "data": {
      "text/html": [
       "<pre>| 17      | 4.71s        | 0.828825          | 0.910398              |             |</pre>"
      ],
      "text/plain": [
       "| 17      | 4.71s        | 0.828825          | 0.910398              |             |"
      ]
     },
     "metadata": {},
     "output_type": "display_data"
    },
    {
     "data": {
      "text/html": [
       "<pre>| 22      | 6.04s        | 0.830299          | 0.911208              | 1.6482e-006 |</pre>"
      ],
      "text/plain": [
       "| 22      | 6.04s        | 0.830299          | 0.911208              | 1.6482e-006 |"
      ]
     },
     "metadata": {},
     "output_type": "display_data"
    },
    {
     "data": {
      "text/html": [
       "<pre>| 27      | 7.39s        | 0.833019          | 0.912698              |             |</pre>"
      ],
      "text/plain": [
       "| 27      | 7.39s        | 0.833019          | 0.912698              |             |"
      ]
     },
     "metadata": {},
     "output_type": "display_data"
    },
    {
     "data": {
      "text/html": [
       "<pre>| 32      | 8.51s        | 0.833523          | 0.912975              |             |</pre>"
      ],
      "text/plain": [
       "| 32      | 8.51s        | 0.833523          | 0.912975              |             |"
      ]
     },
     "metadata": {},
     "output_type": "display_data"
    },
    {
     "data": {
      "text/html": [
       "<pre>| 37      | 9.76s        | 0.83338           | 0.912896              |             |</pre>"
      ],
      "text/plain": [
       "| 37      | 9.76s        | 0.83338           | 0.912896              |             |"
      ]
     },
     "metadata": {},
     "output_type": "display_data"
    },
    {
     "data": {
      "text/html": [
       "<pre>| 42      | 11.18s       | 0.833421          | 0.912919              |             |</pre>"
      ],
      "text/plain": [
       "| 42      | 11.18s       | 0.833421          | 0.912919              |             |"
      ]
     },
     "metadata": {},
     "output_type": "display_data"
    },
    {
     "data": {
      "text/html": [
       "<pre>| 47      | 12.26s       | 0.833514          | 0.91297               |             |</pre>"
      ],
      "text/plain": [
       "| 47      | 12.26s       | 0.833514          | 0.91297               |             |"
      ]
     },
     "metadata": {},
     "output_type": "display_data"
    },
    {
     "data": {
      "text/html": [
       "<pre>| 50      | 12.94s       | 0.833486          | 0.912955              |             |</pre>"
      ],
      "text/plain": [
       "| 50      | 12.94s       | 0.833486          | 0.912955              |             |"
      ]
     },
     "metadata": {},
     "output_type": "display_data"
    },
    {
     "data": {
      "text/html": [
       "<pre>+---------+--------------+-------------------+-----------------------+-------------+</pre>"
      ],
      "text/plain": [
       "+---------+--------------+-------------------+-----------------------+-------------+"
      ]
     },
     "metadata": {},
     "output_type": "display_data"
    },
    {
     "data": {
      "text/html": [
       "<pre>Optimization Complete: Maximum number of passes through the data reached.</pre>"
      ],
      "text/plain": [
       "Optimization Complete: Maximum number of passes through the data reached."
      ]
     },
     "metadata": {},
     "output_type": "display_data"
    },
    {
     "data": {
      "text/html": [
       "<pre>Computing final objective value and training RMSE.</pre>"
      ],
      "text/plain": [
       "Computing final objective value and training RMSE."
      ]
     },
     "metadata": {},
     "output_type": "display_data"
    },
    {
     "data": {
      "text/html": [
       "<pre>       Final objective value: 0.83348</pre>"
      ],
      "text/plain": [
       "       Final objective value: 0.83348"
      ]
     },
     "metadata": {},
     "output_type": "display_data"
    },
    {
     "data": {
      "text/html": [
       "<pre>       Final training RMSE: 0.912951</pre>"
      ],
      "text/plain": [
       "       Final training RMSE: 0.912951"
      ]
     },
     "metadata": {},
     "output_type": "display_data"
    },
    {
     "data": {
      "text/html": [
       "<pre>Recsys training: model = factorization_recommender</pre>"
      ],
      "text/plain": [
       "Recsys training: model = factorization_recommender"
      ]
     },
     "metadata": {},
     "output_type": "display_data"
    },
    {
     "data": {
      "text/html": [
       "<pre>Preparing data set.</pre>"
      ],
      "text/plain": [
       "Preparing data set."
      ]
     },
     "metadata": {},
     "output_type": "display_data"
    },
    {
     "data": {
      "text/html": [
       "<pre>    Data has 80004 observations with 671 users and 9125 items.</pre>"
      ],
      "text/plain": [
       "    Data has 80004 observations with 671 users and 9125 items."
      ]
     },
     "metadata": {},
     "output_type": "display_data"
    },
    {
     "data": {
      "text/html": [
       "<pre>    Data prepared in: 1.21779s</pre>"
      ],
      "text/plain": [
       "    Data prepared in: 1.21779s"
      ]
     },
     "metadata": {},
     "output_type": "display_data"
    },
    {
     "data": {
      "text/html": [
       "<pre>Training factorization_recommender for recommendations.</pre>"
      ],
      "text/plain": [
       "Training factorization_recommender for recommendations."
      ]
     },
     "metadata": {},
     "output_type": "display_data"
    },
    {
     "data": {
      "text/html": [
       "<pre>+--------------------------------+--------------------------------------------------+----------+</pre>"
      ],
      "text/plain": [
       "+--------------------------------+--------------------------------------------------+----------+"
      ]
     },
     "metadata": {},
     "output_type": "display_data"
    },
    {
     "data": {
      "text/html": [
       "<pre>| Parameter                      | Description                                      | Value    |</pre>"
      ],
      "text/plain": [
       "| Parameter                      | Description                                      | Value    |"
      ]
     },
     "metadata": {},
     "output_type": "display_data"
    },
    {
     "data": {
      "text/html": [
       "<pre>+--------------------------------+--------------------------------------------------+----------+</pre>"
      ],
      "text/plain": [
       "+--------------------------------+--------------------------------------------------+----------+"
      ]
     },
     "metadata": {},
     "output_type": "display_data"
    },
    {
     "data": {
      "text/html": [
       "<pre>| num_factors                    | Factor Dimension                                 | 6        |</pre>"
      ],
      "text/plain": [
       "| num_factors                    | Factor Dimension                                 | 6        |"
      ]
     },
     "metadata": {},
     "output_type": "display_data"
    },
    {
     "data": {
      "text/html": [
       "<pre>| regularization                 | L2 Regularization on Factors                     | 1e-008   |</pre>"
      ],
      "text/plain": [
       "| regularization                 | L2 Regularization on Factors                     | 1e-008   |"
      ]
     },
     "metadata": {},
     "output_type": "display_data"
    },
    {
     "data": {
      "text/html": [
       "<pre>| solver                         | Solver used for training                         | sgd      |</pre>"
      ],
      "text/plain": [
       "| solver                         | Solver used for training                         | sgd      |"
      ]
     },
     "metadata": {},
     "output_type": "display_data"
    },
    {
     "data": {
      "text/html": [
       "<pre>| linear_regularization          | L2 Regularization on Linear Coefficients         | 1e-010   |</pre>"
      ],
      "text/plain": [
       "| linear_regularization          | L2 Regularization on Linear Coefficients         | 1e-010   |"
      ]
     },
     "metadata": {},
     "output_type": "display_data"
    },
    {
     "data": {
      "text/html": [
       "<pre>| side_data_factorization        | Assign Factors for Side Data                     | True     |</pre>"
      ],
      "text/plain": [
       "| side_data_factorization        | Assign Factors for Side Data                     | True     |"
      ]
     },
     "metadata": {},
     "output_type": "display_data"
    },
    {
     "data": {
      "text/html": [
       "<pre>| max_iterations                 | Maximum Number of Iterations                     | 50       |</pre>"
      ],
      "text/plain": [
       "| max_iterations                 | Maximum Number of Iterations                     | 50       |"
      ]
     },
     "metadata": {},
     "output_type": "display_data"
    },
    {
     "data": {
      "text/html": [
       "<pre>+--------------------------------+--------------------------------------------------+----------+</pre>"
      ],
      "text/plain": [
       "+--------------------------------+--------------------------------------------------+----------+"
      ]
     },
     "metadata": {},
     "output_type": "display_data"
    },
    {
     "data": {
      "text/html": [
       "<pre>  Optimizing model using SGD; tuning step size.</pre>"
      ],
      "text/plain": [
       "  Optimizing model using SGD; tuning step size."
      ]
     },
     "metadata": {},
     "output_type": "display_data"
    },
    {
     "data": {
      "text/html": [
       "<pre>  Using 10000 / 80004 points for tuning the step size.</pre>"
      ],
      "text/plain": [
       "  Using 10000 / 80004 points for tuning the step size."
      ]
     },
     "metadata": {},
     "output_type": "display_data"
    },
    {
     "data": {
      "text/html": [
       "<pre>+---------+-------------------+------------------------------------------+</pre>"
      ],
      "text/plain": [
       "+---------+-------------------+------------------------------------------+"
      ]
     },
     "metadata": {},
     "output_type": "display_data"
    },
    {
     "data": {
      "text/html": [
       "<pre>| Attempt | Initial Step Size | Estimated Objective Value                |</pre>"
      ],
      "text/plain": [
       "| Attempt | Initial Step Size | Estimated Objective Value                |"
      ]
     },
     "metadata": {},
     "output_type": "display_data"
    },
    {
     "data": {
      "text/html": [
       "<pre>+---------+-------------------+------------------------------------------+</pre>"
      ],
      "text/plain": [
       "+---------+-------------------+------------------------------------------+"
      ]
     },
     "metadata": {},
     "output_type": "display_data"
    },
    {
     "data": {
      "text/html": [
       "<pre>| 0       | 1.21951           | Not Viable                               |</pre>"
      ],
      "text/plain": [
       "| 0       | 1.21951           | Not Viable                               |"
      ]
     },
     "metadata": {},
     "output_type": "display_data"
    },
    {
     "data": {
      "text/html": [
       "<pre>| 1       | 0.304878          | Not Viable                               |</pre>"
      ],
      "text/plain": [
       "| 1       | 0.304878          | Not Viable                               |"
      ]
     },
     "metadata": {},
     "output_type": "display_data"
    },
    {
     "data": {
      "text/html": [
       "<pre>| 2       | 0.0762195         | Not Viable                               |</pre>"
      ],
      "text/plain": [
       "| 2       | 0.0762195         | Not Viable                               |"
      ]
     },
     "metadata": {},
     "output_type": "display_data"
    },
    {
     "data": {
      "text/html": [
       "<pre>| 3       | 0.0190549         | Not Viable                               |</pre>"
      ],
      "text/plain": [
       "| 3       | 0.0190549         | Not Viable                               |"
      ]
     },
     "metadata": {},
     "output_type": "display_data"
    },
    {
     "data": {
      "text/html": [
       "<pre>| 4       | 0.00476372        | 0.776878                                 |</pre>"
      ],
      "text/plain": [
       "| 4       | 0.00476372        | 0.776878                                 |"
      ]
     },
     "metadata": {},
     "output_type": "display_data"
    },
    {
     "data": {
      "text/html": [
       "<pre>| 5       | 0.00238186        | 0.804083                                 |</pre>"
      ],
      "text/plain": [
       "| 5       | 0.00238186        | 0.804083                                 |"
      ]
     },
     "metadata": {},
     "output_type": "display_data"
    },
    {
     "data": {
      "text/html": [
       "<pre>| 6       | 0.00119093        | 0.925912                                 |</pre>"
      ],
      "text/plain": [
       "| 6       | 0.00119093        | 0.925912                                 |"
      ]
     },
     "metadata": {},
     "output_type": "display_data"
    },
    {
     "data": {
      "text/html": [
       "<pre>| 7       | 0.000595465       | 0.943805                                 |</pre>"
      ],
      "text/plain": [
       "| 7       | 0.000595465       | 0.943805                                 |"
      ]
     },
     "metadata": {},
     "output_type": "display_data"
    },
    {
     "data": {
      "text/html": [
       "<pre>+---------+-------------------+------------------------------------------+</pre>"
      ],
      "text/plain": [
       "+---------+-------------------+------------------------------------------+"
      ]
     },
     "metadata": {},
     "output_type": "display_data"
    },
    {
     "data": {
      "text/html": [
       "<pre>| Final   | 0.00476372        | 0.776878                                 |</pre>"
      ],
      "text/plain": [
       "| Final   | 0.00476372        | 0.776878                                 |"
      ]
     },
     "metadata": {},
     "output_type": "display_data"
    },
    {
     "data": {
      "text/html": [
       "<pre>+---------+-------------------+------------------------------------------+</pre>"
      ],
      "text/plain": [
       "+---------+-------------------+------------------------------------------+"
      ]
     },
     "metadata": {},
     "output_type": "display_data"
    },
    {
     "data": {
      "text/html": [
       "<pre>Starting Optimization.</pre>"
      ],
      "text/plain": [
       "Starting Optimization."
      ]
     },
     "metadata": {},
     "output_type": "display_data"
    },
    {
     "data": {
      "text/html": [
       "<pre>+---------+--------------+-------------------+-----------------------+-------------+</pre>"
      ],
      "text/plain": [
       "+---------+--------------+-------------------+-----------------------+-------------+"
      ]
     },
     "metadata": {},
     "output_type": "display_data"
    },
    {
     "data": {
      "text/html": [
       "<pre>| Iter.   | Elapsed Time | Approx. Objective | Approx. Training RMSE | Step Size   |</pre>"
      ],
      "text/plain": [
       "| Iter.   | Elapsed Time | Approx. Objective | Approx. Training RMSE | Step Size   |"
      ]
     },
     "metadata": {},
     "output_type": "display_data"
    },
    {
     "data": {
      "text/html": [
       "<pre>+---------+--------------+-------------------+-----------------------+-------------+</pre>"
      ],
      "text/plain": [
       "+---------+--------------+-------------------+-----------------------+-------------+"
      ]
     },
     "metadata": {},
     "output_type": "display_data"
    },
    {
     "data": {
      "text/html": [
       "<pre>| Initial | 500us        | 1.13362           | 1.06472               |             |</pre>"
      ],
      "text/plain": [
       "| Initial | 500us        | 1.13362           | 1.06472               |             |"
      ]
     },
     "metadata": {},
     "output_type": "display_data"
    },
    {
     "data": {
      "text/html": [
       "<pre>+---------+--------------+-------------------+-----------------------+-------------+</pre>"
      ],
      "text/plain": [
       "+---------+--------------+-------------------+-----------------------+-------------+"
      ]
     },
     "metadata": {},
     "output_type": "display_data"
    },
    {
     "data": {
      "text/html": [
       "<pre>| 1       | 571.905ms    | DIVERGED          | DIVERGED              | 0.00476372  |</pre>"
      ],
      "text/plain": [
       "| 1       | 571.905ms    | DIVERGED          | DIVERGED              | 0.00476372  |"
      ]
     },
     "metadata": {},
     "output_type": "display_data"
    },
    {
     "data": {
      "text/html": [
       "<pre>| RESET   | 735.6ms      | 1.13336           | 1.06459               |             |</pre>"
      ],
      "text/plain": [
       "| RESET   | 735.6ms      | 1.13336           | 1.06459               |             |"
      ]
     },
     "metadata": {},
     "output_type": "display_data"
    },
    {
     "data": {
      "text/html": [
       "<pre>| 1       | 1.21s        | DIVERGED          | DIVERGED              | 0.00238186  |</pre>"
      ],
      "text/plain": [
       "| 1       | 1.21s        | DIVERGED          | DIVERGED              | 0.00238186  |"
      ]
     },
     "metadata": {},
     "output_type": "display_data"
    },
    {
     "data": {
      "text/html": [
       "<pre>| RESET   | 1.36s        | 1.13364           | 1.06472               |             |</pre>"
      ],
      "text/plain": [
       "| RESET   | 1.36s        | 1.13364           | 1.06472               |             |"
      ]
     },
     "metadata": {},
     "output_type": "display_data"
    },
    {
     "data": {
      "text/html": [
       "<pre>| 1       | 1.57s        | 1.00662           | 1.00331               | 0.00119093  |</pre>"
      ],
      "text/plain": [
       "| 1       | 1.57s        | 1.00662           | 1.00331               | 0.00119093  |"
      ]
     },
     "metadata": {},
     "output_type": "display_data"
    },
    {
     "data": {
      "text/html": [
       "<pre>| 2       | 1.75s        | 0.874157          | 0.934964              | 0.000708131 |</pre>"
      ],
      "text/plain": [
       "| 2       | 1.75s        | 0.874157          | 0.934964              | 0.000708131 |"
      ]
     },
     "metadata": {},
     "output_type": "display_data"
    },
    {
     "data": {
      "text/html": [
       "<pre>| 3       | 1.95s        | 0.852755          | 0.923447              | 0.000522451 |</pre>"
      ],
      "text/plain": [
       "| 3       | 1.95s        | 0.852755          | 0.923447              | 0.000522451 |"
      ]
     },
     "metadata": {},
     "output_type": "display_data"
    },
    {
     "data": {
      "text/html": [
       "<pre>| 4       | 2.14s        | 0.816572          | 0.903644              | 0.000421057 |</pre>"
      ],
      "text/plain": [
       "| 4       | 2.14s        | 0.816572          | 0.903644              | 0.000421057 |"
      ]
     },
     "metadata": {},
     "output_type": "display_data"
    },
    {
     "data": {
      "text/html": [
       "<pre>| 5       | 2.34s        | 0.788359          | 0.887896              | 0.000356171 |</pre>"
      ],
      "text/plain": [
       "| 5       | 2.34s        | 0.788359          | 0.887896              | 0.000356171 |"
      ]
     },
     "metadata": {},
     "output_type": "display_data"
    },
    {
     "data": {
      "text/html": [
       "<pre>| 6       | 2.56s        | 0.770358          | 0.8777                | 0.000310651 |</pre>"
      ],
      "text/plain": [
       "| 6       | 2.56s        | 0.770358          | 0.8777                | 0.000310651 |"
      ]
     },
     "metadata": {},
     "output_type": "display_data"
    },
    {
     "data": {
      "text/html": [
       "<pre>| 8       | 2.91s        | 0.749676          | 0.865838              | 0.000250362 |</pre>"
      ],
      "text/plain": [
       "| 8       | 2.91s        | 0.749676          | 0.865838              | 0.000250362 |"
      ]
     },
     "metadata": {},
     "output_type": "display_data"
    },
    {
     "data": {
      "text/html": [
       "<pre>| 11      | 3.44s        | 1.24664           | 1.11653               | 0.0001658   |</pre>"
      ],
      "text/plain": [
       "| 11      | 3.44s        | 1.24664           | 1.11653               | 0.0001658   |"
      ]
     },
     "metadata": {},
     "output_type": "display_data"
    },
    {
     "data": {
      "text/html": [
       "<pre>| 12      | 3.73s        | DIVERGED          | DIVERGED              | 0.000130613 |</pre>"
      ],
      "text/plain": [
       "| 12      | 3.73s        | DIVERGED          | DIVERGED              | 0.000130613 |"
      ]
     },
     "metadata": {},
     "output_type": "display_data"
    },
    {
     "data": {
      "text/html": [
       "<pre>| RESET   | 3.84s        | 1.13367           | 1.06474               |             |</pre>"
      ],
      "text/plain": [
       "| RESET   | 3.84s        | 1.13367           | 1.06474               |             |"
      ]
     },
     "metadata": {},
     "output_type": "display_data"
    },
    {
     "data": {
      "text/html": [
       "<pre>| 6       | 5.03s        | 0.962593          | 0.981118              | 1.7035e-005 |</pre>"
      ],
      "text/plain": [
       "| 6       | 5.03s        | 0.962593          | 0.981118              | 1.7035e-005 |"
      ]
     },
     "metadata": {},
     "output_type": "display_data"
    },
    {
     "data": {
      "text/html": [
       "<pre>| 16      | 6.92s        | 0.934619          | 0.966757              |             |</pre>"
      ],
      "text/plain": [
       "| 16      | 6.92s        | 0.934619          | 0.966757              |             |"
      ]
     },
     "metadata": {},
     "output_type": "display_data"
    },
    {
     "data": {
      "text/html": [
       "<pre>| 26      | 8.98s        | 0.917939          | 0.958091              |             |</pre>"
      ],
      "text/plain": [
       "| 26      | 8.98s        | 0.917939          | 0.958091              |             |"
      ]
     },
     "metadata": {},
     "output_type": "display_data"
    },
    {
     "data": {
      "text/html": [
       "<pre>| 36      | 11.15s       | 0.911545          | 0.954749              |             |</pre>"
      ],
      "text/plain": [
       "| 36      | 11.15s       | 0.911545          | 0.954749              |             |"
      ]
     },
     "metadata": {},
     "output_type": "display_data"
    },
    {
     "data": {
      "text/html": [
       "<pre>| 40      | 11.79s       | 0.910309          | 0.954101              |             |</pre>"
      ],
      "text/plain": [
       "| 40      | 11.79s       | 0.910309          | 0.954101              |             |"
      ]
     },
     "metadata": {},
     "output_type": "display_data"
    },
    {
     "data": {
      "text/html": [
       "<pre>+---------+--------------+-------------------+-----------------------+-------------+</pre>"
      ],
      "text/plain": [
       "+---------+--------------+-------------------+-----------------------+-------------+"
      ]
     },
     "metadata": {},
     "output_type": "display_data"
    },
    {
     "data": {
      "text/html": [
       "<pre>Optimization Complete: Maximum number of passes through the data reached (hard limit).</pre>"
      ],
      "text/plain": [
       "Optimization Complete: Maximum number of passes through the data reached (hard limit)."
      ]
     },
     "metadata": {},
     "output_type": "display_data"
    },
    {
     "data": {
      "text/html": [
       "<pre>Computing final objective value and training RMSE.</pre>"
      ],
      "text/plain": [
       "Computing final objective value and training RMSE."
      ]
     },
     "metadata": {},
     "output_type": "display_data"
    },
    {
     "data": {
      "text/html": [
       "<pre>       Final objective value: 0.910177</pre>"
      ],
      "text/plain": [
       "       Final objective value: 0.910177"
      ]
     },
     "metadata": {},
     "output_type": "display_data"
    },
    {
     "data": {
      "text/html": [
       "<pre>       Final training RMSE: 0.954032</pre>"
      ],
      "text/plain": [
       "       Final training RMSE: 0.954032"
      ]
     },
     "metadata": {},
     "output_type": "display_data"
    }
   ],
   "source": [
    "m1_t1 = graphlab.factorization_recommender.create(train1, target='rating', user_id='userId',\n",
    "                                               item_id='movieId',solver= \"sgd\" , user_data = user_metadata,\n",
    "                                               item_data = movie_metadata,regularization=1e-08, num_factors=6)\n",
    "m1_t2 = graphlab.factorization_recommender.create(train2, target='rating', user_id='userId',\n",
    "                                               item_id='movieId',solver= \"sgd\" , user_data = user_metadata,\n",
    "                                               item_data = movie_metadata, regularization=1e-08, num_factors=6)\n",
    "m1_t3 = graphlab.factorization_recommender.create(train3, target='rating', user_id='userId',\n",
    "                                               item_id='movieId',solver= \"sgd\" , user_data = user_metadata,\n",
    "                                               item_data = movie_metadata,regularization=1e-08, num_factors=6)\n",
    "m1 = graphlab.factorization_recommender.create(train, target='rating', user_id='userId',\n",
    "                                               item_id='movieId',solver= \"sgd\" , user_data = user_metadata,\n",
    "                                               item_data = movie_metadata,regularization=1e-08, num_factors=6)"
   ]
  },
  {
   "cell_type": "code",
   "execution_count": 319,
   "metadata": {
    "scrolled": true
   },
   "outputs": [
    {
     "data": {
      "image/png": "[encoded data removed]",
      "text/plain": [
       "<matplotlib.figure.Figure at 0xae651b70>"
      ]
     },
     "metadata": {},
     "output_type": "display_data"
    },
    {
     "name": "stdout",
     "output_type": "stream",
     "text": [
      "  data_fraction      rmse\n",
      "0          0.25  0.906291\n",
      "1          0.50  0.909104\n",
      "2          0.75  0.934679\n",
      "3             1  0.962714\n"
     ]
    }
   ],
   "source": [
    "model_comp1 =graphlab.recommender.util.compare_models(test, [m1_t1,m1_t2,m1_t3,m1], model_names=None,\n",
    "                                         user_sample=1.0, metric='rmse',\n",
    "                                         target='rating', exclude_known_for_precision_recall=True, \n",
    "                                         make_plot=False, verbose=False)\n",
    "#fig, ax = plt.subplots(1, 1)\n",
    "rmse_data = {'data_fraction':[\"0.25\",\"0.50\",\"0.75\",\"1\"], 'rmse':[]}\n",
    "for i in range(0,len(model_comp1)):\n",
    "    rmse_data['rmse'].append(model_comp1[i]['rmse_overall'])\n",
    "    \n",
    "\n",
    "rmse_df=pd.DataFrame(rmse_data)\n",
    "rmse_df.plot(x='data_fraction',y='rmse')\n",
    "plt.show()\n",
    "print(rmse_df)"
   ]
  },
  {
   "cell_type": "code",
   "execution_count": 318,
   "metadata": {},
   "outputs": [
    {
     "name": "stdout",
     "output_type": "stream",
     "text": [
      "PROGRESS: Evaluate model M0\n",
      "\n",
      "Precision and recall summary statistics by cutoff\n",
      "+--------+------------------+-------------------+\n",
      "| cutoff |  mean_precision  |    mean_recall    |\n",
      "+--------+------------------+-------------------+\n",
      "|   1    |       0.0        |        0.0        |\n",
      "|   2    |      0.004       | 4.61095100865e-06 |\n",
      "|   3    | 0.00533333333333 | 0.000140204171348 |\n",
      "|   4    |      0.008       | 0.000239067391003 |\n",
      "|   5    |      0.0064      | 0.000239067391003 |\n",
      "|   6    | 0.0186666666667  |  0.00103577843882 |\n",
      "|   7    | 0.0171428571429  |  0.00109292129596 |\n",
      "|   8    |      0.015       |  0.00109292129596 |\n",
      "|   9    |      0.016       |  0.00112158527729 |\n",
      "|   10   |      0.0144      |  0.00112158527729 |\n",
      "+--------+------------------+-------------------+\n",
      "[10 rows x 3 columns]\n",
      "\n",
      "PROGRESS: Evaluate model M1\n",
      "\n",
      "Precision and recall summary statistics by cutoff\n",
      "+--------+------------------+-------------------+\n",
      "| cutoff |  mean_precision  |    mean_recall    |\n",
      "+--------+------------------+-------------------+\n",
      "|   1    |       0.0        |        0.0        |\n",
      "|   2    |      0.004       | 4.61095100865e-06 |\n",
      "|   3    | 0.00266666666667 | 4.61095100865e-06 |\n",
      "|   4    |      0.006       | 0.000302279427534 |\n",
      "|   5    |      0.0048      | 0.000302279427534 |\n",
      "|   6    |      0.004       | 0.000302279427534 |\n",
      "|   7    |      0.008       |  0.00103382446407 |\n",
      "|   8    |      0.011       |  0.00207255594038 |\n",
      "|   9    | 0.0133333333333  |  0.00231978337793 |\n",
      "|   10   |      0.032       |  0.00546009838952 |\n",
      "+--------+------------------+-------------------+\n",
      "[10 rows x 3 columns]\n",
      "\n",
      "PROGRESS: Evaluate model M2\n",
      "\n",
      "Precision and recall summary statistics by cutoff\n",
      "+--------+------------------+-------------------+\n",
      "| cutoff |  mean_precision  |    mean_recall    |\n",
      "+--------+------------------+-------------------+\n",
      "|   1    |       0.0        |        0.0        |\n",
      "|   2    |       0.0        |        0.0        |\n",
      "|   3    | 0.00533333333333 | 2.51703557498e-05 |\n",
      "|   4    |      0.008       | 0.000105971782949 |\n",
      "|   5    |      0.0064      | 0.000105971782949 |\n",
      "|   6    | 0.0146666666667  | 0.000822502167559 |\n",
      "|   7    | 0.0137142857143  | 0.000909458689298 |\n",
      "|   8    |      0.018       |  0.00125415811713 |\n",
      "|   9    | 0.0168888888889  |  0.00131665811713 |\n",
      "|   10   |      0.0152      |  0.00131665811713 |\n",
      "+--------+------------------+-------------------+\n",
      "[10 rows x 3 columns]\n",
      "\n",
      "PROGRESS: Evaluate model M3\n",
      "\n",
      "Precision and recall summary statistics by cutoff\n",
      "+--------+----------------+-------------------+\n",
      "| cutoff | mean_precision |    mean_recall    |\n",
      "+--------+----------------+-------------------+\n",
      "|   1    |     0.008      | 4.61095100865e-06 |\n",
      "|   2    |     0.008      | 3.62315043683e-05 |\n",
      "|   3    |     0.096      |  0.00525120398926 |\n",
      "|   4    |     0.106      |  0.0077884031266  |\n",
      "|   5    |     0.1216     |  0.00974797176805 |\n",
      "|   6    | 0.137333333333 |  0.0120315881535  |\n",
      "|   7    |     0.152      |  0.0158037734507  |\n",
      "|   8    |     0.162      |  0.0189552291029  |\n",
      "|   9    | 0.164444444444 |  0.0213821080236  |\n",
      "|   10   |     0.1512     |  0.0214850576754  |\n",
      "+--------+----------------+-------------------+\n",
      "[10 rows x 3 columns]\n",
      "\n",
      "Model compare metric: precision_recall\n"
     ]
    },
    {
     "data": {
      "image/png": "[encoded data removed]",
      "text/plain": [
       "<matplotlib.figure.Figure at 0xaa999ac8>"
      ]
     },
     "metadata": {},
     "output_type": "display_data"
    }
   ],
   "source": [
    "model_comp1 = graphlab.compare(test, [m1_t1,m1_t2,m1_t3,m1],target='rating')\n",
    "model_comp1_df = model_comp1.to_dataframe()\n",
    "\n",
    "fig, ax = plt.subplots(1, 1)\n",
    "for i in range(0,len(model_comp1_df.index)):\n",
    "    xy_dict= model_comp1_df.loc[i,\"results\"]['precision_recall']\n",
    "    xy = pd.DataFrame(xy_dict)    \n",
    "    #xy.plot(x='recall',y= 'precision',ax=ax)\n",
    "    label1= model_comp1_df.loc[i,\"model\"]\n",
    "    xy.plot(x='recall',y= 'precision',ax=ax,label=label1)\n",
    "    \n",
    "plt.show()"
   ]
  },
  {
   "cell_type": "markdown",
   "metadata": {},
   "source": [
    "Based on the plots above, we see that the area under the precision-recall curve of the model trained with the complete dataset is the highest while the area under the curve of the model trained with only 0.25 of the data is the lowest which shows that a larger training dataset improves the accuracy of the model "
   ]
  },
  {
   "cell_type": "markdown",
   "metadata": {},
   "source": [
    "# Cross Validation of the model"
   ]
  },
  {
   "cell_type": "code",
   "execution_count": 320,
   "metadata": {},
   "outputs": [
    {
     "data": {
      "text/html": [
       "<pre>Finished parsing file C:\\Users\\hp\\Desktop\\Jupyter Notebooks\\Personalisation-master\\Personalisation-master\\full_dataset.csv</pre>"
      ],
      "text/plain": [
       "Finished parsing file C:\\Users\\hp\\Desktop\\Jupyter Notebooks\\Personalisation-master\\Personalisation-master\\full_dataset.csv"
      ]
     },
     "metadata": {},
     "output_type": "display_data"
    },
    {
     "data": {
      "text/html": [
       "<pre>Parsing completed. Parsed 100004 lines in 0.702013 secs.</pre>"
      ],
      "text/plain": [
       "Parsing completed. Parsed 100004 lines in 0.702013 secs."
      ]
     },
     "metadata": {},
     "output_type": "display_data"
    },
    {
     "data": {
      "text/html": [
       "<pre>Recsys training: model = factorization_recommender</pre>"
      ],
      "text/plain": [
       "Recsys training: model = factorization_recommender"
      ]
     },
     "metadata": {},
     "output_type": "display_data"
    },
    {
     "data": {
      "text/html": [
       "<pre>Preparing data set.</pre>"
      ],
      "text/plain": [
       "Preparing data set."
      ]
     },
     "metadata": {},
     "output_type": "display_data"
    },
    {
     "data": {
      "text/html": [
       "<pre>    Data has 80003 observations with 671 users and 9125 items.</pre>"
      ],
      "text/plain": [
       "    Data has 80003 observations with 671 users and 9125 items."
      ]
     },
     "metadata": {},
     "output_type": "display_data"
    },
    {
     "data": {
      "text/html": [
       "<pre>    Data prepared in: 0.979205s</pre>"
      ],
      "text/plain": [
       "    Data prepared in: 0.979205s"
      ]
     },
     "metadata": {},
     "output_type": "display_data"
    },
    {
     "data": {
      "text/html": [
       "<pre>Training factorization_recommender for recommendations.</pre>"
      ],
      "text/plain": [
       "Training factorization_recommender for recommendations."
      ]
     },
     "metadata": {},
     "output_type": "display_data"
    },
    {
     "data": {
      "text/html": [
       "<pre>+--------------------------------+--------------------------------------------------+----------+</pre>"
      ],
      "text/plain": [
       "+--------------------------------+--------------------------------------------------+----------+"
      ]
     },
     "metadata": {},
     "output_type": "display_data"
    },
    {
     "data": {
      "text/html": [
       "<pre>| Parameter                      | Description                                      | Value    |</pre>"
      ],
      "text/plain": [
       "| Parameter                      | Description                                      | Value    |"
      ]
     },
     "metadata": {},
     "output_type": "display_data"
    },
    {
     "data": {
      "text/html": [
       "<pre>+--------------------------------+--------------------------------------------------+----------+</pre>"
      ],
      "text/plain": [
       "+--------------------------------+--------------------------------------------------+----------+"
      ]
     },
     "metadata": {},
     "output_type": "display_data"
    },
    {
     "data": {
      "text/html": [
       "<pre>| num_factors                    | Factor Dimension                                 | 4        |</pre>"
      ],
      "text/plain": [
       "| num_factors                    | Factor Dimension                                 | 4        |"
      ]
     },
     "metadata": {},
     "output_type": "display_data"
    },
    {
     "data": {
      "text/html": [
       "<pre>| regularization                 | L2 Regularization on Factors                     | 1e-008   |</pre>"
      ],
      "text/plain": [
       "| regularization                 | L2 Regularization on Factors                     | 1e-008   |"
      ]
     },
     "metadata": {},
     "output_type": "display_data"
    },
    {
     "data": {
      "text/html": [
       "<pre>| solver                         | Solver used for training                         | adagrad  |</pre>"
      ],
      "text/plain": [
       "| solver                         | Solver used for training                         | adagrad  |"
      ]
     },
     "metadata": {},
     "output_type": "display_data"
    },
    {
     "data": {
      "text/html": [
       "<pre>| linear_regularization          | L2 Regularization on Linear Coefficients         | 1e-010   |</pre>"
      ],
      "text/plain": [
       "| linear_regularization          | L2 Regularization on Linear Coefficients         | 1e-010   |"
      ]
     },
     "metadata": {},
     "output_type": "display_data"
    },
    {
     "data": {
      "text/html": [
       "<pre>| side_data_factorization        | Assign Factors for Side Data                     | True     |</pre>"
      ],
      "text/plain": [
       "| side_data_factorization        | Assign Factors for Side Data                     | True     |"
      ]
     },
     "metadata": {},
     "output_type": "display_data"
    },
    {
     "data": {
      "text/html": [
       "<pre>| max_iterations                 | Maximum Number of Iterations                     | 50       |</pre>"
      ],
      "text/plain": [
       "| max_iterations                 | Maximum Number of Iterations                     | 50       |"
      ]
     },
     "metadata": {},
     "output_type": "display_data"
    },
    {
     "data": {
      "text/html": [
       "<pre>+--------------------------------+--------------------------------------------------+----------+</pre>"
      ],
      "text/plain": [
       "+--------------------------------+--------------------------------------------------+----------+"
      ]
     },
     "metadata": {},
     "output_type": "display_data"
    },
    {
     "data": {
      "text/html": [
       "<pre>  Optimizing model using SGD; tuning step size.</pre>"
      ],
      "text/plain": [
       "  Optimizing model using SGD; tuning step size."
      ]
     },
     "metadata": {},
     "output_type": "display_data"
    },
    {
     "data": {
      "text/html": [
       "<pre>  Using 10000 / 80003 points for tuning the step size.</pre>"
      ],
      "text/plain": [
       "  Using 10000 / 80003 points for tuning the step size."
      ]
     },
     "metadata": {},
     "output_type": "display_data"
    },
    {
     "data": {
      "text/html": [
       "<pre>+---------+-------------------+------------------------------------------+</pre>"
      ],
      "text/plain": [
       "+---------+-------------------+------------------------------------------+"
      ]
     },
     "metadata": {},
     "output_type": "display_data"
    },
    {
     "data": {
      "text/html": [
       "<pre>| Attempt | Initial Step Size | Estimated Objective Value                |</pre>"
      ],
      "text/plain": [
       "| Attempt | Initial Step Size | Estimated Objective Value                |"
      ]
     },
     "metadata": {},
     "output_type": "display_data"
    },
    {
     "data": {
      "text/html": [
       "<pre>+---------+-------------------+------------------------------------------+</pre>"
      ],
      "text/plain": [
       "+---------+-------------------+------------------------------------------+"
      ]
     },
     "metadata": {},
     "output_type": "display_data"
    },
    {
     "data": {
      "text/html": [
       "<pre>| 0       | 1.21951           | Not Viable                               |</pre>"
      ],
      "text/plain": [
       "| 0       | 1.21951           | Not Viable                               |"
      ]
     },
     "metadata": {},
     "output_type": "display_data"
    },
    {
     "data": {
      "text/html": [
       "<pre>| 1       | 0.304878          | 0.174514                                 |</pre>"
      ],
      "text/plain": [
       "| 1       | 0.304878          | 0.174514                                 |"
      ]
     },
     "metadata": {},
     "output_type": "display_data"
    },
    {
     "data": {
      "text/html": [
       "<pre>| 2       | 0.152439          | 0.0770773                                |</pre>"
      ],
      "text/plain": [
       "| 2       | 0.152439          | 0.0770773                                |"
      ]
     },
     "metadata": {},
     "output_type": "display_data"
    },
    {
     "data": {
      "text/html": [
       "<pre>| 3       | 0.0762195         | 0.089405                                 |</pre>"
      ],
      "text/plain": [
       "| 3       | 0.0762195         | 0.089405                                 |"
      ]
     },
     "metadata": {},
     "output_type": "display_data"
    },
    {
     "data": {
      "text/html": [
       "<pre>| 4       | 0.0381098         | 0.190627                                 |</pre>"
      ],
      "text/plain": [
       "| 4       | 0.0381098         | 0.190627                                 |"
      ]
     },
     "metadata": {},
     "output_type": "display_data"
    },
    {
     "data": {
      "text/html": [
       "<pre>+---------+-------------------+------------------------------------------+</pre>"
      ],
      "text/plain": [
       "+---------+-------------------+------------------------------------------+"
      ]
     },
     "metadata": {},
     "output_type": "display_data"
    },
    {
     "data": {
      "text/html": [
       "<pre>| Final   | 0.152439          | 0.0770773                                |</pre>"
      ],
      "text/plain": [
       "| Final   | 0.152439          | 0.0770773                                |"
      ]
     },
     "metadata": {},
     "output_type": "display_data"
    },
    {
     "data": {
      "text/html": [
       "<pre>+---------+-------------------+------------------------------------------+</pre>"
      ],
      "text/plain": [
       "+---------+-------------------+------------------------------------------+"
      ]
     },
     "metadata": {},
     "output_type": "display_data"
    },
    {
     "data": {
      "text/html": [
       "<pre>Starting Optimization.</pre>"
      ],
      "text/plain": [
       "Starting Optimization."
      ]
     },
     "metadata": {},
     "output_type": "display_data"
    },
    {
     "data": {
      "text/html": [
       "<pre>+---------+--------------+-------------------+-----------------------+-------------+</pre>"
      ],
      "text/plain": [
       "+---------+--------------+-------------------+-----------------------+-------------+"
      ]
     },
     "metadata": {},
     "output_type": "display_data"
    },
    {
     "data": {
      "text/html": [
       "<pre>| Iter.   | Elapsed Time | Approx. Objective | Approx. Training RMSE | Step Size   |</pre>"
      ],
      "text/plain": [
       "| Iter.   | Elapsed Time | Approx. Objective | Approx. Training RMSE | Step Size   |"
      ]
     },
     "metadata": {},
     "output_type": "display_data"
    },
    {
     "data": {
      "text/html": [
       "<pre>+---------+--------------+-------------------+-----------------------+-------------+</pre>"
      ],
      "text/plain": [
       "+---------+--------------+-------------------+-----------------------+-------------+"
      ]
     },
     "metadata": {},
     "output_type": "display_data"
    },
    {
     "data": {
      "text/html": [
       "<pre>| Initial | 0us          | 1.1152            | 1.05603               |             |</pre>"
      ],
      "text/plain": [
       "| Initial | 0us          | 1.1152            | 1.05603               |             |"
      ]
     },
     "metadata": {},
     "output_type": "display_data"
    },
    {
     "data": {
      "text/html": [
       "<pre>+---------+--------------+-------------------+-----------------------+-------------+</pre>"
      ],
      "text/plain": [
       "+---------+--------------+-------------------+-----------------------+-------------+"
      ]
     },
     "metadata": {},
     "output_type": "display_data"
    },
    {
     "data": {
      "text/html": [
       "<pre>| 1       | 303.222ms    | 1.13659           | 1.06606               | 0.152439    |</pre>"
      ],
      "text/plain": [
       "| 1       | 303.222ms    | 1.13659           | 1.06606               | 0.152439    |"
      ]
     },
     "metadata": {},
     "output_type": "display_data"
    },
    {
     "data": {
      "text/html": [
       "<pre>| 2       | 592.927ms    | 0.59575           | 0.771787              | 0.152439    |</pre>"
      ],
      "text/plain": [
       "| 2       | 592.927ms    | 0.59575           | 0.771787              | 0.152439    |"
      ]
     },
     "metadata": {},
     "output_type": "display_data"
    },
    {
     "data": {
      "text/html": [
       "<pre>| 3       | 834.099ms    | 0.380439          | 0.616719              | 0.152439    |</pre>"
      ],
      "text/plain": [
       "| 3       | 834.099ms    | 0.380439          | 0.616719              | 0.152439    |"
      ]
     },
     "metadata": {},
     "output_type": "display_data"
    },
    {
     "data": {
      "text/html": [
       "<pre>| 4       | 1.12s        | 0.282647          | 0.531551              | 0.152439    |</pre>"
      ],
      "text/plain": [
       "| 4       | 1.12s        | 0.282647          | 0.531551              | 0.152439    |"
      ]
     },
     "metadata": {},
     "output_type": "display_data"
    },
    {
     "data": {
      "text/html": [
       "<pre>| 5       | 1.31s        | 0.220924          | 0.469912              | 0.152439    |</pre>"
      ],
      "text/plain": [
       "| 5       | 1.31s        | 0.220924          | 0.469912              | 0.152439    |"
      ]
     },
     "metadata": {},
     "output_type": "display_data"
    },
    {
     "data": {
      "text/html": [
       "<pre>| 6       | 1.52s        | 0.176118          | 0.419529              | 0.152439    |</pre>"
      ],
      "text/plain": [
       "| 6       | 1.52s        | 0.176118          | 0.419529              | 0.152439    |"
      ]
     },
     "metadata": {},
     "output_type": "display_data"
    },
    {
     "data": {
      "text/html": [
       "<pre>| 10      | 2.30s        | 0.0828882         | 0.287677              | 0.152439    |</pre>"
      ],
      "text/plain": [
       "| 10      | 2.30s        | 0.0828882         | 0.287677              | 0.152439    |"
      ]
     },
     "metadata": {},
     "output_type": "display_data"
    },
    {
     "data": {
      "text/html": [
       "<pre>| 11      | 2.50s        | 0.0712256         | 0.266631              | 0.152439    |</pre>"
      ],
      "text/plain": [
       "| 11      | 2.50s        | 0.0712256         | 0.266631              | 0.152439    |"
      ]
     },
     "metadata": {},
     "output_type": "display_data"
    },
    {
     "data": {
      "text/html": [
       "<pre>| 15      | 3.34s        | 0.0417238         | 0.203916              | 0.152439    |</pre>"
      ],
      "text/plain": [
       "| 15      | 3.34s        | 0.0417238         | 0.203916              | 0.152439    |"
      ]
     },
     "metadata": {},
     "output_type": "display_data"
    },
    {
     "data": {
      "text/html": [
       "<pre>| 20      | 4.30s        | 0.0263733         | 0.161942              | 0.152439    |</pre>"
      ],
      "text/plain": [
       "| 20      | 4.30s        | 0.0263733         | 0.161942              | 0.152439    |"
      ]
     },
     "metadata": {},
     "output_type": "display_data"
    },
    {
     "data": {
      "text/html": [
       "<pre>| 25      | 5.26s        | 0.0191332         | 0.137773              | 0.152439    |</pre>"
      ],
      "text/plain": [
       "| 25      | 5.26s        | 0.0191332         | 0.137773              | 0.152439    |"
      ]
     },
     "metadata": {},
     "output_type": "display_data"
    },
    {
     "data": {
      "text/html": [
       "<pre>| 30      | 6.27s        | 0.0149688         | 0.121715              | 0.152439    |</pre>"
      ],
      "text/plain": [
       "| 30      | 6.27s        | 0.0149688         | 0.121715              | 0.152439    |"
      ]
     },
     "metadata": {},
     "output_type": "display_data"
    },
    {
     "data": {
      "text/html": [
       "<pre>| 35      | 7.31s        | 0.0126361         | 0.111715              | 0.152439    |</pre>"
      ],
      "text/plain": [
       "| 35      | 7.31s        | 0.0126361         | 0.111715              | 0.152439    |"
      ]
     },
     "metadata": {},
     "output_type": "display_data"
    },
    {
     "data": {
      "text/html": [
       "<pre>| 40      | 8.37s        | 0.0108139         | 0.103231              | 0.152439    |</pre>"
      ],
      "text/plain": [
       "| 40      | 8.37s        | 0.0108139         | 0.103231              | 0.152439    |"
      ]
     },
     "metadata": {},
     "output_type": "display_data"
    },
    {
     "data": {
      "text/html": [
       "<pre>| 45      | 9.38s        | 0.00974516        | 0.0979124             | 0.152439    |</pre>"
      ],
      "text/plain": [
       "| 45      | 9.38s        | 0.00974516        | 0.0979124             | 0.152439    |"
      ]
     },
     "metadata": {},
     "output_type": "display_data"
    },
    {
     "data": {
      "text/html": [
       "<pre>| 50      | 10.38s       | 0.00888857        | 0.0934309             | 0.152439    |</pre>"
      ],
      "text/plain": [
       "| 50      | 10.38s       | 0.00888857        | 0.0934309             | 0.152439    |"
      ]
     },
     "metadata": {},
     "output_type": "display_data"
    },
    {
     "data": {
      "text/html": [
       "<pre>+---------+--------------+-------------------+-----------------------+-------------+</pre>"
      ],
      "text/plain": [
       "+---------+--------------+-------------------+-----------------------+-------------+"
      ]
     },
     "metadata": {},
     "output_type": "display_data"
    },
    {
     "data": {
      "text/html": [
       "<pre>Optimization Complete: Maximum number of passes through the data reached.</pre>"
      ],
      "text/plain": [
       "Optimization Complete: Maximum number of passes through the data reached."
      ]
     },
     "metadata": {},
     "output_type": "display_data"
    },
    {
     "data": {
      "text/html": [
       "<pre>Computing final objective value and training RMSE.</pre>"
      ],
      "text/plain": [
       "Computing final objective value and training RMSE."
      ]
     },
     "metadata": {},
     "output_type": "display_data"
    },
    {
     "data": {
      "text/html": [
       "<pre>       Final objective value: 0.00747672</pre>"
      ],
      "text/plain": [
       "       Final objective value: 0.00747672"
      ]
     },
     "metadata": {},
     "output_type": "display_data"
    },
    {
     "data": {
      "text/html": [
       "<pre>       Final training RMSE: 0.0855423</pre>"
      ],
      "text/plain": [
       "       Final training RMSE: 0.0855423"
      ]
     },
     "metadata": {},
     "output_type": "display_data"
    },
    {
     "name": "stdout",
     "output_type": "stream",
     "text": [
      "\n",
      "Precision and recall summary statistics by cutoff\n",
      "+--------+------------------+-------------------+\n",
      "| cutoff |  mean_precision  |    mean_recall    |\n",
      "+--------+------------------+-------------------+\n",
      "|   1    | 0.00751879699248 | 4.42282176028e-06 |\n",
      "|   2    | 0.00375939849624 | 4.42282176028e-06 |\n",
      "|   3    | 0.00250626566416 | 4.42282176028e-06 |\n",
      "|   4    | 0.00375939849624 | 4.37882510403e-05 |\n",
      "|   5    | 0.00300751879699 | 4.37882510403e-05 |\n",
      "|   6    | 0.00250626566416 | 4.37882510403e-05 |\n",
      "|   7    | 0.00322234156821 | 5.81920766964e-05 |\n",
      "|   8    | 0.00281954887218 | 5.81920766964e-05 |\n",
      "|   9    | 0.00334168755221 | 0.000200056170894 |\n",
      "|   10   | 0.00451127819549 | 0.000209149052898 |\n",
      "+--------+------------------+-------------------+\n",
      "[10 rows x 3 columns]\n",
      "\n",
      "('\\nOverall RMSE: ', 0.9962849698640356)\n",
      "\n",
      "Per User RMSE (best)\n",
      "+--------+-------+----------------+\n",
      "| userId | count |      rmse      |\n",
      "+--------+-------+----------------+\n",
      "|   72   |  191  | 0.491125180379 |\n",
      "+--------+-------+----------------+\n",
      "[1 rows x 3 columns]\n",
      "\n",
      "\n",
      "Per User RMSE (worst)\n",
      "+--------+-------+---------------+\n",
      "| userId | count |      rmse     |\n",
      "+--------+-------+---------------+\n",
      "|   35   |   20  | 1.81034029692 |\n",
      "+--------+-------+---------------+\n",
      "[1 rows x 3 columns]\n",
      "\n",
      "\n",
      "Per Item RMSE (best)\n",
      "+---------+-------+-------------------+\n",
      "| movieId | count |        rmse       |\n",
      "+---------+-------+-------------------+\n",
      "|   2582  |   1   | 0.000734053088157 |\n",
      "+---------+-------+-------------------+\n",
      "[1 rows x 3 columns]\n",
      "\n",
      "\n",
      "Per Item RMSE (worst)\n",
      "+---------+-------+---------------+\n",
      "| movieId | count |      rmse     |\n",
      "+---------+-------+---------------+\n",
      "|  161155 |   1   | 3.73106394646 |\n",
      "+---------+-------+---------------+\n",
      "[1 rows x 3 columns]\n",
      "\n",
      "{'rmse_by_user': Columns:\n",
      "\tuserId\tint\n",
      "\tcount\tint\n",
      "\trmse\tfloat\n",
      "\n",
      "Rows: 133\n",
      "\n",
      "Data:\n",
      "+--------+-------+----------------+\n",
      "| userId | count |      rmse      |\n",
      "+--------+-------+----------------+\n",
      "|  118   |  189  | 0.830539474052 |\n",
      "|   49   |   99  | 0.978842906119 |\n",
      "|   13   |   53  | 0.699788739682 |\n",
      "|   60   |   55  | 0.727862931136 |\n",
      "|  132   |   94  | 1.01582937083  |\n",
      "|   36   |  104  | 0.69535024899  |\n",
      "|  116   |   25  | 1.26242972644  |\n",
      "|  105   |  525  | 0.657812936087 |\n",
      "|   24   |   21  | 0.680719542426 |\n",
      "|   2    |   76  | 0.936587406619 |\n",
      "+--------+-------+----------------+\n",
      "[133 rows x 3 columns]\n",
      "Note: Only the head of the SFrame is printed.\n",
      "You can use print_rows(num_rows=m, num_columns=n) to print more rows and columns., 'precision_recall_overall': Columns:\n",
      "\tcutoff\tint\n",
      "\tprecision\tfloat\n",
      "\trecall\tfloat\n",
      "\n",
      "Rows: 18\n",
      "\n",
      "Data:\n",
      "+--------+------------------+-------------------+\n",
      "| cutoff |    precision     |       recall      |\n",
      "+--------+------------------+-------------------+\n",
      "|   1    | 0.00751879699248 | 4.42282176028e-06 |\n",
      "|   2    | 0.00375939849624 | 4.42282176028e-06 |\n",
      "|   3    | 0.00250626566416 | 4.42282176028e-06 |\n",
      "|   4    | 0.00375939849624 | 4.37882510403e-05 |\n",
      "|   5    | 0.00300751879699 | 4.37882510403e-05 |\n",
      "|   6    | 0.00250626566416 | 4.37882510403e-05 |\n",
      "|   7    | 0.00322234156821 | 5.81920766964e-05 |\n",
      "|   8    | 0.00281954887218 | 5.81920766964e-05 |\n",
      "|   9    | 0.00334168755221 | 0.000200056170894 |\n",
      "|   10   | 0.00451127819549 | 0.000209149052898 |\n",
      "+--------+------------------+-------------------+\n",
      "[18 rows x 3 columns]\n",
      "Note: Only the head of the SFrame is printed.\n",
      "You can use print_rows(num_rows=m, num_columns=n) to print more rows and columns., 'rmse_by_item': Columns:\n",
      "\tmovieId\tint\n",
      "\tcount\tint\n",
      "\trmse\tfloat\n",
      "\n",
      "Rows: 4722\n",
      "\n",
      "Data:\n",
      "+---------+-------+----------------+\n",
      "| movieId | count |      rmse      |\n",
      "+---------+-------+----------------+\n",
      "|  101076 |   1   | 1.47370090503  |\n",
      "|   2779  |   3   | 1.19026149789  |\n",
      "|   118   |   1   | 0.104204001886 |\n",
      "|   3988  |   6   | 1.13174900753  |\n",
      "|  64614  |   9   | 0.663847053899 |\n",
      "|   2925  |   3   | 0.500307548929 |\n",
      "|  108689 |   1   |  1.0176947076  |\n",
      "|  102753 |   1   | 2.27602257122  |\n",
      "|   2871  |   10  | 0.544337391254 |\n",
      "|  93272  |   1   | 0.948816516858 |\n",
      "+---------+-------+----------------+\n",
      "[4722 rows x 3 columns]\n",
      "Note: Only the head of the SFrame is printed.\n",
      "You can use print_rows(num_rows=m, num_columns=n) to print more rows and columns., 'precision_recall_by_user': Columns:\n",
      "\tuserId\tint\n",
      "\tcutoff\tint\n",
      "\tprecision\tfloat\n",
      "\trecall\tfloat\n",
      "\tcount\tint\n",
      "\n",
      "Rows: 2394\n",
      "\n",
      "Data:\n",
      "+--------+--------+-----------+--------+-------+\n",
      "| userId | cutoff | precision | recall | count |\n",
      "+--------+--------+-----------+--------+-------+\n",
      "|   1    |   1    |    0.0    |  0.0   |   20  |\n",
      "|   1    |   2    |    0.0    |  0.0   |   20  |\n",
      "|   1    |   3    |    0.0    |  0.0   |   20  |\n",
      "|   1    |   4    |    0.0    |  0.0   |   20  |\n",
      "|   1    |   5    |    0.0    |  0.0   |   20  |\n",
      "|   1    |   6    |    0.0    |  0.0   |   20  |\n",
      "|   1    |   7    |    0.0    |  0.0   |   20  |\n",
      "|   1    |   8    |    0.0    |  0.0   |   20  |\n",
      "|   1    |   9    |    0.0    |  0.0   |   20  |\n",
      "|   1    |   10   |    0.0    |  0.0   |   20  |\n",
      "+--------+--------+-----------+--------+-------+\n",
      "[2394 rows x 5 columns]\n",
      "Note: Only the head of the SFrame is printed.\n",
      "You can use print_rows(num_rows=m, num_columns=n) to print more rows and columns., 'rmse_overall': 0.9962849698640356}\n"
     ]
    },
    {
     "data": {
      "text/html": [
       "<pre>Recsys training: model = factorization_recommender</pre>"
      ],
      "text/plain": [
       "Recsys training: model = factorization_recommender"
      ]
     },
     "metadata": {},
     "output_type": "display_data"
    },
    {
     "data": {
      "text/html": [
       "<pre>Preparing data set.</pre>"
      ],
      "text/plain": [
       "Preparing data set."
      ]
     },
     "metadata": {},
     "output_type": "display_data"
    },
    {
     "data": {
      "text/html": [
       "<pre>    Data has 80003 observations with 671 users and 9125 items.</pre>"
      ],
      "text/plain": [
       "    Data has 80003 observations with 671 users and 9125 items."
      ]
     },
     "metadata": {},
     "output_type": "display_data"
    },
    {
     "data": {
      "text/html": [
       "<pre>    Data prepared in: 1.07974s</pre>"
      ],
      "text/plain": [
       "    Data prepared in: 1.07974s"
      ]
     },
     "metadata": {},
     "output_type": "display_data"
    },
    {
     "data": {
      "text/html": [
       "<pre>Training factorization_recommender for recommendations.</pre>"
      ],
      "text/plain": [
       "Training factorization_recommender for recommendations."
      ]
     },
     "metadata": {},
     "output_type": "display_data"
    },
    {
     "data": {
      "text/html": [
       "<pre>+--------------------------------+--------------------------------------------------+----------+</pre>"
      ],
      "text/plain": [
       "+--------------------------------+--------------------------------------------------+----------+"
      ]
     },
     "metadata": {},
     "output_type": "display_data"
    },
    {
     "data": {
      "text/html": [
       "<pre>| Parameter                      | Description                                      | Value    |</pre>"
      ],
      "text/plain": [
       "| Parameter                      | Description                                      | Value    |"
      ]
     },
     "metadata": {},
     "output_type": "display_data"
    },
    {
     "data": {
      "text/html": [
       "<pre>+--------------------------------+--------------------------------------------------+----------+</pre>"
      ],
      "text/plain": [
       "+--------------------------------+--------------------------------------------------+----------+"
      ]
     },
     "metadata": {},
     "output_type": "display_data"
    },
    {
     "data": {
      "text/html": [
       "<pre>| num_factors                    | Factor Dimension                                 | 4        |</pre>"
      ],
      "text/plain": [
       "| num_factors                    | Factor Dimension                                 | 4        |"
      ]
     },
     "metadata": {},
     "output_type": "display_data"
    },
    {
     "data": {
      "text/html": [
       "<pre>| regularization                 | L2 Regularization on Factors                     | 1e-008   |</pre>"
      ],
      "text/plain": [
       "| regularization                 | L2 Regularization on Factors                     | 1e-008   |"
      ]
     },
     "metadata": {},
     "output_type": "display_data"
    },
    {
     "data": {
      "text/html": [
       "<pre>| solver                         | Solver used for training                         | adagrad  |</pre>"
      ],
      "text/plain": [
       "| solver                         | Solver used for training                         | adagrad  |"
      ]
     },
     "metadata": {},
     "output_type": "display_data"
    },
    {
     "data": {
      "text/html": [
       "<pre>| linear_regularization          | L2 Regularization on Linear Coefficients         | 1e-010   |</pre>"
      ],
      "text/plain": [
       "| linear_regularization          | L2 Regularization on Linear Coefficients         | 1e-010   |"
      ]
     },
     "metadata": {},
     "output_type": "display_data"
    },
    {
     "data": {
      "text/html": [
       "<pre>| side_data_factorization        | Assign Factors for Side Data                     | True     |</pre>"
      ],
      "text/plain": [
       "| side_data_factorization        | Assign Factors for Side Data                     | True     |"
      ]
     },
     "metadata": {},
     "output_type": "display_data"
    },
    {
     "data": {
      "text/html": [
       "<pre>| max_iterations                 | Maximum Number of Iterations                     | 50       |</pre>"
      ],
      "text/plain": [
       "| max_iterations                 | Maximum Number of Iterations                     | 50       |"
      ]
     },
     "metadata": {},
     "output_type": "display_data"
    },
    {
     "data": {
      "text/html": [
       "<pre>+--------------------------------+--------------------------------------------------+----------+</pre>"
      ],
      "text/plain": [
       "+--------------------------------+--------------------------------------------------+----------+"
      ]
     },
     "metadata": {},
     "output_type": "display_data"
    },
    {
     "data": {
      "text/html": [
       "<pre>  Optimizing model using SGD; tuning step size.</pre>"
      ],
      "text/plain": [
       "  Optimizing model using SGD; tuning step size."
      ]
     },
     "metadata": {},
     "output_type": "display_data"
    },
    {
     "data": {
      "text/html": [
       "<pre>  Using 10000 / 80003 points for tuning the step size.</pre>"
      ],
      "text/plain": [
       "  Using 10000 / 80003 points for tuning the step size."
      ]
     },
     "metadata": {},
     "output_type": "display_data"
    },
    {
     "data": {
      "text/html": [
       "<pre>+---------+-------------------+------------------------------------------+</pre>"
      ],
      "text/plain": [
       "+---------+-------------------+------------------------------------------+"
      ]
     },
     "metadata": {},
     "output_type": "display_data"
    },
    {
     "data": {
      "text/html": [
       "<pre>| Attempt | Initial Step Size | Estimated Objective Value                |</pre>"
      ],
      "text/plain": [
       "| Attempt | Initial Step Size | Estimated Objective Value                |"
      ]
     },
     "metadata": {},
     "output_type": "display_data"
    },
    {
     "data": {
      "text/html": [
       "<pre>+---------+-------------------+------------------------------------------+</pre>"
      ],
      "text/plain": [
       "+---------+-------------------+------------------------------------------+"
      ]
     },
     "metadata": {},
     "output_type": "display_data"
    },
    {
     "data": {
      "text/html": [
       "<pre>| 0       | 1.21951           | Not Viable                               |</pre>"
      ],
      "text/plain": [
       "| 0       | 1.21951           | Not Viable                               |"
      ]
     },
     "metadata": {},
     "output_type": "display_data"
    },
    {
     "data": {
      "text/html": [
       "<pre>| 1       | 0.304878          | 0.147313                                 |</pre>"
      ],
      "text/plain": [
       "| 1       | 0.304878          | 0.147313                                 |"
      ]
     },
     "metadata": {},
     "output_type": "display_data"
    },
    {
     "data": {
      "text/html": [
       "<pre>| 2       | 0.152439          | 0.0758132                                |</pre>"
      ],
      "text/plain": [
       "| 2       | 0.152439          | 0.0758132                                |"
      ]
     },
     "metadata": {},
     "output_type": "display_data"
    },
    {
     "data": {
      "text/html": [
       "<pre>| 3       | 0.0762195         | 0.0973169                                |</pre>"
      ],
      "text/plain": [
       "| 3       | 0.0762195         | 0.0973169                                |"
      ]
     },
     "metadata": {},
     "output_type": "display_data"
    },
    {
     "data": {
      "text/html": [
       "<pre>| 4       | 0.0381098         | 0.179463                                 |</pre>"
      ],
      "text/plain": [
       "| 4       | 0.0381098         | 0.179463                                 |"
      ]
     },
     "metadata": {},
     "output_type": "display_data"
    },
    {
     "data": {
      "text/html": [
       "<pre>+---------+-------------------+------------------------------------------+</pre>"
      ],
      "text/plain": [
       "+---------+-------------------+------------------------------------------+"
      ]
     },
     "metadata": {},
     "output_type": "display_data"
    },
    {
     "data": {
      "text/html": [
       "<pre>| Final   | 0.152439          | 0.0758132                                |</pre>"
      ],
      "text/plain": [
       "| Final   | 0.152439          | 0.0758132                                |"
      ]
     },
     "metadata": {},
     "output_type": "display_data"
    },
    {
     "data": {
      "text/html": [
       "<pre>+---------+-------------------+------------------------------------------+</pre>"
      ],
      "text/plain": [
       "+---------+-------------------+------------------------------------------+"
      ]
     },
     "metadata": {},
     "output_type": "display_data"
    },
    {
     "data": {
      "text/html": [
       "<pre>Starting Optimization.</pre>"
      ],
      "text/plain": [
       "Starting Optimization."
      ]
     },
     "metadata": {},
     "output_type": "display_data"
    },
    {
     "data": {
      "text/html": [
       "<pre>+---------+--------------+-------------------+-----------------------+-------------+</pre>"
      ],
      "text/plain": [
       "+---------+--------------+-------------------+-----------------------+-------------+"
      ]
     },
     "metadata": {},
     "output_type": "display_data"
    },
    {
     "data": {
      "text/html": [
       "<pre>| Iter.   | Elapsed Time | Approx. Objective | Approx. Training RMSE | Step Size   |</pre>"
      ],
      "text/plain": [
       "| Iter.   | Elapsed Time | Approx. Objective | Approx. Training RMSE | Step Size   |"
      ]
     },
     "metadata": {},
     "output_type": "display_data"
    },
    {
     "data": {
      "text/html": [
       "<pre>+---------+--------------+-------------------+-----------------------+-------------+</pre>"
      ],
      "text/plain": [
       "+---------+--------------+-------------------+-----------------------+-------------+"
      ]
     },
     "metadata": {},
     "output_type": "display_data"
    },
    {
     "data": {
      "text/html": [
       "<pre>| Initial | 501us        | 1.11573           | 1.05628               |             |</pre>"
      ],
      "text/plain": [
       "| Initial | 501us        | 1.11573           | 1.05628               |             |"
      ]
     },
     "metadata": {},
     "output_type": "display_data"
    },
    {
     "data": {
      "text/html": [
       "<pre>+---------+--------------+-------------------+-----------------------+-------------+</pre>"
      ],
      "text/plain": [
       "+---------+--------------+-------------------+-----------------------+-------------+"
      ]
     },
     "metadata": {},
     "output_type": "display_data"
    },
    {
     "data": {
      "text/html": [
       "<pre>| 1       | 311.721ms    | 1.13704           | 1.06627               | 0.152439    |</pre>"
      ],
      "text/plain": [
       "| 1       | 311.721ms    | 1.13704           | 1.06627               | 0.152439    |"
      ]
     },
     "metadata": {},
     "output_type": "display_data"
    },
    {
     "data": {
      "text/html": [
       "<pre>| 2       | 629.446ms    | 0.598242          | 0.7734                | 0.152439    |</pre>"
      ],
      "text/plain": [
       "| 2       | 629.446ms    | 0.598242          | 0.7734                | 0.152439    |"
      ]
     },
     "metadata": {},
     "output_type": "display_data"
    },
    {
     "data": {
      "text/html": [
       "<pre>| 3       | 903.141ms    | 0.38019           | 0.616517              | 0.152439    |</pre>"
      ],
      "text/plain": [
       "| 3       | 903.141ms    | 0.38019           | 0.616517              | 0.152439    |"
      ]
     },
     "metadata": {},
     "output_type": "display_data"
    },
    {
     "data": {
      "text/html": [
       "<pre>| 4       | 1.19s        | 0.283875          | 0.532703              | 0.152439    |</pre>"
      ],
      "text/plain": [
       "| 4       | 1.19s        | 0.283875          | 0.532703              | 0.152439    |"
      ]
     },
     "metadata": {},
     "output_type": "display_data"
    },
    {
     "data": {
      "text/html": [
       "<pre>| 5       | 1.47s        | 0.220886          | 0.46987               | 0.152439    |</pre>"
      ],
      "text/plain": [
       "| 5       | 1.47s        | 0.220886          | 0.46987               | 0.152439    |"
      ]
     },
     "metadata": {},
     "output_type": "display_data"
    },
    {
     "data": {
      "text/html": [
       "<pre>| 6       | 1.76s        | 0.177116          | 0.420716              | 0.152439    |</pre>"
      ],
      "text/plain": [
       "| 6       | 1.76s        | 0.177116          | 0.420716              | 0.152439    |"
      ]
     },
     "metadata": {},
     "output_type": "display_data"
    },
    {
     "data": {
      "text/html": [
       "<pre>| 10      | 2.80s        | 0.082111          | 0.286319              | 0.152439    |</pre>"
      ],
      "text/plain": [
       "| 10      | 2.80s        | 0.082111          | 0.286319              | 0.152439    |"
      ]
     },
     "metadata": {},
     "output_type": "display_data"
    },
    {
     "data": {
      "text/html": [
       "<pre>| 11      | 3.07s        | 0.0711789         | 0.266539              | 0.152439    |</pre>"
      ],
      "text/plain": [
       "| 11      | 3.07s        | 0.0711789         | 0.266539              | 0.152439    |"
      ]
     },
     "metadata": {},
     "output_type": "display_data"
    },
    {
     "data": {
      "text/html": [
       "<pre>| 15      | 4.13s        | 0.0417349         | 0.203937              | 0.152439    |</pre>"
      ],
      "text/plain": [
       "| 15      | 4.13s        | 0.0417349         | 0.203937              | 0.152439    |"
      ]
     },
     "metadata": {},
     "output_type": "display_data"
    },
    {
     "data": {
      "text/html": [
       "<pre>| 20      | 5.46s        | 0.027225          | 0.164542              | 0.152439    |</pre>"
      ],
      "text/plain": [
       "| 20      | 5.46s        | 0.027225          | 0.164542              | 0.152439    |"
      ]
     },
     "metadata": {},
     "output_type": "display_data"
    },
    {
     "data": {
      "text/html": [
       "<pre>| 25      | 6.79s        | 0.0192092         | 0.138038              | 0.152439    |</pre>"
      ],
      "text/plain": [
       "| 25      | 6.79s        | 0.0192092         | 0.138038              | 0.152439    |"
      ]
     },
     "metadata": {},
     "output_type": "display_data"
    },
    {
     "data": {
      "text/html": [
       "<pre>| 30      | 8.08s        | 0.0151815         | 0.122574              | 0.152439    |</pre>"
      ],
      "text/plain": [
       "| 30      | 8.08s        | 0.0151815         | 0.122574              | 0.152439    |"
      ]
     },
     "metadata": {},
     "output_type": "display_data"
    },
    {
     "data": {
      "text/html": [
       "<pre>| 35      | 9.41s        | 0.0129029         | 0.112889              | 0.152439    |</pre>"
      ],
      "text/plain": [
       "| 35      | 9.41s        | 0.0129029         | 0.112889              | 0.152439    |"
      ]
     },
     "metadata": {},
     "output_type": "display_data"
    },
    {
     "data": {
      "text/html": [
       "<pre>| 40      | 10.78s       | 0.0134812         | 0.115417              | 0.152439    |</pre>"
      ],
      "text/plain": [
       "| 40      | 10.78s       | 0.0134812         | 0.115417              | 0.152439    |"
      ]
     },
     "metadata": {},
     "output_type": "display_data"
    },
    {
     "data": {
      "text/html": [
       "<pre>| 45      | 12.09s       | 0.00978259        | 0.0980882             | 0.152439    |</pre>"
      ],
      "text/plain": [
       "| 45      | 12.09s       | 0.00978259        | 0.0980882             | 0.152439    |"
      ]
     },
     "metadata": {},
     "output_type": "display_data"
    },
    {
     "data": {
      "text/html": [
       "<pre>| 50      | 13.36s       | 0.00876494        | 0.0927506             | 0.152439    |</pre>"
      ],
      "text/plain": [
       "| 50      | 13.36s       | 0.00876494        | 0.0927506             | 0.152439    |"
      ]
     },
     "metadata": {},
     "output_type": "display_data"
    },
    {
     "data": {
      "text/html": [
       "<pre>+---------+--------------+-------------------+-----------------------+-------------+</pre>"
      ],
      "text/plain": [
       "+---------+--------------+-------------------+-----------------------+-------------+"
      ]
     },
     "metadata": {},
     "output_type": "display_data"
    },
    {
     "data": {
      "text/html": [
       "<pre>Optimization Complete: Maximum number of passes through the data reached.</pre>"
      ],
      "text/plain": [
       "Optimization Complete: Maximum number of passes through the data reached."
      ]
     },
     "metadata": {},
     "output_type": "display_data"
    },
    {
     "data": {
      "text/html": [
       "<pre>Computing final objective value and training RMSE.</pre>"
      ],
      "text/plain": [
       "Computing final objective value and training RMSE."
      ]
     },
     "metadata": {},
     "output_type": "display_data"
    },
    {
     "data": {
      "text/html": [
       "<pre>       Final objective value: 0.00784071</pre>"
      ],
      "text/plain": [
       "       Final objective value: 0.00784071"
      ]
     },
     "metadata": {},
     "output_type": "display_data"
    },
    {
     "data": {
      "text/html": [
       "<pre>       Final training RMSE: 0.0876267</pre>"
      ],
      "text/plain": [
       "       Final training RMSE: 0.0876267"
      ]
     },
     "metadata": {},
     "output_type": "display_data"
    },
    {
     "name": "stdout",
     "output_type": "stream",
     "text": [
      "\n",
      "Precision and recall summary statistics by cutoff\n",
      "+--------+------------------+-------------------+\n",
      "| cutoff |  mean_precision  |    mean_recall    |\n",
      "+--------+------------------+-------------------+\n",
      "|   1    |       0.0        |        0.0        |\n",
      "|   2    |       0.0        |        0.0        |\n",
      "|   3    |       0.0        |        0.0        |\n",
      "|   4    |       0.0        |        0.0        |\n",
      "|   5    |       0.0        |        0.0        |\n",
      "|   6    |       0.0        |        0.0        |\n",
      "|   7    |       0.0        |        0.0        |\n",
      "|   8    |    0.00078125    |   2.44140625e-05  |\n",
      "|   9    | 0.00138888888889 | 0.000144606370192 |\n",
      "|   10   |     0.00125      | 0.000144606370192 |\n",
      "+--------+------------------+-------------------+\n",
      "[10 rows x 3 columns]\n",
      "\n",
      "('\\nOverall RMSE: ', 0.988664345839456)\n",
      "\n",
      "Per User RMSE (best)\n",
      "+--------+-------+---------------+\n",
      "| userId | count |      rmse     |\n",
      "+--------+-------+---------------+\n",
      "|  229   |   33  | 0.45917555157 |\n",
      "+--------+-------+---------------+\n",
      "[1 rows x 3 columns]\n",
      "\n",
      "\n",
      "Per User RMSE (worst)\n",
      "+--------+-------+---------------+\n",
      "| userId | count |      rmse     |\n",
      "+--------+-------+---------------+\n",
      "|  207   |   46  | 2.05143980879 |\n",
      "+--------+-------+---------------+\n",
      "[1 rows x 3 columns]\n",
      "\n",
      "\n",
      "Per Item RMSE (best)\n",
      "+---------+-------+-------------------+\n",
      "| movieId | count |        rmse       |\n",
      "+---------+-------+-------------------+\n",
      "|  117444 |   1   | 0.000575393398643 |\n",
      "+---------+-------+-------------------+\n",
      "[1 rows x 3 columns]\n",
      "\n",
      "\n",
      "Per Item RMSE (worst)\n",
      "+---------+-------+---------------+\n",
      "| movieId | count |      rmse     |\n",
      "+---------+-------+---------------+\n",
      "|  65188  |   1   | 3.93491745885 |\n",
      "+---------+-------+---------------+\n",
      "[1 rows x 3 columns]\n",
      "\n",
      "{'rmse_by_user': Columns:\n",
      "\tuserId\tint\n",
      "\tcount\tint\n",
      "\trmse\tfloat\n",
      "\n",
      "Rows: 160\n",
      "\n",
      "Data:\n",
      "+--------+-------+----------------+\n",
      "| userId | count |      rmse      |\n",
      "+--------+-------+----------------+\n",
      "|  232   |  682  |  1.1263701847  |\n",
      "|  187   |  324  | 0.989744459311 |\n",
      "|  159   |  148  | 0.856766030223 |\n",
      "|  136   |   50  | 0.882963946748 |\n",
      "|  160   |  100  | 0.913829305644 |\n",
      "|  273   |   92  | 0.838548707289 |\n",
      "|  140   |   46  | 1.19443066286  |\n",
      "|  253   |  205  | 0.972831154464 |\n",
      "|  287   |  254  | 1.34416828771  |\n",
      "|  196   |   99  | 0.982989652974 |\n",
      "+--------+-------+----------------+\n",
      "[160 rows x 3 columns]\n",
      "Note: Only the head of the SFrame is printed.\n",
      "You can use print_rows(num_rows=m, num_columns=n) to print more rows and columns., 'precision_recall_overall': Columns:\n",
      "\tcutoff\tint\n",
      "\tprecision\tfloat\n",
      "\trecall\tfloat\n",
      "\n",
      "Rows: 18\n",
      "\n",
      "Data:\n",
      "+--------+------------------+-------------------+\n",
      "| cutoff |    precision     |       recall      |\n",
      "+--------+------------------+-------------------+\n",
      "|   1    |       0.0        |        0.0        |\n",
      "|   2    |       0.0        |        0.0        |\n",
      "|   3    |       0.0        |        0.0        |\n",
      "|   4    |       0.0        |        0.0        |\n",
      "|   5    |       0.0        |        0.0        |\n",
      "|   6    |       0.0        |        0.0        |\n",
      "|   7    |       0.0        |        0.0        |\n",
      "|   8    |    0.00078125    |   2.44140625e-05  |\n",
      "|   9    | 0.00138888888889 | 0.000144606370192 |\n",
      "|   10   |     0.00125      | 0.000144606370192 |\n",
      "+--------+------------------+-------------------+\n",
      "[18 rows x 3 columns]\n",
      "Note: Only the head of the SFrame is printed.\n",
      "You can use print_rows(num_rows=m, num_columns=n) to print more rows and columns., 'rmse_by_item': Columns:\n",
      "\tmovieId\tint\n",
      "\tcount\tint\n",
      "\trmse\tfloat\n",
      "\n",
      "Rows: 4446\n",
      "\n",
      "Data:\n",
      "+---------+-------+-----------------+\n",
      "| movieId | count |       rmse      |\n",
      "+---------+-------+-----------------+\n",
      "|   7899  |   1   | 0.0564701060793 |\n",
      "|  101076 |   1   |  1.19639280414  |\n",
      "|   3143  |   1   |  1.01256052377  |\n",
      "|   2779  |   2   |  0.552541641562 |\n",
      "|   118   |   1   |  0.356983227232 |\n",
      "|   3988  |   6   |  0.836845100844 |\n",
      "|   2847  |   1   |  0.630042174773 |\n",
      "|  64614  |   4   |  0.608872695573 |\n",
      "|   5531  |   1   |  0.447537838727 |\n",
      "|   2925  |   1   |  1.76407549542  |\n",
      "+---------+-------+-----------------+\n",
      "[4446 rows x 3 columns]\n",
      "Note: Only the head of the SFrame is printed.\n",
      "You can use print_rows(num_rows=m, num_columns=n) to print more rows and columns., 'precision_recall_by_user': Columns:\n",
      "\tuserId\tint\n",
      "\tcutoff\tint\n",
      "\tprecision\tfloat\n",
      "\trecall\tfloat\n",
      "\tcount\tint\n",
      "\n",
      "Rows: 2880\n",
      "\n",
      "Data:\n",
      "+--------+--------+----------------+-----------------+-------+\n",
      "| userId | cutoff |   precision    |      recall     | count |\n",
      "+--------+--------+----------------+-----------------+-------+\n",
      "|  133   |   1    |      0.0       |       0.0       |   52  |\n",
      "|  133   |   2    |      0.0       |       0.0       |   52  |\n",
      "|  133   |   3    |      0.0       |       0.0       |   52  |\n",
      "|  133   |   4    |      0.0       |       0.0       |   52  |\n",
      "|  133   |   5    |      0.0       |       0.0       |   52  |\n",
      "|  133   |   6    |      0.0       |       0.0       |   52  |\n",
      "|  133   |   7    |      0.0       |       0.0       |   52  |\n",
      "|  133   |   8    |      0.0       |       0.0       |   52  |\n",
      "|  133   |   9    | 0.111111111111 | 0.0192307692308 |   52  |\n",
      "|  133   |   10   |      0.1       | 0.0192307692308 |   52  |\n",
      "+--------+--------+----------------+-----------------+-------+\n",
      "[2880 rows x 5 columns]\n",
      "Note: Only the head of the SFrame is printed.\n",
      "You can use print_rows(num_rows=m, num_columns=n) to print more rows and columns., 'rmse_overall': 0.988664345839456}\n"
     ]
    },
    {
     "data": {
      "text/html": [
       "<pre>Recsys training: model = factorization_recommender</pre>"
      ],
      "text/plain": [
       "Recsys training: model = factorization_recommender"
      ]
     },
     "metadata": {},
     "output_type": "display_data"
    },
    {
     "data": {
      "text/html": [
       "<pre>Preparing data set.</pre>"
      ],
      "text/plain": [
       "Preparing data set."
      ]
     },
     "metadata": {},
     "output_type": "display_data"
    },
    {
     "data": {
      "text/html": [
       "<pre>    Data has 80003 observations with 671 users and 9125 items.</pre>"
      ],
      "text/plain": [
       "    Data has 80003 observations with 671 users and 9125 items."
      ]
     },
     "metadata": {},
     "output_type": "display_data"
    },
    {
     "data": {
      "text/html": [
       "<pre>    Data prepared in: 0.711037s</pre>"
      ],
      "text/plain": [
       "    Data prepared in: 0.711037s"
      ]
     },
     "metadata": {},
     "output_type": "display_data"
    },
    {
     "data": {
      "text/html": [
       "<pre>Training factorization_recommender for recommendations.</pre>"
      ],
      "text/plain": [
       "Training factorization_recommender for recommendations."
      ]
     },
     "metadata": {},
     "output_type": "display_data"
    },
    {
     "data": {
      "text/html": [
       "<pre>+--------------------------------+--------------------------------------------------+----------+</pre>"
      ],
      "text/plain": [
       "+--------------------------------+--------------------------------------------------+----------+"
      ]
     },
     "metadata": {},
     "output_type": "display_data"
    },
    {
     "data": {
      "text/html": [
       "<pre>| Parameter                      | Description                                      | Value    |</pre>"
      ],
      "text/plain": [
       "| Parameter                      | Description                                      | Value    |"
      ]
     },
     "metadata": {},
     "output_type": "display_data"
    },
    {
     "data": {
      "text/html": [
       "<pre>+--------------------------------+--------------------------------------------------+----------+</pre>"
      ],
      "text/plain": [
       "+--------------------------------+--------------------------------------------------+----------+"
      ]
     },
     "metadata": {},
     "output_type": "display_data"
    },
    {
     "data": {
      "text/html": [
       "<pre>| num_factors                    | Factor Dimension                                 | 4        |</pre>"
      ],
      "text/plain": [
       "| num_factors                    | Factor Dimension                                 | 4        |"
      ]
     },
     "metadata": {},
     "output_type": "display_data"
    },
    {
     "data": {
      "text/html": [
       "<pre>| regularization                 | L2 Regularization on Factors                     | 1e-008   |</pre>"
      ],
      "text/plain": [
       "| regularization                 | L2 Regularization on Factors                     | 1e-008   |"
      ]
     },
     "metadata": {},
     "output_type": "display_data"
    },
    {
     "data": {
      "text/html": [
       "<pre>| solver                         | Solver used for training                         | adagrad  |</pre>"
      ],
      "text/plain": [
       "| solver                         | Solver used for training                         | adagrad  |"
      ]
     },
     "metadata": {},
     "output_type": "display_data"
    },
    {
     "data": {
      "text/html": [
       "<pre>| linear_regularization          | L2 Regularization on Linear Coefficients         | 1e-010   |</pre>"
      ],
      "text/plain": [
       "| linear_regularization          | L2 Regularization on Linear Coefficients         | 1e-010   |"
      ]
     },
     "metadata": {},
     "output_type": "display_data"
    },
    {
     "data": {
      "text/html": [
       "<pre>| side_data_factorization        | Assign Factors for Side Data                     | True     |</pre>"
      ],
      "text/plain": [
       "| side_data_factorization        | Assign Factors for Side Data                     | True     |"
      ]
     },
     "metadata": {},
     "output_type": "display_data"
    },
    {
     "data": {
      "text/html": [
       "<pre>| max_iterations                 | Maximum Number of Iterations                     | 50       |</pre>"
      ],
      "text/plain": [
       "| max_iterations                 | Maximum Number of Iterations                     | 50       |"
      ]
     },
     "metadata": {},
     "output_type": "display_data"
    },
    {
     "data": {
      "text/html": [
       "<pre>+--------------------------------+--------------------------------------------------+----------+</pre>"
      ],
      "text/plain": [
       "+--------------------------------+--------------------------------------------------+----------+"
      ]
     },
     "metadata": {},
     "output_type": "display_data"
    },
    {
     "data": {
      "text/html": [
       "<pre>  Optimizing model using SGD; tuning step size.</pre>"
      ],
      "text/plain": [
       "  Optimizing model using SGD; tuning step size."
      ]
     },
     "metadata": {},
     "output_type": "display_data"
    },
    {
     "data": {
      "text/html": [
       "<pre>  Using 10000 / 80003 points for tuning the step size.</pre>"
      ],
      "text/plain": [
       "  Using 10000 / 80003 points for tuning the step size."
      ]
     },
     "metadata": {},
     "output_type": "display_data"
    },
    {
     "data": {
      "text/html": [
       "<pre>+---------+-------------------+------------------------------------------+</pre>"
      ],
      "text/plain": [
       "+---------+-------------------+------------------------------------------+"
      ]
     },
     "metadata": {},
     "output_type": "display_data"
    },
    {
     "data": {
      "text/html": [
       "<pre>| Attempt | Initial Step Size | Estimated Objective Value                |</pre>"
      ],
      "text/plain": [
       "| Attempt | Initial Step Size | Estimated Objective Value                |"
      ]
     },
     "metadata": {},
     "output_type": "display_data"
    },
    {
     "data": {
      "text/html": [
       "<pre>+---------+-------------------+------------------------------------------+</pre>"
      ],
      "text/plain": [
       "+---------+-------------------+------------------------------------------+"
      ]
     },
     "metadata": {},
     "output_type": "display_data"
    },
    {
     "data": {
      "text/html": [
       "<pre>| 0       | 1.21951           | Not Viable                               |</pre>"
      ],
      "text/plain": [
       "| 0       | 1.21951           | Not Viable                               |"
      ]
     },
     "metadata": {},
     "output_type": "display_data"
    },
    {
     "data": {
      "text/html": [
       "<pre>| 1       | 0.304878          | 0.184349                                 |</pre>"
      ],
      "text/plain": [
       "| 1       | 0.304878          | 0.184349                                 |"
      ]
     },
     "metadata": {},
     "output_type": "display_data"
    },
    {
     "data": {
      "text/html": [
       "<pre>| 2       | 0.152439          | 0.0868174                                |</pre>"
      ],
      "text/plain": [
       "| 2       | 0.152439          | 0.0868174                                |"
      ]
     },
     "metadata": {},
     "output_type": "display_data"
    },
    {
     "data": {
      "text/html": [
       "<pre>| 3       | 0.0762195         | 0.0902738                                |</pre>"
      ],
      "text/plain": [
       "| 3       | 0.0762195         | 0.0902738                                |"
      ]
     },
     "metadata": {},
     "output_type": "display_data"
    },
    {
     "data": {
      "text/html": [
       "<pre>| 4       | 0.0381098         | 0.178149                                 |</pre>"
      ],
      "text/plain": [
       "| 4       | 0.0381098         | 0.178149                                 |"
      ]
     },
     "metadata": {},
     "output_type": "display_data"
    },
    {
     "data": {
      "text/html": [
       "<pre>+---------+-------------------+------------------------------------------+</pre>"
      ],
      "text/plain": [
       "+---------+-------------------+------------------------------------------+"
      ]
     },
     "metadata": {},
     "output_type": "display_data"
    },
    {
     "data": {
      "text/html": [
       "<pre>| Final   | 0.152439          | 0.0868174                                |</pre>"
      ],
      "text/plain": [
       "| Final   | 0.152439          | 0.0868174                                |"
      ]
     },
     "metadata": {},
     "output_type": "display_data"
    },
    {
     "data": {
      "text/html": [
       "<pre>+---------+-------------------+------------------------------------------+</pre>"
      ],
      "text/plain": [
       "+---------+-------------------+------------------------------------------+"
      ]
     },
     "metadata": {},
     "output_type": "display_data"
    },
    {
     "data": {
      "text/html": [
       "<pre>Starting Optimization.</pre>"
      ],
      "text/plain": [
       "Starting Optimization."
      ]
     },
     "metadata": {},
     "output_type": "display_data"
    },
    {
     "data": {
      "text/html": [
       "<pre>+---------+--------------+-------------------+-----------------------+-------------+</pre>"
      ],
      "text/plain": [
       "+---------+--------------+-------------------+-----------------------+-------------+"
      ]
     },
     "metadata": {},
     "output_type": "display_data"
    },
    {
     "data": {
      "text/html": [
       "<pre>| Iter.   | Elapsed Time | Approx. Objective | Approx. Training RMSE | Step Size   |</pre>"
      ],
      "text/plain": [
       "| Iter.   | Elapsed Time | Approx. Objective | Approx. Training RMSE | Step Size   |"
      ]
     },
     "metadata": {},
     "output_type": "display_data"
    },
    {
     "data": {
      "text/html": [
       "<pre>+---------+--------------+-------------------+-----------------------+-------------+</pre>"
      ],
      "text/plain": [
       "+---------+--------------+-------------------+-----------------------+-------------+"
      ]
     },
     "metadata": {},
     "output_type": "display_data"
    },
    {
     "data": {
      "text/html": [
       "<pre>| Initial | 0us          | 1.12328           | 1.05985               |             |</pre>"
      ],
      "text/plain": [
       "| Initial | 0us          | 1.12328           | 1.05985               |             |"
      ]
     },
     "metadata": {},
     "output_type": "display_data"
    },
    {
     "data": {
      "text/html": [
       "<pre>+---------+--------------+-------------------+-----------------------+-------------+</pre>"
      ],
      "text/plain": [
       "+---------+--------------+-------------------+-----------------------+-------------+"
      ]
     },
     "metadata": {},
     "output_type": "display_data"
    },
    {
     "data": {
      "text/html": [
       "<pre>| 1       | 220.657ms    | 1.12833           | 1.06218               | 0.152439    |</pre>"
      ],
      "text/plain": [
       "| 1       | 220.657ms    | 1.12833           | 1.06218               | 0.152439    |"
      ]
     },
     "metadata": {},
     "output_type": "display_data"
    },
    {
     "data": {
      "text/html": [
       "<pre>| 2       | 408.29ms     | 0.600296          | 0.774727              | 0.152439    |</pre>"
      ],
      "text/plain": [
       "| 2       | 408.29ms     | 0.600296          | 0.774727              | 0.152439    |"
      ]
     },
     "metadata": {},
     "output_type": "display_data"
    },
    {
     "data": {
      "text/html": [
       "<pre>| 3       | 601.427ms    | 0.383088          | 0.618863              | 0.152439    |</pre>"
      ],
      "text/plain": [
       "| 3       | 601.427ms    | 0.383088          | 0.618863              | 0.152439    |"
      ]
     },
     "metadata": {},
     "output_type": "display_data"
    },
    {
     "data": {
      "text/html": [
       "<pre>| 4       | 793.563ms    | 0.292675          | 0.540901              | 0.152439    |</pre>"
      ],
      "text/plain": [
       "| 4       | 793.563ms    | 0.292675          | 0.540901              | 0.152439    |"
      ]
     },
     "metadata": {},
     "output_type": "display_data"
    },
    {
     "data": {
      "text/html": [
       "<pre>| 5       | 987.7ms      | 0.23295           | 0.482538              | 0.152439    |</pre>"
      ],
      "text/plain": [
       "| 5       | 987.7ms      | 0.23295           | 0.482538              | 0.152439    |"
      ]
     },
     "metadata": {},
     "output_type": "display_data"
    },
    {
     "data": {
      "text/html": [
       "<pre>| 6       | 1.19s        | 0.190114          | 0.435891              | 0.152439    |</pre>"
      ],
      "text/plain": [
       "| 6       | 1.19s        | 0.190114          | 0.435891              | 0.152439    |"
      ]
     },
     "metadata": {},
     "output_type": "display_data"
    },
    {
     "data": {
      "text/html": [
       "<pre>| 10      | 1.93s        | 0.0936936         | 0.305878              | 0.152439    |</pre>"
      ],
      "text/plain": [
       "| 10      | 1.93s        | 0.0936936         | 0.305878              | 0.152439    |"
      ]
     },
     "metadata": {},
     "output_type": "display_data"
    },
    {
     "data": {
      "text/html": [
       "<pre>| 11      | 2.13s        | 0.0809201         | 0.284226              | 0.152439    |</pre>"
      ],
      "text/plain": [
       "| 11      | 2.13s        | 0.0809201         | 0.284226              | 0.152439    |"
      ]
     },
     "metadata": {},
     "output_type": "display_data"
    },
    {
     "data": {
      "text/html": [
       "<pre>| 20      | 3.84s        | 0.0308536         | 0.175216              | 0.152439    |</pre>"
      ],
      "text/plain": [
       "| 20      | 3.84s        | 0.0308536         | 0.175216              | 0.152439    |"
      ]
     },
     "metadata": {},
     "output_type": "display_data"
    },
    {
     "data": {
      "text/html": [
       "<pre>| 30      | 5.99s        | 0.0172138         | 0.13059               | 0.152439    |</pre>"
      ],
      "text/plain": [
       "| 30      | 5.99s        | 0.0172138         | 0.13059               | 0.152439    |"
      ]
     },
     "metadata": {},
     "output_type": "display_data"
    },
    {
     "data": {
      "text/html": [
       "<pre>| 40      | 8.36s        | 0.0122911         | 0.110126              | 0.152439    |</pre>"
      ],
      "text/plain": [
       "| 40      | 8.36s        | 0.0122911         | 0.110126              | 0.152439    |"
      ]
     },
     "metadata": {},
     "output_type": "display_data"
    },
    {
     "data": {
      "text/html": [
       "<pre>| 50      | 10.36s       | 0.0114319         | 0.106142              | 0.152439    |</pre>"
      ],
      "text/plain": [
       "| 50      | 10.36s       | 0.0114319         | 0.106142              | 0.152439    |"
      ]
     },
     "metadata": {},
     "output_type": "display_data"
    },
    {
     "data": {
      "text/html": [
       "<pre>+---------+--------------+-------------------+-----------------------+-------------+</pre>"
      ],
      "text/plain": [
       "+---------+--------------+-------------------+-----------------------+-------------+"
      ]
     },
     "metadata": {},
     "output_type": "display_data"
    },
    {
     "data": {
      "text/html": [
       "<pre>Optimization Complete: Maximum number of passes through the data reached.</pre>"
      ],
      "text/plain": [
       "Optimization Complete: Maximum number of passes through the data reached."
      ]
     },
     "metadata": {},
     "output_type": "display_data"
    },
    {
     "data": {
      "text/html": [
       "<pre>Computing final objective value and training RMSE.</pre>"
      ],
      "text/plain": [
       "Computing final objective value and training RMSE."
      ]
     },
     "metadata": {},
     "output_type": "display_data"
    },
    {
     "data": {
      "text/html": [
       "<pre>       Final objective value: 0.0109033</pre>"
      ],
      "text/plain": [
       "       Final objective value: 0.0109033"
      ]
     },
     "metadata": {},
     "output_type": "display_data"
    },
    {
     "data": {
      "text/html": [
       "<pre>       Final training RMSE: 0.103622</pre>"
      ],
      "text/plain": [
       "       Final training RMSE: 0.103622"
      ]
     },
     "metadata": {},
     "output_type": "display_data"
    },
    {
     "name": "stdout",
     "output_type": "stream",
     "text": [
      "\n",
      "Precision and recall summary statistics by cutoff\n",
      "+--------+------------------+-------------------+\n",
      "| cutoff |  mean_precision  |    mean_recall    |\n",
      "+--------+------------------+-------------------+\n",
      "|   1    |       0.0        |        0.0        |\n",
      "|   2    |       0.0        |        0.0        |\n",
      "|   3    | 0.00234741784038 | 1.91887016924e-05 |\n",
      "|   4    | 0.00352112676056 | 3.37088120453e-05 |\n",
      "|   5    | 0.00281690140845 | 3.37088120453e-05 |\n",
      "|   6    | 0.00234741784038 | 3.37088120453e-05 |\n",
      "|   7    | 0.00201207243461 | 3.37088120453e-05 |\n",
      "|   8    | 0.00264084507042 | 5.08016603975e-05 |\n",
      "|   9    | 0.00234741784038 | 5.08016603975e-05 |\n",
      "|   10   | 0.00211267605634 | 5.08016603975e-05 |\n",
      "+--------+------------------+-------------------+\n",
      "[10 rows x 3 columns]\n",
      "\n",
      "('\\nOverall RMSE: ', 0.9822991827766332)\n",
      "\n",
      "Per User RMSE (best)\n",
      "+--------+-------+----------------+\n",
      "| userId | count |      rmse      |\n",
      "+--------+-------+----------------+\n",
      "|  397   |   59  | 0.520065851382 |\n",
      "+--------+-------+----------------+\n",
      "[1 rows x 3 columns]\n",
      "\n",
      "\n",
      "Per User RMSE (worst)\n",
      "+--------+-------+--------------+\n",
      "| userId | count |     rmse     |\n",
      "+--------+-------+--------------+\n",
      "|  364   |   36  | 2.3856896672 |\n",
      "+--------+-------+--------------+\n",
      "[1 rows x 3 columns]\n",
      "\n",
      "\n",
      "Per Item RMSE (best)\n",
      "+---------+-------+-------------------+\n",
      "| movieId | count |        rmse       |\n",
      "+---------+-------+-------------------+\n",
      "|  45726  |   1   | 0.000393823477787 |\n",
      "+---------+-------+-------------------+\n",
      "[1 rows x 3 columns]\n",
      "\n",
      "\n",
      "Per Item RMSE (worst)\n",
      "+---------+-------+---------------+\n",
      "| movieId | count |      rmse     |\n",
      "+---------+-------+---------------+\n",
      "|   6219  |   1   | 4.05601778621 |\n",
      "+---------+-------+---------------+\n",
      "[1 rows x 3 columns]\n",
      "\n",
      "{'rmse_by_user': Columns:\n",
      "\tuserId\tint\n",
      "\tcount\tint\n",
      "\trmse\tfloat\n",
      "\n",
      "Rows: 142\n",
      "\n",
      "Data:\n",
      "+--------+-------+----------------+\n",
      "| userId | count |      rmse      |\n",
      "+--------+-------+----------------+\n",
      "|  310   |   20  | 1.45800798517  |\n",
      "|  363   |  201  | 0.974953085218 |\n",
      "|  431   |  268  | 0.900680468478 |\n",
      "|  390   |  153  | 1.00719341029  |\n",
      "|  318   |   59  | 1.23750979986  |\n",
      "|  349   |   23  | 0.95605941791  |\n",
      "|  374   |   33  | 1.44999362428  |\n",
      "|  354   |   52  | 1.09710811841  |\n",
      "|  312   |  284  | 1.20300456463  |\n",
      "|  392   |   25  | 1.07470584549  |\n",
      "+--------+-------+----------------+\n",
      "[142 rows x 3 columns]\n",
      "Note: Only the head of the SFrame is printed.\n",
      "You can use print_rows(num_rows=m, num_columns=n) to print more rows and columns., 'precision_recall_overall': Columns:\n",
      "\tcutoff\tint\n",
      "\tprecision\tfloat\n",
      "\trecall\tfloat\n",
      "\n",
      "Rows: 18\n",
      "\n",
      "Data:\n",
      "+--------+------------------+-------------------+\n",
      "| cutoff |    precision     |       recall      |\n",
      "+--------+------------------+-------------------+\n",
      "|   1    |       0.0        |        0.0        |\n",
      "|   2    |       0.0        |        0.0        |\n",
      "|   3    | 0.00234741784038 | 1.91887016924e-05 |\n",
      "|   4    | 0.00352112676056 | 3.37088120453e-05 |\n",
      "|   5    | 0.00281690140845 | 3.37088120453e-05 |\n",
      "|   6    | 0.00234741784038 | 3.37088120453e-05 |\n",
      "|   7    | 0.00201207243461 | 3.37088120453e-05 |\n",
      "|   8    | 0.00264084507042 | 5.08016603975e-05 |\n",
      "|   9    | 0.00234741784038 | 5.08016603975e-05 |\n",
      "|   10   | 0.00211267605634 | 5.08016603975e-05 |\n",
      "+--------+------------------+-------------------+\n",
      "[18 rows x 3 columns]\n",
      "Note: Only the head of the SFrame is printed.\n",
      "You can use print_rows(num_rows=m, num_columns=n) to print more rows and columns., 'rmse_by_item': Columns:\n",
      "\tmovieId\tint\n",
      "\tcount\tint\n",
      "\trmse\tfloat\n",
      "\n",
      "Rows: 4812\n",
      "\n",
      "Data:\n",
      "+---------+-------+----------------+\n",
      "| movieId | count |      rmse      |\n",
      "+---------+-------+----------------+\n",
      "|   7899  |   1   | 0.249426090122 |\n",
      "|   5684  |   1   | 1.45969434661  |\n",
      "|   2779  |   7   | 0.812190620437 |\n",
      "|   3988  |   4   | 0.973569476393 |\n",
      "|   2847  |   1   | 0.702053830459 |\n",
      "|  64614  |   9   | 0.998126394193 |\n",
      "|   2871  |   4   | 0.159649646581 |\n",
      "|   2043  |   1   | 0.210991911016 |\n",
      "|   2445  |   1   | 0.349391747933 |\n",
      "|   1029  |   6   | 0.70952440695  |\n",
      "+---------+-------+----------------+\n",
      "[4812 rows x 3 columns]\n",
      "Note: Only the head of the SFrame is printed.\n",
      "You can use print_rows(num_rows=m, num_columns=n) to print more rows and columns., 'precision_recall_by_user': Columns:\n",
      "\tuserId\tint\n",
      "\tcutoff\tint\n",
      "\tprecision\tfloat\n",
      "\trecall\tfloat\n",
      "\tcount\tint\n",
      "\n",
      "Rows: 2556\n",
      "\n",
      "Data:\n",
      "+--------+--------+-----------+--------+-------+\n",
      "| userId | cutoff | precision | recall | count |\n",
      "+--------+--------+-----------+--------+-------+\n",
      "|  292   |   1    |    0.0    |  0.0   |   72  |\n",
      "|  292   |   2    |    0.0    |  0.0   |   72  |\n",
      "|  292   |   3    |    0.0    |  0.0   |   72  |\n",
      "|  292   |   4    |    0.0    |  0.0   |   72  |\n",
      "|  292   |   5    |    0.0    |  0.0   |   72  |\n",
      "|  292   |   6    |    0.0    |  0.0   |   72  |\n",
      "|  292   |   7    |    0.0    |  0.0   |   72  |\n",
      "|  292   |   8    |    0.0    |  0.0   |   72  |\n",
      "|  292   |   9    |    0.0    |  0.0   |   72  |\n",
      "|  292   |   10   |    0.0    |  0.0   |   72  |\n",
      "+--------+--------+-----------+--------+-------+\n",
      "[2556 rows x 5 columns]\n",
      "Note: Only the head of the SFrame is printed.\n",
      "You can use print_rows(num_rows=m, num_columns=n) to print more rows and columns., 'rmse_overall': 0.9822991827766332}\n"
     ]
    },
    {
     "data": {
      "text/html": [
       "<pre>Recsys training: model = factorization_recommender</pre>"
      ],
      "text/plain": [
       "Recsys training: model = factorization_recommender"
      ]
     },
     "metadata": {},
     "output_type": "display_data"
    },
    {
     "data": {
      "text/html": [
       "<pre>Preparing data set.</pre>"
      ],
      "text/plain": [
       "Preparing data set."
      ]
     },
     "metadata": {},
     "output_type": "display_data"
    },
    {
     "data": {
      "text/html": [
       "<pre>    Data has 80003 observations with 671 users and 9125 items.</pre>"
      ],
      "text/plain": [
       "    Data has 80003 observations with 671 users and 9125 items."
      ]
     },
     "metadata": {},
     "output_type": "display_data"
    },
    {
     "data": {
      "text/html": [
       "<pre>    Data prepared in: 0.70253s</pre>"
      ],
      "text/plain": [
       "    Data prepared in: 0.70253s"
      ]
     },
     "metadata": {},
     "output_type": "display_data"
    },
    {
     "data": {
      "text/html": [
       "<pre>Training factorization_recommender for recommendations.</pre>"
      ],
      "text/plain": [
       "Training factorization_recommender for recommendations."
      ]
     },
     "metadata": {},
     "output_type": "display_data"
    },
    {
     "data": {
      "text/html": [
       "<pre>+--------------------------------+--------------------------------------------------+----------+</pre>"
      ],
      "text/plain": [
       "+--------------------------------+--------------------------------------------------+----------+"
      ]
     },
     "metadata": {},
     "output_type": "display_data"
    },
    {
     "data": {
      "text/html": [
       "<pre>| Parameter                      | Description                                      | Value    |</pre>"
      ],
      "text/plain": [
       "| Parameter                      | Description                                      | Value    |"
      ]
     },
     "metadata": {},
     "output_type": "display_data"
    },
    {
     "data": {
      "text/html": [
       "<pre>+--------------------------------+--------------------------------------------------+----------+</pre>"
      ],
      "text/plain": [
       "+--------------------------------+--------------------------------------------------+----------+"
      ]
     },
     "metadata": {},
     "output_type": "display_data"
    },
    {
     "data": {
      "text/html": [
       "<pre>| num_factors                    | Factor Dimension                                 | 4        |</pre>"
      ],
      "text/plain": [
       "| num_factors                    | Factor Dimension                                 | 4        |"
      ]
     },
     "metadata": {},
     "output_type": "display_data"
    },
    {
     "data": {
      "text/html": [
       "<pre>| regularization                 | L2 Regularization on Factors                     | 1e-008   |</pre>"
      ],
      "text/plain": [
       "| regularization                 | L2 Regularization on Factors                     | 1e-008   |"
      ]
     },
     "metadata": {},
     "output_type": "display_data"
    },
    {
     "data": {
      "text/html": [
       "<pre>| solver                         | Solver used for training                         | adagrad  |</pre>"
      ],
      "text/plain": [
       "| solver                         | Solver used for training                         | adagrad  |"
      ]
     },
     "metadata": {},
     "output_type": "display_data"
    },
    {
     "data": {
      "text/html": [
       "<pre>| linear_regularization          | L2 Regularization on Linear Coefficients         | 1e-010   |</pre>"
      ],
      "text/plain": [
       "| linear_regularization          | L2 Regularization on Linear Coefficients         | 1e-010   |"
      ]
     },
     "metadata": {},
     "output_type": "display_data"
    },
    {
     "data": {
      "text/html": [
       "<pre>| side_data_factorization        | Assign Factors for Side Data                     | True     |</pre>"
      ],
      "text/plain": [
       "| side_data_factorization        | Assign Factors for Side Data                     | True     |"
      ]
     },
     "metadata": {},
     "output_type": "display_data"
    },
    {
     "data": {
      "text/html": [
       "<pre>| max_iterations                 | Maximum Number of Iterations                     | 50       |</pre>"
      ],
      "text/plain": [
       "| max_iterations                 | Maximum Number of Iterations                     | 50       |"
      ]
     },
     "metadata": {},
     "output_type": "display_data"
    },
    {
     "data": {
      "text/html": [
       "<pre>+--------------------------------+--------------------------------------------------+----------+</pre>"
      ],
      "text/plain": [
       "+--------------------------------+--------------------------------------------------+----------+"
      ]
     },
     "metadata": {},
     "output_type": "display_data"
    },
    {
     "data": {
      "text/html": [
       "<pre>  Optimizing model using SGD; tuning step size.</pre>"
      ],
      "text/plain": [
       "  Optimizing model using SGD; tuning step size."
      ]
     },
     "metadata": {},
     "output_type": "display_data"
    },
    {
     "data": {
      "text/html": [
       "<pre>  Using 10000 / 80003 points for tuning the step size.</pre>"
      ],
      "text/plain": [
       "  Using 10000 / 80003 points for tuning the step size."
      ]
     },
     "metadata": {},
     "output_type": "display_data"
    },
    {
     "data": {
      "text/html": [
       "<pre>+---------+-------------------+------------------------------------------+</pre>"
      ],
      "text/plain": [
       "+---------+-------------------+------------------------------------------+"
      ]
     },
     "metadata": {},
     "output_type": "display_data"
    },
    {
     "data": {
      "text/html": [
       "<pre>| Attempt | Initial Step Size | Estimated Objective Value                |</pre>"
      ],
      "text/plain": [
       "| Attempt | Initial Step Size | Estimated Objective Value                |"
      ]
     },
     "metadata": {},
     "output_type": "display_data"
    },
    {
     "data": {
      "text/html": [
       "<pre>+---------+-------------------+------------------------------------------+</pre>"
      ],
      "text/plain": [
       "+---------+-------------------+------------------------------------------+"
      ]
     },
     "metadata": {},
     "output_type": "display_data"
    },
    {
     "data": {
      "text/html": [
       "<pre>| 0       | 1.21951           | Not Viable                               |</pre>"
      ],
      "text/plain": [
       "| 0       | 1.21951           | Not Viable                               |"
      ]
     },
     "metadata": {},
     "output_type": "display_data"
    },
    {
     "data": {
      "text/html": [
       "<pre>| 1       | 0.304878          | Not Viable                               |</pre>"
      ],
      "text/plain": [
       "| 1       | 0.304878          | Not Viable                               |"
      ]
     },
     "metadata": {},
     "output_type": "display_data"
    },
    {
     "data": {
      "text/html": [
       "<pre>| 2       | 0.0762195         | 0.105144                                 |</pre>"
      ],
      "text/plain": [
       "| 2       | 0.0762195         | 0.105144                                 |"
      ]
     },
     "metadata": {},
     "output_type": "display_data"
    },
    {
     "data": {
      "text/html": [
       "<pre>| 3       | 0.0381098         | 0.202962                                 |</pre>"
      ],
      "text/plain": [
       "| 3       | 0.0381098         | 0.202962                                 |"
      ]
     },
     "metadata": {},
     "output_type": "display_data"
    },
    {
     "data": {
      "text/html": [
       "<pre>| 4       | 0.0190549         | 0.324701                                 |</pre>"
      ],
      "text/plain": [
       "| 4       | 0.0190549         | 0.324701                                 |"
      ]
     },
     "metadata": {},
     "output_type": "display_data"
    },
    {
     "data": {
      "text/html": [
       "<pre>+---------+-------------------+------------------------------------------+</pre>"
      ],
      "text/plain": [
       "+---------+-------------------+------------------------------------------+"
      ]
     },
     "metadata": {},
     "output_type": "display_data"
    },
    {
     "data": {
      "text/html": [
       "<pre>| Final   | 0.0762195         | 0.105144                                 |</pre>"
      ],
      "text/plain": [
       "| Final   | 0.0762195         | 0.105144                                 |"
      ]
     },
     "metadata": {},
     "output_type": "display_data"
    },
    {
     "data": {
      "text/html": [
       "<pre>+---------+-------------------+------------------------------------------+</pre>"
      ],
      "text/plain": [
       "+---------+-------------------+------------------------------------------+"
      ]
     },
     "metadata": {},
     "output_type": "display_data"
    },
    {
     "data": {
      "text/html": [
       "<pre>Starting Optimization.</pre>"
      ],
      "text/plain": [
       "Starting Optimization."
      ]
     },
     "metadata": {},
     "output_type": "display_data"
    },
    {
     "data": {
      "text/html": [
       "<pre>+---------+--------------+-------------------+-----------------------+-------------+</pre>"
      ],
      "text/plain": [
       "+---------+--------------+-------------------+-----------------------+-------------+"
      ]
     },
     "metadata": {},
     "output_type": "display_data"
    },
    {
     "data": {
      "text/html": [
       "<pre>| Iter.   | Elapsed Time | Approx. Objective | Approx. Training RMSE | Step Size   |</pre>"
      ],
      "text/plain": [
       "| Iter.   | Elapsed Time | Approx. Objective | Approx. Training RMSE | Step Size   |"
      ]
     },
     "metadata": {},
     "output_type": "display_data"
    },
    {
     "data": {
      "text/html": [
       "<pre>+---------+--------------+-------------------+-----------------------+-------------+</pre>"
      ],
      "text/plain": [
       "+---------+--------------+-------------------+-----------------------+-------------+"
      ]
     },
     "metadata": {},
     "output_type": "display_data"
    },
    {
     "data": {
      "text/html": [
       "<pre>| Initial | 0us          | 1.10935           | 1.05326               |             |</pre>"
      ],
      "text/plain": [
       "| Initial | 0us          | 1.10935           | 1.05326               |             |"
      ]
     },
     "metadata": {},
     "output_type": "display_data"
    },
    {
     "data": {
      "text/html": [
       "<pre>+---------+--------------+-------------------+-----------------------+-------------+</pre>"
      ],
      "text/plain": [
       "+---------+--------------+-------------------+-----------------------+-------------+"
      ]
     },
     "metadata": {},
     "output_type": "display_data"
    },
    {
     "data": {
      "text/html": [
       "<pre>| 1       | 325.731ms    | 0.89105           | 0.943938              | 0.0762195   |</pre>"
      ],
      "text/plain": [
       "| 1       | 325.731ms    | 0.89105           | 0.943938              | 0.0762195   |"
      ]
     },
     "metadata": {},
     "output_type": "display_data"
    },
    {
     "data": {
      "text/html": [
       "<pre>| 2       | 700.497ms    | 0.567516          | 0.753314              | 0.0762195   |</pre>"
      ],
      "text/plain": [
       "| 2       | 700.497ms    | 0.567516          | 0.753314              | 0.0762195   |"
      ]
     },
     "metadata": {},
     "output_type": "display_data"
    },
    {
     "data": {
      "text/html": [
       "<pre>| 3       | 1.05s        | 0.433463          | 0.65835               | 0.0762195   |</pre>"
      ],
      "text/plain": [
       "| 3       | 1.05s        | 0.433463          | 0.65835               | 0.0762195   |"
      ]
     },
     "metadata": {},
     "output_type": "display_data"
    },
    {
     "data": {
      "text/html": [
       "<pre>| 4       | 1.42s        | 0.35139           | 0.592744              | 0.0762195   |</pre>"
      ],
      "text/plain": [
       "| 4       | 1.42s        | 0.35139           | 0.592744              | 0.0762195   |"
      ]
     },
     "metadata": {},
     "output_type": "display_data"
    },
    {
     "data": {
      "text/html": [
       "<pre>| 5       | 1.75s        | 0.293331          | 0.541555              | 0.0762195   |</pre>"
      ],
      "text/plain": [
       "| 5       | 1.75s        | 0.293331          | 0.541555              | 0.0762195   |"
      ]
     },
     "metadata": {},
     "output_type": "display_data"
    },
    {
     "data": {
      "text/html": [
       "<pre>| 6       | 2.09s        | 0.250896          | 0.500841              | 0.0762195   |</pre>"
      ],
      "text/plain": [
       "| 6       | 2.09s        | 0.250896          | 0.500841              | 0.0762195   |"
      ]
     },
     "metadata": {},
     "output_type": "display_data"
    },
    {
     "data": {
      "text/html": [
       "<pre>| 10      | 3.34s        | 0.148027          | 0.384652              | 0.0762195   |</pre>"
      ],
      "text/plain": [
       "| 10      | 3.34s        | 0.148027          | 0.384652              | 0.0762195   |"
      ]
     },
     "metadata": {},
     "output_type": "display_data"
    },
    {
     "data": {
      "text/html": [
       "<pre>| 11      | 3.65s        | 0.131547          | 0.362593              | 0.0762195   |</pre>"
      ],
      "text/plain": [
       "| 11      | 3.65s        | 0.131547          | 0.362593              | 0.0762195   |"
      ]
     },
     "metadata": {},
     "output_type": "display_data"
    },
    {
     "data": {
      "text/html": [
       "<pre>| 15      | 4.78s        | 0.0869844         | 0.294788              | 0.0762195   |</pre>"
      ],
      "text/plain": [
       "| 15      | 4.78s        | 0.0869844         | 0.294788              | 0.0762195   |"
      ]
     },
     "metadata": {},
     "output_type": "display_data"
    },
    {
     "data": {
      "text/html": [
       "<pre>| 20      | 6.35s        | 0.0570447         | 0.238645              | 0.0762195   |</pre>"
      ],
      "text/plain": [
       "| 20      | 6.35s        | 0.0570447         | 0.238645              | 0.0762195   |"
      ]
     },
     "metadata": {},
     "output_type": "display_data"
    },
    {
     "data": {
      "text/html": [
       "<pre>| 25      | 7.66s        | 0.0408758         | 0.201931              | 0.0762195   |</pre>"
      ],
      "text/plain": [
       "| 25      | 7.66s        | 0.0408758         | 0.201931              | 0.0762195   |"
      ]
     },
     "metadata": {},
     "output_type": "display_data"
    },
    {
     "data": {
      "text/html": [
       "<pre>| 30      | 9.22s        | 0.0312204         | 0.176398              | 0.0762195   |</pre>"
      ],
      "text/plain": [
       "| 30      | 9.22s        | 0.0312204         | 0.176398              | 0.0762195   |"
      ]
     },
     "metadata": {},
     "output_type": "display_data"
    },
    {
     "data": {
      "text/html": [
       "<pre>| 35      | 10.73s       | 0.0250691         | 0.157993              | 0.0762195   |</pre>"
      ],
      "text/plain": [
       "| 35      | 10.73s       | 0.0250691         | 0.157993              | 0.0762195   |"
      ]
     },
     "metadata": {},
     "output_type": "display_data"
    },
    {
     "data": {
      "text/html": [
       "<pre>| 40      | 12.18s       | 0.0214625         | 0.146126              | 0.0762195   |</pre>"
      ],
      "text/plain": [
       "| 40      | 12.18s       | 0.0214625         | 0.146126              | 0.0762195   |"
      ]
     },
     "metadata": {},
     "output_type": "display_data"
    },
    {
     "data": {
      "text/html": [
       "<pre>| 45      | 13.56s       | 0.018141          | 0.134274              | 0.0762195   |</pre>"
      ],
      "text/plain": [
       "| 45      | 13.56s       | 0.018141          | 0.134274              | 0.0762195   |"
      ]
     },
     "metadata": {},
     "output_type": "display_data"
    },
    {
     "data": {
      "text/html": [
       "<pre>| 50      | 14.79s       | 0.0159373         | 0.125795              | 0.0762195   |</pre>"
      ],
      "text/plain": [
       "| 50      | 14.79s       | 0.0159373         | 0.125795              | 0.0762195   |"
      ]
     },
     "metadata": {},
     "output_type": "display_data"
    },
    {
     "data": {
      "text/html": [
       "<pre>+---------+--------------+-------------------+-----------------------+-------------+</pre>"
      ],
      "text/plain": [
       "+---------+--------------+-------------------+-----------------------+-------------+"
      ]
     },
     "metadata": {},
     "output_type": "display_data"
    },
    {
     "data": {
      "text/html": [
       "<pre>Optimization Complete: Maximum number of passes through the data reached.</pre>"
      ],
      "text/plain": [
       "Optimization Complete: Maximum number of passes through the data reached."
      ]
     },
     "metadata": {},
     "output_type": "display_data"
    },
    {
     "data": {
      "text/html": [
       "<pre>Computing final objective value and training RMSE.</pre>"
      ],
      "text/plain": [
       "Computing final objective value and training RMSE."
      ]
     },
     "metadata": {},
     "output_type": "display_data"
    },
    {
     "data": {
      "text/html": [
       "<pre>       Final objective value: 0.0145459</pre>"
      ],
      "text/plain": [
       "       Final objective value: 0.0145459"
      ]
     },
     "metadata": {},
     "output_type": "display_data"
    },
    {
     "data": {
      "text/html": [
       "<pre>       Final training RMSE: 0.120137</pre>"
      ],
      "text/plain": [
       "       Final training RMSE: 0.120137"
      ]
     },
     "metadata": {},
     "output_type": "display_data"
    },
    {
     "name": "stdout",
     "output_type": "stream",
     "text": [
      "\n",
      "Precision and recall summary statistics by cutoff\n",
      "+--------+------------------+-------------------+\n",
      "| cutoff |  mean_precision  |    mean_recall    |\n",
      "+--------+------------------+-------------------+\n",
      "|   1    |       0.0        |        0.0        |\n",
      "|   2    |       0.0        |        0.0        |\n",
      "|   3    | 0.00289855072464 | 1.21958656016e-05 |\n",
      "|   4    | 0.00652173913043 |  0.00045251358071 |\n",
      "|   5    | 0.00521739130435 |  0.00045251358071 |\n",
      "|   6    | 0.00434782608696 |  0.00045251358071 |\n",
      "|   7    | 0.00372670807453 |  0.00045251358071 |\n",
      "|   8    | 0.00326086956522 |  0.00045251358071 |\n",
      "|   9    | 0.00289855072464 |  0.00045251358071 |\n",
      "|   10   | 0.00260869565217 |  0.00045251358071 |\n",
      "+--------+------------------+-------------------+\n",
      "[10 rows x 3 columns]\n",
      "\n",
      "('\\nOverall RMSE: ', 0.9822081976486008)\n",
      "\n",
      "Per User RMSE (best)\n",
      "+--------+-------+----------------+\n",
      "| userId | count |      rmse      |\n",
      "+--------+-------+----------------+\n",
      "|  521   |   49  | 0.608490734743 |\n",
      "+--------+-------+----------------+\n",
      "[1 rows x 3 columns]\n",
      "\n",
      "\n",
      "Per User RMSE (worst)\n",
      "+--------+-------+---------------+\n",
      "| userId | count |      rmse     |\n",
      "+--------+-------+---------------+\n",
      "|  477   |   21  | 1.91834426074 |\n",
      "+--------+-------+---------------+\n",
      "[1 rows x 3 columns]\n",
      "\n",
      "\n",
      "Per Item RMSE (best)\n",
      "+---------+-------+-------------------+\n",
      "| movieId | count |        rmse       |\n",
      "+---------+-------+-------------------+\n",
      "|   1769  |   1   | 0.000776773128298 |\n",
      "+---------+-------+-------------------+\n",
      "[1 rows x 3 columns]\n",
      "\n",
      "\n",
      "Per Item RMSE (worst)\n",
      "+---------+-------+---------------+\n",
      "| movieId | count |      rmse     |\n",
      "+---------+-------+---------------+\n",
      "|  106471 |   1   | 3.56118785873 |\n",
      "+---------+-------+---------------+\n",
      "[1 rows x 3 columns]\n",
      "\n",
      "{'rmse_by_user': Columns:\n",
      "\tuserId\tint\n",
      "\tcount\tint\n",
      "\trmse\tfloat\n",
      "\n",
      "Rows: 115\n",
      "\n",
      "Data:\n",
      "+--------+-------+----------------+\n",
      "| userId | count |      rmse      |\n",
      "+--------+-------+----------------+\n",
      "|  435   |   23  | 0.888545268003 |\n",
      "|  537   |  307  | 0.947674514861 |\n",
      "|  526   |   27  | 0.886386701411 |\n",
      "|  511   |   31  | 0.799455846991 |\n",
      "|  454   |   27  | 0.907831832891 |\n",
      "|  444   |   20  | 0.985681077702 |\n",
      "|  499   |   33  | 0.823520418079 |\n",
      "|  517   |   42  | 1.18861988192  |\n",
      "|  496   |  126  | 0.979601225271 |\n",
      "|  498   |   20  | 1.23453296661  |\n",
      "+--------+-------+----------------+\n",
      "[115 rows x 3 columns]\n",
      "Note: Only the head of the SFrame is printed.\n",
      "You can use print_rows(num_rows=m, num_columns=n) to print more rows and columns., 'precision_recall_overall': Columns:\n",
      "\tcutoff\tint\n",
      "\tprecision\tfloat\n",
      "\trecall\tfloat\n",
      "\n",
      "Rows: 18\n",
      "\n",
      "Data:\n",
      "+--------+------------------+-------------------+\n",
      "| cutoff |    precision     |       recall      |\n",
      "+--------+------------------+-------------------+\n",
      "|   1    |       0.0        |        0.0        |\n",
      "|   2    |       0.0        |        0.0        |\n",
      "|   3    | 0.00289855072464 | 1.21958656016e-05 |\n",
      "|   4    | 0.00652173913043 |  0.00045251358071 |\n",
      "|   5    | 0.00521739130435 |  0.00045251358071 |\n",
      "|   6    | 0.00434782608696 |  0.00045251358071 |\n",
      "|   7    | 0.00372670807453 |  0.00045251358071 |\n",
      "|   8    | 0.00326086956522 |  0.00045251358071 |\n",
      "|   9    | 0.00289855072464 |  0.00045251358071 |\n",
      "|   10   | 0.00260869565217 |  0.00045251358071 |\n",
      "+--------+------------------+-------------------+\n",
      "[18 rows x 3 columns]\n",
      "Note: Only the head of the SFrame is printed.\n",
      "You can use print_rows(num_rows=m, num_columns=n) to print more rows and columns., 'rmse_by_item': Columns:\n",
      "\tmovieId\tint\n",
      "\tcount\tint\n",
      "\trmse\tfloat\n",
      "\n",
      "Rows: 4914\n",
      "\n",
      "Data:\n",
      "+---------+-------+-----------------+\n",
      "| movieId | count |       rmse      |\n",
      "+---------+-------+-----------------+\n",
      "|   5288  |   2   |  1.00328454042  |\n",
      "|  42728  |   1   | 0.0151954322155 |\n",
      "|   2779  |   3   |  0.311247551628 |\n",
      "|   118   |   1   |  0.630240940964 |\n",
      "|   3988  |   7   |  1.85280863573  |\n",
      "|   2847  |   1   |  0.113622454564 |\n",
      "|  64614  |   8   |  0.786902061017 |\n",
      "|   2925  |   2   |  0.687758909305 |\n",
      "|   2871  |   12  |  0.915043142401 |\n",
      "|   3913  |   1   |  0.71082388208  |\n",
      "+---------+-------+-----------------+\n",
      "[4914 rows x 3 columns]\n",
      "Note: Only the head of the SFrame is printed.\n",
      "You can use print_rows(num_rows=m, num_columns=n) to print more rows and columns., 'precision_recall_by_user': Columns:\n",
      "\tuserId\tint\n",
      "\tcutoff\tint\n",
      "\tprecision\tfloat\n",
      "\trecall\tfloat\n",
      "\tcount\tint\n",
      "\n",
      "Rows: 2070\n",
      "\n",
      "Data:\n",
      "+--------+--------+-----------+--------+-------+\n",
      "| userId | cutoff | precision | recall | count |\n",
      "+--------+--------+-----------+--------+-------+\n",
      "|  433   |   1    |    0.0    |  0.0   |   55  |\n",
      "|  433   |   2    |    0.0    |  0.0   |   55  |\n",
      "|  433   |   3    |    0.0    |  0.0   |   55  |\n",
      "|  433   |   4    |    0.0    |  0.0   |   55  |\n",
      "|  433   |   5    |    0.0    |  0.0   |   55  |\n",
      "|  433   |   6    |    0.0    |  0.0   |   55  |\n",
      "|  433   |   7    |    0.0    |  0.0   |   55  |\n",
      "|  433   |   8    |    0.0    |  0.0   |   55  |\n",
      "|  433   |   9    |    0.0    |  0.0   |   55  |\n",
      "|  433   |   10   |    0.0    |  0.0   |   55  |\n",
      "+--------+--------+-----------+--------+-------+\n",
      "[2070 rows x 5 columns]\n",
      "Note: Only the head of the SFrame is printed.\n",
      "You can use print_rows(num_rows=m, num_columns=n) to print more rows and columns., 'rmse_overall': 0.9822081976486008}\n"
     ]
    },
    {
     "data": {
      "text/html": [
       "<pre>Recsys training: model = factorization_recommender</pre>"
      ],
      "text/plain": [
       "Recsys training: model = factorization_recommender"
      ]
     },
     "metadata": {},
     "output_type": "display_data"
    },
    {
     "data": {
      "text/html": [
       "<pre>Preparing data set.</pre>"
      ],
      "text/plain": [
       "Preparing data set."
      ]
     },
     "metadata": {},
     "output_type": "display_data"
    },
    {
     "data": {
      "text/html": [
       "<pre>    Data has 80004 observations with 671 users and 9125 items.</pre>"
      ],
      "text/plain": [
       "    Data has 80004 observations with 671 users and 9125 items."
      ]
     },
     "metadata": {},
     "output_type": "display_data"
    },
    {
     "data": {
      "text/html": [
       "<pre>    Data prepared in: 1.11739s</pre>"
      ],
      "text/plain": [
       "    Data prepared in: 1.11739s"
      ]
     },
     "metadata": {},
     "output_type": "display_data"
    },
    {
     "data": {
      "text/html": [
       "<pre>Training factorization_recommender for recommendations.</pre>"
      ],
      "text/plain": [
       "Training factorization_recommender for recommendations."
      ]
     },
     "metadata": {},
     "output_type": "display_data"
    },
    {
     "data": {
      "text/html": [
       "<pre>+--------------------------------+--------------------------------------------------+----------+</pre>"
      ],
      "text/plain": [
       "+--------------------------------+--------------------------------------------------+----------+"
      ]
     },
     "metadata": {},
     "output_type": "display_data"
    },
    {
     "data": {
      "text/html": [
       "<pre>| Parameter                      | Description                                      | Value    |</pre>"
      ],
      "text/plain": [
       "| Parameter                      | Description                                      | Value    |"
      ]
     },
     "metadata": {},
     "output_type": "display_data"
    },
    {
     "data": {
      "text/html": [
       "<pre>+--------------------------------+--------------------------------------------------+----------+</pre>"
      ],
      "text/plain": [
       "+--------------------------------+--------------------------------------------------+----------+"
      ]
     },
     "metadata": {},
     "output_type": "display_data"
    },
    {
     "data": {
      "text/html": [
       "<pre>| num_factors                    | Factor Dimension                                 | 4        |</pre>"
      ],
      "text/plain": [
       "| num_factors                    | Factor Dimension                                 | 4        |"
      ]
     },
     "metadata": {},
     "output_type": "display_data"
    },
    {
     "data": {
      "text/html": [
       "<pre>| regularization                 | L2 Regularization on Factors                     | 1e-008   |</pre>"
      ],
      "text/plain": [
       "| regularization                 | L2 Regularization on Factors                     | 1e-008   |"
      ]
     },
     "metadata": {},
     "output_type": "display_data"
    },
    {
     "data": {
      "text/html": [
       "<pre>| solver                         | Solver used for training                         | adagrad  |</pre>"
      ],
      "text/plain": [
       "| solver                         | Solver used for training                         | adagrad  |"
      ]
     },
     "metadata": {},
     "output_type": "display_data"
    },
    {
     "data": {
      "text/html": [
       "<pre>| linear_regularization          | L2 Regularization on Linear Coefficients         | 1e-010   |</pre>"
      ],
      "text/plain": [
       "| linear_regularization          | L2 Regularization on Linear Coefficients         | 1e-010   |"
      ]
     },
     "metadata": {},
     "output_type": "display_data"
    },
    {
     "data": {
      "text/html": [
       "<pre>| side_data_factorization        | Assign Factors for Side Data                     | True     |</pre>"
      ],
      "text/plain": [
       "| side_data_factorization        | Assign Factors for Side Data                     | True     |"
      ]
     },
     "metadata": {},
     "output_type": "display_data"
    },
    {
     "data": {
      "text/html": [
       "<pre>| max_iterations                 | Maximum Number of Iterations                     | 50       |</pre>"
      ],
      "text/plain": [
       "| max_iterations                 | Maximum Number of Iterations                     | 50       |"
      ]
     },
     "metadata": {},
     "output_type": "display_data"
    },
    {
     "data": {
      "text/html": [
       "<pre>+--------------------------------+--------------------------------------------------+----------+</pre>"
      ],
      "text/plain": [
       "+--------------------------------+--------------------------------------------------+----------+"
      ]
     },
     "metadata": {},
     "output_type": "display_data"
    },
    {
     "data": {
      "text/html": [
       "<pre>  Optimizing model using SGD; tuning step size.</pre>"
      ],
      "text/plain": [
       "  Optimizing model using SGD; tuning step size."
      ]
     },
     "metadata": {},
     "output_type": "display_data"
    },
    {
     "data": {
      "text/html": [
       "<pre>  Using 10000 / 80004 points for tuning the step size.</pre>"
      ],
      "text/plain": [
       "  Using 10000 / 80004 points for tuning the step size."
      ]
     },
     "metadata": {},
     "output_type": "display_data"
    },
    {
     "data": {
      "text/html": [
       "<pre>+---------+-------------------+------------------------------------------+</pre>"
      ],
      "text/plain": [
       "+---------+-------------------+------------------------------------------+"
      ]
     },
     "metadata": {},
     "output_type": "display_data"
    },
    {
     "data": {
      "text/html": [
       "<pre>| Attempt | Initial Step Size | Estimated Objective Value                |</pre>"
      ],
      "text/plain": [
       "| Attempt | Initial Step Size | Estimated Objective Value                |"
      ]
     },
     "metadata": {},
     "output_type": "display_data"
    },
    {
     "data": {
      "text/html": [
       "<pre>+---------+-------------------+------------------------------------------+</pre>"
      ],
      "text/plain": [
       "+---------+-------------------+------------------------------------------+"
      ]
     },
     "metadata": {},
     "output_type": "display_data"
    },
    {
     "data": {
      "text/html": [
       "<pre>| 0       | 1.21951           | Not Viable                               |</pre>"
      ],
      "text/plain": [
       "| 0       | 1.21951           | Not Viable                               |"
      ]
     },
     "metadata": {},
     "output_type": "display_data"
    },
    {
     "data": {
      "text/html": [
       "<pre>| 1       | 0.304878          | 0.172465                                 |</pre>"
      ],
      "text/plain": [
       "| 1       | 0.304878          | 0.172465                                 |"
      ]
     },
     "metadata": {},
     "output_type": "display_data"
    },
    {
     "data": {
      "text/html": [
       "<pre>| 2       | 0.152439          | 0.0772441                                |</pre>"
      ],
      "text/plain": [
       "| 2       | 0.152439          | 0.0772441                                |"
      ]
     },
     "metadata": {},
     "output_type": "display_data"
    },
    {
     "data": {
      "text/html": [
       "<pre>| 3       | 0.0762195         | 0.104447                                 |</pre>"
      ],
      "text/plain": [
       "| 3       | 0.0762195         | 0.104447                                 |"
      ]
     },
     "metadata": {},
     "output_type": "display_data"
    },
    {
     "data": {
      "text/html": [
       "<pre>| 4       | 0.0381098         | 0.191235                                 |</pre>"
      ],
      "text/plain": [
       "| 4       | 0.0381098         | 0.191235                                 |"
      ]
     },
     "metadata": {},
     "output_type": "display_data"
    },
    {
     "data": {
      "text/html": [
       "<pre>+---------+-------------------+------------------------------------------+</pre>"
      ],
      "text/plain": [
       "+---------+-------------------+------------------------------------------+"
      ]
     },
     "metadata": {},
     "output_type": "display_data"
    },
    {
     "data": {
      "text/html": [
       "<pre>| Final   | 0.152439          | 0.0772441                                |</pre>"
      ],
      "text/plain": [
       "| Final   | 0.152439          | 0.0772441                                |"
      ]
     },
     "metadata": {},
     "output_type": "display_data"
    },
    {
     "data": {
      "text/html": [
       "<pre>+---------+-------------------+------------------------------------------+</pre>"
      ],
      "text/plain": [
       "+---------+-------------------+------------------------------------------+"
      ]
     },
     "metadata": {},
     "output_type": "display_data"
    },
    {
     "data": {
      "text/html": [
       "<pre>Starting Optimization.</pre>"
      ],
      "text/plain": [
       "Starting Optimization."
      ]
     },
     "metadata": {},
     "output_type": "display_data"
    },
    {
     "data": {
      "text/html": [
       "<pre>+---------+--------------+-------------------+-----------------------+-------------+</pre>"
      ],
      "text/plain": [
       "+---------+--------------+-------------------+-----------------------+-------------+"
      ]
     },
     "metadata": {},
     "output_type": "display_data"
    },
    {
     "data": {
      "text/html": [
       "<pre>| Iter.   | Elapsed Time | Approx. Objective | Approx. Training RMSE | Step Size   |</pre>"
      ],
      "text/plain": [
       "| Iter.   | Elapsed Time | Approx. Objective | Approx. Training RMSE | Step Size   |"
      ]
     },
     "metadata": {},
     "output_type": "display_data"
    },
    {
     "data": {
      "text/html": [
       "<pre>+---------+--------------+-------------------+-----------------------+-------------+</pre>"
      ],
      "text/plain": [
       "+---------+--------------+-------------------+-----------------------+-------------+"
      ]
     },
     "metadata": {},
     "output_type": "display_data"
    },
    {
     "data": {
      "text/html": [
       "<pre>| Initial | 0us          | 1.13363           | 1.06472               |             |</pre>"
      ],
      "text/plain": [
       "| Initial | 0us          | 1.13363           | 1.06472               |             |"
      ]
     },
     "metadata": {},
     "output_type": "display_data"
    },
    {
     "data": {
      "text/html": [
       "<pre>+---------+--------------+-------------------+-----------------------+-------------+</pre>"
      ],
      "text/plain": [
       "+---------+--------------+-------------------+-----------------------+-------------+"
      ]
     },
     "metadata": {},
     "output_type": "display_data"
    },
    {
     "data": {
      "text/html": [
       "<pre>| 1       | 359.253ms    | 1.12788           | 1.06196               | 0.152439    |</pre>"
      ],
      "text/plain": [
       "| 1       | 359.253ms    | 1.12788           | 1.06196               | 0.152439    |"
      ]
     },
     "metadata": {},
     "output_type": "display_data"
    },
    {
     "data": {
      "text/html": [
       "<pre>| 2       | 625.943ms    | 0.621564          | 0.788334              | 0.152439    |</pre>"
      ],
      "text/plain": [
       "| 2       | 625.943ms    | 0.621564          | 0.788334              | 0.152439    |"
      ]
     },
     "metadata": {},
     "output_type": "display_data"
    },
    {
     "data": {
      "text/html": [
       "<pre>| 3       | 901.639ms    | 0.420362          | 0.64828               | 0.152439    |</pre>"
      ],
      "text/plain": [
       "| 3       | 901.639ms    | 0.420362          | 0.64828               | 0.152439    |"
      ]
     },
     "metadata": {},
     "output_type": "display_data"
    },
    {
     "data": {
      "text/html": [
       "<pre>| 4       | 1.16s        | 0.310513          | 0.557146              | 0.152439    |</pre>"
      ],
      "text/plain": [
       "| 4       | 1.16s        | 0.310513          | 0.557146              | 0.152439    |"
      ]
     },
     "metadata": {},
     "output_type": "display_data"
    },
    {
     "data": {
      "text/html": [
       "<pre>| 5       | 1.44s        | 0.234919          | 0.484575              | 0.152439    |</pre>"
      ],
      "text/plain": [
       "| 5       | 1.44s        | 0.234919          | 0.484575              | 0.152439    |"
      ]
     },
     "metadata": {},
     "output_type": "display_data"
    },
    {
     "data": {
      "text/html": [
       "<pre>| 6       | 1.73s        | 0.193281          | 0.439511              | 0.152439    |</pre>"
      ],
      "text/plain": [
       "| 6       | 1.73s        | 0.193281          | 0.439511              | 0.152439    |"
      ]
     },
     "metadata": {},
     "output_type": "display_data"
    },
    {
     "data": {
      "text/html": [
       "<pre>| 10      | 2.72s        | 0.104771          | 0.323487              | 0.152439    |</pre>"
      ],
      "text/plain": [
       "| 10      | 2.72s        | 0.104771          | 0.323487              | 0.152439    |"
      ]
     },
     "metadata": {},
     "output_type": "display_data"
    },
    {
     "data": {
      "text/html": [
       "<pre>| 11      | 2.99s        | 0.0923913         | 0.303744              | 0.152439    |</pre>"
      ],
      "text/plain": [
       "| 11      | 2.99s        | 0.0923913         | 0.303744              | 0.152439    |"
      ]
     },
     "metadata": {},
     "output_type": "display_data"
    },
    {
     "data": {
      "text/html": [
       "<pre>| 15      | 3.97s        | 0.0586997         | 0.241989              | 0.152439    |</pre>"
      ],
      "text/plain": [
       "| 15      | 3.97s        | 0.0586997         | 0.241989              | 0.152439    |"
      ]
     },
     "metadata": {},
     "output_type": "display_data"
    },
    {
     "data": {
      "text/html": [
       "<pre>| 20      | 5.23s        | 0.0377799         | 0.193988              | 0.152439    |</pre>"
      ],
      "text/plain": [
       "| 20      | 5.23s        | 0.0377799         | 0.193988              | 0.152439    |"
      ]
     },
     "metadata": {},
     "output_type": "display_data"
    },
    {
     "data": {
      "text/html": [
       "<pre>| 25      | 6.64s        | 0.027247          | 0.164601              | 0.152439    |</pre>"
      ],
      "text/plain": [
       "| 25      | 6.64s        | 0.027247          | 0.164601              | 0.152439    |"
      ]
     },
     "metadata": {},
     "output_type": "display_data"
    },
    {
     "data": {
      "text/html": [
       "<pre>| 30      | 7.88s        | 0.0216253         | 0.146521              | 0.152439    |</pre>"
      ],
      "text/plain": [
       "| 30      | 7.88s        | 0.0216253         | 0.146521              | 0.152439    |"
      ]
     },
     "metadata": {},
     "output_type": "display_data"
    },
    {
     "data": {
      "text/html": [
       "<pre>| 35      | 9.26s        | 0.0176039         | 0.132078              | 0.152439    |</pre>"
      ],
      "text/plain": [
       "| 35      | 9.26s        | 0.0176039         | 0.132078              | 0.152439    |"
      ]
     },
     "metadata": {},
     "output_type": "display_data"
    },
    {
     "data": {
      "text/html": [
       "<pre>| 40      | 10.53s       | 0.0155832         | 0.124185              | 0.152439    |</pre>"
      ],
      "text/plain": [
       "| 40      | 10.53s       | 0.0155832         | 0.124185              | 0.152439    |"
      ]
     },
     "metadata": {},
     "output_type": "display_data"
    },
    {
     "data": {
      "text/html": [
       "<pre>| 45      | 11.61s       | 0.0130278         | 0.113424              | 0.152439    |</pre>"
      ],
      "text/plain": [
       "| 45      | 11.61s       | 0.0130278         | 0.113424              | 0.152439    |"
      ]
     },
     "metadata": {},
     "output_type": "display_data"
    },
    {
     "data": {
      "text/html": [
       "<pre>| 50      | 12.67s       | 0.0114892         | 0.10642               | 0.152439    |</pre>"
      ],
      "text/plain": [
       "| 50      | 12.67s       | 0.0114892         | 0.10642               | 0.152439    |"
      ]
     },
     "metadata": {},
     "output_type": "display_data"
    },
    {
     "data": {
      "text/html": [
       "<pre>+---------+--------------+-------------------+-----------------------+-------------+</pre>"
      ],
      "text/plain": [
       "+---------+--------------+-------------------+-----------------------+-------------+"
      ]
     },
     "metadata": {},
     "output_type": "display_data"
    },
    {
     "data": {
      "text/html": [
       "<pre>Optimization Complete: Maximum number of passes through the data reached.</pre>"
      ],
      "text/plain": [
       "Optimization Complete: Maximum number of passes through the data reached."
      ]
     },
     "metadata": {},
     "output_type": "display_data"
    },
    {
     "data": {
      "text/html": [
       "<pre>Computing final objective value and training RMSE.</pre>"
      ],
      "text/plain": [
       "Computing final objective value and training RMSE."
      ]
     },
     "metadata": {},
     "output_type": "display_data"
    },
    {
     "data": {
      "text/html": [
       "<pre>       Final objective value: 0.0130447</pre>"
      ],
      "text/plain": [
       "       Final objective value: 0.0130447"
      ]
     },
     "metadata": {},
     "output_type": "display_data"
    },
    {
     "data": {
      "text/html": [
       "<pre>       Final training RMSE: 0.113493</pre>"
      ],
      "text/plain": [
       "       Final training RMSE: 0.113493"
      ]
     },
     "metadata": {},
     "output_type": "display_data"
    },
    {
     "name": "stdout",
     "output_type": "stream",
     "text": [
      "\n",
      "Precision and recall summary statistics by cutoff\n",
      "+--------+------------------+-------------------+\n",
      "| cutoff |  mean_precision  |    mean_recall    |\n",
      "+--------+------------------+-------------------+\n",
      "|   1    |       0.0        |        0.0        |\n",
      "|   2    |       0.0        |        0.0        |\n",
      "|   3    |       0.0        |        0.0        |\n",
      "|   4    |      0.004       | 0.000357582184517 |\n",
      "|   5    |      0.0048      | 0.000367338282078 |\n",
      "|   6    |      0.004       | 0.000367338282078 |\n",
      "|   7    | 0.00457142857143 | 0.000377094379639 |\n",
      "|   8    |      0.005       |  0.0003868504772  |\n",
      "|   9    | 0.00622222222222 | 0.000625178003333 |\n",
      "|   10   |      0.0064      | 0.000629788954341 |\n",
      "+--------+------------------+-------------------+\n",
      "[10 rows x 3 columns]\n",
      "\n",
      "('\\nOverall RMSE: ', 1.0051670610378534)\n",
      "\n",
      "Per User RMSE (best)\n",
      "+--------+-------+----------------+\n",
      "| userId | count |      rmse      |\n",
      "+--------+-------+----------------+\n",
      "|  574   |  342  | 0.593023343635 |\n",
      "+--------+-------+----------------+\n",
      "[1 rows x 3 columns]\n",
      "\n",
      "\n",
      "Per User RMSE (worst)\n",
      "+--------+-------+---------------+\n",
      "| userId | count |      rmse     |\n",
      "+--------+-------+---------------+\n",
      "|  579   |   21  | 2.37143383901 |\n",
      "+--------+-------+---------------+\n",
      "[1 rows x 3 columns]\n",
      "\n",
      "\n",
      "Per Item RMSE (best)\n",
      "+---------+-------+------------------+\n",
      "| movieId | count |       rmse       |\n",
      "+---------+-------+------------------+\n",
      "|   7792  |   1   | 0.00027701375007 |\n",
      "+---------+-------+------------------+\n",
      "[1 rows x 3 columns]\n",
      "\n",
      "\n",
      "Per Item RMSE (worst)\n",
      "+---------+-------+---------------+\n",
      "| movieId | count |      rmse     |\n",
      "+---------+-------+---------------+\n",
      "|   2483  |   1   | 4.51295114214 |\n",
      "+---------+-------+---------------+\n",
      "[1 rows x 3 columns]\n",
      "\n",
      "{'rmse_by_user': Columns:\n",
      "\tuserId\tint\n",
      "\tcount\tint\n",
      "\trmse\tfloat\n",
      "\n",
      "Rows: 125\n",
      "\n",
      "Data:\n",
      "+--------+-------+----------------+\n",
      "| userId | count |      rmse      |\n",
      "+--------+-------+----------------+\n",
      "|  621   |   95  | 1.36391847103  |\n",
      "|  614   |   99  | 1.09553679442  |\n",
      "|  565   |   27  | 1.14607302812  |\n",
      "|  640   |   49  | 1.16427510123  |\n",
      "|  631   |   31  | 0.961876367017 |\n",
      "|  573   |   38  | 0.839788913727 |\n",
      "|  617   |   75  | 1.23583021677  |\n",
      "|  578   |   34  | 1.73209452183  |\n",
      "|  550   |  135  | 0.853759327547 |\n",
      "|  607   |  427  | 0.929504727516 |\n",
      "+--------+-------+----------------+\n",
      "[125 rows x 3 columns]\n",
      "Note: Only the head of the SFrame is printed.\n",
      "You can use print_rows(num_rows=m, num_columns=n) to print more rows and columns., 'precision_recall_overall': Columns:\n",
      "\tcutoff\tint\n",
      "\tprecision\tfloat\n",
      "\trecall\tfloat\n",
      "\n",
      "Rows: 18\n",
      "\n",
      "Data:\n",
      "+--------+------------------+-------------------+\n",
      "| cutoff |    precision     |       recall      |\n",
      "+--------+------------------+-------------------+\n",
      "|   1    |       0.0        |        0.0        |\n",
      "|   2    |       0.0        |        0.0        |\n",
      "|   3    |       0.0        |        0.0        |\n",
      "|   4    |      0.004       | 0.000357582184517 |\n",
      "|   5    |      0.0048      | 0.000367338282078 |\n",
      "|   6    |      0.004       | 0.000367338282078 |\n",
      "|   7    | 0.00457142857143 | 0.000377094379639 |\n",
      "|   8    |      0.005       |  0.0003868504772  |\n",
      "|   9    | 0.00622222222222 | 0.000625178003333 |\n",
      "|   10   |      0.0064      | 0.000629788954341 |\n",
      "+--------+------------------+-------------------+\n",
      "[18 rows x 3 columns]\n",
      "Note: Only the head of the SFrame is printed.\n",
      "You can use print_rows(num_rows=m, num_columns=n) to print more rows and columns., 'rmse_by_item': Columns:\n",
      "\tmovieId\tint\n",
      "\tcount\tint\n",
      "\trmse\tfloat\n",
      "\n",
      "Rows: 5583\n",
      "\n",
      "Data:\n",
      "+---------+-------+-----------------+\n",
      "| movieId | count |       rmse      |\n",
      "+---------+-------+-----------------+\n",
      "|   7899  |   1   |  0.218707043165 |\n",
      "|   6769  |   1   |  2.57447469746  |\n",
      "|   2779  |   6   |  0.771920701583 |\n",
      "|   118   |   2   |  1.44953036259  |\n",
      "|   3988  |   6   |  1.23908380888  |\n",
      "|   8727  |   1   |   1.2656896859  |\n",
      "|  64614  |   6   |  0.738662678263 |\n",
      "|   2925  |   1   | 0.0311383260004 |\n",
      "|   2871  |   5   |  0.411068815999 |\n",
      "|   3913  |   1   | 0.0811173303234 |\n",
      "+---------+-------+-----------------+\n",
      "[5583 rows x 3 columns]\n",
      "Note: Only the head of the SFrame is printed.\n",
      "You can use print_rows(num_rows=m, num_columns=n) to print more rows and columns., 'precision_recall_by_user': Columns:\n",
      "\tuserId\tint\n",
      "\tcutoff\tint\n",
      "\tprecision\tfloat\n",
      "\trecall\tfloat\n",
      "\tcount\tint\n",
      "\n",
      "Rows: 2250\n",
      "\n",
      "Data:\n",
      "+--------+--------+----------------+------------------+-------+\n",
      "| userId | cutoff |   precision    |      recall      | count |\n",
      "+--------+--------+----------------+------------------+-------+\n",
      "|  547   |   1    |      0.0       |       0.0        |  820  |\n",
      "|  547   |   2    |      0.0       |       0.0        |  820  |\n",
      "|  547   |   3    |      0.0       |       0.0        |  820  |\n",
      "|  547   |   4    |      0.25      | 0.00121951219512 |  820  |\n",
      "|  547   |   5    |      0.4       | 0.00243902439024 |  820  |\n",
      "|  547   |   6    | 0.333333333333 | 0.00243902439024 |  820  |\n",
      "|  547   |   7    | 0.428571428571 | 0.00365853658537 |  820  |\n",
      "|  547   |   8    |      0.5       | 0.00487804878049 |  820  |\n",
      "|  547   |   9    | 0.555555555556 | 0.00609756097561 |  820  |\n",
      "|  547   |   10   |      0.5       | 0.00609756097561 |  820  |\n",
      "+--------+--------+----------------+------------------+-------+\n",
      "[2250 rows x 5 columns]\n",
      "Note: Only the head of the SFrame is printed.\n",
      "You can use print_rows(num_rows=m, num_columns=n) to print more rows and columns., 'rmse_overall': 1.0051670610378534}\n"
     ]
    }
   ],
   "source": [
    "#K-Fold data split\n",
    "all_data.to_csv(\"full_dataset.csv\")\n",
    "hints = [int,int ,int ,float,str, str, str, str, str, str,str,str,str,str,str,str, str,str,float, int, float]\n",
    "data = graphlab.SFrame.read_csv('full_dataset.csv',column_type_hints= hints)\n",
    "\n",
    "data.head()\n",
    "\n",
    "kfolds = graphlab.cross_validation.KFold(data, 5)\n",
    "for train, test in kfolds:    \n",
    "    model = graphlab.factorization_recommender.create(train, target='rating', user_id='userId',\n",
    "                                               item_id='movieId',solver= \"adagrad\" , user_data = user_metadata,\n",
    "                                              item_data = movie_metadata, num_factors=4)\n",
    "    print(model.evaluate(test))"
   ]
  },
  {
   "cell_type": "code",
   "execution_count": 321,
   "metadata": {},
   "outputs": [
    {
     "data": {
      "text/plain": [
       "(Columns:\n",
       " \tX1\tint\n",
       " \tuserId\tint\n",
       " \tmovieId\tint\n",
       " \trating\tfloat\n",
       " \ttimestamp\tstr\n",
       " \ttag\tstr\n",
       " \ttitle\tstr\n",
       " \tgenres\tstr\n",
       " \tgenres1\tstr\n",
       " \tgenres2\tstr\n",
       " \tgenres3\tstr\n",
       " \tgenres4\tstr\n",
       " \tgenres5\tstr\n",
       " \tgenres6\tstr\n",
       " \tgenres7\tstr\n",
       " \tgenres8\tstr\n",
       " \tgenres9\tstr\n",
       " \tgenres10\tstr\n",
       " \tYear_release\tfloat\n",
       " \timdbId\tint\n",
       " \ttmdbId\tfloat\n",
       " \n",
       " Rows: 80003\n",
       " \n",
       " Data:\n",
       " +----+--------+---------+--------+-------------------------+-----+\n",
       " | X1 | userId | movieId | rating |        timestamp        | tag |\n",
       " +----+--------+---------+--------+-------------------------+-----+\n",
       " | 0  |   1    |    31   |  2.5   | 1970-01-15 14:12:39.144 | nan |\n",
       " | 1  |   1    |   1029  |  3.0   | 1970-01-15 14:12:39.179 | nan |\n",
       " | 2  |   1    |   1061  |  3.0   | 1970-01-15 14:12:39.182 | nan |\n",
       " | 3  |   1    |   1129  |  2.0   | 1970-01-15 14:12:39.185 | nan |\n",
       " | 4  |   1    |   1172  |  4.0   | 1970-01-15 14:12:39.205 | nan |\n",
       " | 5  |   1    |   1263  |  2.0   | 1970-01-15 14:12:39.151 | nan |\n",
       " | 6  |   1    |   1287  |  2.0   | 1970-01-15 14:12:39.187 | nan |\n",
       " | 7  |   1    |   1293  |  2.0   | 1970-01-15 14:12:39.148 | nan |\n",
       " | 8  |   1    |   1339  |  3.5   | 1970-01-15 14:12:39.125 | nan |\n",
       " | 9  |   1    |   1343  |  2.0   | 1970-01-15 14:12:39.131 | nan |\n",
       " +----+--------+---------+--------+-------------------------+-----+\n",
       " +-------------------------------+-------------------------------+-----------+\n",
       " |             title             |             genres            |  genres1  |\n",
       " +-------------------------------+-------------------------------+-----------+\n",
       " |     Dangerous Minds (1995)    |             Drama             |   Drama   |\n",
       " |          Dumbo (1941)         | Animation|Children|Drama|M... | Animation |\n",
       " |        Sleepers (1996)        |            Thriller           |  Thriller |\n",
       " |  Escape from New York (1981)  | Action|Adventure|Sci-Fi|Th... |   Action  |\n",
       " | Cinema Paradiso (Nuovo cin... |             Drama             |   Drama   |\n",
       " |    Deer Hunter, The (1978)    |           Drama|War           |   Drama   |\n",
       " |         Ben-Hur (1959)        |     Action|Adventure|Drama    |   Action  |\n",
       " |         Gandhi (1982)         |             Drama             |   Drama   |\n",
       " | Dracula (Bram Stoker's Dra... | Fantasy|Horror|Romance|Thr... |  Fantasy  |\n",
       " |        Cape Fear (1991)       |            Thriller           |  Thriller |\n",
       " +-------------------------------+-------------------------------+-----------+\n",
       " +-----------+---------+----------+---------+---------+---------+---------+---------+\n",
       " |  genres2  | genres3 | genres4  | genres5 | genres6 | genres7 | genres8 | genres9 |\n",
       " +-----------+---------+----------+---------+---------+---------+---------+---------+\n",
       " |           |         |          |         |         |         |         |         |\n",
       " |  Children |  Drama  | Musical  |         |         |         |         |         |\n",
       " |           |         |          |         |         |         |         |         |\n",
       " | Adventure |  Sci-Fi | Thriller |         |         |         |         |         |\n",
       " |           |         |          |         |         |         |         |         |\n",
       " |    War    |         |          |         |         |         |         |         |\n",
       " | Adventure |  Drama  |          |         |         |         |         |         |\n",
       " |           |         |          |         |         |         |         |         |\n",
       " |   Horror  | Romance | Thriller |         |         |         |         |         |\n",
       " |           |         |          |         |         |         |         |         |\n",
       " +-----------+---------+----------+---------+---------+---------+---------+---------+\n",
       " +----------+--------------+--------+-----+\n",
       " | genres10 | Year_release | imdbId | ... |\n",
       " +----------+--------------+--------+-----+\n",
       " |          |    1995.0    | 112792 | ... |\n",
       " |          |    1941.0    | 33563  | ... |\n",
       " |          |    1996.0    | 117665 | ... |\n",
       " |          |    1981.0    | 82340  | ... |\n",
       " |          |    1989.0    | 95765  | ... |\n",
       " |          |    1978.0    | 77416  | ... |\n",
       " |          |    1959.0    | 52618  | ... |\n",
       " |          |    1982.0    | 83987  | ... |\n",
       " |          |    1992.0    | 103874 | ... |\n",
       " |          |    1991.0    | 101540 | ... |\n",
       " +----------+--------------+--------+-----+\n",
       " [80003 rows x 21 columns]\n",
       " Note: Only the head of the SFrame is printed.\n",
       " You can use print_rows(num_rows=m, num_columns=n) to print more rows and columns.,\n",
       " Columns:\n",
       " \tX1\tint\n",
       " \tuserId\tint\n",
       " \tmovieId\tint\n",
       " \trating\tfloat\n",
       " \ttimestamp\tstr\n",
       " \ttag\tstr\n",
       " \ttitle\tstr\n",
       " \tgenres\tstr\n",
       " \tgenres1\tstr\n",
       " \tgenres2\tstr\n",
       " \tgenres3\tstr\n",
       " \tgenres4\tstr\n",
       " \tgenres5\tstr\n",
       " \tgenres6\tstr\n",
       " \tgenres7\tstr\n",
       " \tgenres8\tstr\n",
       " \tgenres9\tstr\n",
       " \tgenres10\tstr\n",
       " \tYear_release\tfloat\n",
       " \timdbId\tint\n",
       " \ttmdbId\tfloat\n",
       " \n",
       " Rows: 20001\n",
       " \n",
       " Data:\n",
       " +-------+--------+---------+--------+-------------------------+-----+\n",
       " |   X1  | userId | movieId | rating |        timestamp        | tag |\n",
       " +-------+--------+---------+--------+-------------------------+-----+\n",
       " | 20001 |  133   |  72641  |  4.0   | 1970-01-17 09:22:28.353 | nan |\n",
       " | 20002 |  133   |  73290  |  5.0   | 1970-01-17 09:22:29.511 | nan |\n",
       " | 20003 |  133   |  73321  |  1.5   | 1970-01-17 09:22:32.072 | nan |\n",
       " | 20004 |  133   |  79132  |  1.0   | 1970-01-17 09:22:31.620 | nan |\n",
       " | 20005 |  133   |  80969  |  4.0   | 1970-01-17 09:22:30.601 | nan |\n",
       " | 20006 |  133   |  81562  |  4.0   | 1970-01-17 09:22:46.749 | nan |\n",
       " | 20007 |  133   |  81591  |  3.0   | 1970-01-17 09:22:28.004 | nan |\n",
       " | 20008 |  133   |  81834  |  4.0   | 1970-01-17 09:22:28.157 | nan |\n",
       " | 20009 |  133   |  82459  |  0.5   | 1970-01-17 09:22:31.654 | nan |\n",
       " | 20010 |  133   |  85438  |  2.5   | 1970-01-17 09:22:47.104 | nan |\n",
       " +-------+--------+---------+--------+-------------------------+-----+\n",
       " +-------------------------------+-------------------------------+-----------+\n",
       " |             title             |             genres            |  genres1  |\n",
       " +-------------------------------+-------------------------------+-----------+\n",
       " |    Blind Side, The  (2009)    |             Drama             |   Drama   |\n",
       " | Hachiko: A Dog's Story (a.... |             Drama             |   Drama   |\n",
       " |    Book of Eli, The (2010)    |     Action|Adventure|Drama    |   Action  |\n",
       " |        Inception (2010)       | Action|Crime|Drama|Mystery... |   Action  |\n",
       " |     Never Let Me Go (2010)    |      Drama|Romance|Sci-Fi     |   Drama   |\n",
       " |        127 Hours (2010)       |    Adventure|Drama|Thriller   | Adventure |\n",
       " |       Black Swan (2010)       |         Drama|Thriller        |   Drama   |\n",
       " | Harry Potter and the Death... | Action|Adventure|Fantasy|IMAX |   Action  |\n",
       " |        True Grit (2010)       |            Western            |  Western  |\n",
       " |        Jane Eyre (2011)       |         Drama|Romance         |   Drama   |\n",
       " +-------------------------------+-------------------------------+-----------+\n",
       " +-----------+----------+---------+---------+----------+---------+---------+---------+\n",
       " |  genres2  | genres3  | genres4 | genres5 | genres6  | genres7 | genres8 | genres9 |\n",
       " +-----------+----------+---------+---------+----------+---------+---------+---------+\n",
       " |           |          |         |         |          |         |         |         |\n",
       " |           |          |         |         |          |         |         |         |\n",
       " | Adventure |  Drama   |         |         |          |         |         |         |\n",
       " |   Crime   |  Drama   | Mystery |  Sci-Fi | Thriller |   IMAX  |         |         |\n",
       " |  Romance  |  Sci-Fi  |         |         |          |         |         |         |\n",
       " |   Drama   | Thriller |         |         |          |         |         |         |\n",
       " |  Thriller |          |         |         |          |         |         |         |\n",
       " | Adventure | Fantasy  |   IMAX  |         |          |         |         |         |\n",
       " |           |          |         |         |          |         |         |         |\n",
       " |  Romance  |          |         |         |          |         |         |         |\n",
       " +-----------+----------+---------+---------+----------+---------+---------+---------+\n",
       " +----------+--------------+---------+-----+\n",
       " | genres10 | Year_release |  imdbId | ... |\n",
       " +----------+--------------+---------+-----+\n",
       " |          |    2009.0    |  878804 | ... |\n",
       " |          |    2009.0    | 1028532 | ... |\n",
       " |          |    2010.0    | 1037705 | ... |\n",
       " |          |    2010.0    | 1375666 | ... |\n",
       " |          |    2010.0    | 1334260 | ... |\n",
       " |          |    2010.0    | 1542344 | ... |\n",
       " |          |    2010.0    |  947798 | ... |\n",
       " |          |    2010.0    |  926084 | ... |\n",
       " |          |    2010.0    | 1403865 | ... |\n",
       " |          |    2011.0    | 1229822 | ... |\n",
       " +----------+--------------+---------+-----+\n",
       " [20001 rows x 21 columns]\n",
       " Note: Only the head of the SFrame is printed.\n",
       " You can use print_rows(num_rows=m, num_columns=n) to print more rows and columns.)"
      ]
     },
     "execution_count": 321,
     "metadata": {},
     "output_type": "execute_result"
    }
   ],
   "source": [
    "#Sample fold\n",
    "(train, test) = kfolds[1]\n",
    "(train, test)"
   ]
  },
  {
   "cell_type": "markdown",
   "metadata": {},
   "source": [
    "Testing the performance of the model on dense data vs sparse data:"
   ]
  },
  {
   "cell_type": "code",
   "execution_count": 280,
   "metadata": {
    "scrolled": true
   },
   "outputs": [
    {
     "name": "stdout",
     "output_type": "stream",
     "text": [
      "     total_ratings\n",
      "0             2391\n",
      "1             1868\n",
      "2             1735\n",
      "3             1700\n",
      "4             1610\n",
      "5             1340\n",
      "6             1291\n",
      "7             1063\n",
      "8             1019\n",
      "9             1011\n",
      "10             947\n",
      "11             923\n",
      "12             922\n",
      "13             910\n",
      "14             876\n",
      "15             830\n",
      "16             792\n",
      "17             726\n",
      "18             713\n",
      "19             707\n",
      "20             696\n",
      "21             682\n",
      "22             678\n",
      "23             676\n",
      "24             655\n",
      "25             645\n",
      "26             641\n",
      "27             626\n",
      "28             617\n",
      "29             604\n",
      "..             ...\n",
      "641             21\n",
      "642             21\n",
      "643             20\n",
      "644             20\n",
      "645             20\n",
      "646             20\n",
      "647             20\n",
      "648             20\n",
      "649             20\n",
      "650             20\n",
      "651             20\n",
      "652             20\n",
      "653             20\n",
      "654             20\n",
      "655             20\n",
      "656             20\n",
      "657             20\n",
      "658             20\n",
      "659             20\n",
      "660             20\n",
      "661             20\n",
      "662             20\n",
      "663             20\n",
      "664             20\n",
      "665             20\n",
      "666             20\n",
      "667             20\n",
      "668             20\n",
      "669             20\n",
      "670             20\n",
      "\n",
      "[671 rows x 1 columns]\n"
     ]
    }
   ],
   "source": [
    "import operator\n",
    "A=ratings.groupby(['userId']).userId.count()\n",
    "agg_ratings=list(A)\n",
    "user_Id=range(1,672)\n",
    "dict_pair=dict(zip(user_Id,agg_ratings))\n",
    "agg_ratings_sorted=sorted(agg_ratings, reverse=True)\n",
    "agg_ratings_df = pd.DataFrame({'total_ratings':agg_ratings_sorted})\n",
    "print (agg_ratings_df)"
   ]
  },
  {
   "cell_type": "code",
   "execution_count": 281,
   "metadata": {},
   "outputs": [
    {
     "name": "stdout",
     "output_type": "stream",
     "text": [
      "258 0.384500745156\n",
      "80487\n",
      "[514, 4, 598, 518, 519, 8, 522, 523, 525, 15, 528, 17, 19, 21, 22, 23, 536, 516, 26, 30, 544, 33, 34, 547, 36, 605, 38, 41, 43, 558, 559, 48, 520, 562, 563, 564, 56, 57, 570, 607, 572, 61, 574, 575, 577, 67, 68, 582, 609, 72, 73, 75, 77, 78, 548, 592, 81, 83, 84, 85, 86, 599, 88, 602, 91, 92, 93, 94, 95, 608, 97, 99, 102, 529, 105, 615, 620, 110, 111, 624, 626, 531, 118, 119, 120, 553, 125, 533, 128, 641, 130, 133, 134, 647, 584, 652, 654, 655, 656, 659, 148, 149, 150, 527, 152, 665, 623, 157, 159, 165, 585, 168, 169, 534, 175, 176, 177, 178, 627, 182, 185, 187, 189, 603, 195, 199, 200, 201, 205, 212, 213, 214, 217, 219, 220, 550, 232, 234, 235, 236, 239, 240, 242, 243, 245, 247, 250, 251, 253, 254, 255, 257, 537, 262, 263, 265, 268, 270, 275, 282, 283, 285, 287, 292, 646, 294, 295, 297, 299, 303, 304, 648, 306, 309, 311, 312, 313, 316, 324, 328, 339, 342, 344, 345, 346, 350, 353, 355, 358, 362, 363, 367, 371, 373, 378, 380, 381, 382, 384, 386, 387, 388, 390, 391, 394, 396, 664, 402, 405, 407, 408, 580, 412, 416, 417, 418, 423, 426, 427, 428, 430, 431, 433, 434, 439, 441, 442, 671, 596, 450, 587, 452, 457, 460, 461, 463, 466, 468, 561, 471, 472, 475, 480, 481, 483, 486, 487, 493, 496, 497, 595, 500, 501, 502, 505, 509, 510, 597]\n"
     ]
    }
   ],
   "source": [
    "dict_pair_dense_100={k: v for k, v in dict_pair.iteritems() if v > 100} #filtering users who have rated >100 movies\n",
    "print len(dict_pair_dense_100), 258/671.0\n",
    "ratings_sum_dense_100=sum(dict_pair_dense_100.values()) #agg. no of ratings these users casted\n",
    "print ratings_sum_dense_100\n",
    "userId_dense=dict_pair_dense_100.keys() # extracting user_ids from dense dictionary\n",
    "print userId_dense"
   ]
  },
  {
   "cell_type": "code",
   "execution_count": 290,
   "metadata": {
    "collapsed": true
   },
   "outputs": [],
   "source": [
    "dense_data = all_data.loc[userId_dense,:]\n",
    "train_dense, test_dense  = train_test_split(dense_data , test_size=0.2, random_state=42)\n",
    "train_dense.to_csv(\"train_dense_data.csv\")\n",
    "test_dense.to_csv(\"test_dense_data.csv\")"
   ]
  },
  {
   "cell_type": "code",
   "execution_count": 291,
   "metadata": {},
   "outputs": [
    {
     "data": {
      "text/html": [
       "<pre>Finished parsing file C:\\Users\\hp\\Desktop\\Jupyter Notebooks\\Personalisation-master\\Personalisation-master\\train_dense_data.csv</pre>"
      ],
      "text/plain": [
       "Finished parsing file C:\\Users\\hp\\Desktop\\Jupyter Notebooks\\Personalisation-master\\Personalisation-master\\train_dense_data.csv"
      ]
     },
     "metadata": {},
     "output_type": "display_data"
    },
    {
     "data": {
      "text/html": [
       "<pre>Parsing completed. Parsed 206 lines in 0.021013 secs.</pre>"
      ],
      "text/plain": [
       "Parsing completed. Parsed 206 lines in 0.021013 secs."
      ]
     },
     "metadata": {},
     "output_type": "display_data"
    },
    {
     "data": {
      "text/html": [
       "<pre>Finished parsing file C:\\Users\\hp\\Desktop\\Jupyter Notebooks\\Personalisation-master\\Personalisation-master\\test_dense_data.csv</pre>"
      ],
      "text/plain": [
       "Finished parsing file C:\\Users\\hp\\Desktop\\Jupyter Notebooks\\Personalisation-master\\Personalisation-master\\test_dense_data.csv"
      ]
     },
     "metadata": {},
     "output_type": "display_data"
    },
    {
     "data": {
      "text/html": [
       "<pre>Parsing completed. Parsed 52 lines in 0.020983 secs.</pre>"
      ],
      "text/plain": [
       "Parsing completed. Parsed 52 lines in 0.020983 secs."
      ]
     },
     "metadata": {},
     "output_type": "display_data"
    }
   ],
   "source": [
    "train_dense_Sframe= graphlab.SFrame.read_csv(\"train_dense_data.csv\",column_type_hints=hints)\n",
    "test_dense_Sframe= graphlab.SFrame.read_csv(\"test_dense_data.csv\",column_type_hints=hints)\n"
   ]
  },
  {
   "cell_type": "code",
   "execution_count": 292,
   "metadata": {},
   "outputs": [
    {
     "data": {
      "text/html": [
       "<pre>Recsys training: model = factorization_recommender</pre>"
      ],
      "text/plain": [
       "Recsys training: model = factorization_recommender"
      ]
     },
     "metadata": {},
     "output_type": "display_data"
    },
    {
     "data": {
      "text/html": [
       "<pre>Preparing data set.</pre>"
      ],
      "text/plain": [
       "Preparing data set."
      ]
     },
     "metadata": {},
     "output_type": "display_data"
    },
    {
     "data": {
      "text/html": [
       "<pre>    Data has 206 observations with 671 users and 9125 items.</pre>"
      ],
      "text/plain": [
       "    Data has 206 observations with 671 users and 9125 items."
      ]
     },
     "metadata": {},
     "output_type": "display_data"
    },
    {
     "data": {
      "text/html": [
       "<pre>    Data prepared in: 0.323745s</pre>"
      ],
      "text/plain": [
       "    Data prepared in: 0.323745s"
      ]
     },
     "metadata": {},
     "output_type": "display_data"
    },
    {
     "data": {
      "text/html": [
       "<pre>Training factorization_recommender for recommendations.</pre>"
      ],
      "text/plain": [
       "Training factorization_recommender for recommendations."
      ]
     },
     "metadata": {},
     "output_type": "display_data"
    },
    {
     "data": {
      "text/html": [
       "<pre>+--------------------------------+--------------------------------------------------+----------+</pre>"
      ],
      "text/plain": [
       "+--------------------------------+--------------------------------------------------+----------+"
      ]
     },
     "metadata": {},
     "output_type": "display_data"
    },
    {
     "data": {
      "text/html": [
       "<pre>| Parameter                      | Description                                      | Value    |</pre>"
      ],
      "text/plain": [
       "| Parameter                      | Description                                      | Value    |"
      ]
     },
     "metadata": {},
     "output_type": "display_data"
    },
    {
     "data": {
      "text/html": [
       "<pre>+--------------------------------+--------------------------------------------------+----------+</pre>"
      ],
      "text/plain": [
       "+--------------------------------+--------------------------------------------------+----------+"
      ]
     },
     "metadata": {},
     "output_type": "display_data"
    },
    {
     "data": {
      "text/html": [
       "<pre>| num_factors                    | Factor Dimension                                 | 6        |</pre>"
      ],
      "text/plain": [
       "| num_factors                    | Factor Dimension                                 | 6        |"
      ]
     },
     "metadata": {},
     "output_type": "display_data"
    },
    {
     "data": {
      "text/html": [
       "<pre>| regularization                 | L2 Regularization on Factors                     | 1e-006   |</pre>"
      ],
      "text/plain": [
       "| regularization                 | L2 Regularization on Factors                     | 1e-006   |"
      ]
     },
     "metadata": {},
     "output_type": "display_data"
    },
    {
     "data": {
      "text/html": [
       "<pre>| solver                         | Solver used for training                         | sgd      |</pre>"
      ],
      "text/plain": [
       "| solver                         | Solver used for training                         | sgd      |"
      ]
     },
     "metadata": {},
     "output_type": "display_data"
    },
    {
     "data": {
      "text/html": [
       "<pre>| linear_regularization          | L2 Regularization on Linear Coefficients         | 1e-010   |</pre>"
      ],
      "text/plain": [
       "| linear_regularization          | L2 Regularization on Linear Coefficients         | 1e-010   |"
      ]
     },
     "metadata": {},
     "output_type": "display_data"
    },
    {
     "data": {
      "text/html": [
       "<pre>| side_data_factorization        | Assign Factors for Side Data                     | True     |</pre>"
      ],
      "text/plain": [
       "| side_data_factorization        | Assign Factors for Side Data                     | True     |"
      ]
     },
     "metadata": {},
     "output_type": "display_data"
    },
    {
     "data": {
      "text/html": [
       "<pre>| max_iterations                 | Maximum Number of Iterations                     | 50       |</pre>"
      ],
      "text/plain": [
       "| max_iterations                 | Maximum Number of Iterations                     | 50       |"
      ]
     },
     "metadata": {},
     "output_type": "display_data"
    },
    {
     "data": {
      "text/html": [
       "<pre>+--------------------------------+--------------------------------------------------+----------+</pre>"
      ],
      "text/plain": [
       "+--------------------------------+--------------------------------------------------+----------+"
      ]
     },
     "metadata": {},
     "output_type": "display_data"
    },
    {
     "data": {
      "text/html": [
       "<pre>  Optimizing model using SGD; tuning step size.</pre>"
      ],
      "text/plain": [
       "  Optimizing model using SGD; tuning step size."
      ]
     },
     "metadata": {},
     "output_type": "display_data"
    },
    {
     "data": {
      "text/html": [
       "<pre>  Using 206 / 206 points for tuning the step size.</pre>"
      ],
      "text/plain": [
       "  Using 206 / 206 points for tuning the step size."
      ]
     },
     "metadata": {},
     "output_type": "display_data"
    },
    {
     "data": {
      "text/html": [
       "<pre>+---------+-------------------+------------------------------------------+</pre>"
      ],
      "text/plain": [
       "+---------+-------------------+------------------------------------------+"
      ]
     },
     "metadata": {},
     "output_type": "display_data"
    },
    {
     "data": {
      "text/html": [
       "<pre>| Attempt | Initial Step Size | Estimated Objective Value                |</pre>"
      ],
      "text/plain": [
       "| Attempt | Initial Step Size | Estimated Objective Value                |"
      ]
     },
     "metadata": {},
     "output_type": "display_data"
    },
    {
     "data": {
      "text/html": [
       "<pre>+---------+-------------------+------------------------------------------+</pre>"
      ],
      "text/plain": [
       "+---------+-------------------+------------------------------------------+"
      ]
     },
     "metadata": {},
     "output_type": "display_data"
    },
    {
     "data": {
      "text/html": [
       "<pre>| 0       | 1.21951           | Not Viable                               |</pre>"
      ],
      "text/plain": [
       "| 0       | 1.21951           | Not Viable                               |"
      ]
     },
     "metadata": {},
     "output_type": "display_data"
    },
    {
     "data": {
      "text/html": [
       "<pre>| 1       | 0.304878          | Not Viable                               |</pre>"
      ],
      "text/plain": [
       "| 1       | 0.304878          | Not Viable                               |"
      ]
     },
     "metadata": {},
     "output_type": "display_data"
    },
    {
     "data": {
      "text/html": [
       "<pre>| 2       | 0.0762195         | Not Viable                               |</pre>"
      ],
      "text/plain": [
       "| 2       | 0.0762195         | Not Viable                               |"
      ]
     },
     "metadata": {},
     "output_type": "display_data"
    },
    {
     "data": {
      "text/html": [
       "<pre>| 3       | 0.0190549         | Not Viable                               |</pre>"
      ],
      "text/plain": [
       "| 3       | 0.0190549         | Not Viable                               |"
      ]
     },
     "metadata": {},
     "output_type": "display_data"
    },
    {
     "data": {
      "text/html": [
       "<pre>| 4       | 0.00476372        | 0.458953                                 |</pre>"
      ],
      "text/plain": [
       "| 4       | 0.00476372        | 0.458953                                 |"
      ]
     },
     "metadata": {},
     "output_type": "display_data"
    },
    {
     "data": {
      "text/html": [
       "<pre>| 5       | 0.00238186        | 0.568837                                 |</pre>"
      ],
      "text/plain": [
       "| 5       | 0.00238186        | 0.568837                                 |"
      ]
     },
     "metadata": {},
     "output_type": "display_data"
    },
    {
     "data": {
      "text/html": [
       "<pre>| 6       | 0.00119093        | 0.65903                                  |</pre>"
      ],
      "text/plain": [
       "| 6       | 0.00119093        | 0.65903                                  |"
      ]
     },
     "metadata": {},
     "output_type": "display_data"
    },
    {
     "data": {
      "text/html": [
       "<pre>| 7       | 0.000595465       | 0.752389                                 |</pre>"
      ],
      "text/plain": [
       "| 7       | 0.000595465       | 0.752389                                 |"
      ]
     },
     "metadata": {},
     "output_type": "display_data"
    },
    {
     "data": {
      "text/html": [
       "<pre>+---------+-------------------+------------------------------------------+</pre>"
      ],
      "text/plain": [
       "+---------+-------------------+------------------------------------------+"
      ]
     },
     "metadata": {},
     "output_type": "display_data"
    },
    {
     "data": {
      "text/html": [
       "<pre>| Final   | 0.00476372        | 0.458953                                 |</pre>"
      ],
      "text/plain": [
       "| Final   | 0.00476372        | 0.458953                                 |"
      ]
     },
     "metadata": {},
     "output_type": "display_data"
    },
    {
     "data": {
      "text/html": [
       "<pre>+---------+-------------------+------------------------------------------+</pre>"
      ],
      "text/plain": [
       "+---------+-------------------+------------------------------------------+"
      ]
     },
     "metadata": {},
     "output_type": "display_data"
    },
    {
     "data": {
      "text/html": [
       "<pre>Starting Optimization.</pre>"
      ],
      "text/plain": [
       "Starting Optimization."
      ]
     },
     "metadata": {},
     "output_type": "display_data"
    },
    {
     "data": {
      "text/html": [
       "<pre>+---------+--------------+-------------------+-----------------------+-------------+</pre>"
      ],
      "text/plain": [
       "+---------+--------------+-------------------+-----------------------+-------------+"
      ]
     },
     "metadata": {},
     "output_type": "display_data"
    },
    {
     "data": {
      "text/html": [
       "<pre>| Iter.   | Elapsed Time | Approx. Objective | Approx. Training RMSE | Step Size   |</pre>"
      ],
      "text/plain": [
       "| Iter.   | Elapsed Time | Approx. Objective | Approx. Training RMSE | Step Size   |"
      ]
     },
     "metadata": {},
     "output_type": "display_data"
    },
    {
     "data": {
      "text/html": [
       "<pre>+---------+--------------+-------------------+-----------------------+-------------+</pre>"
      ],
      "text/plain": [
       "+---------+--------------+-------------------+-----------------------+-------------+"
      ]
     },
     "metadata": {},
     "output_type": "display_data"
    },
    {
     "data": {
      "text/html": [
       "<pre>| Initial | 0us          | 0.971717          | 0.985757              |             |</pre>"
      ],
      "text/plain": [
       "| Initial | 0us          | 0.971717          | 0.985757              |             |"
      ]
     },
     "metadata": {},
     "output_type": "display_data"
    },
    {
     "data": {
      "text/html": [
       "<pre>+---------+--------------+-------------------+-----------------------+-------------+</pre>"
      ],
      "text/plain": [
       "+---------+--------------+-------------------+-----------------------+-------------+"
      ]
     },
     "metadata": {},
     "output_type": "display_data"
    },
    {
     "data": {
      "text/html": [
       "<pre>| 1       | 15.51ms      | 0.929609          | 0.964162              | 0.00476372  |</pre>"
      ],
      "text/plain": [
       "| 1       | 15.51ms      | 0.929609          | 0.964162              | 0.00476372  |"
      ]
     },
     "metadata": {},
     "output_type": "display_data"
    },
    {
     "data": {
      "text/html": [
       "<pre>| 2       | 20.015ms     | 0.678876          | 0.823939              | 0.00283252  |</pre>"
      ],
      "text/plain": [
       "| 2       | 20.015ms     | 0.678876          | 0.823939              | 0.00283252  |"
      ]
     },
     "metadata": {},
     "output_type": "display_data"
    },
    {
     "data": {
      "text/html": [
       "<pre>| 3       | 25.017ms     | 0.592121          | 0.769494              | 0.0020898   |</pre>"
      ],
      "text/plain": [
       "| 3       | 25.017ms     | 0.592121          | 0.769494              | 0.0020898   |"
      ]
     },
     "metadata": {},
     "output_type": "display_data"
    },
    {
     "data": {
      "text/html": [
       "<pre>| 4       | 30.023ms     | 0.539935          | 0.734803              | 0.00168423  |</pre>"
      ],
      "text/plain": [
       "| 4       | 30.023ms     | 0.539935          | 0.734803              | 0.00168423  |"
      ]
     },
     "metadata": {},
     "output_type": "display_data"
    },
    {
     "data": {
      "text/html": [
       "<pre>| 5       | 34.024ms     | 0.515992          | 0.718326              | 0.00142468  |</pre>"
      ],
      "text/plain": [
       "| 5       | 34.024ms     | 0.515992          | 0.718326              | 0.00142468  |"
      ]
     },
     "metadata": {},
     "output_type": "display_data"
    },
    {
     "data": {
      "text/html": [
       "<pre>| 6       | 55.538ms     | 0.479352          | 0.692352              | 0.0012426   |</pre>"
      ],
      "text/plain": [
       "| 6       | 55.538ms     | 0.479352          | 0.692352              | 0.0012426   |"
      ]
     },
     "metadata": {},
     "output_type": "display_data"
    },
    {
     "data": {
      "text/html": [
       "<pre>| 11      | 91.064ms     | 0.410824          | 0.640955              | 0.000788682 |</pre>"
      ],
      "text/plain": [
       "| 11      | 91.064ms     | 0.410824          | 0.640955              | 0.000788682 |"
      ]
     },
     "metadata": {},
     "output_type": "display_data"
    },
    {
     "data": {
      "text/html": [
       "<pre>+---------+--------------+-------------------+-----------------------+-------------+</pre>"
      ],
      "text/plain": [
       "+---------+--------------+-------------------+-----------------------+-------------+"
      ]
     },
     "metadata": {},
     "output_type": "display_data"
    },
    {
     "data": {
      "text/html": [
       "<pre>Optimization Complete: Maximum number of passes through the data reached.</pre>"
      ],
      "text/plain": [
       "Optimization Complete: Maximum number of passes through the data reached."
      ]
     },
     "metadata": {},
     "output_type": "display_data"
    },
    {
     "data": {
      "text/html": [
       "<pre>Computing final objective value and training RMSE.</pre>"
      ],
      "text/plain": [
       "Computing final objective value and training RMSE."
      ]
     },
     "metadata": {},
     "output_type": "display_data"
    },
    {
     "data": {
      "text/html": [
       "<pre>       Final objective value: 0.333824</pre>"
      ],
      "text/plain": [
       "       Final objective value: 0.333824"
      ]
     },
     "metadata": {},
     "output_type": "display_data"
    },
    {
     "data": {
      "text/html": [
       "<pre>       Final training RMSE: 0.577775</pre>"
      ],
      "text/plain": [
       "       Final training RMSE: 0.577775"
      ]
     },
     "metadata": {},
     "output_type": "display_data"
    }
   ],
   "source": [
    "m_dense = graphlab.factorization_recommender.create(train_dense_Sframe, target='rating', user_id='userId',\n",
    "                                               item_id='movieId',solver= \"sgd\" , user_data = user_metadata,\n",
    "                                               item_data = movie_metadata,regularization=1e-06, num_factors=6)"
   ]
  },
  {
   "cell_type": "code",
   "execution_count": 293,
   "metadata": {},
   "outputs": [
    {
     "data": {
      "text/plain": [
       "{'rmse_by_item': Columns:\n",
       " \tmovieId\tint\n",
       " \tcount\tint\n",
       " \trmse\tfloat\n",
       " \n",
       " Rows: 50\n",
       " \n",
       " Data:\n",
       " +---------+-------+----------------+\n",
       " | movieId | count |      rmse      |\n",
       " +---------+-------+----------------+\n",
       " |   431   |   1   | 1.03994908227  |\n",
       " |   454   |   1   | 0.835352705907 |\n",
       " |   3108  |   1   | 0.997145956157 |\n",
       " |   2959  |   1   | 1.58823122281  |\n",
       " |   208   |   1   | 0.522173361251 |\n",
       " |   356   |   2   |  1.1004675673  |\n",
       " |   616   |   1   |  1.3417596253  |\n",
       " |   112   |   1   | 1.61649025026  |\n",
       " |   1240  |   1   | 0.953923327843 |\n",
       " |   1358  |   1   | 3.33852477309  |\n",
       " +---------+-------+----------------+\n",
       " [50 rows x 3 columns]\n",
       " Note: Only the head of the SFrame is printed.\n",
       " You can use print_rows(num_rows=m, num_columns=n) to print more rows and columns.,\n",
       " 'rmse_by_user': Columns:\n",
       " \tuserId\tint\n",
       " \tcount\tint\n",
       " \trmse\tfloat\n",
       " \n",
       " Rows: 8\n",
       " \n",
       " Data:\n",
       " +--------+-------+----------------+\n",
       " | userId | count |      rmse      |\n",
       " +--------+-------+----------------+\n",
       " |   2    |   10  | 0.769126366779 |\n",
       " |   8    |   4   |  1.7333954471  |\n",
       " |   5    |   4   | 0.793192543864 |\n",
       " |   4    |   17  | 1.15984022681  |\n",
       " |   3    |   3   | 1.06448474032  |\n",
       " |   1    |   1   | 1.99849247485  |\n",
       " |   7    |   10  |  1.2111678722  |\n",
       " |   6    |   3   | 0.725260172866 |\n",
       " +--------+-------+----------------+\n",
       " [8 rows x 3 columns],\n",
       " 'rmse_overall': 1.1347682580388412}"
      ]
     },
     "execution_count": 293,
     "metadata": {},
     "output_type": "execute_result"
    }
   ],
   "source": [
    "m_dense.evaluate_rmse(test_dense_Sframe,target ='rating')"
   ]
  }
 ],
 "metadata": {
  "kernelspec": {
   "display_name": "Python 2",
   "language": "python",
   "name": "python2"
  },
  "language_info": {
   "codemirror_mode": {
    "name": "ipython",
    "version": 2
   },
   "file_extension": ".py",
   "mimetype": "text/x-python",
   "name": "python",
   "nbconvert_exporter": "python",
   "pygments_lexer": "ipython2",
   "version": "2.7.14"
  }
 },
 "nbformat": 4,
 "nbformat_minor": 2
}
